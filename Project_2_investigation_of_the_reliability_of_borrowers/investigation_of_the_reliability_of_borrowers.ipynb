{
 "cells": [
  {
   "cell_type": "code",
   "execution_count": 1,
   "id": "d817a197",
   "metadata": {},
   "outputs": [],
   "source": [
    "# импортируем библиотеки\n",
    "\n",
    "import pandas as pd \n",
    "import warnings\n",
    "import seaborn as sns\n",
    "from pymystem3 import Mystem\n",
    "\n",
    "\n",
    "warnings.filterwarnings(\"ignore\")\n",
    "m = Mystem()"
   ]
  },
  {
   "cell_type": "markdown",
   "id": "c63f97cb",
   "metadata": {},
   "source": [
    "# 1. Обзор данных"
   ]
  },
  {
   "cell_type": "code",
   "execution_count": 2,
   "id": "a66a75f1",
   "metadata": {},
   "outputs": [],
   "source": [
    "# загрузим данные\n",
    "\n",
    "try:\n",
    "    data = pd.read_csv('link to the file')\n",
    "except:\n",
    "    data = pd.read_csv('link to the file')"
   ]
  },
  {
   "cell_type": "code",
   "execution_count": 3,
   "id": "d607c858",
   "metadata": {},
   "outputs": [
    {
     "name": "stdout",
     "output_type": "stream",
     "text": [
      "Статистика о платёжеспособности клиентов:\n"
     ]
    },
    {
     "data": {
      "text/html": [
       "<div>\n",
       "<style scoped>\n",
       "    .dataframe tbody tr th:only-of-type {\n",
       "        vertical-align: middle;\n",
       "    }\n",
       "\n",
       "    .dataframe tbody tr th {\n",
       "        vertical-align: top;\n",
       "    }\n",
       "\n",
       "    .dataframe thead th {\n",
       "        text-align: right;\n",
       "    }\n",
       "</style>\n",
       "<table border=\"1\" class=\"dataframe\">\n",
       "  <thead>\n",
       "    <tr style=\"text-align: right;\">\n",
       "      <th></th>\n",
       "      <th>children</th>\n",
       "      <th>days_employed</th>\n",
       "      <th>dob_years</th>\n",
       "      <th>education</th>\n",
       "      <th>education_id</th>\n",
       "      <th>family_status</th>\n",
       "      <th>family_status_id</th>\n",
       "      <th>gender</th>\n",
       "      <th>income_type</th>\n",
       "      <th>debt</th>\n",
       "      <th>total_income</th>\n",
       "      <th>purpose</th>\n",
       "    </tr>\n",
       "  </thead>\n",
       "  <tbody>\n",
       "    <tr>\n",
       "      <th>0</th>\n",
       "      <td>1</td>\n",
       "      <td>-8437.673028</td>\n",
       "      <td>42</td>\n",
       "      <td>высшее</td>\n",
       "      <td>0</td>\n",
       "      <td>женат / замужем</td>\n",
       "      <td>0</td>\n",
       "      <td>F</td>\n",
       "      <td>сотрудник</td>\n",
       "      <td>0</td>\n",
       "      <td>253875.639453</td>\n",
       "      <td>покупка жилья</td>\n",
       "    </tr>\n",
       "    <tr>\n",
       "      <th>1</th>\n",
       "      <td>1</td>\n",
       "      <td>-4024.803754</td>\n",
       "      <td>36</td>\n",
       "      <td>среднее</td>\n",
       "      <td>1</td>\n",
       "      <td>женат / замужем</td>\n",
       "      <td>0</td>\n",
       "      <td>F</td>\n",
       "      <td>сотрудник</td>\n",
       "      <td>0</td>\n",
       "      <td>112080.014102</td>\n",
       "      <td>приобретение автомобиля</td>\n",
       "    </tr>\n",
       "    <tr>\n",
       "      <th>2</th>\n",
       "      <td>0</td>\n",
       "      <td>-5623.422610</td>\n",
       "      <td>33</td>\n",
       "      <td>Среднее</td>\n",
       "      <td>1</td>\n",
       "      <td>женат / замужем</td>\n",
       "      <td>0</td>\n",
       "      <td>M</td>\n",
       "      <td>сотрудник</td>\n",
       "      <td>0</td>\n",
       "      <td>145885.952297</td>\n",
       "      <td>покупка жилья</td>\n",
       "    </tr>\n",
       "    <tr>\n",
       "      <th>3</th>\n",
       "      <td>3</td>\n",
       "      <td>-4124.747207</td>\n",
       "      <td>32</td>\n",
       "      <td>среднее</td>\n",
       "      <td>1</td>\n",
       "      <td>женат / замужем</td>\n",
       "      <td>0</td>\n",
       "      <td>M</td>\n",
       "      <td>сотрудник</td>\n",
       "      <td>0</td>\n",
       "      <td>267628.550329</td>\n",
       "      <td>дополнительное образование</td>\n",
       "    </tr>\n",
       "    <tr>\n",
       "      <th>4</th>\n",
       "      <td>0</td>\n",
       "      <td>340266.072047</td>\n",
       "      <td>53</td>\n",
       "      <td>среднее</td>\n",
       "      <td>1</td>\n",
       "      <td>гражданский брак</td>\n",
       "      <td>1</td>\n",
       "      <td>F</td>\n",
       "      <td>пенсионер</td>\n",
       "      <td>0</td>\n",
       "      <td>158616.077870</td>\n",
       "      <td>сыграть свадьбу</td>\n",
       "    </tr>\n",
       "  </tbody>\n",
       "</table>\n",
       "</div>"
      ],
      "text/plain": [
       "   children  days_employed  dob_years education  education_id  \\\n",
       "0         1   -8437.673028         42    высшее             0   \n",
       "1         1   -4024.803754         36   среднее             1   \n",
       "2         0   -5623.422610         33   Среднее             1   \n",
       "3         3   -4124.747207         32   среднее             1   \n",
       "4         0  340266.072047         53   среднее             1   \n",
       "\n",
       "      family_status  family_status_id gender income_type  debt   total_income  \\\n",
       "0   женат / замужем                 0      F   сотрудник     0  253875.639453   \n",
       "1   женат / замужем                 0      F   сотрудник     0  112080.014102   \n",
       "2   женат / замужем                 0      M   сотрудник     0  145885.952297   \n",
       "3   женат / замужем                 0      M   сотрудник     0  267628.550329   \n",
       "4  гражданский брак                 1      F   пенсионер     0  158616.077870   \n",
       "\n",
       "                      purpose  \n",
       "0               покупка жилья  \n",
       "1     приобретение автомобиля  \n",
       "2               покупка жилья  \n",
       "3  дополнительное образование  \n",
       "4             сыграть свадьбу  "
      ]
     },
     "execution_count": 3,
     "metadata": {},
     "output_type": "execute_result"
    }
   ],
   "source": [
    "# открываем таблицу data\n",
    "\n",
    "print('Статистика о платёжеспособности клиентов:')\n",
    "data.head()\n"
   ]
  },
  {
   "cell_type": "code",
   "execution_count": 4,
   "id": "0ba14b7d",
   "metadata": {},
   "outputs": [
    {
     "name": "stdout",
     "output_type": "stream",
     "text": [
      "Общая информация о таблице:\n",
      "\n",
      "<class 'pandas.core.frame.DataFrame'>\n",
      "RangeIndex: 21525 entries, 0 to 21524\n",
      "Data columns (total 12 columns):\n",
      " #   Column            Non-Null Count  Dtype  \n",
      "---  ------            --------------  -----  \n",
      " 0   children          21525 non-null  int64  \n",
      " 1   days_employed     19351 non-null  float64\n",
      " 2   dob_years         21525 non-null  int64  \n",
      " 3   education         21525 non-null  object \n",
      " 4   education_id      21525 non-null  int64  \n",
      " 5   family_status     21525 non-null  object \n",
      " 6   family_status_id  21525 non-null  int64  \n",
      " 7   gender            21525 non-null  object \n",
      " 8   income_type       21525 non-null  object \n",
      " 9   debt              21525 non-null  int64  \n",
      " 10  total_income      19351 non-null  float64\n",
      " 11  purpose           21525 non-null  object \n",
      "dtypes: float64(2), int64(5), object(5)\n",
      "memory usage: 2.0+ MB\n"
     ]
    }
   ],
   "source": [
    "# получаем общую информацию о данных в таблице data \n",
    "\n",
    "print('Общая информация о таблице:')\n",
    "print()\n",
    "data.info()"
   ]
  },
  {
   "cell_type": "markdown",
   "id": "5714f619",
   "metadata": {},
   "source": [
    "Согласно полученной информации, мы видим, что:\n",
    "\n",
    "* в таблице **12 столбцов** и **21 525 строк**;\n",
    "\n",
    "* есть **пропущенные значения** в столбцах `days_employed` и `total_income`, *причем количество пропущенных значений в этих столбцах совпадает*; \n",
    "* название столбцов не требуют изменений;\n",
    "* в таблице представлены следующие типы данных:\n",
    "  1. int64 - *целые числа;*\n",
    "  2. float64 - *вещественные числа;*\n",
    "  3. object - *строка или данные, которые не подходят ни под один другой тип.*\n",
    "\n",
    "  \n",
    "Названия столбцов согласно полученной документации к данным:\n",
    "* `children` — количество детей в семье;\n",
    "* `days_employed` — общий трудовой стаж в днях;\n",
    "* `dob_years` — возраст клиента в годах;\n",
    "* `education` — уровень образования клиента;\n",
    "* `education_id` — идентификатор уровня образования;\n",
    "* `family_status` — семейное положение;\n",
    "* `family_status_id` — идентификатор семейного положения;\n",
    "* `gender` — пол клиента;\n",
    "* `income_type` — тип занятости;\n",
    "* `debt` — имел ли задолженность по возврату кредитов;\n",
    "* `total_income` — ежемесячный доход;\n",
    "* `purpose` — цель получения кредита."
   ]
  },
  {
   "cell_type": "markdown",
   "id": "b369dbf2",
   "metadata": {},
   "source": [
    "### Выводы\n",
    "\n",
    "В каждой строке таблицы - данные о клиенте. Часть колонок содержит информацию о семейном положении, образовании, занятости и ежемесячном доходе. В одной колонке представленна информация о наличии задолжености по возврату кредитов. Также есть колонка с целью получения кредита.\n",
    "\n",
    "Предварительно можно утверждать, что данных достаточно для проведения исследования. Но встречаются пропуски в данных и есть одинаковые значение, которые записанны по-разному с использованием заглавных и строчных букв. Можно увидеть аномалии - отрицательные значений в столбце указывающего на трудовой стаж в днях. \n",
    "\n",
    "Чтобы двигаться дальше необходимо устранить пробелы в данных, привести одинаковые значени в единый формат и изучить аномалии.\n",
    "\n"
   ]
  },
  {
   "cell_type": "markdown",
   "id": "8d17e8f0",
   "metadata": {},
   "source": [
    "# 2. Предобработка данных\n",
    "\n",
    "* найдем все пропущенные значения и заполним их; \n",
    "* проверим данные на аномалии;\n",
    "* одинаковые значение приведем к одному регистру;\n",
    "* подготовим данные для проведения исследования."
   ]
  },
  {
   "cell_type": "markdown",
   "id": "da19e263",
   "metadata": {},
   "source": [
    "### Шаг 2.1 Заполнение пропусков"
   ]
  },
  {
   "cell_type": "markdown",
   "id": "ab12caba",
   "metadata": {},
   "source": [
    "Мы выяснили, что в данных есть пропущенные значения, а именно **2 174** в стобцах:\n",
    "* `days_employed` - показывает общий трудовой стаж в днях клиента;\n",
    "* `total_income` - показывает ежемесячный доход клиента.\n",
    "\n",
    "Это примерно **1/10** данных, стоит обратить внимание, что на проведения исследования данные столбца `days_employed` не влияют, в отличии от данных столбца `total_income`.\n",
    "\n",
    "Оба этих столбца отражают трудовую деятельность клиентов, можно предположить, что сами клиенты захотели скрыть данные по личным причинам. Но мы не можем исключать вариант, что пропуски появились не по вине клиентов.\n",
    "\n",
    "Данные в этих столбцах являются количественными переменными, мы можем заполнить их медианой по каждому из столбцу. Но есть некоторые сомнения, что медиана не будет отражать действительность. Давайте узнаем их медианы."
   ]
  },
  {
   "cell_type": "code",
   "execution_count": 5,
   "id": "a0d2ed85",
   "metadata": {},
   "outputs": [
    {
     "name": "stdout",
     "output_type": "stream",
     "text": [
      "Медиана общего трудового стажа равна: -1203.369528770489;\n",
      "Медиана ежемесячного дохода равна: 145017.93753253992\n",
      "\n"
     ]
    }
   ],
   "source": [
    "# расчитаем медиану для каждого из столбца с пропусками\n",
    "\n",
    "print('''Медиана общего трудового стажа равна: {0};\n",
    "Медиана ежемесячного дохода равна: {1}\n",
    "'''.format(data['days_employed'].median(), data['total_income'].median()))\n",
    "\n"
   ]
  },
  {
   "cell_type": "markdown",
   "id": "5274d870",
   "metadata": {},
   "source": [
    "<a id='median'></a>\n",
    "\n",
    "Получили **отрицательную медиану** со стажем и зарплату в **145 017** рублей в месяц. \n",
    "\n",
    "Я несказано рад за наших соотечествеников :) , но доход в **145 017** рублей в месяц советую все таки проанализировать в дальнейшем, ведь проведение исследования будет зависить от этих данных.\n",
    "\n",
    "**Давайте пока сконцентрируемся на столбце `days_employed`** - для проведения исследования, нам эти данные не потребуются, но хочется их привести к более или менее реалистичным показаниям. \n",
    "\n",
    "В этом столбце присутствуют отрицательные значения, а данные в этом столбце указывают общий трудовой стаж, поэтому эти данные могут равнятся нулю, если клиент нигде не работали или работал неофициально, но вот отрицательными быть не могут.\n",
    "\n",
    "Отрицательные числа превратив в положительные и снова рассчитаем медиану столбца `days_employed`."
   ]
  },
  {
   "cell_type": "code",
   "execution_count": 6,
   "id": "087db188",
   "metadata": {},
   "outputs": [
    {
     "data": {
      "text/plain": [
       "2194.220566878695"
      ]
     },
     "execution_count": 6,
     "metadata": {},
     "output_type": "execute_result"
    }
   ],
   "source": [
    "# при помощи функции abs() превратив отрицательные значения столбца 'days_employed' в положительные\n",
    "# рассчитаем медиану уже с новыми значениями в столбце\n",
    "\n",
    "\n",
    "data['days_employed'] = abs(data['days_employed'])\n",
    "data['days_employed'].median()"
   ]
  },
  {
   "cell_type": "markdown",
   "id": "dbb87c03",
   "metadata": {},
   "source": [
    "**2 194** дня или примерно **6 лет** в трудовом стаже, уже больше похоже на правду.\n",
    "\n",
    "Давайте заполним пропущеные значения в этих двув столбцах медианами по столбцам."
   ]
  },
  {
   "cell_type": "code",
   "execution_count": 7,
   "id": "2a5986c6",
   "metadata": {},
   "outputs": [
    {
     "name": "stdout",
     "output_type": "stream",
     "text": [
      "Общая информация о таблице:\n",
      "\n",
      "<class 'pandas.core.frame.DataFrame'>\n",
      "RangeIndex: 21525 entries, 0 to 21524\n",
      "Data columns (total 12 columns):\n",
      " #   Column            Non-Null Count  Dtype  \n",
      "---  ------            --------------  -----  \n",
      " 0   children          21525 non-null  int64  \n",
      " 1   days_employed     21525 non-null  float64\n",
      " 2   dob_years         21525 non-null  int64  \n",
      " 3   education         21525 non-null  object \n",
      " 4   education_id      21525 non-null  int64  \n",
      " 5   family_status     21525 non-null  object \n",
      " 6   family_status_id  21525 non-null  int64  \n",
      " 7   gender            21525 non-null  object \n",
      " 8   income_type       21525 non-null  object \n",
      " 9   debt              21525 non-null  int64  \n",
      " 10  total_income      21525 non-null  float64\n",
      " 11  purpose           21525 non-null  object \n",
      "dtypes: float64(2), int64(5), object(5)\n",
      "memory usage: 2.0+ MB\n"
     ]
    }
   ],
   "source": [
    "# заполним пропущенные значения медианами\n",
    "# выведим общую информацию о таблице\n",
    "\n",
    "data['days_employed'] = data['days_employed'].fillna(data['days_employed'].median())\n",
    "data['total_income'] = data['total_income'].fillna(data['total_income'].median())\n",
    "\n",
    "print('Общая информация о таблице:')\n",
    "print()\n",
    "data.info() \n"
   ]
  },
  {
   "cell_type": "markdown",
   "id": "426d7a66",
   "metadata": {},
   "source": [
    "Для заполнения пропущенных значений в количественных переменных мы выбрали значения медианы, потому что медиана оценивает среднее значение, нивелировав влияние аномалий. Значения медиан кажутся сомнительными, но в следующим шаге мы будем проверять данные на аномалии и мы все перепроверим еще раз :)"
   ]
  },
  {
   "cell_type": "markdown",
   "id": "5afcd3f4",
   "metadata": {},
   "source": [
    "### Шаг 2.2 Проверка данных на аномалии и исправления."
   ]
  },
  {
   "cell_type": "markdown",
   "id": "0d39f559",
   "metadata": {},
   "source": [
    "Выведим таблицу на экран и изучим ее на аномалии.\n"
   ]
  },
  {
   "cell_type": "code",
   "execution_count": 8,
   "id": "522a1338",
   "metadata": {},
   "outputs": [
    {
     "data": {
      "text/html": [
       "<div>\n",
       "<style scoped>\n",
       "    .dataframe tbody tr th:only-of-type {\n",
       "        vertical-align: middle;\n",
       "    }\n",
       "\n",
       "    .dataframe tbody tr th {\n",
       "        vertical-align: top;\n",
       "    }\n",
       "\n",
       "    .dataframe thead th {\n",
       "        text-align: right;\n",
       "    }\n",
       "</style>\n",
       "<table border=\"1\" class=\"dataframe\">\n",
       "  <thead>\n",
       "    <tr style=\"text-align: right;\">\n",
       "      <th></th>\n",
       "      <th>children</th>\n",
       "      <th>days_employed</th>\n",
       "      <th>dob_years</th>\n",
       "      <th>education</th>\n",
       "      <th>education_id</th>\n",
       "      <th>family_status</th>\n",
       "      <th>family_status_id</th>\n",
       "      <th>gender</th>\n",
       "      <th>income_type</th>\n",
       "      <th>debt</th>\n",
       "      <th>total_income</th>\n",
       "      <th>purpose</th>\n",
       "    </tr>\n",
       "  </thead>\n",
       "  <tbody>\n",
       "    <tr>\n",
       "      <th>0</th>\n",
       "      <td>1</td>\n",
       "      <td>8437.673028</td>\n",
       "      <td>42</td>\n",
       "      <td>высшее</td>\n",
       "      <td>0</td>\n",
       "      <td>женат / замужем</td>\n",
       "      <td>0</td>\n",
       "      <td>F</td>\n",
       "      <td>сотрудник</td>\n",
       "      <td>0</td>\n",
       "      <td>253875.639453</td>\n",
       "      <td>покупка жилья</td>\n",
       "    </tr>\n",
       "    <tr>\n",
       "      <th>1</th>\n",
       "      <td>1</td>\n",
       "      <td>4024.803754</td>\n",
       "      <td>36</td>\n",
       "      <td>среднее</td>\n",
       "      <td>1</td>\n",
       "      <td>женат / замужем</td>\n",
       "      <td>0</td>\n",
       "      <td>F</td>\n",
       "      <td>сотрудник</td>\n",
       "      <td>0</td>\n",
       "      <td>112080.014102</td>\n",
       "      <td>приобретение автомобиля</td>\n",
       "    </tr>\n",
       "    <tr>\n",
       "      <th>2</th>\n",
       "      <td>0</td>\n",
       "      <td>5623.422610</td>\n",
       "      <td>33</td>\n",
       "      <td>Среднее</td>\n",
       "      <td>1</td>\n",
       "      <td>женат / замужем</td>\n",
       "      <td>0</td>\n",
       "      <td>M</td>\n",
       "      <td>сотрудник</td>\n",
       "      <td>0</td>\n",
       "      <td>145885.952297</td>\n",
       "      <td>покупка жилья</td>\n",
       "    </tr>\n",
       "    <tr>\n",
       "      <th>3</th>\n",
       "      <td>3</td>\n",
       "      <td>4124.747207</td>\n",
       "      <td>32</td>\n",
       "      <td>среднее</td>\n",
       "      <td>1</td>\n",
       "      <td>женат / замужем</td>\n",
       "      <td>0</td>\n",
       "      <td>M</td>\n",
       "      <td>сотрудник</td>\n",
       "      <td>0</td>\n",
       "      <td>267628.550329</td>\n",
       "      <td>дополнительное образование</td>\n",
       "    </tr>\n",
       "    <tr>\n",
       "      <th>4</th>\n",
       "      <td>0</td>\n",
       "      <td>340266.072047</td>\n",
       "      <td>53</td>\n",
       "      <td>среднее</td>\n",
       "      <td>1</td>\n",
       "      <td>гражданский брак</td>\n",
       "      <td>1</td>\n",
       "      <td>F</td>\n",
       "      <td>пенсионер</td>\n",
       "      <td>0</td>\n",
       "      <td>158616.077870</td>\n",
       "      <td>сыграть свадьбу</td>\n",
       "    </tr>\n",
       "  </tbody>\n",
       "</table>\n",
       "</div>"
      ],
      "text/plain": [
       "   children  days_employed  dob_years education  education_id  \\\n",
       "0         1    8437.673028         42    высшее             0   \n",
       "1         1    4024.803754         36   среднее             1   \n",
       "2         0    5623.422610         33   Среднее             1   \n",
       "3         3    4124.747207         32   среднее             1   \n",
       "4         0  340266.072047         53   среднее             1   \n",
       "\n",
       "      family_status  family_status_id gender income_type  debt   total_income  \\\n",
       "0   женат / замужем                 0      F   сотрудник     0  253875.639453   \n",
       "1   женат / замужем                 0      F   сотрудник     0  112080.014102   \n",
       "2   женат / замужем                 0      M   сотрудник     0  145885.952297   \n",
       "3   женат / замужем                 0      M   сотрудник     0  267628.550329   \n",
       "4  гражданский брак                 1      F   пенсионер     0  158616.077870   \n",
       "\n",
       "                      purpose  \n",
       "0               покупка жилья  \n",
       "1     приобретение автомобиля  \n",
       "2               покупка жилья  \n",
       "3  дополнительное образование  \n",
       "4             сыграть свадьбу  "
      ]
     },
     "execution_count": 8,
     "metadata": {},
     "output_type": "execute_result"
    }
   ],
   "source": [
    "data.head()"
   ]
  },
  {
   "cell_type": "markdown",
   "id": "d355ac3a",
   "metadata": {},
   "source": [
    "Давайте пройдемся по порядку по каждому из столбцов:"
   ]
  },
  {
   "cell_type": "markdown",
   "id": "03503a00",
   "metadata": {},
   "source": [
    "#### Рассмотрим уникальные значения столбца `children` — количество детей в семье:"
   ]
  },
  {
   "cell_type": "code",
   "execution_count": 9,
   "id": "70deee16",
   "metadata": {},
   "outputs": [
    {
     "data": {
      "text/plain": [
       "array([-1,  0,  1,  2,  3,  4,  5, 20], dtype=int64)"
      ]
     },
     "execution_count": 9,
     "metadata": {},
     "output_type": "execute_result"
    }
   ],
   "source": [
    "data['children'].sort_values().unique()"
   ]
  },
  {
   "cell_type": "markdown",
   "id": "10711754",
   "metadata": {},
   "source": [
    "Что мы видим:\n",
    "1. **-1** ребенок - предположим, что в семье 1 ребенок и минус поставили случайно;\n",
    "2. **20 детей** в семье. Если учесть, что [самая многодетная семья в РФ в 2021 году](https://rg.ru/2021/07/17/reg-ufo/samuiu-mnogodetnuiu-mat-rossii-s-iubileem-pozdravili-144-naslednika.html) имеет 83 ребенка, то эти цифры не кажутся такими уж большими :)\n",
    "\n",
    "Давайте взглянем на точечную диаграмму:"
   ]
  },
  {
   "cell_type": "code",
   "execution_count": 10,
   "id": "d7bfdfe7",
   "metadata": {},
   "outputs": [
    {
     "data": {
      "text/plain": [
       "<AxesSubplot:xlabel='dob_years', ylabel='children'>"
      ]
     },
     "execution_count": 10,
     "metadata": {},
     "output_type": "execute_result"
    },
    {
     "data": {
      "image/png": "[encoded data removed]",
      "text/plain": [
       "<Figure size 432x288 with 1 Axes>"
      ]
     },
     "metadata": {
      "needs_background": "light"
     },
     "output_type": "display_data"
    }
   ],
   "source": [
    "# выведим на экран точечную диаграмму по возрасту и количеству детей\n",
    "\n",
    "sns.scatterplot(data=data, x='dob_years', y='children')"
   ]
  },
  {
   "cell_type": "markdown",
   "id": "977e3314",
   "metadata": {},
   "source": [
    "А еще говорят, что в России рождаемость упала :), вот до 30 лет и уже по 20 детей в семье. \n",
    "\n",
    "[Среднее количество детей в российской семье за 2017 год](https://aif.ru/society/people/v_cifrah_i_faktah_semeynye_pary_s_detmi_razvodyatsya_rezhe_bezdetnyh) - 1 ребенок.\n",
    "\n",
    "Давайте и будем придерживаться этих данных и предположим, что семьи с 20 детьми - это на самом деле семьи с 2 детьми, а 0 поставили случайно.\n",
    "\n",
    "Исправим все эти аномальные значения. И проверим выведя уникальные значения этого столбца."
   ]
  },
  {
   "cell_type": "code",
   "execution_count": 11,
   "id": "46e4b55b",
   "metadata": {},
   "outputs": [
    {
     "data": {
      "text/plain": [
       "array([0., 1., 2., 3., 4., 5.])"
      ]
     },
     "execution_count": 11,
     "metadata": {},
     "output_type": "execute_result"
    }
   ],
   "source": [
    "# напишем функцию, которая убирает 0 там, где детей больше 10\n",
    "# исправим отрицательное количество детей на положительное\n",
    "\n",
    "\n",
    "def children(row):\n",
    "    children = row['children']\n",
    "    \n",
    "    if children > 10:\n",
    "        return children / 10\n",
    "    return children\n",
    "    \n",
    "data['children'] = data.apply(children, axis=1)\n",
    "data['children'] = abs(data['children'])\n",
    "data['children'].sort_values().unique()"
   ]
  },
  {
   "cell_type": "markdown",
   "id": "396e86fb",
   "metadata": {},
   "source": [
    "#### Перейдем к столбцу `days_employed` — общий трудовой стаж в днях:\n",
    "\n",
    "мы уже ранее заметили, что в данном столбце есть очень высокие показатели, например количество дней в трудовом стаже равное **340 266** это более **900** лет, либо в нашей стране придумали эликсир вечной жизни, а мы с вами ничего про это не знаем, и люди готовы работать по 900 лет :), либо эти данные указаны в другой величине, например часах или секундах. \n",
    "\n",
    "<a id='statistics'></a>\n",
    "\n",
    "Для дальнейших расчетов мы будем опираться на [нормы рабочего времени в 2020 году](http://duma.gov.ru/news/47270/), которые равняются:\n",
    "\n",
    "\n",
    "\n",
    "* **248** рабочих дней;\n",
    "* **1 979** часов при 40-часовой неделе;\n",
    "* соответственно получаем **118 740** минут. \n",
    "\n",
    "\n",
    "Давайте проверим эти догатки.\n"
   ]
  },
  {
   "cell_type": "code",
   "execution_count": 12,
   "id": "4deb11de",
   "metadata": {},
   "outputs": [
    {
     "name": "stdout",
     "output_type": "stream",
     "text": [
      "Возьмем как пример этого клиента:\n"
     ]
    },
    {
     "data": {
      "text/plain": [
       "children                         0.0\n",
       "days_employed          340266.072047\n",
       "dob_years                         53\n",
       "education                    среднее\n",
       "education_id                       1\n",
       "family_status       гражданский брак\n",
       "family_status_id                   1\n",
       "gender                             F\n",
       "income_type                пенсионер\n",
       "debt                               0\n",
       "total_income            158616.07787\n",
       "purpose              сыграть свадьбу\n",
       "Name: 4, dtype: object"
      ]
     },
     "metadata": {},
     "output_type": "display_data"
    },
    {
     "name": "stdout",
     "output_type": "stream",
     "text": [
      "\n",
      "Проверим теорию о том, что данные указаны в часах. \n",
      "У нас получается: 171 год.\n",
      "\n",
      "Проверим теорию о том, что данные указаны в минутах. \n",
      "У нас получается: 2 года.\n",
      "\n"
     ]
    }
   ],
   "source": [
    "\n",
    "\n",
    "print('Возьмем как пример этого клиента:')\n",
    "\n",
    "display(data.loc[4])\n",
    "\n",
    "\n",
    "print('''\n",
    "Проверим теорию о том, что данные указаны в часах. \n",
    "У нас получается: {0} год.\n",
    "'''.format(340266 // 1979))\n",
    "\n",
    "      \n",
    "print('''Проверим теорию о том, что данные указаны в минутах. \n",
    "У нас получается: {0} года.\n",
    "'''.format(340266 // 118740))\n",
    "\n",
    "\n"
   ]
  },
  {
   "cell_type": "markdown",
   "id": "626c2fda",
   "metadata": {},
   "source": [
    "В минутах это **171** год - что слишком много, а если в секунда - это всего лишь **2** года, что подозрительно мало для возраста в 53 года.\n",
    "\n",
    "Поскольу для дальнейшего исследования нам эти данные не важны, давайте аномальные значения заменим на [cредний трудовой стаж в РФ за 2013 год](https://ria.ru/20131119/977986173.html), который равен **34,5** годам. \n"
   ]
  },
  {
   "cell_type": "code",
   "execution_count": 13,
   "id": "2b58f2cb",
   "metadata": {},
   "outputs": [
    {
     "name": "stdout",
     "output_type": "stream",
     "text": [
      "Среднее количество дней в трудовом стаже составляет 8556.0\n"
     ]
    }
   ],
   "source": [
    "print('Среднее количество дней в трудовом стаже составляет {0}'.format(34.5 * 248))"
   ]
  },
  {
   "cell_type": "markdown",
   "id": "0ca47d67",
   "metadata": {},
   "source": [
    "Мы получили среднее количество рабочих дней в трудовом стаже равное **8 556**, давайте все что больше этого значения будем считать за аномалии. И не стоит забывать, что стаж в днях напрямую зависит от возраста, ведь не может клиент в 20 летнем возрасте иметь стаж более 10 лет и т.д.\n",
    "\n",
    "Для того, чтобы исправить аномальные значения в трудовос стаже нам потребуются данные в столбце `dob_years`, потому что мы будем соотносить возраст с количеством трудовых дней представленых [здесь](#statistics).\n",
    "\n",
    "Выведим уникальные значения столбца `dob_years`:"
   ]
  },
  {
   "cell_type": "code",
   "execution_count": 14,
   "id": "d0533f97",
   "metadata": {},
   "outputs": [
    {
     "data": {
      "text/plain": [
       "array([ 0, 19, 20, 21, 22, 23, 24, 25, 26, 27, 28, 29, 30, 31, 32, 33, 34,\n",
       "       35, 36, 37, 38, 39, 40, 41, 42, 43, 44, 45, 46, 47, 48, 49, 50, 51,\n",
       "       52, 53, 54, 55, 56, 57, 58, 59, 60, 61, 62, 63, 64, 65, 66, 67, 68,\n",
       "       69, 70, 71, 72, 73, 74, 75], dtype=int64)"
      ]
     },
     "execution_count": 14,
     "metadata": {},
     "output_type": "execute_result"
    }
   ],
   "source": [
    "# выведим уникальные значения столбца 'dob_years'\n",
    "\n",
    "data['dob_years'].sort_values().unique()"
   ]
  },
  {
   "cell_type": "markdown",
   "id": "46fbd1f3",
   "metadata": {},
   "source": [
    "**Нулевой возраст**, давайте посмотрим подробнее на этих клиентов:"
   ]
  },
  {
   "cell_type": "code",
   "execution_count": 15,
   "id": "a6d4624a",
   "metadata": {},
   "outputs": [
    {
     "data": {
      "text/html": [
       "<div>\n",
       "<style scoped>\n",
       "    .dataframe tbody tr th:only-of-type {\n",
       "        vertical-align: middle;\n",
       "    }\n",
       "\n",
       "    .dataframe tbody tr th {\n",
       "        vertical-align: top;\n",
       "    }\n",
       "\n",
       "    .dataframe thead th {\n",
       "        text-align: right;\n",
       "    }\n",
       "</style>\n",
       "<table border=\"1\" class=\"dataframe\">\n",
       "  <thead>\n",
       "    <tr style=\"text-align: right;\">\n",
       "      <th></th>\n",
       "      <th>children</th>\n",
       "      <th>days_employed</th>\n",
       "      <th>dob_years</th>\n",
       "      <th>education</th>\n",
       "      <th>education_id</th>\n",
       "      <th>family_status</th>\n",
       "      <th>family_status_id</th>\n",
       "      <th>gender</th>\n",
       "      <th>income_type</th>\n",
       "      <th>debt</th>\n",
       "      <th>total_income</th>\n",
       "      <th>purpose</th>\n",
       "    </tr>\n",
       "  </thead>\n",
       "  <tbody>\n",
       "    <tr>\n",
       "      <th>99</th>\n",
       "      <td>0.0</td>\n",
       "      <td>346541.618895</td>\n",
       "      <td>0</td>\n",
       "      <td>Среднее</td>\n",
       "      <td>1</td>\n",
       "      <td>женат / замужем</td>\n",
       "      <td>0</td>\n",
       "      <td>F</td>\n",
       "      <td>пенсионер</td>\n",
       "      <td>0</td>\n",
       "      <td>71291.522491</td>\n",
       "      <td>автомобиль</td>\n",
       "    </tr>\n",
       "    <tr>\n",
       "      <th>149</th>\n",
       "      <td>0.0</td>\n",
       "      <td>2664.273168</td>\n",
       "      <td>0</td>\n",
       "      <td>среднее</td>\n",
       "      <td>1</td>\n",
       "      <td>в разводе</td>\n",
       "      <td>3</td>\n",
       "      <td>F</td>\n",
       "      <td>сотрудник</td>\n",
       "      <td>0</td>\n",
       "      <td>70176.435951</td>\n",
       "      <td>операции с жильем</td>\n",
       "    </tr>\n",
       "    <tr>\n",
       "      <th>270</th>\n",
       "      <td>3.0</td>\n",
       "      <td>1872.663186</td>\n",
       "      <td>0</td>\n",
       "      <td>среднее</td>\n",
       "      <td>1</td>\n",
       "      <td>женат / замужем</td>\n",
       "      <td>0</td>\n",
       "      <td>F</td>\n",
       "      <td>сотрудник</td>\n",
       "      <td>0</td>\n",
       "      <td>102166.458894</td>\n",
       "      <td>ремонт жилью</td>\n",
       "    </tr>\n",
       "    <tr>\n",
       "      <th>578</th>\n",
       "      <td>0.0</td>\n",
       "      <td>397856.565013</td>\n",
       "      <td>0</td>\n",
       "      <td>среднее</td>\n",
       "      <td>1</td>\n",
       "      <td>женат / замужем</td>\n",
       "      <td>0</td>\n",
       "      <td>F</td>\n",
       "      <td>пенсионер</td>\n",
       "      <td>0</td>\n",
       "      <td>97620.687042</td>\n",
       "      <td>строительство собственной недвижимости</td>\n",
       "    </tr>\n",
       "    <tr>\n",
       "      <th>1040</th>\n",
       "      <td>0.0</td>\n",
       "      <td>1158.029561</td>\n",
       "      <td>0</td>\n",
       "      <td>высшее</td>\n",
       "      <td>0</td>\n",
       "      <td>в разводе</td>\n",
       "      <td>3</td>\n",
       "      <td>F</td>\n",
       "      <td>компаньон</td>\n",
       "      <td>0</td>\n",
       "      <td>303994.134987</td>\n",
       "      <td>свой автомобиль</td>\n",
       "    </tr>\n",
       "    <tr>\n",
       "      <th>...</th>\n",
       "      <td>...</td>\n",
       "      <td>...</td>\n",
       "      <td>...</td>\n",
       "      <td>...</td>\n",
       "      <td>...</td>\n",
       "      <td>...</td>\n",
       "      <td>...</td>\n",
       "      <td>...</td>\n",
       "      <td>...</td>\n",
       "      <td>...</td>\n",
       "      <td>...</td>\n",
       "      <td>...</td>\n",
       "    </tr>\n",
       "    <tr>\n",
       "      <th>19829</th>\n",
       "      <td>0.0</td>\n",
       "      <td>2194.220567</td>\n",
       "      <td>0</td>\n",
       "      <td>среднее</td>\n",
       "      <td>1</td>\n",
       "      <td>женат / замужем</td>\n",
       "      <td>0</td>\n",
       "      <td>F</td>\n",
       "      <td>сотрудник</td>\n",
       "      <td>0</td>\n",
       "      <td>145017.937533</td>\n",
       "      <td>жилье</td>\n",
       "    </tr>\n",
       "    <tr>\n",
       "      <th>20462</th>\n",
       "      <td>0.0</td>\n",
       "      <td>338734.868540</td>\n",
       "      <td>0</td>\n",
       "      <td>среднее</td>\n",
       "      <td>1</td>\n",
       "      <td>женат / замужем</td>\n",
       "      <td>0</td>\n",
       "      <td>F</td>\n",
       "      <td>пенсионер</td>\n",
       "      <td>0</td>\n",
       "      <td>259193.920299</td>\n",
       "      <td>покупка своего жилья</td>\n",
       "    </tr>\n",
       "    <tr>\n",
       "      <th>20577</th>\n",
       "      <td>0.0</td>\n",
       "      <td>331741.271455</td>\n",
       "      <td>0</td>\n",
       "      <td>среднее</td>\n",
       "      <td>1</td>\n",
       "      <td>Не женат / не замужем</td>\n",
       "      <td>4</td>\n",
       "      <td>F</td>\n",
       "      <td>пенсионер</td>\n",
       "      <td>0</td>\n",
       "      <td>129788.762899</td>\n",
       "      <td>недвижимость</td>\n",
       "    </tr>\n",
       "    <tr>\n",
       "      <th>21179</th>\n",
       "      <td>2.0</td>\n",
       "      <td>108.967042</td>\n",
       "      <td>0</td>\n",
       "      <td>высшее</td>\n",
       "      <td>0</td>\n",
       "      <td>женат / замужем</td>\n",
       "      <td>0</td>\n",
       "      <td>M</td>\n",
       "      <td>компаньон</td>\n",
       "      <td>0</td>\n",
       "      <td>240702.007382</td>\n",
       "      <td>строительство жилой недвижимости</td>\n",
       "    </tr>\n",
       "    <tr>\n",
       "      <th>21313</th>\n",
       "      <td>0.0</td>\n",
       "      <td>1268.487728</td>\n",
       "      <td>0</td>\n",
       "      <td>среднее</td>\n",
       "      <td>1</td>\n",
       "      <td>Не женат / не замужем</td>\n",
       "      <td>4</td>\n",
       "      <td>M</td>\n",
       "      <td>сотрудник</td>\n",
       "      <td>0</td>\n",
       "      <td>152419.184851</td>\n",
       "      <td>операции с жильем</td>\n",
       "    </tr>\n",
       "  </tbody>\n",
       "</table>\n",
       "<p>101 rows × 12 columns</p>\n",
       "</div>"
      ],
      "text/plain": [
       "       children  days_employed  dob_years education  education_id  \\\n",
       "99          0.0  346541.618895          0   Среднее             1   \n",
       "149         0.0    2664.273168          0   среднее             1   \n",
       "270         3.0    1872.663186          0   среднее             1   \n",
       "578         0.0  397856.565013          0   среднее             1   \n",
       "1040        0.0    1158.029561          0    высшее             0   \n",
       "...         ...            ...        ...       ...           ...   \n",
       "19829       0.0    2194.220567          0   среднее             1   \n",
       "20462       0.0  338734.868540          0   среднее             1   \n",
       "20577       0.0  331741.271455          0   среднее             1   \n",
       "21179       2.0     108.967042          0    высшее             0   \n",
       "21313       0.0    1268.487728          0   среднее             1   \n",
       "\n",
       "               family_status  family_status_id gender income_type  debt  \\\n",
       "99           женат / замужем                 0      F   пенсионер     0   \n",
       "149                в разводе                 3      F   сотрудник     0   \n",
       "270          женат / замужем                 0      F   сотрудник     0   \n",
       "578          женат / замужем                 0      F   пенсионер     0   \n",
       "1040               в разводе                 3      F   компаньон     0   \n",
       "...                      ...               ...    ...         ...   ...   \n",
       "19829        женат / замужем                 0      F   сотрудник     0   \n",
       "20462        женат / замужем                 0      F   пенсионер     0   \n",
       "20577  Не женат / не замужем                 4      F   пенсионер     0   \n",
       "21179        женат / замужем                 0      M   компаньон     0   \n",
       "21313  Не женат / не замужем                 4      M   сотрудник     0   \n",
       "\n",
       "        total_income                                 purpose  \n",
       "99      71291.522491                              автомобиль  \n",
       "149     70176.435951                       операции с жильем  \n",
       "270    102166.458894                            ремонт жилью  \n",
       "578     97620.687042  строительство собственной недвижимости  \n",
       "1040   303994.134987                         свой автомобиль  \n",
       "...              ...                                     ...  \n",
       "19829  145017.937533                                   жилье  \n",
       "20462  259193.920299                    покупка своего жилья  \n",
       "20577  129788.762899                            недвижимость  \n",
       "21179  240702.007382        строительство жилой недвижимости  \n",
       "21313  152419.184851                       операции с жильем  \n",
       "\n",
       "[101 rows x 12 columns]"
      ]
     },
     "metadata": {},
     "output_type": "display_data"
    },
    {
     "data": {
      "text/plain": [
       "array(['пенсионер', 'сотрудник', 'компаньон', 'госслужащий'], dtype=object)"
      ]
     },
     "execution_count": 15,
     "metadata": {},
     "output_type": "execute_result"
    }
   ],
   "source": [
    "# выведим на экран клиентов имеющих нулевой возраст и уникальные значения столбца 'income_type'\n",
    "\n",
    "display(data[data['dob_years'] == 0])\n",
    "\n",
    "data[data['dob_years'] == 0]['income_type'].unique()"
   ]
  },
  {
   "cell_type": "markdown",
   "id": "5b06fdde",
   "metadata": {},
   "source": [
    "**101** человек имеет нулевой возраст среди таких типов занятости, как: пенсионер, сотрудник, компаньон, госслужащий.\n",
    "Предлагаю нулевой возраст заменить на медиану каждого из типов занятости, так на мой взгляд будет более правдоподобно и сразу будем исправлять стаж в трудовых днях, с учетом их совершенолетнего возраста."
   ]
  },
  {
   "cell_type": "code",
   "execution_count": 16,
   "id": "469b6816",
   "metadata": {},
   "outputs": [
    {
     "data": {
      "text/plain": [
       "array([19., 20., 21., 22., 23., 24., 25., 26., 27., 28., 29., 30., 31.,\n",
       "       32., 33., 34., 35., 36., 37., 38., 39., 40., 41., 42., 43., 44.,\n",
       "       45., 46., 47., 48., 49., 50., 51., 52., 53., 54., 55., 56., 57.,\n",
       "       58., 59., 60., 61., 62., 63., 64., 65., 66., 67., 68., 69., 70.,\n",
       "       71., 72., 73., 74., 75.])"
      ]
     },
     "execution_count": 16,
     "metadata": {},
     "output_type": "execute_result"
    }
   ],
   "source": [
    "# создадим переменные с медианами возрастов для каждого типа с нулевыми значениями\n",
    "# напишем функцию, которая будет исправлять нулевой возраст в соответствии с типом занятости \n",
    "# выведим уникальные значения столбца 'dob_years' и проверим возраст\n",
    "\n",
    "\n",
    "median_pensioners_dob = data[data['income_type'] == 'пенсионер']['dob_years'].median()\n",
    "median_employee_dob = data[data['income_type'] == 'сотрудник']['dob_years'].median()\n",
    "median_companion_dob = data[data['income_type'] == 'компаньон']['dob_years'].median()\n",
    "median_state_employee_dob = data[data['income_type'] == 'госслужащий']['dob_years'].median()\n",
    "\n",
    "\n",
    "def dob_years(row):\n",
    "    dob_years = row['dob_years']           # возраст клиента\n",
    "    income_type = row['income_type']       # тип занятости\n",
    "    \n",
    "    if dob_years == 0:\n",
    "        if income_type == 'пенсионер':\n",
    "            return  median_pensioners_dob\n",
    "        elif income_type == 'сотрудник':\n",
    "            return  median_employee_dob\n",
    "        elif income_type == 'компаньон':\n",
    "            return  median_companion_dob\n",
    "        elif income_type == 'госслужащий':\n",
    "            return  int(median_state_employee_dob)\n",
    "    return int(dob_years)\n",
    "\n",
    "data['dob_years'] = data.apply(dob_years, axis=1)\n",
    "\n",
    "data['dob_years'].sort_values().unique()\n",
    "\n",
    "\n",
    "\n",
    "\n",
    "\n"
   ]
  },
  {
   "cell_type": "code",
   "execution_count": 17,
   "id": "efe72de2",
   "metadata": {
    "scrolled": true
   },
   "outputs": [
    {
     "data": {
      "text/plain": [
       "<AxesSubplot:xlabel='days_employed', ylabel='dob_years'>"
      ]
     },
     "execution_count": 17,
     "metadata": {},
     "output_type": "execute_result"
    },
    {
     "data": {
      "image/png": "[encoded data removed]",
      "text/plain": [
       "<Figure size 432x288 with 1 Axes>"
      ]
     },
     "metadata": {
      "needs_background": "light"
     },
     "output_type": "display_data"
    }
   ],
   "source": [
    "# напишем функцию, которая будет исправлять аномальные значения в стаже \n",
    "# с учетом совершенолетнего возраста (т.е. возраст минус 18 лет)\n",
    "# проверим и выведим на экран точечную диаграмму по возрасту и стажу\n",
    "\n",
    "\n",
    "def days_employed(row):\n",
    "    days_employed = row['days_employed']                # стаж в днях\n",
    "    dob_years = row['dob_years']                        # возраст клиента\n",
    "    mean_days_employed = (dob_years - 18) * 248         # ср. труд. стаж в днях из расчета 248 раб. дней в году\n",
    "    \n",
    "    if days_employed > mean_days_employed:\n",
    "        return mean_days_employed\n",
    "    return days_employed\n",
    "\n",
    "    \n",
    "\n",
    "data['days_employed'] = data.apply(days_employed, axis=1)\n",
    "\n",
    "sns.scatterplot(data=data, x='days_employed', y='dob_years')\n",
    "\n",
    "\n",
    "\n",
    "\n"
   ]
  },
  {
   "cell_type": "markdown",
   "id": "a85ce876",
   "metadata": {},
   "source": [
    "Исправили значения в нулевом возрасте и значение в трудовос стаже из расчета [248 рабочих дней](#statistics) в году и официальный стаж начисляется с 18 летнего возраста. "
   ]
  },
  {
   "cell_type": "markdown",
   "id": "61078972",
   "metadata": {},
   "source": [
    "#### Перейдем к столбцу `education` — уровень образования клиента:\n",
    "\n",
    "Выведим его уникальные значения на экран:\n"
   ]
  },
  {
   "cell_type": "code",
   "execution_count": 18,
   "id": "a1d4e904",
   "metadata": {},
   "outputs": [
    {
     "data": {
      "text/plain": [
       "array(['высшее', 'среднее', 'Среднее', 'СРЕДНЕЕ', 'ВЫСШЕЕ',\n",
       "       'неоконченное высшее', 'начальное', 'Высшее',\n",
       "       'НЕОКОНЧЕННОЕ ВЫСШЕЕ', 'Неоконченное высшее', 'НАЧАЛЬНОЕ',\n",
       "       'Начальное', 'Ученая степень', 'УЧЕНАЯ СТЕПЕНЬ', 'ученая степень'],\n",
       "      dtype=object)"
      ]
     },
     "execution_count": 18,
     "metadata": {},
     "output_type": "execute_result"
    }
   ],
   "source": [
    "# проверим уникальные значения столбца \n",
    "\n",
    "data['education'].unique()"
   ]
  },
  {
   "cell_type": "markdown",
   "id": "d855a41f",
   "metadata": {},
   "source": [
    "Есть одни и те же значения, но записанные по-разному: с использованием заглавных и строчных букв. Приведем их к одному регистру.\n",
    "    \n",
    "    "
   ]
  },
  {
   "cell_type": "code",
   "execution_count": 19,
   "id": "7063bd09",
   "metadata": {},
   "outputs": [
    {
     "data": {
      "text/plain": [
       "array(['высшее', 'среднее', 'неоконченное высшее', 'начальное',\n",
       "       'ученая степень'], dtype=object)"
      ]
     },
     "execution_count": 19,
     "metadata": {},
     "output_type": "execute_result"
    }
   ],
   "source": [
    "# приведем все данные столбца 'education' к нижнему регистру и снова выведим уникальные значения\n",
    "\n",
    "data['education'] = data['education'].str.lower()\n",
    "data['education'].unique()"
   ]
  },
  {
   "cell_type": "markdown",
   "id": "0460641b",
   "metadata": {},
   "source": [
    "#### Перейдем к столбцу `education_id` - идентификатор уровня образования.\n",
    "\n",
    "Выведим его уникальные значения:"
   ]
  },
  {
   "cell_type": "code",
   "execution_count": 20,
   "id": "239a0b30",
   "metadata": {},
   "outputs": [
    {
     "data": {
      "text/plain": [
       "array([0, 1, 2, 3, 4], dtype=int64)"
      ]
     },
     "execution_count": 20,
     "metadata": {},
     "output_type": "execute_result"
    }
   ],
   "source": [
    "# проверим уникальные значения столбца \n",
    "\n",
    "data['education_id'].unique()"
   ]
  },
  {
   "cell_type": "markdown",
   "id": "9e98918b",
   "metadata": {},
   "source": [
    "ID образования, все понятно, но на всякий случай сгруппируем и посмотрим какое id присвоенно к какому образованию:"
   ]
  },
  {
   "cell_type": "code",
   "execution_count": 21,
   "id": "8b9654ce",
   "metadata": {},
   "outputs": [
    {
     "data": {
      "text/plain": [
       "education\n",
       "высшее                 0\n",
       "среднее                1\n",
       "неоконченное высшее    2\n",
       "начальное              3\n",
       "ученая степень         4\n",
       "Name: education_id, dtype: int64"
      ]
     },
     "execution_count": 21,
     "metadata": {},
     "output_type": "execute_result"
    }
   ],
   "source": [
    "# сгруппируем данные столбца с образованием и столбца id-образования \n",
    "\n",
    "data.groupby('education')['education_id'].median().sort_values()"
   ]
  },
  {
   "cell_type": "markdown",
   "id": "0a960704",
   "metadata": {},
   "source": [
    "#### Перейдем к столбцу `family_status` — семейное положение и  столбцу `family_status_id` - идентификатор семейного положения.\n",
    "\n",
    "Проверим на уникальные значения и какое ID к какому семейному положению относится:"
   ]
  },
  {
   "cell_type": "code",
   "execution_count": 22,
   "id": "df63c725",
   "metadata": {},
   "outputs": [
    {
     "name": "stdout",
     "output_type": "stream",
     "text": [
      "Уницальные значения столбца *family_status*\n",
      "\n",
      "['женат / замужем' 'гражданский брак' 'вдовец / вдова' 'в разводе'\n",
      " 'Не женат / не замужем']\n",
      "\n",
      "Уницальные значения столбца *family_status_id*\n",
      "\n",
      "[0 1 2 3 4]\n"
     ]
    }
   ],
   "source": [
    "# проверим уникальные значения столбцов\n",
    "\n",
    "print('Уницальные значения столбца *family_status*')\n",
    "print()\n",
    "print(data['family_status'].unique())\n",
    "print()\n",
    "print('Уницальные значения столбца *family_status_id*')\n",
    "print()\n",
    "print(data['family_status_id'].unique())"
   ]
  },
  {
   "cell_type": "markdown",
   "id": "c9c077cf",
   "metadata": {},
   "source": [
    "Видим в столбце `family_status` данные записаны по-разному: **с использованием заглавных и строчных букв**.\n",
    "\n",
    "**Исправим** и приведем все данные к нижнему регистру **и сгруппируем эти столбцы**, чтобы понять какое ID у типа семейного положения:"
   ]
  },
  {
   "cell_type": "code",
   "execution_count": 23,
   "id": "6268b456",
   "metadata": {},
   "outputs": [
    {
     "data": {
      "text/plain": [
       "family_status\n",
       "женат / замужем          0\n",
       "гражданский брак         1\n",
       "вдовец / вдова           2\n",
       "в разводе                3\n",
       "не женат / не замужем    4\n",
       "Name: family_status_id, dtype: int64"
      ]
     },
     "execution_count": 23,
     "metadata": {},
     "output_type": "execute_result"
    }
   ],
   "source": [
    "# приведем данные столбца 'family_status' к нижнему регистру\n",
    "# сгруппируем эти два столбца и узнаем ID\n",
    "\n",
    "\n",
    "data['family_status'] = data['family_status'].str.lower()\n",
    "data.groupby('family_status')['family_status_id'].median().sort_values()"
   ]
  },
  {
   "cell_type": "markdown",
   "id": "6f542400",
   "metadata": {},
   "source": [
    "#### Перейдем к столбцу `gender` — пол клиента:\n",
    "\n",
    "Выведим его уникальные значения на экран:"
   ]
  },
  {
   "cell_type": "code",
   "execution_count": 24,
   "id": "d6f67951",
   "metadata": {},
   "outputs": [
    {
     "data": {
      "text/plain": [
       "array(['F', 'M', 'XNA'], dtype=object)"
      ]
     },
     "execution_count": 24,
     "metadata": {},
     "output_type": "execute_result"
    }
   ],
   "source": [
    "# уникальные значения столбца \n",
    "\n",
    "data['gender'].unique()\n"
   ]
  },
  {
   "cell_type": "markdown",
   "id": "0b956470",
   "metadata": {},
   "source": [
    "**XNA** давайте рассмотрим подробнее этого клиента:\n"
   ]
  },
  {
   "cell_type": "code",
   "execution_count": 25,
   "id": "ca67ed01",
   "metadata": {},
   "outputs": [
    {
     "data": {
      "text/html": [
       "<div>\n",
       "<style scoped>\n",
       "    .dataframe tbody tr th:only-of-type {\n",
       "        vertical-align: middle;\n",
       "    }\n",
       "\n",
       "    .dataframe tbody tr th {\n",
       "        vertical-align: top;\n",
       "    }\n",
       "\n",
       "    .dataframe thead th {\n",
       "        text-align: right;\n",
       "    }\n",
       "</style>\n",
       "<table border=\"1\" class=\"dataframe\">\n",
       "  <thead>\n",
       "    <tr style=\"text-align: right;\">\n",
       "      <th></th>\n",
       "      <th>children</th>\n",
       "      <th>days_employed</th>\n",
       "      <th>dob_years</th>\n",
       "      <th>education</th>\n",
       "      <th>education_id</th>\n",
       "      <th>family_status</th>\n",
       "      <th>family_status_id</th>\n",
       "      <th>gender</th>\n",
       "      <th>income_type</th>\n",
       "      <th>debt</th>\n",
       "      <th>total_income</th>\n",
       "      <th>purpose</th>\n",
       "    </tr>\n",
       "  </thead>\n",
       "  <tbody>\n",
       "    <tr>\n",
       "      <th>10701</th>\n",
       "      <td>0.0</td>\n",
       "      <td>1488.0</td>\n",
       "      <td>24.0</td>\n",
       "      <td>неоконченное высшее</td>\n",
       "      <td>2</td>\n",
       "      <td>гражданский брак</td>\n",
       "      <td>1</td>\n",
       "      <td>XNA</td>\n",
       "      <td>компаньон</td>\n",
       "      <td>0</td>\n",
       "      <td>203905.157261</td>\n",
       "      <td>покупка недвижимости</td>\n",
       "    </tr>\n",
       "  </tbody>\n",
       "</table>\n",
       "</div>"
      ],
      "text/plain": [
       "       children  days_employed  dob_years            education  education_id  \\\n",
       "10701       0.0         1488.0       24.0  неоконченное высшее             2   \n",
       "\n",
       "          family_status  family_status_id gender income_type  debt  \\\n",
       "10701  гражданский брак                 1    XNA   компаньон     0   \n",
       "\n",
       "        total_income               purpose  \n",
       "10701  203905.157261  покупка недвижимости  "
      ]
     },
     "execution_count": 25,
     "metadata": {},
     "output_type": "execute_result"
    }
   ],
   "source": [
    "# выведим данные о клиентах у которых пол XNA\n",
    "\n",
    "data[data['gender'] == 'XNA']"
   ]
  },
  {
   "cell_type": "markdown",
   "id": "09c81f81",
   "metadata": {},
   "source": [
    "Впринципе, пол клиента нам для исследования не важен, и здесь **всего 1 случай**, поэтому мы исправим значение **XNA** на женский - **F**, просто потому что женщин на планете больше чем мужчин, вот как то так все просто :)"
   ]
  },
  {
   "cell_type": "code",
   "execution_count": 26,
   "id": "7aa89e3a",
   "metadata": {},
   "outputs": [
    {
     "data": {
      "text/plain": [
       "array(['F', 'M'], dtype=object)"
      ]
     },
     "execution_count": 26,
     "metadata": {},
     "output_type": "execute_result"
    }
   ],
   "source": [
    "# исправим на женский пол\n",
    "# еще раз проверим уникальные значения столбца\n",
    "\n",
    "data.loc[10701, 'gender'] = 'F'\n",
    "data['gender'].unique()"
   ]
  },
  {
   "cell_type": "markdown",
   "id": "0fac3f01",
   "metadata": {},
   "source": [
    "#### Перейдем к столбцу `income_type` — тип занятости:\n",
    "\n",
    "Проверим уникальные значения и соотношение к возрасту:"
   ]
  },
  {
   "cell_type": "code",
   "execution_count": 27,
   "id": "a1e0f0b4",
   "metadata": {},
   "outputs": [
    {
     "name": "stdout",
     "output_type": "stream",
     "text": [
      "['сотрудник' 'пенсионер' 'компаньон' 'госслужащий' 'безработный'\n",
      " 'предприниматель' 'студент' 'в декрете']\n"
     ]
    },
    {
     "data": {
      "text/plain": [
       "income_type\n",
       "безработный        38.000000\n",
       "в декрете          39.000000\n",
       "госслужащий        40.801234\n",
       "компаньон          39.850934\n",
       "пенсионер          59.374222\n",
       "предприниматель    42.500000\n",
       "сотрудник          40.013940\n",
       "студент            22.000000\n",
       "Name: dob_years, dtype: float64"
      ]
     },
     "execution_count": 27,
     "metadata": {},
     "output_type": "execute_result"
    }
   ],
   "source": [
    "# уникальные значения столбца \n",
    "\n",
    "\n",
    "print(data['income_type'].unique())\n",
    "\n",
    "data.groupby('income_type')['dob_years'].mean()"
   ]
  },
  {
   "cell_type": "markdown",
   "id": "be62f8d0",
   "metadata": {},
   "source": [
    "#### Перейдем к столбцу `debt` — имел ли задолженность по возврату кредитов:\n",
    "\n",
    "Мы видили ранее значение 1 или 2 в столбце, можно предположить, что эти **значения булева типа** хранят информацию об истинности утверждений. Таких значений всего два: **True - 1**, когда утверждение истинно, и **False - 0**, когда ложно.\n",
    "\n",
    "Выведим уникальные значения столбца:"
   ]
  },
  {
   "cell_type": "code",
   "execution_count": 28,
   "id": "a48a9442",
   "metadata": {},
   "outputs": [
    {
     "name": "stdout",
     "output_type": "stream",
     "text": [
      "[0 1]\n"
     ]
    }
   ],
   "source": [
    "# уникальные значения столбца \n",
    "\n",
    "print(data['debt'].unique())"
   ]
  },
  {
   "cell_type": "markdown",
   "id": "d7f91f30",
   "metadata": {},
   "source": [
    "#### Перейдем к столбцу `total_income` — ежемесячный доход:"
   ]
  },
  {
   "cell_type": "markdown",
   "id": "8d2fab07",
   "metadata": {},
   "source": [
    "Ранее мы [выводили медиану](#median) по этому столбцу и получили значение в  **145 017**. Давайте взглянем на гистограмму."
   ]
  },
  {
   "cell_type": "code",
   "execution_count": 29,
   "id": "ac64472c",
   "metadata": {},
   "outputs": [
    {
     "data": {
      "text/plain": [
       "<AxesSubplot:xlabel='total_income', ylabel='income_type'>"
      ]
     },
     "execution_count": 29,
     "metadata": {},
     "output_type": "execute_result"
    },
    {
     "data": {
      "image/png": "[encoded data removed]",
      "text/plain": [
       "<Figure size 432x288 with 1 Axes>"
      ]
     },
     "metadata": {
      "needs_background": "light"
     },
     "output_type": "display_data"
    }
   ],
   "source": [
    "# выведем на экран гистограмму\n",
    "\n",
    "sns.barplot(x=data['total_income'], y=data['income_type'])"
   ]
  },
  {
   "cell_type": "markdown",
   "id": "7ca0b273",
   "metadata": {},
   "source": [
    "Взглянув на гистограмму можно и правда предположить, что значения в ней правдивы, поскольку у нас нет достаточно данных это опровергнуть, мы будем работать с этими данными и порадуемся за наших соотечествеников, у них хорошие зарплаты, надеюсь так все и останется :) !!!"
   ]
  },
  {
   "cell_type": "markdown",
   "id": "5e547567",
   "metadata": {},
   "source": [
    "#### Перейдем к столбцу `purpose` —  цель получения кредита:\n",
    "\n",
    "Выведем уникальные значения этого столбца, как я правильно понял эти данные заполняли сами клиенты вручную, поэтому одни и те же цели могут быть записаны по-разному"
   ]
  },
  {
   "cell_type": "code",
   "execution_count": 30,
   "id": "54f53aa2",
   "metadata": {},
   "outputs": [
    {
     "name": "stdout",
     "output_type": "stream",
     "text": [
      "['покупка жилья' 'приобретение автомобиля' 'дополнительное образование'\n",
      " 'сыграть свадьбу' 'операции с жильем' 'образование'\n",
      " 'на проведение свадьбы' 'покупка жилья для семьи' 'покупка недвижимости'\n",
      " 'покупка коммерческой недвижимости' 'покупка жилой недвижимости'\n",
      " 'строительство собственной недвижимости' 'недвижимость'\n",
      " 'строительство недвижимости' 'на покупку подержанного автомобиля'\n",
      " 'на покупку своего автомобиля' 'операции с коммерческой недвижимостью'\n",
      " 'строительство жилой недвижимости' 'жилье'\n",
      " 'операции со своей недвижимостью' 'автомобили' 'заняться образованием'\n",
      " 'сделка с подержанным автомобилем' 'получение образования' 'автомобиль'\n",
      " 'свадьба' 'получение дополнительного образования' 'покупка своего жилья'\n",
      " 'операции с недвижимостью' 'получение высшего образования'\n",
      " 'свой автомобиль' 'сделка с автомобилем' 'профильное образование'\n",
      " 'высшее образование' 'покупка жилья для сдачи' 'на покупку автомобиля'\n",
      " 'ремонт жилью' 'заняться высшим образованием']\n"
     ]
    }
   ],
   "source": [
    "# уникальные значения столбца \n",
    "\n",
    "print(data['purpose'].unique())"
   ]
  },
  {
   "cell_type": "markdown",
   "id": "771f139b",
   "metadata": {},
   "source": [
    "Да мы убедились, что одинаковые цели сформулированны по-разному, пока что оставим все как есть. Все данные указанны в нижнем регистре, работать с ними можно."
   ]
  },
  {
   "cell_type": "markdown",
   "id": "fc488e30",
   "metadata": {},
   "source": [
    "### Шаг 2.3. Изменение типов данных.\n",
    "\n",
    "Мы заполнили пропущенные значения медианами по столбцам, выявили аномалии и исправили их, выявили ошибки в данных, привели все данные к общему для столбца регистру.\n",
    "\n",
    "Давайте выведим таблицу на экран и изучим ее на предмет, какие типы данных нам изменить, для улучшения исследования.\n",
    "\n",
    "В исследовании нам нужно проверить [4 гипотезы](#description), для этого нам нужны данные из следующих столбцов:\n",
    "\n",
    "* `children` — количество детей в семье\n",
    "* `family_status` — семейное положение\n",
    "* `family_status_id` — идентификатор семейного положения\n",
    "* `debt` — имел ли задолженность по возврату кредитов\n",
    "* `total_income` — ежемесячный доход\n",
    "* `purpose` — цель получения кредита"
   ]
  },
  {
   "cell_type": "code",
   "execution_count": 31,
   "id": "4c393760",
   "metadata": {},
   "outputs": [
    {
     "data": {
      "text/html": [
       "<div>\n",
       "<style scoped>\n",
       "    .dataframe tbody tr th:only-of-type {\n",
       "        vertical-align: middle;\n",
       "    }\n",
       "\n",
       "    .dataframe tbody tr th {\n",
       "        vertical-align: top;\n",
       "    }\n",
       "\n",
       "    .dataframe thead th {\n",
       "        text-align: right;\n",
       "    }\n",
       "</style>\n",
       "<table border=\"1\" class=\"dataframe\">\n",
       "  <thead>\n",
       "    <tr style=\"text-align: right;\">\n",
       "      <th></th>\n",
       "      <th>children</th>\n",
       "      <th>days_employed</th>\n",
       "      <th>dob_years</th>\n",
       "      <th>education</th>\n",
       "      <th>education_id</th>\n",
       "      <th>family_status</th>\n",
       "      <th>family_status_id</th>\n",
       "      <th>gender</th>\n",
       "      <th>income_type</th>\n",
       "      <th>debt</th>\n",
       "      <th>total_income</th>\n",
       "      <th>purpose</th>\n",
       "    </tr>\n",
       "  </thead>\n",
       "  <tbody>\n",
       "    <tr>\n",
       "      <th>0</th>\n",
       "      <td>1.0</td>\n",
       "      <td>5952.000000</td>\n",
       "      <td>42.0</td>\n",
       "      <td>высшее</td>\n",
       "      <td>0</td>\n",
       "      <td>женат / замужем</td>\n",
       "      <td>0</td>\n",
       "      <td>F</td>\n",
       "      <td>сотрудник</td>\n",
       "      <td>0</td>\n",
       "      <td>253875.639453</td>\n",
       "      <td>покупка жилья</td>\n",
       "    </tr>\n",
       "    <tr>\n",
       "      <th>1</th>\n",
       "      <td>1.0</td>\n",
       "      <td>4024.803754</td>\n",
       "      <td>36.0</td>\n",
       "      <td>среднее</td>\n",
       "      <td>1</td>\n",
       "      <td>женат / замужем</td>\n",
       "      <td>0</td>\n",
       "      <td>F</td>\n",
       "      <td>сотрудник</td>\n",
       "      <td>0</td>\n",
       "      <td>112080.014102</td>\n",
       "      <td>приобретение автомобиля</td>\n",
       "    </tr>\n",
       "    <tr>\n",
       "      <th>2</th>\n",
       "      <td>0.0</td>\n",
       "      <td>3720.000000</td>\n",
       "      <td>33.0</td>\n",
       "      <td>среднее</td>\n",
       "      <td>1</td>\n",
       "      <td>женат / замужем</td>\n",
       "      <td>0</td>\n",
       "      <td>M</td>\n",
       "      <td>сотрудник</td>\n",
       "      <td>0</td>\n",
       "      <td>145885.952297</td>\n",
       "      <td>покупка жилья</td>\n",
       "    </tr>\n",
       "    <tr>\n",
       "      <th>3</th>\n",
       "      <td>3.0</td>\n",
       "      <td>3472.000000</td>\n",
       "      <td>32.0</td>\n",
       "      <td>среднее</td>\n",
       "      <td>1</td>\n",
       "      <td>женат / замужем</td>\n",
       "      <td>0</td>\n",
       "      <td>M</td>\n",
       "      <td>сотрудник</td>\n",
       "      <td>0</td>\n",
       "      <td>267628.550329</td>\n",
       "      <td>дополнительное образование</td>\n",
       "    </tr>\n",
       "    <tr>\n",
       "      <th>4</th>\n",
       "      <td>0.0</td>\n",
       "      <td>8680.000000</td>\n",
       "      <td>53.0</td>\n",
       "      <td>среднее</td>\n",
       "      <td>1</td>\n",
       "      <td>гражданский брак</td>\n",
       "      <td>1</td>\n",
       "      <td>F</td>\n",
       "      <td>пенсионер</td>\n",
       "      <td>0</td>\n",
       "      <td>158616.077870</td>\n",
       "      <td>сыграть свадьбу</td>\n",
       "    </tr>\n",
       "  </tbody>\n",
       "</table>\n",
       "</div>"
      ],
      "text/plain": [
       "   children  days_employed  dob_years education  education_id  \\\n",
       "0       1.0    5952.000000       42.0    высшее             0   \n",
       "1       1.0    4024.803754       36.0   среднее             1   \n",
       "2       0.0    3720.000000       33.0   среднее             1   \n",
       "3       3.0    3472.000000       32.0   среднее             1   \n",
       "4       0.0    8680.000000       53.0   среднее             1   \n",
       "\n",
       "      family_status  family_status_id gender income_type  debt   total_income  \\\n",
       "0   женат / замужем                 0      F   сотрудник     0  253875.639453   \n",
       "1   женат / замужем                 0      F   сотрудник     0  112080.014102   \n",
       "2   женат / замужем                 0      M   сотрудник     0  145885.952297   \n",
       "3   женат / замужем                 0      M   сотрудник     0  267628.550329   \n",
       "4  гражданский брак                 1      F   пенсионер     0  158616.077870   \n",
       "\n",
       "                      purpose  \n",
       "0               покупка жилья  \n",
       "1     приобретение автомобиля  \n",
       "2               покупка жилья  \n",
       "3  дополнительное образование  \n",
       "4             сыграть свадьбу  "
      ]
     },
     "execution_count": 31,
     "metadata": {},
     "output_type": "execute_result"
    }
   ],
   "source": [
    "# выведим общую таблицу на экран\n",
    "\n",
    "data.head()"
   ]
  },
  {
   "cell_type": "markdown",
   "id": "0ab40ad1",
   "metadata": {},
   "source": [
    "Из тех столбцов, что нам необходимы для исследования, я предлагаю изменить тип данных в столбцах `children` и `total_income` на **целочисленный**, в дальнейшем с такими данными будет удобнее работать. Остальные уже данные приведены к общему регистру."
   ]
  },
  {
   "cell_type": "code",
   "execution_count": 32,
   "id": "87771b7d",
   "metadata": {},
   "outputs": [],
   "source": [
    "# Заменим вещественный тип данных в столбцах на целочисленный\n",
    "\n",
    "\n",
    "data['children'] = data['children'].astype('int')\n",
    "data['total_income'] = data['total_income'].astype('int')"
   ]
  },
  {
   "cell_type": "markdown",
   "id": "986404c1",
   "metadata": {},
   "source": [
    "### Шаг 2.4. Удаление дубликатов.\n",
    "\n",
    "Проверим все данные на наличие явных дубликатов."
   ]
  },
  {
   "cell_type": "code",
   "execution_count": 33,
   "id": "83f91c9a",
   "metadata": {},
   "outputs": [
    {
     "data": {
      "text/plain": [
       "71"
      ]
     },
     "execution_count": 33,
     "metadata": {},
     "output_type": "execute_result"
    }
   ],
   "source": [
    "# проверим данные на дубликаты\n",
    "\n",
    "data.duplicated().sum()"
   ]
  },
  {
   "cell_type": "markdown",
   "id": "bd2c3b40",
   "metadata": {},
   "source": [
    "**71** дубликат, давайте их удалим, и перезапишем индексы.\n"
   ]
  },
  {
   "cell_type": "code",
   "execution_count": 34,
   "id": "b62c6269",
   "metadata": {},
   "outputs": [
    {
     "data": {
      "text/plain": [
       "0"
      ]
     },
     "execution_count": 34,
     "metadata": {},
     "output_type": "execute_result"
    }
   ],
   "source": [
    "# удалим дубликаты и перезапишем индексы\n",
    "# снова проверим данные на дубликаты\n",
    "\n",
    "data = data.drop_duplicates().reset_index(drop=True)\n",
    "data.duplicated().sum()"
   ]
  },
  {
   "cell_type": "markdown",
   "id": "2dfeec4a",
   "metadata": {},
   "source": [
    "Удалили явные дубликаты, но на всякий случай давайте проверим столбец с ежемесячным доходом."
   ]
  },
  {
   "cell_type": "code",
   "execution_count": 35,
   "id": "69b7faa5",
   "metadata": {},
   "outputs": [
    {
     "data": {
      "text/plain": [
       "145017    2104\n",
       "139038       3\n",
       "104693       3\n",
       "172040       3\n",
       "144163       3\n",
       "          ... \n",
       "205761       1\n",
       "179138       1\n",
       "61724        1\n",
       "99269        1\n",
       "126820       1\n",
       "Name: total_income, Length: 18606, dtype: int64"
      ]
     },
     "execution_count": 35,
     "metadata": {},
     "output_type": "execute_result"
    }
   ],
   "source": [
    "# проанализируем столбец на наличие дубликатов\n",
    "\n",
    "data['total_income'].value_counts()"
   ]
  },
  {
   "cell_type": "markdown",
   "id": "a27182a5",
   "metadata": {},
   "source": [
    "Видим, что преобладает значение **145 017**, но это [медиана по столбцу](#median), а вот другие повторяющиеся значения нам интересны, конечно уровень ежемесячного дохода может совпадать у разных клиентов, но если они одного пола, возраста, у них одинаковое количество детей и семейное положение, то это уже странно :) Давайте проверим: "
   ]
  },
  {
   "cell_type": "code",
   "execution_count": 36,
   "id": "3a73db0a",
   "metadata": {},
   "outputs": [
    {
     "data": {
      "text/plain": [
       "2"
      ]
     },
     "execution_count": 36,
     "metadata": {},
     "output_type": "execute_result"
    }
   ],
   "source": [
    "# создадим df повторяющихся значений и назовем его 'doublicated_age_income' с определенными столбцами\n",
    "# удалим медиану\n",
    "# проверим неявные дубликаты и выведим их число на экран\n",
    "\n",
    "doublicated_age_income = data[['children','dob_years', 'family_status_id', 'gender','total_income']]\n",
    "doublicated_age_income = doublicated_age_income[doublicated_age_income['total_income'] != 145017]\n",
    "\n",
    "\n",
    "doublicated_age_income.duplicated().sum()"
   ]
  },
  {
   "cell_type": "markdown",
   "id": "9f922a3a",
   "metadata": {},
   "source": [
    "Мы получили **2** неявных дубликатов, это странно.\n",
    "\n",
    "Давайте получше на них взглянем:"
   ]
  },
  {
   "cell_type": "code",
   "execution_count": 37,
   "id": "34365f0e",
   "metadata": {},
   "outputs": [
    {
     "data": {
      "text/html": [
       "<div>\n",
       "<style scoped>\n",
       "    .dataframe tbody tr th:only-of-type {\n",
       "        vertical-align: middle;\n",
       "    }\n",
       "\n",
       "    .dataframe tbody tr th {\n",
       "        vertical-align: top;\n",
       "    }\n",
       "\n",
       "    .dataframe thead th {\n",
       "        text-align: right;\n",
       "    }\n",
       "</style>\n",
       "<table border=\"1\" class=\"dataframe\">\n",
       "  <thead>\n",
       "    <tr style=\"text-align: right;\">\n",
       "      <th></th>\n",
       "      <th>children</th>\n",
       "      <th>dob_years</th>\n",
       "      <th>family_status_id</th>\n",
       "      <th>gender</th>\n",
       "      <th>total_income</th>\n",
       "    </tr>\n",
       "  </thead>\n",
       "  <tbody>\n",
       "    <tr>\n",
       "      <th>7837</th>\n",
       "      <td>0</td>\n",
       "      <td>53.0</td>\n",
       "      <td>0</td>\n",
       "      <td>F</td>\n",
       "      <td>218674</td>\n",
       "    </tr>\n",
       "    <tr>\n",
       "      <th>18651</th>\n",
       "      <td>0</td>\n",
       "      <td>55.0</td>\n",
       "      <td>0</td>\n",
       "      <td>F</td>\n",
       "      <td>100524</td>\n",
       "    </tr>\n",
       "  </tbody>\n",
       "</table>\n",
       "</div>"
      ],
      "text/plain": [
       "       children  dob_years  family_status_id gender  total_income\n",
       "7837          0       53.0                 0      F        218674\n",
       "18651         0       55.0                 0      F        100524"
      ]
     },
     "execution_count": 37,
     "metadata": {},
     "output_type": "execute_result"
    }
   ],
   "source": [
    "# выведим на экран строки дубликатов \n",
    "\n",
    "doublicated_age_income.loc[doublicated_age_income.duplicated()]"
   ]
  },
  {
   "cell_type": "markdown",
   "id": "46bef64b",
   "metadata": {},
   "source": [
    "Согласитесь странно, когда все выше перечислинные критерии совпадают. Выведим данные о них из основной таблицы:\n"
   ]
  },
  {
   "cell_type": "code",
   "execution_count": 38,
   "id": "c8b8cbee",
   "metadata": {},
   "outputs": [
    {
     "name": "stdout",
     "output_type": "stream",
     "text": [
      "Данные из основной таблицы о первом дубликате:\n",
      "\n"
     ]
    },
    {
     "data": {
      "text/html": [
       "<div>\n",
       "<style scoped>\n",
       "    .dataframe tbody tr th:only-of-type {\n",
       "        vertical-align: middle;\n",
       "    }\n",
       "\n",
       "    .dataframe tbody tr th {\n",
       "        vertical-align: top;\n",
       "    }\n",
       "\n",
       "    .dataframe thead th {\n",
       "        text-align: right;\n",
       "    }\n",
       "</style>\n",
       "<table border=\"1\" class=\"dataframe\">\n",
       "  <thead>\n",
       "    <tr style=\"text-align: right;\">\n",
       "      <th></th>\n",
       "      <th>children</th>\n",
       "      <th>days_employed</th>\n",
       "      <th>dob_years</th>\n",
       "      <th>education</th>\n",
       "      <th>education_id</th>\n",
       "      <th>family_status</th>\n",
       "      <th>family_status_id</th>\n",
       "      <th>gender</th>\n",
       "      <th>income_type</th>\n",
       "      <th>debt</th>\n",
       "      <th>total_income</th>\n",
       "      <th>purpose</th>\n",
       "    </tr>\n",
       "  </thead>\n",
       "  <tbody>\n",
       "    <tr>\n",
       "      <th>6272</th>\n",
       "      <td>0</td>\n",
       "      <td>8680.0</td>\n",
       "      <td>53.0</td>\n",
       "      <td>среднее</td>\n",
       "      <td>1</td>\n",
       "      <td>женат / замужем</td>\n",
       "      <td>0</td>\n",
       "      <td>F</td>\n",
       "      <td>госслужащий</td>\n",
       "      <td>0</td>\n",
       "      <td>218674</td>\n",
       "      <td>сделка с автомобилем</td>\n",
       "    </tr>\n",
       "    <tr>\n",
       "      <th>7837</th>\n",
       "      <td>0</td>\n",
       "      <td>8680.0</td>\n",
       "      <td>53.0</td>\n",
       "      <td>высшее</td>\n",
       "      <td>0</td>\n",
       "      <td>женат / замужем</td>\n",
       "      <td>0</td>\n",
       "      <td>F</td>\n",
       "      <td>компаньон</td>\n",
       "      <td>0</td>\n",
       "      <td>218674</td>\n",
       "      <td>образование</td>\n",
       "    </tr>\n",
       "  </tbody>\n",
       "</table>\n",
       "</div>"
      ],
      "text/plain": [
       "      children  days_employed  dob_years education  education_id  \\\n",
       "6272         0         8680.0       53.0   среднее             1   \n",
       "7837         0         8680.0       53.0    высшее             0   \n",
       "\n",
       "        family_status  family_status_id gender  income_type  debt  \\\n",
       "6272  женат / замужем                 0      F  госслужащий     0   \n",
       "7837  женат / замужем                 0      F    компаньон     0   \n",
       "\n",
       "      total_income               purpose  \n",
       "6272        218674  сделка с автомобилем  \n",
       "7837        218674           образование  "
      ]
     },
     "metadata": {},
     "output_type": "display_data"
    },
    {
     "name": "stdout",
     "output_type": "stream",
     "text": [
      "\n",
      "Данные из основной таблицы о втором дубликате:\n",
      "\n"
     ]
    },
    {
     "data": {
      "text/html": [
       "<div>\n",
       "<style scoped>\n",
       "    .dataframe tbody tr th:only-of-type {\n",
       "        vertical-align: middle;\n",
       "    }\n",
       "\n",
       "    .dataframe tbody tr th {\n",
       "        vertical-align: top;\n",
       "    }\n",
       "\n",
       "    .dataframe thead th {\n",
       "        text-align: right;\n",
       "    }\n",
       "</style>\n",
       "<table border=\"1\" class=\"dataframe\">\n",
       "  <thead>\n",
       "    <tr style=\"text-align: right;\">\n",
       "      <th></th>\n",
       "      <th>children</th>\n",
       "      <th>days_employed</th>\n",
       "      <th>dob_years</th>\n",
       "      <th>education</th>\n",
       "      <th>education_id</th>\n",
       "      <th>family_status</th>\n",
       "      <th>family_status_id</th>\n",
       "      <th>gender</th>\n",
       "      <th>income_type</th>\n",
       "      <th>debt</th>\n",
       "      <th>total_income</th>\n",
       "      <th>purpose</th>\n",
       "    </tr>\n",
       "  </thead>\n",
       "  <tbody>\n",
       "    <tr>\n",
       "      <th>13890</th>\n",
       "      <td>0</td>\n",
       "      <td>9176.0</td>\n",
       "      <td>55.0</td>\n",
       "      <td>среднее</td>\n",
       "      <td>1</td>\n",
       "      <td>женат / замужем</td>\n",
       "      <td>0</td>\n",
       "      <td>F</td>\n",
       "      <td>пенсионер</td>\n",
       "      <td>0</td>\n",
       "      <td>100524</td>\n",
       "      <td>на покупку автомобиля</td>\n",
       "    </tr>\n",
       "    <tr>\n",
       "      <th>18651</th>\n",
       "      <td>0</td>\n",
       "      <td>9176.0</td>\n",
       "      <td>55.0</td>\n",
       "      <td>среднее</td>\n",
       "      <td>1</td>\n",
       "      <td>женат / замужем</td>\n",
       "      <td>0</td>\n",
       "      <td>F</td>\n",
       "      <td>компаньон</td>\n",
       "      <td>0</td>\n",
       "      <td>100524</td>\n",
       "      <td>сделка с автомобилем</td>\n",
       "    </tr>\n",
       "  </tbody>\n",
       "</table>\n",
       "</div>"
      ],
      "text/plain": [
       "       children  days_employed  dob_years education  education_id  \\\n",
       "13890         0         9176.0       55.0   среднее             1   \n",
       "18651         0         9176.0       55.0   среднее             1   \n",
       "\n",
       "         family_status  family_status_id gender income_type  debt  \\\n",
       "13890  женат / замужем                 0      F   пенсионер     0   \n",
       "18651  женат / замужем                 0      F   компаньон     0   \n",
       "\n",
       "       total_income                purpose  \n",
       "13890        100524  на покупку автомобиля  \n",
       "18651        100524   сделка с автомобилем  "
      ]
     },
     "metadata": {},
     "output_type": "display_data"
    }
   ],
   "source": [
    "print('Данные из основной таблицы о первом дубликате:')\n",
    "print()\n",
    "display(data[data['children'] == 0]\n",
    "        [data['dob_years'] == 53]\n",
    "        [data['family_status_id'] == 0]\n",
    "        [data['gender'] == 'F']\n",
    "        [data['total_income'] == 218674])\n",
    "print()\n",
    "print('Данные из основной таблицы о втором дубликате:')\n",
    "print()\n",
    "display(data[data['children'] == 0]\n",
    "        [data['dob_years'] == 55]\n",
    "        [data['family_status_id'] == 0]\n",
    "        [data['gender'] == 'F']\n",
    "        [data['total_income'] == 100524])"
   ]
  },
  {
   "cell_type": "markdown",
   "id": "691028b3",
   "metadata": {},
   "source": [
    "Давайте изучим эти дубликаты:\n",
    "\n",
    "* **Первый дубликат**:\n",
    "** женщины одного возраста, со средним образованием и обе замужем - здесь нет ничего подозрительного;\n",
    "** детей у обоих нет, тоже нормальное значение, к сожалению( ;\n",
    "** одинаковый трудовой стаж - мы же его приводили к приблизительным показателям по годам, поэтому и совпадение;\n",
    "** разный тип занятости и разные цели кредита.\n",
    "\n",
    "**Вывод**: предположим, что это два разных человека, разный тип занятости и цели кредита подталкивают нас к этому решению.\n",
    "\n",
    "* **Второй дубликат**:\n",
    "** показатели схожи с первым случаем, но смущает одинаковая, но по-разному сформулированная цель кредита и хоть и разный, но тип занятости.\n",
    "** чисто теоретически пенсионер может быть и компаньоном, почему - нет!? \n",
    "\n",
    "**Вывод** предположим, что это один и тот же человек, потому что имеет одинаковую цель приобретения кредита, и впринцепе являясь пенсионером, может быть и компаньоном.положим, что это один и тот же человек, потому что имеет одинаковую цель приобретения кредита, и впринцепе являясь пенсионером, может быть и компаньоном.\n",
    "\n",
    "**Итог**: **удалим** из основной таблицы **второй дубликат**, предположив, что это один и тот же человек, на результаты исследование удаление одной строки из таблицы это не повлияет."
   ]
  },
  {
   "cell_type": "code",
   "execution_count": 39,
   "id": "09ad2a6b",
   "metadata": {},
   "outputs": [],
   "source": [
    "# удалим по индексу второй дубликат\n",
    "\n",
    "data = data.drop(index=[18651])\n",
    "\n"
   ]
  },
  {
   "cell_type": "code",
   "execution_count": 40,
   "id": "854c442c",
   "metadata": {
    "scrolled": true
   },
   "outputs": [
    {
     "name": "stdout",
     "output_type": "stream",
     "text": [
      "\n",
      "Данные из основной таблицы о втором дубликате:\n",
      "\n"
     ]
    },
    {
     "data": {
      "text/html": [
       "<div>\n",
       "<style scoped>\n",
       "    .dataframe tbody tr th:only-of-type {\n",
       "        vertical-align: middle;\n",
       "    }\n",
       "\n",
       "    .dataframe tbody tr th {\n",
       "        vertical-align: top;\n",
       "    }\n",
       "\n",
       "    .dataframe thead th {\n",
       "        text-align: right;\n",
       "    }\n",
       "</style>\n",
       "<table border=\"1\" class=\"dataframe\">\n",
       "  <thead>\n",
       "    <tr style=\"text-align: right;\">\n",
       "      <th></th>\n",
       "      <th>children</th>\n",
       "      <th>days_employed</th>\n",
       "      <th>dob_years</th>\n",
       "      <th>education</th>\n",
       "      <th>education_id</th>\n",
       "      <th>family_status</th>\n",
       "      <th>family_status_id</th>\n",
       "      <th>gender</th>\n",
       "      <th>income_type</th>\n",
       "      <th>debt</th>\n",
       "      <th>total_income</th>\n",
       "      <th>purpose</th>\n",
       "    </tr>\n",
       "  </thead>\n",
       "  <tbody>\n",
       "    <tr>\n",
       "      <th>13890</th>\n",
       "      <td>0</td>\n",
       "      <td>9176.0</td>\n",
       "      <td>55.0</td>\n",
       "      <td>среднее</td>\n",
       "      <td>1</td>\n",
       "      <td>женат / замужем</td>\n",
       "      <td>0</td>\n",
       "      <td>F</td>\n",
       "      <td>пенсионер</td>\n",
       "      <td>0</td>\n",
       "      <td>100524</td>\n",
       "      <td>на покупку автомобиля</td>\n",
       "    </tr>\n",
       "  </tbody>\n",
       "</table>\n",
       "</div>"
      ],
      "text/plain": [
       "       children  days_employed  dob_years education  education_id  \\\n",
       "13890         0         9176.0       55.0   среднее             1   \n",
       "\n",
       "         family_status  family_status_id gender income_type  debt  \\\n",
       "13890  женат / замужем                 0      F   пенсионер     0   \n",
       "\n",
       "       total_income                purpose  \n",
       "13890        100524  на покупку автомобиля  "
      ]
     },
     "metadata": {},
     "output_type": "display_data"
    }
   ],
   "source": [
    "# выведем информацию о втором дубликате, чтобы проверить себя :)\n",
    "\n",
    "print()\n",
    "print('Данные из основной таблицы о втором дубликате:')\n",
    "print()\n",
    "display(data[data['children'] == 0]\n",
    "        [data['dob_years'] == 55]\n",
    "        [data['family_status_id'] == 0]\n",
    "        [data['gender'] == 'F']\n",
    "        [data['total_income'] == 100524])"
   ]
  },
  {
   "cell_type": "markdown",
   "id": "9b5dfb01",
   "metadata": {},
   "source": [
    "Мы удалили все явные дубликаты в таблице, проверили значения на неявные дубликаты и выявили 2. Изучив неявные дубликаты, мы удалили один, который показался нам сомнительным. Теперь данные не содержат дубликатов, можем переходить к следующему шагу."
   ]
  },
  {
   "cell_type": "markdown",
   "id": "f61544f4",
   "metadata": {},
   "source": [
    "<div class=\"alert alert-block alert-success\">\n",
    "<b>Успех:</b> Молодец, что не забыл про дубликаты.\n",
    "</div>"
   ]
  },
  {
   "cell_type": "markdown",
   "id": "d0b5d11f",
   "metadata": {},
   "source": [
    "### Шаг 2.5. Формирование дополнительных датафреймов словарей, декомпозиция исходного датафрейма.\n",
    "\n",
    "В датафрейме есть **4** столбца, в которых указаны значения и их ID, для исследования, мы создадим два новых датафрейма со столбцами:\n",
    "* `education_id` и `education` — в первом;\n",
    "* `family_status_id` и `family_status` — во втором.\n",
    "\n",
    "Затем удалим из исходного датафрейма столбцы `education` и `family_status`, оставив только их идентификаторы: `education_id` и `family_status_id`.\n",
    "\n",
    "Это упростит в дальнейшем исследование."
   ]
  },
  {
   "cell_type": "code",
   "execution_count": 41,
   "id": "f4d24912",
   "metadata": {},
   "outputs": [],
   "source": [
    "# создадим два новых датафрейма: 'education' и 'family_status'( в первом будут данные об образовании, \n",
    "# во втором данные о семейном положении)\n",
    "\n",
    "\n",
    "education = data[['education_id', 'education']]\n",
    "family_status = data[['family_status_id', 'family_status']]"
   ]
  },
  {
   "cell_type": "markdown",
   "id": "cc4992e6",
   "metadata": {},
   "source": [
    "Давайте на всякий случай подготовим документацию к этим датафреймам.\n",
    "\n",
    "**education**:\n",
    "* **Название столбцов**:\n",
    "** `education_id` - идентификатор уровня образования;\n",
    "** `education` — уровень образования клиента.\n",
    "* **Значения в столбцах**:\n",
    "** 0 - высшее;\n",
    "** 1 - среднее;\n",
    "** 2 - неоконченное высшее;\n",
    "** 3 - начальное;\n",
    "** 4 - ученая степень.\n",
    "\n",
    "\n",
    "**family_status**:\n",
    "* **Название столбцов**:\n",
    "** `family_status_id` - идентификатор семейного положения;\n",
    "** `family_status` - семейное положение.\n",
    "* **Значения в столбцах**:\n",
    "** 0 - женат / замужем;\n",
    "** 1 - гражданский брак; \n",
    "** 2 - вдовец / вдова;\n",
    "** 3 - в разводе;\n",
    "** 4 - не женат / не замужем.\n",
    "\n",
    "\n",
    "Удалим из исходного датафрейма столбцы `education` и `family_status`, оставив только их идентификаторы: `education_id` и `family_status_id`.\n",
    "\n",
    "\n",
    "\n",
    "\n",
    "\n"
   ]
  },
  {
   "cell_type": "code",
   "execution_count": 42,
   "id": "1f124d4d",
   "metadata": {},
   "outputs": [],
   "source": [
    "# удалим из датафрейма столбец с образованием и столбец с семейным положением\n",
    "\n",
    "data = data.drop(['education', 'family_status'], axis=1)"
   ]
  },
  {
   "cell_type": "markdown",
   "id": "5609b39f",
   "metadata": {},
   "source": [
    "### Шаг 2.6. Категоризация дохода.\n",
    "\n",
    "Создадим новый столбец `total_income_category`, в котором сделаем категоризацию дохода по следующим условиям:\n",
    "\n",
    "* доходу в диапазоне **0 – 30 000** — присвоим категорию **E**;\n",
    "* доходу в диапазоне **30 001 – 50 000** — присвоим категорию **D**;\n",
    "* доходу в диапазоне **50 001 – 200 000** — присвоим категорию **C**;\n",
    "* доходу в диапазоне **200 001 – 1 000 000** — присвоим категорию **B**;\n",
    "* доходу в диапазоне **1 000 001 и выше** — присвоим категорию **A**."
   ]
  },
  {
   "cell_type": "code",
   "execution_count": 43,
   "id": "22413a7a",
   "metadata": {},
   "outputs": [
    {
     "data": {
      "text/html": [
       "<div>\n",
       "<style scoped>\n",
       "    .dataframe tbody tr th:only-of-type {\n",
       "        vertical-align: middle;\n",
       "    }\n",
       "\n",
       "    .dataframe tbody tr th {\n",
       "        vertical-align: top;\n",
       "    }\n",
       "\n",
       "    .dataframe thead th {\n",
       "        text-align: right;\n",
       "    }\n",
       "</style>\n",
       "<table border=\"1\" class=\"dataframe\">\n",
       "  <thead>\n",
       "    <tr style=\"text-align: right;\">\n",
       "      <th></th>\n",
       "      <th>children</th>\n",
       "      <th>days_employed</th>\n",
       "      <th>dob_years</th>\n",
       "      <th>education_id</th>\n",
       "      <th>family_status_id</th>\n",
       "      <th>gender</th>\n",
       "      <th>income_type</th>\n",
       "      <th>debt</th>\n",
       "      <th>total_income</th>\n",
       "      <th>purpose</th>\n",
       "      <th>total_income_category</th>\n",
       "    </tr>\n",
       "  </thead>\n",
       "  <tbody>\n",
       "    <tr>\n",
       "      <th>0</th>\n",
       "      <td>1</td>\n",
       "      <td>5952.000000</td>\n",
       "      <td>42.0</td>\n",
       "      <td>0</td>\n",
       "      <td>0</td>\n",
       "      <td>F</td>\n",
       "      <td>сотрудник</td>\n",
       "      <td>0</td>\n",
       "      <td>253875</td>\n",
       "      <td>покупка жилья</td>\n",
       "      <td>B</td>\n",
       "    </tr>\n",
       "    <tr>\n",
       "      <th>1</th>\n",
       "      <td>1</td>\n",
       "      <td>4024.803754</td>\n",
       "      <td>36.0</td>\n",
       "      <td>1</td>\n",
       "      <td>0</td>\n",
       "      <td>F</td>\n",
       "      <td>сотрудник</td>\n",
       "      <td>0</td>\n",
       "      <td>112080</td>\n",
       "      <td>приобретение автомобиля</td>\n",
       "      <td>C</td>\n",
       "    </tr>\n",
       "    <tr>\n",
       "      <th>2</th>\n",
       "      <td>0</td>\n",
       "      <td>3720.000000</td>\n",
       "      <td>33.0</td>\n",
       "      <td>1</td>\n",
       "      <td>0</td>\n",
       "      <td>M</td>\n",
       "      <td>сотрудник</td>\n",
       "      <td>0</td>\n",
       "      <td>145885</td>\n",
       "      <td>покупка жилья</td>\n",
       "      <td>C</td>\n",
       "    </tr>\n",
       "    <tr>\n",
       "      <th>3</th>\n",
       "      <td>3</td>\n",
       "      <td>3472.000000</td>\n",
       "      <td>32.0</td>\n",
       "      <td>1</td>\n",
       "      <td>0</td>\n",
       "      <td>M</td>\n",
       "      <td>сотрудник</td>\n",
       "      <td>0</td>\n",
       "      <td>267628</td>\n",
       "      <td>дополнительное образование</td>\n",
       "      <td>B</td>\n",
       "    </tr>\n",
       "    <tr>\n",
       "      <th>4</th>\n",
       "      <td>0</td>\n",
       "      <td>8680.000000</td>\n",
       "      <td>53.0</td>\n",
       "      <td>1</td>\n",
       "      <td>1</td>\n",
       "      <td>F</td>\n",
       "      <td>пенсионер</td>\n",
       "      <td>0</td>\n",
       "      <td>158616</td>\n",
       "      <td>сыграть свадьбу</td>\n",
       "      <td>C</td>\n",
       "    </tr>\n",
       "    <tr>\n",
       "      <th>...</th>\n",
       "      <td>...</td>\n",
       "      <td>...</td>\n",
       "      <td>...</td>\n",
       "      <td>...</td>\n",
       "      <td>...</td>\n",
       "      <td>...</td>\n",
       "      <td>...</td>\n",
       "      <td>...</td>\n",
       "      <td>...</td>\n",
       "      <td>...</td>\n",
       "      <td>...</td>\n",
       "    </tr>\n",
       "    <tr>\n",
       "      <th>21449</th>\n",
       "      <td>1</td>\n",
       "      <td>4529.316663</td>\n",
       "      <td>43.0</td>\n",
       "      <td>1</td>\n",
       "      <td>1</td>\n",
       "      <td>F</td>\n",
       "      <td>компаньон</td>\n",
       "      <td>0</td>\n",
       "      <td>224791</td>\n",
       "      <td>операции с жильем</td>\n",
       "      <td>B</td>\n",
       "    </tr>\n",
       "    <tr>\n",
       "      <th>21450</th>\n",
       "      <td>0</td>\n",
       "      <td>12152.000000</td>\n",
       "      <td>67.0</td>\n",
       "      <td>1</td>\n",
       "      <td>0</td>\n",
       "      <td>F</td>\n",
       "      <td>пенсионер</td>\n",
       "      <td>0</td>\n",
       "      <td>155999</td>\n",
       "      <td>сделка с автомобилем</td>\n",
       "      <td>C</td>\n",
       "    </tr>\n",
       "    <tr>\n",
       "      <th>21451</th>\n",
       "      <td>1</td>\n",
       "      <td>2113.346888</td>\n",
       "      <td>38.0</td>\n",
       "      <td>1</td>\n",
       "      <td>1</td>\n",
       "      <td>M</td>\n",
       "      <td>сотрудник</td>\n",
       "      <td>1</td>\n",
       "      <td>89672</td>\n",
       "      <td>недвижимость</td>\n",
       "      <td>C</td>\n",
       "    </tr>\n",
       "    <tr>\n",
       "      <th>21452</th>\n",
       "      <td>3</td>\n",
       "      <td>3112.481705</td>\n",
       "      <td>38.0</td>\n",
       "      <td>1</td>\n",
       "      <td>0</td>\n",
       "      <td>M</td>\n",
       "      <td>сотрудник</td>\n",
       "      <td>1</td>\n",
       "      <td>244093</td>\n",
       "      <td>на покупку своего автомобиля</td>\n",
       "      <td>B</td>\n",
       "    </tr>\n",
       "    <tr>\n",
       "      <th>21453</th>\n",
       "      <td>2</td>\n",
       "      <td>1984.507589</td>\n",
       "      <td>40.0</td>\n",
       "      <td>1</td>\n",
       "      <td>0</td>\n",
       "      <td>F</td>\n",
       "      <td>сотрудник</td>\n",
       "      <td>0</td>\n",
       "      <td>82047</td>\n",
       "      <td>на покупку автомобиля</td>\n",
       "      <td>C</td>\n",
       "    </tr>\n",
       "  </tbody>\n",
       "</table>\n",
       "<p>21453 rows × 11 columns</p>\n",
       "</div>"
      ],
      "text/plain": [
       "       children  days_employed  dob_years  education_id  family_status_id  \\\n",
       "0             1    5952.000000       42.0             0                 0   \n",
       "1             1    4024.803754       36.0             1                 0   \n",
       "2             0    3720.000000       33.0             1                 0   \n",
       "3             3    3472.000000       32.0             1                 0   \n",
       "4             0    8680.000000       53.0             1                 1   \n",
       "...         ...            ...        ...           ...               ...   \n",
       "21449         1    4529.316663       43.0             1                 1   \n",
       "21450         0   12152.000000       67.0             1                 0   \n",
       "21451         1    2113.346888       38.0             1                 1   \n",
       "21452         3    3112.481705       38.0             1                 0   \n",
       "21453         2    1984.507589       40.0             1                 0   \n",
       "\n",
       "      gender income_type  debt  total_income                       purpose  \\\n",
       "0          F   сотрудник     0        253875                 покупка жилья   \n",
       "1          F   сотрудник     0        112080       приобретение автомобиля   \n",
       "2          M   сотрудник     0        145885                 покупка жилья   \n",
       "3          M   сотрудник     0        267628    дополнительное образование   \n",
       "4          F   пенсионер     0        158616               сыграть свадьбу   \n",
       "...      ...         ...   ...           ...                           ...   \n",
       "21449      F   компаньон     0        224791             операции с жильем   \n",
       "21450      F   пенсионер     0        155999          сделка с автомобилем   \n",
       "21451      M   сотрудник     1         89672                  недвижимость   \n",
       "21452      M   сотрудник     1        244093  на покупку своего автомобиля   \n",
       "21453      F   сотрудник     0         82047         на покупку автомобиля   \n",
       "\n",
       "      total_income_category  \n",
       "0                         B  \n",
       "1                         C  \n",
       "2                         C  \n",
       "3                         B  \n",
       "4                         C  \n",
       "...                     ...  \n",
       "21449                     B  \n",
       "21450                     C  \n",
       "21451                     C  \n",
       "21452                     B  \n",
       "21453                     C  \n",
       "\n",
       "[21453 rows x 11 columns]"
      ]
     },
     "metadata": {},
     "output_type": "display_data"
    },
    {
     "data": {
      "text/plain": [
       "array(['A', 'B', 'C', 'D', 'E'], dtype=object)"
      ]
     },
     "execution_count": 43,
     "metadata": {},
     "output_type": "execute_result"
    }
   ],
   "source": [
    "# напишем функци income_category которая добавит новый столбец в датафрейм и категоризирует доход по указанным выше условиям\n",
    "# выведим обновленный датафрейм на экран и проверим\n",
    "# выведим уникальные значения столбца 'total_income_category' и проверим данные\n",
    "\n",
    "\n",
    "def income_category(row):\n",
    "    total_income = row['total_income']\n",
    "    \n",
    "    if 0 <= total_income <= 30000:\n",
    "        return 'E'\n",
    "    elif 30001 <= total_income <= 50000:\n",
    "        return 'D'\n",
    "    elif 50001 <= total_income <= 200000:\n",
    "        return 'C'\n",
    "    elif 200001 <= total_income <= 1000000:\n",
    "        return 'B'\n",
    "    elif total_income >= 1000001:\n",
    "        return 'A'\n",
    "    return 'error'\n",
    "\n",
    "data['total_income_category'] = data.apply(income_category, axis=1)\n",
    "display(data)\n",
    "data['total_income_category'].sort_values().unique()\n",
    "\n",
    "    \n",
    "    \n",
    "    \n",
    "    "
   ]
  },
  {
   "cell_type": "markdown",
   "id": "83122ea5",
   "metadata": {},
   "source": [
    "\n",
    "\n",
    "\n",
    "\n",
    "\n",
    "\n",
    "\n",
    "\n"
   ]
  },
  {
   "cell_type": "markdown",
   "id": "e360e325",
   "metadata": {},
   "source": [
    "Мы успешно добавили новый столбец `total_income_category` с категорией дохода, на всякий случай проверили его уникальные значения на ошибки, ничего не обнаружили, теперь можем переходить к следующему шагу.\n",
    "\n",
    "\n",
    "\n"
   ]
  },
  {
   "cell_type": "markdown",
   "id": "20092038",
   "metadata": {},
   "source": [
    "### Шаг 2.7. Категоризация целей кредита.\n",
    "\n",
    "Еще ранее, при поиске дубликатов, мы обратили внимание на то, что **цели кредита записаны в произвольной форме**, поэтому одни и те же цели могут быть **сформулированы по-разному**, так работать с данными неудобно, поэтому и здесь мы применим категоризацию данных, как и ранее, но уже для столбца `purpose`.\n",
    "\n",
    "Здесь дела обстоят посложне, чтобы нам сделать категоризацию столбца `purpose`, нам потребуется узнать начальную, словарную форму слова, и отталкиваясь от этих форм при категоризации.\n",
    "\n",
    "\n"
   ]
  },
  {
   "cell_type": "code",
   "execution_count": 44,
   "id": "57859b8f",
   "metadata": {},
   "outputs": [
    {
     "data": {
      "text/plain": [
       "['покупка',\n",
       " ' ',\n",
       " 'жилье',\n",
       " ', ',\n",
       " 'приобретение',\n",
       " ' ',\n",
       " 'автомобиль',\n",
       " ', ',\n",
       " 'дополнительный',\n",
       " ' ',\n",
       " 'образование',\n",
       " ', ',\n",
       " 'сыграть',\n",
       " ' ',\n",
       " 'свадьба',\n",
       " ', ',\n",
       " 'операция',\n",
       " ' ',\n",
       " 'с',\n",
       " ' ',\n",
       " 'жилье',\n",
       " ', ',\n",
       " 'образование',\n",
       " ', ',\n",
       " 'на',\n",
       " ' ',\n",
       " 'проведение',\n",
       " ' ',\n",
       " 'свадьба',\n",
       " ', ',\n",
       " 'покупка',\n",
       " ' ',\n",
       " 'жилье',\n",
       " ' ',\n",
       " 'для',\n",
       " ' ',\n",
       " 'семья',\n",
       " ', ',\n",
       " 'покупка',\n",
       " ' ',\n",
       " 'недвижимость',\n",
       " ', ',\n",
       " 'покупка',\n",
       " ' ',\n",
       " 'коммерческий',\n",
       " ' ',\n",
       " 'недвижимость',\n",
       " ', ',\n",
       " 'покупка',\n",
       " ' ',\n",
       " 'жилой',\n",
       " ' ',\n",
       " 'недвижимость',\n",
       " ', ',\n",
       " 'строительство',\n",
       " ' ',\n",
       " 'собственный',\n",
       " ' ',\n",
       " 'недвижимость',\n",
       " ', ',\n",
       " 'недвижимость',\n",
       " ', ',\n",
       " 'строительство',\n",
       " ' ',\n",
       " 'недвижимость',\n",
       " ', ',\n",
       " 'на',\n",
       " ' ',\n",
       " 'покупка',\n",
       " ' ',\n",
       " 'подержать',\n",
       " ' ',\n",
       " 'автомобиль',\n",
       " ', ',\n",
       " 'на',\n",
       " ' ',\n",
       " 'покупка',\n",
       " ' ',\n",
       " 'свой',\n",
       " ' ',\n",
       " 'автомобиль',\n",
       " ', ',\n",
       " 'операция',\n",
       " ' ',\n",
       " 'с',\n",
       " ' ',\n",
       " 'коммерческий',\n",
       " ' ',\n",
       " 'недвижимость',\n",
       " ', ',\n",
       " 'строительство',\n",
       " ' ',\n",
       " 'жилой',\n",
       " ' ',\n",
       " 'недвижимость',\n",
       " ', ',\n",
       " 'жилье',\n",
       " ', ',\n",
       " 'операция',\n",
       " ' ',\n",
       " 'со',\n",
       " ' ',\n",
       " 'свой',\n",
       " ' ',\n",
       " 'недвижимость',\n",
       " ', ',\n",
       " 'автомобиль',\n",
       " ', ',\n",
       " 'заниматься',\n",
       " ' ',\n",
       " 'образование',\n",
       " ', ',\n",
       " 'сделка',\n",
       " ' ',\n",
       " 'с',\n",
       " ' ',\n",
       " 'подержать',\n",
       " ' ',\n",
       " 'автомобиль',\n",
       " ', ',\n",
       " 'получение',\n",
       " ' ',\n",
       " 'образование',\n",
       " ', ',\n",
       " 'автомобиль',\n",
       " ', ',\n",
       " 'свадьба',\n",
       " ', ',\n",
       " 'получение',\n",
       " ' ',\n",
       " 'дополнительный',\n",
       " ' ',\n",
       " 'образование',\n",
       " ', ',\n",
       " 'покупка',\n",
       " ' ',\n",
       " 'свой',\n",
       " ' ',\n",
       " 'жилье',\n",
       " ', ',\n",
       " 'операция',\n",
       " ' ',\n",
       " 'с',\n",
       " ' ',\n",
       " 'недвижимость',\n",
       " ', ',\n",
       " 'получение',\n",
       " ' ',\n",
       " 'высокий',\n",
       " ' ',\n",
       " 'образование',\n",
       " ', ',\n",
       " 'свой',\n",
       " ' ',\n",
       " 'автомобиль',\n",
       " ', ',\n",
       " 'сделка',\n",
       " ' ',\n",
       " 'с',\n",
       " ' ',\n",
       " 'автомобиль',\n",
       " ', ',\n",
       " 'профильный',\n",
       " ' ',\n",
       " 'образование',\n",
       " ', ',\n",
       " 'высокий',\n",
       " ' ',\n",
       " 'образование',\n",
       " ', ',\n",
       " 'покупка',\n",
       " ' ',\n",
       " 'жилье',\n",
       " ' ',\n",
       " 'для',\n",
       " ' ',\n",
       " 'сдача',\n",
       " ', ',\n",
       " 'на',\n",
       " ' ',\n",
       " 'покупка',\n",
       " ' ',\n",
       " 'автомобиль',\n",
       " ', ',\n",
       " 'ремонт',\n",
       " ' ',\n",
       " 'жилье',\n",
       " ', ',\n",
       " 'заниматься',\n",
       " ' ',\n",
       " 'высокий',\n",
       " ' ',\n",
       " 'образование',\n",
       " '\\n']"
      ]
     },
     "execution_count": 44,
     "metadata": {},
     "output_type": "execute_result"
    }
   ],
   "source": [
    "# создадим word_purpose с уникальными значениями столбца data['purpose']\n",
    "# создадим список lemma_purpose со словами из word_purpose приведенными к лемме\n",
    "# выведем на экран lemma_purpose, чтобы вручную выделить самые частые существительные\n",
    "\n",
    "\n",
    "word_purpose = data['purpose']\n",
    "word_purpose = word_purpose.unique()\n",
    "word_purpose\n",
    "lemma_purpose = ', '.join(word_purpose)\n",
    "lemma_purpose = m.lemmatize(lemma_purpose)\n",
    "lemma_purpose"
   ]
  },
  {
   "cell_type": "markdown",
   "id": "542c4174",
   "metadata": {},
   "source": [
    "Мы получили список уникальных значений столбца `purpose` приведенных к лемме, теперь давайте выделим (вручную) из этого списка самые частые существительные, именно они и будут основой категоризации.\n",
    "\n",
    "#### У нас получились следующие категории:\n",
    "\n",
    "1. `'операции с автомобилем'`     - основой будет **автомобил**;\n",
    "2. `'операции с недвижимостью'`   - основой будут **жиль** и **недвижимост**;\n",
    "3. `'проведение свадьбы'`         - основой будет **свадьб**;\n",
    "4. `'получение образования'`      - основой будет **образовани**.\n",
    "\n",
    "\n",
    "Теперь давайте добавим новый столбец `purpose_category` в котором все цели будут разделены на 4 категории.\n"
   ]
  },
  {
   "cell_type": "code",
   "execution_count": 45,
   "id": "4e69021b",
   "metadata": {},
   "outputs": [
    {
     "name": "stdout",
     "output_type": "stream",
     "text": [
      "Выведим датафрейд на экран:\n"
     ]
    },
    {
     "data": {
      "text/html": [
       "<div>\n",
       "<style scoped>\n",
       "    .dataframe tbody tr th:only-of-type {\n",
       "        vertical-align: middle;\n",
       "    }\n",
       "\n",
       "    .dataframe tbody tr th {\n",
       "        vertical-align: top;\n",
       "    }\n",
       "\n",
       "    .dataframe thead th {\n",
       "        text-align: right;\n",
       "    }\n",
       "</style>\n",
       "<table border=\"1\" class=\"dataframe\">\n",
       "  <thead>\n",
       "    <tr style=\"text-align: right;\">\n",
       "      <th></th>\n",
       "      <th>children</th>\n",
       "      <th>days_employed</th>\n",
       "      <th>dob_years</th>\n",
       "      <th>education_id</th>\n",
       "      <th>family_status_id</th>\n",
       "      <th>gender</th>\n",
       "      <th>income_type</th>\n",
       "      <th>debt</th>\n",
       "      <th>total_income</th>\n",
       "      <th>purpose</th>\n",
       "      <th>total_income_category</th>\n",
       "      <th>purpose_category</th>\n",
       "    </tr>\n",
       "  </thead>\n",
       "  <tbody>\n",
       "    <tr>\n",
       "      <th>0</th>\n",
       "      <td>1</td>\n",
       "      <td>5952.000000</td>\n",
       "      <td>42.0</td>\n",
       "      <td>0</td>\n",
       "      <td>0</td>\n",
       "      <td>F</td>\n",
       "      <td>сотрудник</td>\n",
       "      <td>0</td>\n",
       "      <td>253875</td>\n",
       "      <td>покупка жилья</td>\n",
       "      <td>B</td>\n",
       "      <td>операции с недвижимостью</td>\n",
       "    </tr>\n",
       "    <tr>\n",
       "      <th>1</th>\n",
       "      <td>1</td>\n",
       "      <td>4024.803754</td>\n",
       "      <td>36.0</td>\n",
       "      <td>1</td>\n",
       "      <td>0</td>\n",
       "      <td>F</td>\n",
       "      <td>сотрудник</td>\n",
       "      <td>0</td>\n",
       "      <td>112080</td>\n",
       "      <td>приобретение автомобиля</td>\n",
       "      <td>C</td>\n",
       "      <td>операции с автомобилем</td>\n",
       "    </tr>\n",
       "    <tr>\n",
       "      <th>2</th>\n",
       "      <td>0</td>\n",
       "      <td>3720.000000</td>\n",
       "      <td>33.0</td>\n",
       "      <td>1</td>\n",
       "      <td>0</td>\n",
       "      <td>M</td>\n",
       "      <td>сотрудник</td>\n",
       "      <td>0</td>\n",
       "      <td>145885</td>\n",
       "      <td>покупка жилья</td>\n",
       "      <td>C</td>\n",
       "      <td>операции с недвижимостью</td>\n",
       "    </tr>\n",
       "    <tr>\n",
       "      <th>3</th>\n",
       "      <td>3</td>\n",
       "      <td>3472.000000</td>\n",
       "      <td>32.0</td>\n",
       "      <td>1</td>\n",
       "      <td>0</td>\n",
       "      <td>M</td>\n",
       "      <td>сотрудник</td>\n",
       "      <td>0</td>\n",
       "      <td>267628</td>\n",
       "      <td>дополнительное образование</td>\n",
       "      <td>B</td>\n",
       "      <td>получение образования</td>\n",
       "    </tr>\n",
       "    <tr>\n",
       "      <th>4</th>\n",
       "      <td>0</td>\n",
       "      <td>8680.000000</td>\n",
       "      <td>53.0</td>\n",
       "      <td>1</td>\n",
       "      <td>1</td>\n",
       "      <td>F</td>\n",
       "      <td>пенсионер</td>\n",
       "      <td>0</td>\n",
       "      <td>158616</td>\n",
       "      <td>сыграть свадьбу</td>\n",
       "      <td>C</td>\n",
       "      <td>проведение свадьбы</td>\n",
       "    </tr>\n",
       "    <tr>\n",
       "      <th>...</th>\n",
       "      <td>...</td>\n",
       "      <td>...</td>\n",
       "      <td>...</td>\n",
       "      <td>...</td>\n",
       "      <td>...</td>\n",
       "      <td>...</td>\n",
       "      <td>...</td>\n",
       "      <td>...</td>\n",
       "      <td>...</td>\n",
       "      <td>...</td>\n",
       "      <td>...</td>\n",
       "      <td>...</td>\n",
       "    </tr>\n",
       "    <tr>\n",
       "      <th>21449</th>\n",
       "      <td>1</td>\n",
       "      <td>4529.316663</td>\n",
       "      <td>43.0</td>\n",
       "      <td>1</td>\n",
       "      <td>1</td>\n",
       "      <td>F</td>\n",
       "      <td>компаньон</td>\n",
       "      <td>0</td>\n",
       "      <td>224791</td>\n",
       "      <td>операции с жильем</td>\n",
       "      <td>B</td>\n",
       "      <td>операции с недвижимостью</td>\n",
       "    </tr>\n",
       "    <tr>\n",
       "      <th>21450</th>\n",
       "      <td>0</td>\n",
       "      <td>12152.000000</td>\n",
       "      <td>67.0</td>\n",
       "      <td>1</td>\n",
       "      <td>0</td>\n",
       "      <td>F</td>\n",
       "      <td>пенсионер</td>\n",
       "      <td>0</td>\n",
       "      <td>155999</td>\n",
       "      <td>сделка с автомобилем</td>\n",
       "      <td>C</td>\n",
       "      <td>операции с автомобилем</td>\n",
       "    </tr>\n",
       "    <tr>\n",
       "      <th>21451</th>\n",
       "      <td>1</td>\n",
       "      <td>2113.346888</td>\n",
       "      <td>38.0</td>\n",
       "      <td>1</td>\n",
       "      <td>1</td>\n",
       "      <td>M</td>\n",
       "      <td>сотрудник</td>\n",
       "      <td>1</td>\n",
       "      <td>89672</td>\n",
       "      <td>недвижимость</td>\n",
       "      <td>C</td>\n",
       "      <td>операции с недвижимостью</td>\n",
       "    </tr>\n",
       "    <tr>\n",
       "      <th>21452</th>\n",
       "      <td>3</td>\n",
       "      <td>3112.481705</td>\n",
       "      <td>38.0</td>\n",
       "      <td>1</td>\n",
       "      <td>0</td>\n",
       "      <td>M</td>\n",
       "      <td>сотрудник</td>\n",
       "      <td>1</td>\n",
       "      <td>244093</td>\n",
       "      <td>на покупку своего автомобиля</td>\n",
       "      <td>B</td>\n",
       "      <td>операции с автомобилем</td>\n",
       "    </tr>\n",
       "    <tr>\n",
       "      <th>21453</th>\n",
       "      <td>2</td>\n",
       "      <td>1984.507589</td>\n",
       "      <td>40.0</td>\n",
       "      <td>1</td>\n",
       "      <td>0</td>\n",
       "      <td>F</td>\n",
       "      <td>сотрудник</td>\n",
       "      <td>0</td>\n",
       "      <td>82047</td>\n",
       "      <td>на покупку автомобиля</td>\n",
       "      <td>C</td>\n",
       "      <td>операции с автомобилем</td>\n",
       "    </tr>\n",
       "  </tbody>\n",
       "</table>\n",
       "<p>21453 rows × 12 columns</p>\n",
       "</div>"
      ],
      "text/plain": [
       "       children  days_employed  dob_years  education_id  family_status_id  \\\n",
       "0             1    5952.000000       42.0             0                 0   \n",
       "1             1    4024.803754       36.0             1                 0   \n",
       "2             0    3720.000000       33.0             1                 0   \n",
       "3             3    3472.000000       32.0             1                 0   \n",
       "4             0    8680.000000       53.0             1                 1   \n",
       "...         ...            ...        ...           ...               ...   \n",
       "21449         1    4529.316663       43.0             1                 1   \n",
       "21450         0   12152.000000       67.0             1                 0   \n",
       "21451         1    2113.346888       38.0             1                 1   \n",
       "21452         3    3112.481705       38.0             1                 0   \n",
       "21453         2    1984.507589       40.0             1                 0   \n",
       "\n",
       "      gender income_type  debt  total_income                       purpose  \\\n",
       "0          F   сотрудник     0        253875                 покупка жилья   \n",
       "1          F   сотрудник     0        112080       приобретение автомобиля   \n",
       "2          M   сотрудник     0        145885                 покупка жилья   \n",
       "3          M   сотрудник     0        267628    дополнительное образование   \n",
       "4          F   пенсионер     0        158616               сыграть свадьбу   \n",
       "...      ...         ...   ...           ...                           ...   \n",
       "21449      F   компаньон     0        224791             операции с жильем   \n",
       "21450      F   пенсионер     0        155999          сделка с автомобилем   \n",
       "21451      M   сотрудник     1         89672                  недвижимость   \n",
       "21452      M   сотрудник     1        244093  на покупку своего автомобиля   \n",
       "21453      F   сотрудник     0         82047         на покупку автомобиля   \n",
       "\n",
       "      total_income_category          purpose_category  \n",
       "0                         B  операции с недвижимостью  \n",
       "1                         C    операции с автомобилем  \n",
       "2                         C  операции с недвижимостью  \n",
       "3                         B     получение образования  \n",
       "4                         C        проведение свадьбы  \n",
       "...                     ...                       ...  \n",
       "21449                     B  операции с недвижимостью  \n",
       "21450                     C    операции с автомобилем  \n",
       "21451                     C  операции с недвижимостью  \n",
       "21452                     B    операции с автомобилем  \n",
       "21453                     C    операции с автомобилем  \n",
       "\n",
       "[21453 rows x 12 columns]"
      ]
     },
     "metadata": {},
     "output_type": "display_data"
    },
    {
     "name": "stdout",
     "output_type": "stream",
     "text": [
      "\n",
      "Выведим уникальные значения столбца <purpose_category>\n"
     ]
    },
    {
     "data": {
      "text/plain": [
       "array(['операции с недвижимостью', 'операции с автомобилем',\n",
       "       'получение образования', 'проведение свадьбы'], dtype=object)"
      ]
     },
     "execution_count": 45,
     "metadata": {},
     "output_type": "execute_result"
    }
   ],
   "source": [
    "# напишем функцию 'purpose_category' которая добавит в датафрейм новый столбец, где у всех целей будет всего 4 категории,\n",
    "# эта функция пробежится по столбцу 'purpose' и присвоит каждому значению свою категорию\n",
    "# применим функцию к датафрейму и создадим новый столбец 'purpose_category'\n",
    "# выведим на экран датафрейм и проверим новый столбец 'purpose_category'\n",
    "# выведим на экран уникальные значения нового столбца 'purpose_category'\n",
    "\n",
    "def purpose_category(row):\n",
    "    purpose = row['purpose']\n",
    "    \n",
    "    if 'автомобил' in purpose:\n",
    "        return 'операции с автомобилем'\n",
    "    elif 'жиль' in purpose or 'недвижимост' in purpose:\n",
    "        return 'операции с недвижимостью'\n",
    "    elif 'свадьб' in purpose:\n",
    "        return 'проведение свадьбы'\n",
    "    elif 'образовани' in purpose:\n",
    "        return 'получение образования'\n",
    "    return 'категория не определена!'\n",
    "\n",
    "data['purpose_category'] = data.apply(purpose_category, axis=1)\n",
    "\n",
    "print('Выведим датафрейд на экран:')\n",
    "display(data)\n",
    "print()\n",
    "print('Выведим уникальные значения столбца <purpose_category>')\n",
    "data['purpose_category'].unique()\n",
    "\n",
    "\n"
   ]
  },
  {
   "cell_type": "markdown",
   "id": "58f3d32a",
   "metadata": {},
   "source": [
    "### Вывод:\n",
    "\n",
    "Мы сделали, следующее:\n",
    "1. исправили пропущенные значения в данных на медианы по столбцам;\n",
    "2. привели все данные к общему регистру в столбцах;\n",
    "3. проверили данные на аномалии и исправили их;\n",
    "4. удалили лишние для исследования столбцы из основного датафрейма.\n",
    "5. создали два \"словаря\" из удаленных столбцах, в которых каждое значение привязано к своему ID-номеру;\n",
    "6. сделали категоризацию необходимых для исследования данных.\n",
    "\n",
    "Теперь мы можем приступать непосредственно к самому исследованию и ответить на следующие **вопросы**:\n",
    "\n",
    "* есть ли **зависимость между количеством детей и возвратом кредита** в срок?\n",
    "* есть ли **зависимость между семейным положением и возвратом кредита** в срок?\n",
    "* есть ли **зависимость между уровнем дохода и возвратом кредита** в срок?\n",
    "* как разные **цели кредита влияют на его возврат** в срок?"
   ]
  },
  {
   "cell_type": "markdown",
   "id": "f3b9e1b3",
   "metadata": {},
   "source": [
    "### Ответы на вопросы."
   ]
  },
  {
   "cell_type": "markdown",
   "id": "d97e339b",
   "metadata": {},
   "source": [
    "##### Вопрос 1: Есть ли зависимость между количеством детей и возвратом кредита в срок?\n",
    "\n",
    "Давайте проверим и выведим на экран сводную таблицу."
   ]
  },
  {
   "cell_type": "code",
   "execution_count": 46,
   "id": "b25b40be",
   "metadata": {},
   "outputs": [
    {
     "data": {
      "text/html": [
       "<div>\n",
       "<style scoped>\n",
       "    .dataframe tbody tr th:only-of-type {\n",
       "        vertical-align: middle;\n",
       "    }\n",
       "\n",
       "    .dataframe tbody tr th {\n",
       "        vertical-align: top;\n",
       "    }\n",
       "\n",
       "    .dataframe thead tr th {\n",
       "        text-align: left;\n",
       "    }\n",
       "\n",
       "    .dataframe thead tr:last-of-type th {\n",
       "        text-align: right;\n",
       "    }\n",
       "</style>\n",
       "<table border=\"1\" class=\"dataframe\">\n",
       "  <thead>\n",
       "    <tr>\n",
       "      <th></th>\n",
       "      <th>sum</th>\n",
       "      <th>count</th>\n",
       "      <th>mean</th>\n",
       "    </tr>\n",
       "    <tr>\n",
       "      <th></th>\n",
       "      <th>debt</th>\n",
       "      <th>debt</th>\n",
       "      <th>debt</th>\n",
       "    </tr>\n",
       "    <tr>\n",
       "      <th>children</th>\n",
       "      <th></th>\n",
       "      <th></th>\n",
       "      <th></th>\n",
       "    </tr>\n",
       "  </thead>\n",
       "  <tbody>\n",
       "    <tr>\n",
       "      <th>0</th>\n",
       "      <td>1063</td>\n",
       "      <td>14090</td>\n",
       "      <td>0.075444</td>\n",
       "    </tr>\n",
       "    <tr>\n",
       "      <th>1</th>\n",
       "      <td>445</td>\n",
       "      <td>4855</td>\n",
       "      <td>0.091658</td>\n",
       "    </tr>\n",
       "    <tr>\n",
       "      <th>2</th>\n",
       "      <td>202</td>\n",
       "      <td>2128</td>\n",
       "      <td>0.094925</td>\n",
       "    </tr>\n",
       "    <tr>\n",
       "      <th>3</th>\n",
       "      <td>27</td>\n",
       "      <td>330</td>\n",
       "      <td>0.081818</td>\n",
       "    </tr>\n",
       "    <tr>\n",
       "      <th>4</th>\n",
       "      <td>4</td>\n",
       "      <td>41</td>\n",
       "      <td>0.097561</td>\n",
       "    </tr>\n",
       "    <tr>\n",
       "      <th>5</th>\n",
       "      <td>0</td>\n",
       "      <td>9</td>\n",
       "      <td>0.000000</td>\n",
       "    </tr>\n",
       "  </tbody>\n",
       "</table>\n",
       "</div>"
      ],
      "text/plain": [
       "           sum  count      mean\n",
       "          debt   debt      debt\n",
       "children                       \n",
       "0         1063  14090  0.075444\n",
       "1          445   4855  0.091658\n",
       "2          202   2128  0.094925\n",
       "3           27    330  0.081818\n",
       "4            4     41  0.097561\n",
       "5            0      9  0.000000"
      ]
     },
     "execution_count": 46,
     "metadata": {},
     "output_type": "execute_result"
    }
   ],
   "source": [
    "# выведим на экран сводную таблицу, где будет группировка количества детей и значения столбца 'debt'\n",
    "\n",
    "data.pivot_table(index='children',values='debt', aggfunc=['sum', 'count', 'mean'])"
   ]
  },
  {
   "cell_type": "markdown",
   "id": "d27bba82",
   "metadata": {},
   "source": [
    "##### Вывод 1:\n",
    "\n",
    "Изучив сводную таблицу, мы видим:\n",
    "1. все семьи с **5** детьми - возвращают кредиты в срок;\n",
    "2. семьи с **4** детьми - хуже всех возвращают кредиты в срок;\n",
    "3. отсортируем по уровню возвращения кредита в срок, где начало - лучше всех отдают кредиты, а конец - хуже всех:\n",
    "* семьи с **5** детьми;\n",
    "* семьи без детей;\n",
    "* семьи с **3** детьми;\n",
    "* семьи с **1** ребенком;\n",
    "* семьи с **2** детьми.\n",
    "* семьи с **4** детьми.\n",
    "4. примерно **7,5%** семей без детей - не возвращают кредиты в срок;\n",
    "5. примерно **9%** семей с **1** ребенком - не возвращают кредиты в срок;\n",
    "6. примерно **9,5%** семей с **2** детьми - не возвращают кредиты в срок;\n",
    "7. примерно **8%** семей с **3** детьми - не возвращают кредиты в срок;\n",
    "8. примерно **9,75%** семей с **4** детьми - не возвращают кредиты в срок. \n",
    "\n",
    "**Есть зависимость между количеством детей и возвратом кредита в срок, но она в диапазоне примерно 2%.**\n"
   ]
  },
  {
   "cell_type": "markdown",
   "id": "d0ca0250",
   "metadata": {},
   "source": [
    "##### Вопрос 2: Есть ли зависимость между семейным положением и возвратом кредита в срок?\n",
    "\n",
    "Давайте проверим и выведим на экран сводную таблицу."
   ]
  },
  {
   "cell_type": "code",
   "execution_count": 47,
   "id": "b13cf34f",
   "metadata": {},
   "outputs": [
    {
     "data": {
      "text/html": [
       "<div>\n",
       "<style scoped>\n",
       "    .dataframe tbody tr th:only-of-type {\n",
       "        vertical-align: middle;\n",
       "    }\n",
       "\n",
       "    .dataframe tbody tr th {\n",
       "        vertical-align: top;\n",
       "    }\n",
       "\n",
       "    .dataframe thead tr th {\n",
       "        text-align: left;\n",
       "    }\n",
       "\n",
       "    .dataframe thead tr:last-of-type th {\n",
       "        text-align: right;\n",
       "    }\n",
       "</style>\n",
       "<table border=\"1\" class=\"dataframe\">\n",
       "  <thead>\n",
       "    <tr>\n",
       "      <th></th>\n",
       "      <th>sum</th>\n",
       "      <th>count</th>\n",
       "      <th>mean</th>\n",
       "    </tr>\n",
       "    <tr>\n",
       "      <th></th>\n",
       "      <th>debt</th>\n",
       "      <th>debt</th>\n",
       "      <th>debt</th>\n",
       "    </tr>\n",
       "    <tr>\n",
       "      <th>family_status_id</th>\n",
       "      <th></th>\n",
       "      <th></th>\n",
       "      <th></th>\n",
       "    </tr>\n",
       "  </thead>\n",
       "  <tbody>\n",
       "    <tr>\n",
       "      <th>0</th>\n",
       "      <td>931</td>\n",
       "      <td>12338</td>\n",
       "      <td>0.075458</td>\n",
       "    </tr>\n",
       "    <tr>\n",
       "      <th>1</th>\n",
       "      <td>388</td>\n",
       "      <td>4151</td>\n",
       "      <td>0.093471</td>\n",
       "    </tr>\n",
       "    <tr>\n",
       "      <th>2</th>\n",
       "      <td>63</td>\n",
       "      <td>959</td>\n",
       "      <td>0.065693</td>\n",
       "    </tr>\n",
       "    <tr>\n",
       "      <th>3</th>\n",
       "      <td>85</td>\n",
       "      <td>1195</td>\n",
       "      <td>0.071130</td>\n",
       "    </tr>\n",
       "    <tr>\n",
       "      <th>4</th>\n",
       "      <td>274</td>\n",
       "      <td>2810</td>\n",
       "      <td>0.097509</td>\n",
       "    </tr>\n",
       "  </tbody>\n",
       "</table>\n",
       "</div>"
      ],
      "text/plain": [
       "                  sum  count      mean\n",
       "                 debt   debt      debt\n",
       "family_status_id                      \n",
       "0                 931  12338  0.075458\n",
       "1                 388   4151  0.093471\n",
       "2                  63    959  0.065693\n",
       "3                  85   1195  0.071130\n",
       "4                 274   2810  0.097509"
      ]
     },
     "execution_count": 47,
     "metadata": {},
     "output_type": "execute_result"
    }
   ],
   "source": [
    "# выведим на экран сводную таблицу, где будет группировка по семейному положению и значения столбца 'debt\n",
    "\n",
    "data.pivot_table(index='family_status_id', values='debt', aggfunc=['sum', 'count', 'mean'])"
   ]
  },
  {
   "cell_type": "markdown",
   "id": "245be246",
   "metadata": {},
   "source": [
    "**Значения в `family_status_id`**:\n",
    "* 0 - женат / замужем;\n",
    "* 1 - гражданский брак; \n",
    "* 2 - вдовец / вдова;\n",
    "* 3 - в разводе;\n",
    "* 4 - не женат / не замужем.\n",
    "\n",
    "##### Вывод 2:\n",
    "\n",
    "Изучив сводную таблицу, мы видим:\n",
    "1. **вдовец / вдова** - **лучше всех** возвращают кредиты в срок;\n",
    "2. **не женат / не замужем** - **хуже всех** возвращают кредиты в срок;\n",
    "3. отсортируем по уровню возвращения кредита в срок, где начало - лучше всех отдают кредиты, а конец - хуже всех:\n",
    "* вдовец / вдова;\n",
    "* в разводе;\n",
    "* женат / замужем;\n",
    "* гражданский брак; \n",
    "* не женат / не замужем.\n",
    "4. примерно **7,5%** со статусом **'женат / замужем'** не отдают кредиты в срок;\n",
    "5. примерно **9,3%** со статусом **'гражданский брак'** не отдают кредиты в срок;\n",
    "6. примерно **6,5%** со статусом **'вдовец / вдова'** не отдают кредиты в срок;\n",
    "7. примерно **7%** со статусом **'в разводе'** не отдают кредиты в срок;\n",
    "8. примерно **9,75%** со статусом **'не женат / не замужем'** не отдают кредиты в срок.\n",
    "\n",
    "**Есть зависимость между семейным положением и возвратом кредита в срок, но она в диапазоне примерно 3%.**"
   ]
  },
  {
   "cell_type": "markdown",
   "id": "f5e1b02d",
   "metadata": {},
   "source": [
    "##### Вопрос 3: Есть ли зависимость между уровнем дохода и возвратом кредита в срок?\n",
    "\n",
    "Давайте проверим и выведим на экран сводную таблицу.\n"
   ]
  },
  {
   "cell_type": "code",
   "execution_count": 48,
   "id": "46d0deef",
   "metadata": {},
   "outputs": [
    {
     "data": {
      "text/html": [
       "<div>\n",
       "<style scoped>\n",
       "    .dataframe tbody tr th:only-of-type {\n",
       "        vertical-align: middle;\n",
       "    }\n",
       "\n",
       "    .dataframe tbody tr th {\n",
       "        vertical-align: top;\n",
       "    }\n",
       "\n",
       "    .dataframe thead tr th {\n",
       "        text-align: left;\n",
       "    }\n",
       "\n",
       "    .dataframe thead tr:last-of-type th {\n",
       "        text-align: right;\n",
       "    }\n",
       "</style>\n",
       "<table border=\"1\" class=\"dataframe\">\n",
       "  <thead>\n",
       "    <tr>\n",
       "      <th></th>\n",
       "      <th>sum</th>\n",
       "      <th>count</th>\n",
       "      <th>mean</th>\n",
       "    </tr>\n",
       "    <tr>\n",
       "      <th></th>\n",
       "      <th>debt</th>\n",
       "      <th>debt</th>\n",
       "      <th>debt</th>\n",
       "    </tr>\n",
       "    <tr>\n",
       "      <th>total_income_category</th>\n",
       "      <th></th>\n",
       "      <th></th>\n",
       "      <th></th>\n",
       "    </tr>\n",
       "  </thead>\n",
       "  <tbody>\n",
       "    <tr>\n",
       "      <th>A</th>\n",
       "      <td>2</td>\n",
       "      <td>25</td>\n",
       "      <td>0.080000</td>\n",
       "    </tr>\n",
       "    <tr>\n",
       "      <th>B</th>\n",
       "      <td>356</td>\n",
       "      <td>5041</td>\n",
       "      <td>0.070621</td>\n",
       "    </tr>\n",
       "    <tr>\n",
       "      <th>C</th>\n",
       "      <td>1360</td>\n",
       "      <td>16015</td>\n",
       "      <td>0.084920</td>\n",
       "    </tr>\n",
       "    <tr>\n",
       "      <th>D</th>\n",
       "      <td>21</td>\n",
       "      <td>350</td>\n",
       "      <td>0.060000</td>\n",
       "    </tr>\n",
       "    <tr>\n",
       "      <th>E</th>\n",
       "      <td>2</td>\n",
       "      <td>22</td>\n",
       "      <td>0.090909</td>\n",
       "    </tr>\n",
       "  </tbody>\n",
       "</table>\n",
       "</div>"
      ],
      "text/plain": [
       "                        sum  count      mean\n",
       "                       debt   debt      debt\n",
       "total_income_category                       \n",
       "A                         2     25  0.080000\n",
       "B                       356   5041  0.070621\n",
       "C                      1360  16015  0.084920\n",
       "D                        21    350  0.060000\n",
       "E                         2     22  0.090909"
      ]
     },
     "execution_count": 48,
     "metadata": {},
     "output_type": "execute_result"
    }
   ],
   "source": [
    "# выведим на экран сводную таблицу, где будет группировка по уровню дохода и значения столбца 'debt\n",
    "\n",
    "data.pivot_table(index='total_income_category', values='debt', aggfunc=['sum', 'count', 'mean'])"
   ]
  },
  {
   "cell_type": "markdown",
   "id": "cf7917bb",
   "metadata": {},
   "source": [
    "**Значения в `total_income_category`**:\n",
    "* доходу в диапазоне **0 – 30 000** — присвоим категорию **E**;\n",
    "* доходу в диапазоне **30 001 – 50 000** — присвоим категорию **D**;\n",
    "* доходу в диапазоне **50 001 – 200 000** — присвоим категорию **C**;\n",
    "* доходу в диапазоне **200 001 – 1 000 000** — присвоим категорию **B**;\n",
    "* доходу в диапазоне **1 000 001 и выше** — присвоим категорию **A**.\n",
    "\n",
    "##### Вывод 3:\n",
    "\n",
    "Изучив сводную таблицу, мы видим:\n",
    "1. **лучше всех** отдают кредиты граждане с категорией дохода - **D**;\n",
    "2. **хуже всех** отдают кредиты граждане с категорией дохода - **E**;\n",
    "3. отсортируем по уровню возвращения кредита в срок, где начало - лучше всех отдают кредиты, а конец - хуже всех:\n",
    "* категория **D** и с доходом в диапазоне **30 001 – 50 000**;\n",
    "* категория **B** и с доходом в диапазоне **200 001 – 1 000 000**;\n",
    "* категория **A** и с доходом в диапазоне **1 000 001 и выше**;\n",
    "* категория **C** и с доходом в диапазоне **50 001 – 200 000**;\n",
    "* категория **E** и с доходом в диапазоне **0 – 30 000**;\n",
    "4. примерно **8%** клиентов с категорией дохода **A** не отдают кредиты в срок;\n",
    "5. примерно **7%** клиентов с категорией дохода **B** не отдают кредиты в срок;\n",
    "6. примерно **8,5%** клиентов с категорией дохода **C** не отдают кредиты в срок;\n",
    "7. примерно **6%** клиентов с категорией дохода **D** не отдают кредиты в срок;\n",
    "8. примерно **9%** клиентов с категорией дохода **E** не отдают кредиты в срок.\n",
    "\n",
    "**Есть зависимость между категорией дохода и возвратом кредита в срок, но она в диапазоне примерно 4%.**"
   ]
  },
  {
   "cell_type": "markdown",
   "id": "423f3e37",
   "metadata": {},
   "source": [
    "##### Вопрос 4: Как разные цели кредита влияют на его возврат в срок?\n",
    "Давайте проверим и выведим на экран сводную таблицу."
   ]
  },
  {
   "cell_type": "code",
   "execution_count": 49,
   "id": "d79c5b77",
   "metadata": {},
   "outputs": [
    {
     "data": {
      "text/html": [
       "<div>\n",
       "<style scoped>\n",
       "    .dataframe tbody tr th:only-of-type {\n",
       "        vertical-align: middle;\n",
       "    }\n",
       "\n",
       "    .dataframe tbody tr th {\n",
       "        vertical-align: top;\n",
       "    }\n",
       "\n",
       "    .dataframe thead tr th {\n",
       "        text-align: left;\n",
       "    }\n",
       "\n",
       "    .dataframe thead tr:last-of-type th {\n",
       "        text-align: right;\n",
       "    }\n",
       "</style>\n",
       "<table border=\"1\" class=\"dataframe\">\n",
       "  <thead>\n",
       "    <tr>\n",
       "      <th></th>\n",
       "      <th>sum</th>\n",
       "      <th>count</th>\n",
       "      <th>mean</th>\n",
       "    </tr>\n",
       "    <tr>\n",
       "      <th></th>\n",
       "      <th>debt</th>\n",
       "      <th>debt</th>\n",
       "      <th>debt</th>\n",
       "    </tr>\n",
       "    <tr>\n",
       "      <th>purpose_category</th>\n",
       "      <th></th>\n",
       "      <th></th>\n",
       "      <th></th>\n",
       "    </tr>\n",
       "  </thead>\n",
       "  <tbody>\n",
       "    <tr>\n",
       "      <th>операции с автомобилем</th>\n",
       "      <td>403</td>\n",
       "      <td>4305</td>\n",
       "      <td>0.093612</td>\n",
       "    </tr>\n",
       "    <tr>\n",
       "      <th>операции с недвижимостью</th>\n",
       "      <td>782</td>\n",
       "      <td>10811</td>\n",
       "      <td>0.072334</td>\n",
       "    </tr>\n",
       "    <tr>\n",
       "      <th>получение образования</th>\n",
       "      <td>370</td>\n",
       "      <td>4013</td>\n",
       "      <td>0.092200</td>\n",
       "    </tr>\n",
       "    <tr>\n",
       "      <th>проведение свадьбы</th>\n",
       "      <td>186</td>\n",
       "      <td>2324</td>\n",
       "      <td>0.080034</td>\n",
       "    </tr>\n",
       "  </tbody>\n",
       "</table>\n",
       "</div>"
      ],
      "text/plain": [
       "                          sum  count      mean\n",
       "                         debt   debt      debt\n",
       "purpose_category                              \n",
       "операции с автомобилем    403   4305  0.093612\n",
       "операции с недвижимостью  782  10811  0.072334\n",
       "получение образования     370   4013  0.092200\n",
       "проведение свадьбы        186   2324  0.080034"
      ]
     },
     "execution_count": 49,
     "metadata": {},
     "output_type": "execute_result"
    }
   ],
   "source": [
    "# выведим на экран сводную таблицу, где будет группировка по целям кредита и значения столбца 'debt\n",
    "\n",
    "data.pivot_table(index='purpose_category', values='debt', aggfunc=['sum', 'count', 'mean'])"
   ]
  },
  {
   "cell_type": "markdown",
   "id": "3554adf9",
   "metadata": {},
   "source": [
    "##### Вывод 4:\n",
    "\n",
    "Изучив сводную таблицу, мы видим:\n",
    "1. кредиты с целью **'операции с недвижимостью'** выплачиваются **лучше всех**;\n",
    "2. кредиты с целью **'операции с автомобилем'** выплачиваются **хуже всех**;\n",
    "3. отсортируем по уровню возвращения кредита в срок, где начало - лучше всех отдают кредиты, а конец - хуже всех:\n",
    "* 'операции с недвижимостью'\n",
    "* 'проведение свадьбы'\n",
    "* 'получение образования'\n",
    "* 'операции с автомобилем'\n",
    "4. примерно **9,3%** клиентов бравшие кредит с целью **операции с автомобилем** не отдают кредиты в срок;\n",
    "5. примерно **7,2%** клиентов бравшие кредит с целью **операции с недвижимостью** не отдают кредиты в срок;\n",
    "6. примерно **9,2%** клиентов бравшие кредит с целью **получение образования** не отдают кредиты в срок;\n",
    "7. примерно **8%** клиентов бравшие кредит с целью **проведение свадьбы** не отдают кредиты в срок.\n",
    "\n",
    "**Разные цели кредита влияют на его возврат в срок, но в диапазоне всего 2%**\n"
   ]
  },
  {
   "cell_type": "markdown",
   "id": "bb07e91b",
   "metadata": {},
   "source": [
    "## Общий вывод:"
   ]
  },
  {
   "cell_type": "markdown",
   "id": "1fe24225",
   "metadata": {},
   "source": [
    "Изучив примерно **21 000** данных по клиентам, и проверив 4 гипотезы, мы можем заключиться следующие выводы:\n",
    "\n",
    "Лучше всех кредиты отдают следующие категории граждан:\n",
    "1. Семьи без детей или с пятью детьми;\n",
    "2. У которых семейное положение - 'вдовец / вдова';\n",
    "3. Ежемесячный доход у которых в диапазоне 30 001 – 50 000 рублей;\n",
    "4. И бравшие кредит на 'операции с недвижимостью'\n",
    "\n",
    "Что касается проверки гипотез, взаимосвязь присутствует, но не прямая.\n",
    "\n",
    "**Исследование окончено!**\n"
   ]
  }
 ],
 "metadata": {
  "ExecuteTimeLog": [
   {
    "duration": 574,
    "start_time": "2022-02-16T08:53:21.174Z"
   },
   {
    "duration": 3,
    "start_time": "2022-02-16T08:53:37.771Z"
   },
   {
    "duration": 64,
    "start_time": "2022-02-16T08:55:44.149Z"
   },
   {
    "duration": 40,
    "start_time": "2022-02-16T08:56:05.957Z"
   },
   {
    "duration": 2,
    "start_time": "2022-02-16T08:57:35.277Z"
   },
   {
    "duration": 42,
    "start_time": "2022-02-16T08:57:36.900Z"
   },
   {
    "duration": 3,
    "start_time": "2022-02-16T08:57:37.125Z"
   },
   {
    "duration": 12,
    "start_time": "2022-02-16T08:57:55.445Z"
   },
   {
    "duration": 13,
    "start_time": "2022-02-16T08:58:37.094Z"
   },
   {
    "duration": 44,
    "start_time": "2022-02-16T08:58:42.470Z"
   },
   {
    "duration": 13,
    "start_time": "2022-02-16T08:58:42.637Z"
   },
   {
    "duration": 12,
    "start_time": "2022-02-16T08:58:58.310Z"
   },
   {
    "duration": 10,
    "start_time": "2022-02-16T09:01:20.263Z"
   },
   {
    "duration": 12,
    "start_time": "2022-02-16T09:02:33.169Z"
   },
   {
    "duration": 13,
    "start_time": "2022-02-16T09:02:40.440Z"
   },
   {
    "duration": 12,
    "start_time": "2022-02-16T09:47:31.445Z"
   },
   {
    "duration": 21,
    "start_time": "2022-02-16T09:47:48.933Z"
   },
   {
    "duration": 12,
    "start_time": "2022-02-16T09:48:47.110Z"
   },
   {
    "duration": 11,
    "start_time": "2022-02-16T09:48:47.292Z"
   },
   {
    "duration": 319,
    "start_time": "2022-02-16T10:58:46.851Z"
   },
   {
    "duration": 10,
    "start_time": "2022-02-16T11:09:26.106Z"
   },
   {
    "duration": 181,
    "start_time": "2022-02-16T11:12:00.293Z"
   },
   {
    "duration": 12,
    "start_time": "2022-02-16T11:12:26.874Z"
   },
   {
    "duration": 47,
    "start_time": "2022-02-16T11:39:26.781Z"
   },
   {
    "duration": 13,
    "start_time": "2022-02-16T11:39:26.958Z"
   },
   {
    "duration": 43,
    "start_time": "2022-02-16T11:39:36.109Z"
   },
   {
    "duration": 13,
    "start_time": "2022-02-16T11:39:36.333Z"
   },
   {
    "duration": 13,
    "start_time": "2022-02-16T11:39:37.653Z"
   },
   {
    "duration": 11,
    "start_time": "2022-02-16T11:40:52.318Z"
   },
   {
    "duration": 9,
    "start_time": "2022-02-16T11:40:57.206Z"
   },
   {
    "duration": 10,
    "start_time": "2022-02-16T11:41:03.454Z"
   },
   {
    "duration": 55,
    "start_time": "2022-02-16T11:41:16.694Z"
   },
   {
    "duration": 7,
    "start_time": "2022-02-16T11:41:20.781Z"
   },
   {
    "duration": 18,
    "start_time": "2022-02-16T11:54:12.211Z"
   },
   {
    "duration": 10,
    "start_time": "2022-02-16T11:54:21.396Z"
   },
   {
    "duration": 10,
    "start_time": "2022-02-16T11:55:44.443Z"
   },
   {
    "duration": 8,
    "start_time": "2022-02-16T13:09:05.099Z"
   },
   {
    "duration": 6,
    "start_time": "2022-02-16T13:09:14.251Z"
   },
   {
    "duration": 187,
    "start_time": "2022-02-16T13:09:25.477Z"
   },
   {
    "duration": 5,
    "start_time": "2022-02-16T13:09:30.821Z"
   },
   {
    "duration": 6,
    "start_time": "2022-02-16T13:12:02.974Z"
   },
   {
    "duration": 5,
    "start_time": "2022-02-16T13:12:17.445Z"
   },
   {
    "duration": 26,
    "start_time": "2022-02-16T13:14:20.006Z"
   },
   {
    "duration": 6,
    "start_time": "2022-02-16T13:14:38.881Z"
   },
   {
    "duration": 67,
    "start_time": "2022-02-16T13:26:05.124Z"
   },
   {
    "duration": 64,
    "start_time": "2022-02-16T13:26:13.723Z"
   },
   {
    "duration": 60,
    "start_time": "2022-02-16T13:26:28.099Z"
   },
   {
    "duration": 21,
    "start_time": "2022-02-16T13:26:54.147Z"
   },
   {
    "duration": 20,
    "start_time": "2022-02-16T13:27:44.285Z"
   },
   {
    "duration": 24,
    "start_time": "2022-02-16T13:29:45.438Z"
   },
   {
    "duration": 183,
    "start_time": "2022-02-16T13:29:55.317Z"
   },
   {
    "duration": 60,
    "start_time": "2022-02-16T13:30:15.302Z"
   },
   {
    "duration": 60,
    "start_time": "2022-02-16T13:30:31.460Z"
   },
   {
    "duration": 20,
    "start_time": "2022-02-16T13:30:40.342Z"
   },
   {
    "duration": 33,
    "start_time": "2022-02-16T13:37:24.663Z"
   },
   {
    "duration": 24,
    "start_time": "2022-02-16T13:37:43.896Z"
   },
   {
    "duration": 24,
    "start_time": "2022-02-16T13:41:11.929Z"
   },
   {
    "duration": 39,
    "start_time": "2022-02-16T13:41:19.328Z"
   },
   {
    "duration": 10,
    "start_time": "2022-02-16T13:44:27.954Z"
   },
   {
    "duration": 12,
    "start_time": "2022-02-16T13:44:41.001Z"
   },
   {
    "duration": 46,
    "start_time": "2022-02-16T13:45:23.901Z"
   },
   {
    "duration": 12,
    "start_time": "2022-02-16T13:45:23.948Z"
   },
   {
    "duration": 16,
    "start_time": "2022-02-16T13:45:23.962Z"
   },
   {
    "duration": 10,
    "start_time": "2022-02-16T13:45:23.980Z"
   },
   {
    "duration": 33,
    "start_time": "2022-02-16T14:22:41.319Z"
   },
   {
    "duration": 34,
    "start_time": "2022-02-16T14:22:51.298Z"
   },
   {
    "duration": 28,
    "start_time": "2022-02-16T14:22:58.770Z"
   },
   {
    "duration": 200,
    "start_time": "2022-02-16T14:25:41.034Z"
   },
   {
    "duration": 46,
    "start_time": "2022-02-16T14:26:51.906Z"
   },
   {
    "duration": 33,
    "start_time": "2022-02-16T14:28:04.307Z"
   },
   {
    "duration": 44,
    "start_time": "2022-02-16T14:29:01.265Z"
   },
   {
    "duration": 11,
    "start_time": "2022-02-16T14:29:01.311Z"
   },
   {
    "duration": 13,
    "start_time": "2022-02-16T14:29:01.324Z"
   },
   {
    "duration": 9,
    "start_time": "2022-02-16T14:29:01.339Z"
   },
   {
    "duration": 27,
    "start_time": "2022-02-16T14:29:01.350Z"
   },
   {
    "duration": 42,
    "start_time": "2022-02-16T14:29:49.610Z"
   },
   {
    "duration": 12,
    "start_time": "2022-02-16T14:29:49.654Z"
   },
   {
    "duration": 12,
    "start_time": "2022-02-16T14:29:49.668Z"
   },
   {
    "duration": 9,
    "start_time": "2022-02-16T14:29:49.682Z"
   },
   {
    "duration": 52,
    "start_time": "2022-02-16T14:29:49.692Z"
   },
   {
    "duration": 20,
    "start_time": "2022-02-16T14:38:15.857Z"
   },
   {
    "duration": 20,
    "start_time": "2022-02-16T14:40:06.361Z"
   },
   {
    "duration": 19,
    "start_time": "2022-02-16T14:40:52.273Z"
   },
   {
    "duration": 9,
    "start_time": "2022-02-16T14:44:51.459Z"
   },
   {
    "duration": 8,
    "start_time": "2022-02-16T14:45:18.898Z"
   },
   {
    "duration": 5,
    "start_time": "2022-02-16T14:52:06.173Z"
   },
   {
    "duration": 5,
    "start_time": "2022-02-16T14:53:16.758Z"
   },
   {
    "duration": 26,
    "start_time": "2022-02-16T14:53:41.605Z"
   },
   {
    "duration": 29,
    "start_time": "2022-02-16T15:00:31.296Z"
   },
   {
    "duration": 21,
    "start_time": "2022-02-16T15:02:01.481Z"
   },
   {
    "duration": 2,
    "start_time": "2022-02-16T15:20:21.585Z"
   },
   {
    "duration": 20,
    "start_time": "2022-02-16T15:34:01.113Z"
   },
   {
    "duration": 17,
    "start_time": "2022-02-16T15:34:05.679Z"
   },
   {
    "duration": 19,
    "start_time": "2022-02-16T15:34:06.920Z"
   },
   {
    "duration": 4,
    "start_time": "2022-02-16T15:34:36.216Z"
   },
   {
    "duration": 18,
    "start_time": "2022-02-16T15:34:36.607Z"
   },
   {
    "duration": 189,
    "start_time": "2022-02-16T15:36:54.759Z"
   },
   {
    "duration": 19,
    "start_time": "2022-02-16T15:36:54.967Z"
   },
   {
    "duration": 166,
    "start_time": "2022-02-16T15:37:02.127Z"
   },
   {
    "duration": 19,
    "start_time": "2022-02-16T15:37:02.824Z"
   },
   {
    "duration": 176,
    "start_time": "2022-02-16T15:37:23.903Z"
   },
   {
    "duration": 17,
    "start_time": "2022-02-16T15:37:24.696Z"
   },
   {
    "duration": 179,
    "start_time": "2022-02-16T15:40:05.738Z"
   },
   {
    "duration": 184,
    "start_time": "2022-02-16T15:40:30.258Z"
   },
   {
    "duration": 17,
    "start_time": "2022-02-16T15:40:35.657Z"
   },
   {
    "duration": 52,
    "start_time": "2022-02-16T15:40:42.662Z"
   },
   {
    "duration": 14,
    "start_time": "2022-02-16T15:40:42.716Z"
   },
   {
    "duration": 21,
    "start_time": "2022-02-16T15:40:42.732Z"
   },
   {
    "duration": 10,
    "start_time": "2022-02-16T15:40:42.755Z"
   },
   {
    "duration": 37,
    "start_time": "2022-02-16T15:40:42.766Z"
   },
   {
    "duration": 32,
    "start_time": "2022-02-16T15:40:42.805Z"
   },
   {
    "duration": 4,
    "start_time": "2022-02-16T15:40:42.838Z"
   },
   {
    "duration": 22,
    "start_time": "2022-02-16T15:40:42.844Z"
   },
   {
    "duration": 180,
    "start_time": "2022-02-16T15:40:50.409Z"
   },
   {
    "duration": 23,
    "start_time": "2022-02-16T15:40:50.752Z"
   },
   {
    "duration": 199,
    "start_time": "2022-02-16T15:41:14.690Z"
   },
   {
    "duration": 18,
    "start_time": "2022-02-16T15:41:15.578Z"
   },
   {
    "duration": 41,
    "start_time": "2022-02-16T15:41:24.068Z"
   },
   {
    "duration": 12,
    "start_time": "2022-02-16T15:41:24.111Z"
   },
   {
    "duration": 14,
    "start_time": "2022-02-16T15:41:24.124Z"
   },
   {
    "duration": 12,
    "start_time": "2022-02-16T15:41:24.140Z"
   },
   {
    "duration": 26,
    "start_time": "2022-02-16T15:41:24.154Z"
   },
   {
    "duration": 18,
    "start_time": "2022-02-16T15:41:24.181Z"
   },
   {
    "duration": 173,
    "start_time": "2022-02-16T15:41:24.201Z"
   },
   {
    "duration": -93723,
    "start_time": "2022-02-16T15:42:58.099Z"
   },
   {
    "duration": 173,
    "start_time": "2022-02-16T15:44:05.925Z"
   },
   {
    "duration": 18,
    "start_time": "2022-02-16T15:44:06.104Z"
   },
   {
    "duration": 182,
    "start_time": "2022-02-16T15:44:31.571Z"
   },
   {
    "duration": 18,
    "start_time": "2022-02-16T15:44:31.955Z"
   },
   {
    "duration": 43,
    "start_time": "2022-02-16T15:44:37.915Z"
   },
   {
    "duration": 12,
    "start_time": "2022-02-16T15:44:37.960Z"
   },
   {
    "duration": 10,
    "start_time": "2022-02-16T15:44:37.974Z"
   },
   {
    "duration": 9,
    "start_time": "2022-02-16T15:44:37.986Z"
   },
   {
    "duration": 48,
    "start_time": "2022-02-16T15:44:37.997Z"
   },
   {
    "duration": 19,
    "start_time": "2022-02-16T15:44:38.047Z"
   },
   {
    "duration": 3,
    "start_time": "2022-02-16T15:44:38.068Z"
   },
   {
    "duration": 18,
    "start_time": "2022-02-16T15:44:38.074Z"
   },
   {
    "duration": 58,
    "start_time": "2022-02-16T15:44:47.867Z"
   },
   {
    "duration": 17,
    "start_time": "2022-02-16T15:44:47.928Z"
   },
   {
    "duration": 17,
    "start_time": "2022-02-16T15:44:47.947Z"
   },
   {
    "duration": 11,
    "start_time": "2022-02-16T15:44:47.965Z"
   },
   {
    "duration": 28,
    "start_time": "2022-02-16T15:44:47.977Z"
   },
   {
    "duration": 44,
    "start_time": "2022-02-16T15:44:48.007Z"
   },
   {
    "duration": 170,
    "start_time": "2022-02-16T15:44:48.053Z"
   },
   {
    "duration": -93752,
    "start_time": "2022-02-16T15:46:21.977Z"
   },
   {
    "duration": 219,
    "start_time": "2022-02-16T15:52:14.215Z"
   },
   {
    "duration": 17,
    "start_time": "2022-02-16T15:52:15.529Z"
   },
   {
    "duration": 193,
    "start_time": "2022-02-16T15:52:27.982Z"
   },
   {
    "duration": 18,
    "start_time": "2022-02-16T15:52:28.726Z"
   },
   {
    "duration": 47,
    "start_time": "2022-02-16T15:52:33.473Z"
   },
   {
    "duration": 12,
    "start_time": "2022-02-16T15:52:33.522Z"
   },
   {
    "duration": 13,
    "start_time": "2022-02-16T15:52:33.536Z"
   },
   {
    "duration": 9,
    "start_time": "2022-02-16T15:52:33.551Z"
   },
   {
    "duration": 30,
    "start_time": "2022-02-16T15:52:33.562Z"
   },
   {
    "duration": 38,
    "start_time": "2022-02-16T15:52:33.593Z"
   },
   {
    "duration": 4,
    "start_time": "2022-02-16T15:52:33.633Z"
   },
   {
    "duration": 24,
    "start_time": "2022-02-16T15:52:33.638Z"
   },
   {
    "duration": 17,
    "start_time": "2022-02-16T15:52:47.840Z"
   },
   {
    "duration": 177,
    "start_time": "2022-02-16T15:52:48.166Z"
   },
   {
    "duration": 17,
    "start_time": "2022-02-16T15:52:48.782Z"
   },
   {
    "duration": 46,
    "start_time": "2022-02-16T15:52:54.133Z"
   },
   {
    "duration": 12,
    "start_time": "2022-02-16T15:52:54.181Z"
   },
   {
    "duration": 12,
    "start_time": "2022-02-16T15:52:54.195Z"
   },
   {
    "duration": 9,
    "start_time": "2022-02-16T15:52:54.208Z"
   },
   {
    "duration": 27,
    "start_time": "2022-02-16T15:52:54.230Z"
   },
   {
    "duration": 19,
    "start_time": "2022-02-16T15:52:54.258Z"
   },
   {
    "duration": 7,
    "start_time": "2022-02-16T15:52:54.278Z"
   },
   {
    "duration": 18,
    "start_time": "2022-02-16T15:52:54.287Z"
   },
   {
    "duration": 183,
    "start_time": "2022-02-16T15:52:54.330Z"
   },
   {
    "duration": -93733,
    "start_time": "2022-02-16T15:54:28.247Z"
   },
   {
    "duration": 4,
    "start_time": "2022-02-16T15:54:25.847Z"
   },
   {
    "duration": 19,
    "start_time": "2022-02-16T15:54:26.519Z"
   },
   {
    "duration": 170,
    "start_time": "2022-02-16T15:54:39.992Z"
   },
   {
    "duration": 17,
    "start_time": "2022-02-16T15:54:40.271Z"
   },
   {
    "duration": 18,
    "start_time": "2022-02-16T15:54:41.063Z"
   },
   {
    "duration": 173,
    "start_time": "2022-02-16T15:54:59.760Z"
   },
   {
    "duration": 42,
    "start_time": "2022-02-16T15:55:13.170Z"
   },
   {
    "duration": 11,
    "start_time": "2022-02-16T15:55:13.214Z"
   },
   {
    "duration": 10,
    "start_time": "2022-02-16T15:55:13.227Z"
   },
   {
    "duration": 9,
    "start_time": "2022-02-16T15:55:13.239Z"
   },
   {
    "duration": 27,
    "start_time": "2022-02-16T15:55:13.249Z"
   },
   {
    "duration": 20,
    "start_time": "2022-02-16T15:55:13.277Z"
   },
   {
    "duration": 47,
    "start_time": "2022-02-16T15:55:13.299Z"
   },
   {
    "duration": 1031,
    "start_time": "2022-02-16T15:56:40.361Z"
   },
   {
    "duration": 170,
    "start_time": "2022-02-16T15:57:27.008Z"
   },
   {
    "duration": 41,
    "start_time": "2022-02-16T15:57:30.815Z"
   },
   {
    "duration": 12,
    "start_time": "2022-02-16T15:57:30.858Z"
   },
   {
    "duration": 11,
    "start_time": "2022-02-16T15:57:30.872Z"
   },
   {
    "duration": 11,
    "start_time": "2022-02-16T15:57:30.886Z"
   },
   {
    "duration": 53,
    "start_time": "2022-02-16T15:57:30.898Z"
   },
   {
    "duration": 19,
    "start_time": "2022-02-16T15:57:30.953Z"
   },
   {
    "duration": 19,
    "start_time": "2022-02-16T15:57:30.974Z"
   },
   {
    "duration": 9,
    "start_time": "2022-02-16T15:58:58.633Z"
   },
   {
    "duration": 212,
    "start_time": "2022-02-16T15:59:46.154Z"
   },
   {
    "duration": 4,
    "start_time": "2022-02-16T16:01:05.658Z"
   },
   {
    "duration": 4,
    "start_time": "2022-02-16T16:01:34.019Z"
   },
   {
    "duration": 4,
    "start_time": "2022-02-16T16:01:37.866Z"
   },
   {
    "duration": 6,
    "start_time": "2022-02-16T16:02:42.868Z"
   },
   {
    "duration": 171,
    "start_time": "2022-02-16T16:03:12.802Z"
   },
   {
    "duration": 6,
    "start_time": "2022-02-16T16:03:19.130Z"
   },
   {
    "duration": 6,
    "start_time": "2022-02-16T16:03:32.923Z"
   },
   {
    "duration": 6,
    "start_time": "2022-02-16T16:03:45.267Z"
   },
   {
    "duration": 6,
    "start_time": "2022-02-16T16:04:04.219Z"
   },
   {
    "duration": 7,
    "start_time": "2022-02-16T16:04:16.356Z"
   },
   {
    "duration": 6,
    "start_time": "2022-02-16T16:05:28.341Z"
   },
   {
    "duration": 6,
    "start_time": "2022-02-16T16:33:33.719Z"
   },
   {
    "duration": 7,
    "start_time": "2022-02-16T16:34:07.071Z"
   },
   {
    "duration": 7,
    "start_time": "2022-02-16T16:34:26.408Z"
   },
   {
    "duration": 7,
    "start_time": "2022-02-16T16:34:33.560Z"
   },
   {
    "duration": 7,
    "start_time": "2022-02-16T16:34:50.473Z"
   },
   {
    "duration": 7,
    "start_time": "2022-02-16T16:34:59.536Z"
   },
   {
    "duration": 7,
    "start_time": "2022-02-16T16:35:10.457Z"
   },
   {
    "duration": 9,
    "start_time": "2022-02-16T16:35:15.080Z"
   },
   {
    "duration": 7,
    "start_time": "2022-02-16T16:35:58.210Z"
   },
   {
    "duration": 8,
    "start_time": "2022-02-16T16:36:47.833Z"
   },
   {
    "duration": 7,
    "start_time": "2022-02-16T16:37:15.761Z"
   },
   {
    "duration": 43,
    "start_time": "2022-02-16T16:37:22.398Z"
   },
   {
    "duration": 13,
    "start_time": "2022-02-16T16:37:22.443Z"
   },
   {
    "duration": 14,
    "start_time": "2022-02-16T16:37:22.458Z"
   },
   {
    "duration": 22,
    "start_time": "2022-02-16T16:37:22.474Z"
   },
   {
    "duration": 32,
    "start_time": "2022-02-16T16:37:22.498Z"
   },
   {
    "duration": 20,
    "start_time": "2022-02-16T16:37:22.532Z"
   },
   {
    "duration": 27,
    "start_time": "2022-02-16T16:37:22.554Z"
   },
   {
    "duration": 102,
    "start_time": "2022-02-16T16:37:22.583Z"
   },
   {
    "duration": -93670,
    "start_time": "2022-02-16T16:38:56.357Z"
   },
   {
    "duration": 2,
    "start_time": "2022-02-16T16:37:34.009Z"
   },
   {
    "duration": 7,
    "start_time": "2022-02-16T16:37:34.193Z"
   },
   {
    "duration": 6,
    "start_time": "2022-02-16T16:37:47.074Z"
   },
   {
    "duration": 7,
    "start_time": "2022-02-16T16:38:05.818Z"
   },
   {
    "duration": 8,
    "start_time": "2022-02-16T16:45:46.294Z"
   },
   {
    "duration": 18,
    "start_time": "2022-02-16T16:45:56.969Z"
   },
   {
    "duration": 1380,
    "start_time": "2022-02-16T16:46:27.375Z"
   },
   {
    "duration": 241,
    "start_time": "2022-02-16T16:46:35.239Z"
   },
   {
    "duration": 195,
    "start_time": "2022-02-16T16:46:43.478Z"
   },
   {
    "duration": 229,
    "start_time": "2022-02-16T16:47:05.263Z"
   },
   {
    "duration": 249,
    "start_time": "2022-02-16T16:51:24.655Z"
   },
   {
    "duration": 181,
    "start_time": "2022-02-16T16:51:33.263Z"
   },
   {
    "duration": 209,
    "start_time": "2022-02-16T16:53:17.272Z"
   },
   {
    "duration": 43,
    "start_time": "2022-02-16T16:53:21.236Z"
   },
   {
    "duration": 12,
    "start_time": "2022-02-16T16:53:21.281Z"
   },
   {
    "duration": 16,
    "start_time": "2022-02-16T16:53:21.295Z"
   },
   {
    "duration": 18,
    "start_time": "2022-02-16T16:53:21.313Z"
   },
   {
    "duration": 28,
    "start_time": "2022-02-16T16:53:21.332Z"
   },
   {
    "duration": 20,
    "start_time": "2022-02-16T16:53:21.362Z"
   },
   {
    "duration": 48,
    "start_time": "2022-02-16T16:53:21.384Z"
   },
   {
    "duration": 154,
    "start_time": "2022-02-16T16:53:21.435Z"
   },
   {
    "duration": -93662,
    "start_time": "2022-02-16T16:54:55.253Z"
   },
   {
    "duration": -93668,
    "start_time": "2022-02-16T16:54:55.259Z"
   },
   {
    "duration": 63,
    "start_time": "2022-02-16T16:53:51.000Z"
   },
   {
    "duration": 7,
    "start_time": "2022-02-16T16:53:54.888Z"
   },
   {
    "duration": 82,
    "start_time": "2022-02-16T16:53:55.056Z"
   },
   {
    "duration": 18,
    "start_time": "2022-02-16T16:54:00.257Z"
   },
   {
    "duration": 62,
    "start_time": "2022-02-16T16:54:30.787Z"
   },
   {
    "duration": 8,
    "start_time": "2022-02-16T16:54:43.625Z"
   },
   {
    "duration": 197,
    "start_time": "2022-02-16T16:54:51.121Z"
   },
   {
    "duration": 275,
    "start_time": "2022-02-16T17:02:31.732Z"
   },
   {
    "duration": 42,
    "start_time": "2022-02-16T17:02:51.171Z"
   },
   {
    "duration": 11,
    "start_time": "2022-02-16T17:02:51.215Z"
   },
   {
    "duration": 9,
    "start_time": "2022-02-16T17:02:51.229Z"
   },
   {
    "duration": 10,
    "start_time": "2022-02-16T17:02:51.240Z"
   },
   {
    "duration": 26,
    "start_time": "2022-02-16T17:02:51.252Z"
   },
   {
    "duration": 21,
    "start_time": "2022-02-16T17:02:51.280Z"
   },
   {
    "duration": 20,
    "start_time": "2022-02-16T17:02:51.329Z"
   },
   {
    "duration": 303,
    "start_time": "2022-02-16T17:02:51.351Z"
   },
   {
    "duration": 42,
    "start_time": "2022-02-16T17:05:25.618Z"
   },
   {
    "duration": 12,
    "start_time": "2022-02-16T17:05:25.662Z"
   },
   {
    "duration": 12,
    "start_time": "2022-02-16T17:05:25.676Z"
   },
   {
    "duration": 12,
    "start_time": "2022-02-16T17:05:25.689Z"
   },
   {
    "duration": 47,
    "start_time": "2022-02-16T17:05:25.703Z"
   },
   {
    "duration": 18,
    "start_time": "2022-02-16T17:05:25.751Z"
   },
   {
    "duration": 24,
    "start_time": "2022-02-16T17:05:25.770Z"
   },
   {
    "duration": 6,
    "start_time": "2022-02-16T17:05:30.725Z"
   },
   {
    "duration": 22,
    "start_time": "2022-02-16T17:05:41.765Z"
   },
   {
    "duration": 68,
    "start_time": "2022-02-16T17:07:36.198Z"
   },
   {
    "duration": 59,
    "start_time": "2022-02-16T17:07:50.294Z"
   },
   {
    "duration": 51,
    "start_time": "2022-02-16T17:10:02.960Z"
   },
   {
    "duration": 3,
    "start_time": "2022-02-16T17:11:34.272Z"
   },
   {
    "duration": 65,
    "start_time": "2022-02-16T17:11:48.433Z"
   },
   {
    "duration": 60,
    "start_time": "2022-02-16T17:11:56.080Z"
   },
   {
    "duration": 57,
    "start_time": "2022-02-16T17:12:04.073Z"
   },
   {
    "duration": 60,
    "start_time": "2022-02-16T17:12:08.289Z"
   },
   {
    "duration": 53,
    "start_time": "2022-02-16T17:12:11.337Z"
   },
   {
    "duration": 3,
    "start_time": "2022-02-16T17:12:15.944Z"
   },
   {
    "duration": 20,
    "start_time": "2022-02-16T17:14:07.081Z"
   },
   {
    "duration": 5,
    "start_time": "2022-02-16T17:21:53.527Z"
   },
   {
    "duration": 4,
    "start_time": "2022-02-16T17:22:14.175Z"
   },
   {
    "duration": 5,
    "start_time": "2022-02-16T17:22:24.117Z"
   },
   {
    "duration": 58,
    "start_time": "2022-02-16T17:22:36.046Z"
   },
   {
    "duration": 57,
    "start_time": "2022-02-16T17:22:55.157Z"
   },
   {
    "duration": 182,
    "start_time": "2022-02-16T17:23:18.150Z"
   },
   {
    "duration": 54,
    "start_time": "2022-02-16T17:23:37.294Z"
   },
   {
    "duration": 4,
    "start_time": "2022-02-16T17:23:50.750Z"
   },
   {
    "duration": 5,
    "start_time": "2022-02-16T17:23:57.365Z"
   },
   {
    "duration": 5,
    "start_time": "2022-02-16T17:57:17.556Z"
   },
   {
    "duration": 57,
    "start_time": "2022-02-16T18:04:10.073Z"
   },
   {
    "duration": 28,
    "start_time": "2022-02-16T18:04:20.976Z"
   },
   {
    "duration": 44,
    "start_time": "2022-02-16T18:05:38.401Z"
   },
   {
    "duration": 13,
    "start_time": "2022-02-16T18:05:38.447Z"
   },
   {
    "duration": 11,
    "start_time": "2022-02-16T18:05:38.463Z"
   },
   {
    "duration": 9,
    "start_time": "2022-02-16T18:05:38.476Z"
   },
   {
    "duration": 58,
    "start_time": "2022-02-16T18:05:38.486Z"
   },
   {
    "duration": 18,
    "start_time": "2022-02-16T18:05:38.546Z"
   },
   {
    "duration": 22,
    "start_time": "2022-02-16T18:05:38.566Z"
   },
   {
    "duration": 46,
    "start_time": "2022-02-16T18:05:38.591Z"
   },
   {
    "duration": 54,
    "start_time": "2022-02-16T18:07:22.761Z"
   },
   {
    "duration": 28,
    "start_time": "2022-02-16T18:07:54.865Z"
   },
   {
    "duration": 24,
    "start_time": "2022-02-16T18:08:49.466Z"
   },
   {
    "duration": 23,
    "start_time": "2022-02-16T18:09:20.122Z"
   },
   {
    "duration": 40,
    "start_time": "2022-02-16T18:09:31.566Z"
   },
   {
    "duration": 12,
    "start_time": "2022-02-16T18:09:31.608Z"
   },
   {
    "duration": 11,
    "start_time": "2022-02-16T18:09:31.622Z"
   },
   {
    "duration": 8,
    "start_time": "2022-02-16T18:09:31.635Z"
   },
   {
    "duration": 27,
    "start_time": "2022-02-16T18:09:31.645Z"
   },
   {
    "duration": 18,
    "start_time": "2022-02-16T18:09:31.674Z"
   },
   {
    "duration": 44,
    "start_time": "2022-02-16T18:09:31.694Z"
   },
   {
    "duration": 24,
    "start_time": "2022-02-16T18:09:31.740Z"
   },
   {
    "duration": 22,
    "start_time": "2022-02-16T18:09:41.642Z"
   },
   {
    "duration": 23,
    "start_time": "2022-02-16T18:09:58.907Z"
   },
   {
    "duration": 7,
    "start_time": "2022-02-16T18:09:59.801Z"
   },
   {
    "duration": 22,
    "start_time": "2022-02-16T18:11:11.963Z"
   },
   {
    "duration": 26,
    "start_time": "2022-02-16T18:11:26.803Z"
   },
   {
    "duration": 9,
    "start_time": "2022-02-16T18:11:27.145Z"
   },
   {
    "duration": 42,
    "start_time": "2022-02-16T18:13:03.766Z"
   },
   {
    "duration": 12,
    "start_time": "2022-02-16T18:13:03.810Z"
   },
   {
    "duration": 11,
    "start_time": "2022-02-16T18:13:03.824Z"
   },
   {
    "duration": 9,
    "start_time": "2022-02-16T18:13:03.837Z"
   },
   {
    "duration": 29,
    "start_time": "2022-02-16T18:13:03.848Z"
   },
   {
    "duration": 21,
    "start_time": "2022-02-16T18:13:03.879Z"
   },
   {
    "duration": 40,
    "start_time": "2022-02-16T18:13:03.902Z"
   },
   {
    "duration": 42,
    "start_time": "2022-02-16T18:13:15.341Z"
   },
   {
    "duration": 12,
    "start_time": "2022-02-16T18:13:15.385Z"
   },
   {
    "duration": 12,
    "start_time": "2022-02-16T18:13:15.399Z"
   },
   {
    "duration": 23,
    "start_time": "2022-02-16T18:13:15.413Z"
   },
   {
    "duration": 29,
    "start_time": "2022-02-16T18:13:15.438Z"
   },
   {
    "duration": 21,
    "start_time": "2022-02-16T18:13:15.469Z"
   },
   {
    "duration": 50,
    "start_time": "2022-02-16T18:13:15.492Z"
   },
   {
    "duration": 25,
    "start_time": "2022-02-16T18:13:15.544Z"
   },
   {
    "duration": 22,
    "start_time": "2022-02-16T18:13:47.460Z"
   },
   {
    "duration": 7,
    "start_time": "2022-02-16T18:13:47.794Z"
   },
   {
    "duration": 47,
    "start_time": "2022-02-16T18:13:55.904Z"
   },
   {
    "duration": 16,
    "start_time": "2022-02-16T18:13:55.952Z"
   },
   {
    "duration": 16,
    "start_time": "2022-02-16T18:13:55.971Z"
   },
   {
    "duration": 12,
    "start_time": "2022-02-16T18:13:55.989Z"
   },
   {
    "duration": 50,
    "start_time": "2022-02-16T18:13:56.003Z"
   },
   {
    "duration": 20,
    "start_time": "2022-02-16T18:13:56.055Z"
   },
   {
    "duration": 24,
    "start_time": "2022-02-16T18:13:56.077Z"
   },
   {
    "duration": 52,
    "start_time": "2022-02-16T18:13:56.103Z"
   },
   {
    "duration": 16,
    "start_time": "2022-02-16T18:13:56.157Z"
   },
   {
    "duration": 27,
    "start_time": "2022-02-16T18:13:56.175Z"
   },
   {
    "duration": 25,
    "start_time": "2022-02-16T18:14:29.116Z"
   },
   {
    "duration": 9,
    "start_time": "2022-02-16T18:14:29.411Z"
   },
   {
    "duration": 23,
    "start_time": "2022-02-16T18:15:11.284Z"
   },
   {
    "duration": 24,
    "start_time": "2022-02-16T18:15:30.773Z"
   },
   {
    "duration": 26,
    "start_time": "2022-02-16T18:15:39.677Z"
   },
   {
    "duration": 282,
    "start_time": "2022-02-16T18:22:27.880Z"
   },
   {
    "duration": 6,
    "start_time": "2022-02-16T18:22:48.729Z"
   },
   {
    "duration": 6,
    "start_time": "2022-02-16T18:23:03.759Z"
   },
   {
    "duration": 6,
    "start_time": "2022-02-16T18:23:11.304Z"
   },
   {
    "duration": 9,
    "start_time": "2022-02-16T18:23:35.721Z"
   },
   {
    "duration": 5,
    "start_time": "2022-02-16T18:31:12.995Z"
   },
   {
    "duration": 5,
    "start_time": "2022-02-16T18:31:20.235Z"
   },
   {
    "duration": 4,
    "start_time": "2022-02-16T18:31:49.733Z"
   },
   {
    "duration": 5,
    "start_time": "2022-02-16T18:31:54.683Z"
   },
   {
    "duration": 57,
    "start_time": "2022-02-16T18:32:24.402Z"
   },
   {
    "duration": 55,
    "start_time": "2022-02-16T18:32:31.971Z"
   },
   {
    "duration": 5,
    "start_time": "2022-02-16T18:32:40.004Z"
   },
   {
    "duration": 5,
    "start_time": "2022-02-16T18:33:21.756Z"
   },
   {
    "duration": 7,
    "start_time": "2022-02-16T18:34:12.673Z"
   },
   {
    "duration": 172,
    "start_time": "2022-02-16T18:35:22.494Z"
   },
   {
    "duration": 4,
    "start_time": "2022-02-16T18:36:06.557Z"
   },
   {
    "duration": 4,
    "start_time": "2022-02-16T18:36:30.957Z"
   },
   {
    "duration": 167,
    "start_time": "2022-02-16T18:37:21.158Z"
   },
   {
    "duration": 6,
    "start_time": "2022-02-16T18:37:28.341Z"
   },
   {
    "duration": 156,
    "start_time": "2022-02-16T18:38:08.390Z"
   },
   {
    "duration": 6,
    "start_time": "2022-02-16T18:38:48.782Z"
   },
   {
    "duration": 6,
    "start_time": "2022-02-16T18:38:54.638Z"
   },
   {
    "duration": 5,
    "start_time": "2022-02-16T18:39:12.126Z"
   },
   {
    "duration": 5,
    "start_time": "2022-02-16T18:39:52.806Z"
   },
   {
    "duration": 170,
    "start_time": "2022-02-16T18:40:11.616Z"
   },
   {
    "duration": 5,
    "start_time": "2022-02-16T18:40:23.479Z"
   },
   {
    "duration": 54,
    "start_time": "2022-02-16T18:41:07.119Z"
   },
   {
    "duration": 59,
    "start_time": "2022-02-16T18:41:24.735Z"
   },
   {
    "duration": 8,
    "start_time": "2022-02-16T18:41:32.567Z"
   },
   {
    "duration": 167,
    "start_time": "2022-02-16T18:41:56.415Z"
   },
   {
    "duration": 8,
    "start_time": "2022-02-16T18:42:16.136Z"
   },
   {
    "duration": 8,
    "start_time": "2022-02-16T18:42:26.831Z"
   },
   {
    "duration": 10,
    "start_time": "2022-02-16T18:42:53.040Z"
   },
   {
    "duration": 35,
    "start_time": "2022-02-16T18:42:53.326Z"
   },
   {
    "duration": 164,
    "start_time": "2022-02-16T18:43:17.328Z"
   },
   {
    "duration": 5,
    "start_time": "2022-02-16T18:44:13.832Z"
   },
   {
    "duration": 6,
    "start_time": "2022-02-16T18:44:21.008Z"
   },
   {
    "duration": 5,
    "start_time": "2022-02-16T18:44:29.064Z"
   },
   {
    "duration": 7,
    "start_time": "2022-02-16T18:45:49.794Z"
   },
   {
    "duration": 175,
    "start_time": "2022-02-16T18:46:05.689Z"
   },
   {
    "duration": 1052,
    "start_time": "2022-02-16T18:46:59.537Z"
   },
   {
    "duration": 383,
    "start_time": "2022-02-16T18:47:36.850Z"
   },
   {
    "duration": 34,
    "start_time": "2022-02-16T18:47:37.707Z"
   },
   {
    "duration": 62,
    "start_time": "2022-02-16T18:48:39.506Z"
   },
   {
    "duration": 177,
    "start_time": "2022-02-16T18:48:45.178Z"
   },
   {
    "duration": 171,
    "start_time": "2022-02-16T18:54:01.253Z"
   },
   {
    "duration": 5,
    "start_time": "2022-02-16T18:56:15.564Z"
   },
   {
    "duration": 44,
    "start_time": "2022-02-16T18:56:26.226Z"
   },
   {
    "duration": 13,
    "start_time": "2022-02-16T18:56:26.272Z"
   },
   {
    "duration": 13,
    "start_time": "2022-02-16T18:56:26.288Z"
   },
   {
    "duration": 30,
    "start_time": "2022-02-16T18:56:26.303Z"
   },
   {
    "duration": 27,
    "start_time": "2022-02-16T18:56:26.335Z"
   },
   {
    "duration": 20,
    "start_time": "2022-02-16T18:56:26.363Z"
   },
   {
    "duration": 23,
    "start_time": "2022-02-16T18:56:26.384Z"
   },
   {
    "duration": 5,
    "start_time": "2022-02-16T18:56:26.430Z"
   },
   {
    "duration": 44,
    "start_time": "2022-02-16T18:56:26.437Z"
   },
   {
    "duration": 25,
    "start_time": "2022-02-16T18:56:26.483Z"
   },
   {
    "duration": 23,
    "start_time": "2022-02-16T18:56:26.509Z"
   },
   {
    "duration": 30,
    "start_time": "2022-02-16T18:56:50.815Z"
   },
   {
    "duration": 6,
    "start_time": "2022-02-16T18:56:50.989Z"
   },
   {
    "duration": 44,
    "start_time": "2022-02-16T18:56:58.821Z"
   },
   {
    "duration": 14,
    "start_time": "2022-02-16T18:56:58.867Z"
   },
   {
    "duration": 12,
    "start_time": "2022-02-16T18:56:58.883Z"
   },
   {
    "duration": 34,
    "start_time": "2022-02-16T18:56:58.897Z"
   },
   {
    "duration": 34,
    "start_time": "2022-02-16T18:56:58.933Z"
   },
   {
    "duration": 23,
    "start_time": "2022-02-16T18:56:58.969Z"
   },
   {
    "duration": 46,
    "start_time": "2022-02-16T18:56:58.994Z"
   },
   {
    "duration": 6,
    "start_time": "2022-02-16T18:56:59.042Z"
   },
   {
    "duration": 836,
    "start_time": "2022-02-16T18:56:59.049Z"
   },
   {
    "duration": -93658,
    "start_time": "2022-02-16T18:58:33.545Z"
   },
   {
    "duration": -93662,
    "start_time": "2022-02-16T18:58:33.550Z"
   },
   {
    "duration": 792,
    "start_time": "2022-02-16T18:57:28.126Z"
   },
   {
    "duration": 783,
    "start_time": "2022-02-16T18:57:37.158Z"
   },
   {
    "duration": 6,
    "start_time": "2022-02-16T18:59:11.008Z"
   },
   {
    "duration": 187,
    "start_time": "2022-02-16T18:59:41.447Z"
   },
   {
    "duration": 9,
    "start_time": "2022-02-16T18:59:50.344Z"
   },
   {
    "duration": 10,
    "start_time": "2022-02-16T19:00:24.703Z"
   },
   {
    "duration": 55,
    "start_time": "2022-02-16T19:05:25.201Z"
   },
   {
    "duration": 170,
    "start_time": "2022-02-16T19:08:29.610Z"
   },
   {
    "duration": 174,
    "start_time": "2022-02-16T19:08:52.818Z"
   },
   {
    "duration": 164,
    "start_time": "2022-02-16T19:09:32.690Z"
   },
   {
    "duration": 188,
    "start_time": "2022-02-16T19:09:41.586Z"
   },
   {
    "duration": 174,
    "start_time": "2022-02-16T19:09:50.773Z"
   },
   {
    "duration": 165,
    "start_time": "2022-02-16T19:09:57.972Z"
   },
   {
    "duration": 5,
    "start_time": "2022-02-16T19:10:41.060Z"
   },
   {
    "duration": 5,
    "start_time": "2022-02-16T19:11:14.870Z"
   },
   {
    "duration": 6,
    "start_time": "2022-02-16T19:11:25.093Z"
   },
   {
    "duration": 5,
    "start_time": "2022-02-16T19:11:30.636Z"
   },
   {
    "duration": 6,
    "start_time": "2022-02-16T19:11:43.796Z"
   },
   {
    "duration": 6,
    "start_time": "2022-02-16T19:12:00.036Z"
   },
   {
    "duration": 5,
    "start_time": "2022-02-16T19:14:17.277Z"
   },
   {
    "duration": 5,
    "start_time": "2022-02-16T19:14:35.133Z"
   },
   {
    "duration": 61,
    "start_time": "2022-02-16T19:14:48.335Z"
   },
   {
    "duration": 168,
    "start_time": "2022-02-16T19:14:56.548Z"
   },
   {
    "duration": 5,
    "start_time": "2022-02-16T19:15:04.541Z"
   },
   {
    "duration": 5,
    "start_time": "2022-02-16T19:15:13.238Z"
   },
   {
    "duration": 172,
    "start_time": "2022-02-16T19:15:38.655Z"
   },
   {
    "duration": 6,
    "start_time": "2022-02-16T19:15:48.325Z"
   },
   {
    "duration": 5,
    "start_time": "2022-02-16T19:15:55.149Z"
   },
   {
    "duration": 5,
    "start_time": "2022-02-16T19:16:19.733Z"
   },
   {
    "duration": 6,
    "start_time": "2022-02-16T19:16:35.245Z"
   },
   {
    "duration": 6,
    "start_time": "2022-02-16T19:16:43.645Z"
   },
   {
    "duration": 9,
    "start_time": "2022-02-16T19:17:33.710Z"
   },
   {
    "duration": 9,
    "start_time": "2022-02-16T19:17:38.518Z"
   },
   {
    "duration": 8,
    "start_time": "2022-02-16T19:17:46.095Z"
   },
   {
    "duration": 185,
    "start_time": "2022-02-16T19:18:00.022Z"
   },
   {
    "duration": 167,
    "start_time": "2022-02-16T19:18:18.334Z"
   },
   {
    "duration": 188,
    "start_time": "2022-02-16T19:18:32.871Z"
   },
   {
    "duration": 582,
    "start_time": "2022-02-16T19:18:41.791Z"
   },
   {
    "duration": 7,
    "start_time": "2022-02-16T19:18:56.455Z"
   },
   {
    "duration": 54,
    "start_time": "2022-02-16T19:19:15.359Z"
   },
   {
    "duration": 7,
    "start_time": "2022-02-16T19:19:23.199Z"
   },
   {
    "duration": 5,
    "start_time": "2022-02-16T19:19:37.790Z"
   },
   {
    "duration": 5,
    "start_time": "2022-02-16T19:19:56.374Z"
   },
   {
    "duration": 5,
    "start_time": "2022-02-16T19:20:04.167Z"
   },
   {
    "duration": 61,
    "start_time": "2022-02-16T19:21:53.408Z"
   },
   {
    "duration": 56,
    "start_time": "2022-02-16T19:22:13.272Z"
   },
   {
    "duration": 53,
    "start_time": "2022-02-16T19:22:17.135Z"
   },
   {
    "duration": 24,
    "start_time": "2022-02-16T19:26:09.395Z"
   },
   {
    "duration": 24,
    "start_time": "2022-02-16T19:27:06.723Z"
   },
   {
    "duration": 61,
    "start_time": "2022-02-16T19:36:47.740Z"
   },
   {
    "duration": 23,
    "start_time": "2022-02-16T19:37:03.463Z"
   },
   {
    "duration": 22,
    "start_time": "2022-02-16T19:37:20.304Z"
   },
   {
    "duration": 60,
    "start_time": "2022-02-16T19:37:54.191Z"
   },
   {
    "duration": 23,
    "start_time": "2022-02-16T19:37:58.278Z"
   },
   {
    "duration": 56,
    "start_time": "2022-02-16T19:40:55.386Z"
   },
   {
    "duration": 24,
    "start_time": "2022-02-16T19:41:02.295Z"
   },
   {
    "duration": 170,
    "start_time": "2022-02-16T19:51:46.665Z"
   },
   {
    "duration": 170,
    "start_time": "2022-02-16T19:53:14.933Z"
   },
   {
    "duration": 159,
    "start_time": "2022-02-16T19:53:26.325Z"
   },
   {
    "duration": 6,
    "start_time": "2022-02-16T19:53:37.421Z"
   },
   {
    "duration": 6,
    "start_time": "2022-02-16T19:54:02.189Z"
   },
   {
    "duration": 60,
    "start_time": "2022-02-16T19:54:35.696Z"
   },
   {
    "duration": 1174,
    "start_time": "2022-02-16T19:54:41.989Z"
   },
   {
    "duration": 5,
    "start_time": "2022-02-16T19:54:49.157Z"
   },
   {
    "duration": 5,
    "start_time": "2022-02-16T19:54:58.981Z"
   },
   {
    "duration": 7,
    "start_time": "2022-02-16T19:55:34.782Z"
   },
   {
    "duration": 7,
    "start_time": "2022-02-16T19:55:42.512Z"
   },
   {
    "duration": 57,
    "start_time": "2022-02-16T19:56:41.598Z"
   },
   {
    "duration": 183,
    "start_time": "2022-02-16T19:56:45.510Z"
   },
   {
    "duration": 5,
    "start_time": "2022-02-16T19:57:16.566Z"
   },
   {
    "duration": 174,
    "start_time": "2022-02-16T19:57:37.007Z"
   },
   {
    "duration": 180,
    "start_time": "2022-02-16T19:57:49.447Z"
   },
   {
    "duration": 5,
    "start_time": "2022-02-16T20:00:44.440Z"
   },
   {
    "duration": 5,
    "start_time": "2022-02-16T20:00:51.856Z"
   },
   {
    "duration": 165,
    "start_time": "2022-02-16T20:01:31.888Z"
   },
   {
    "duration": 4,
    "start_time": "2022-02-16T20:02:14.609Z"
   },
   {
    "duration": 5,
    "start_time": "2022-02-16T20:02:24.704Z"
   },
   {
    "duration": 6,
    "start_time": "2022-02-16T20:02:33.331Z"
   },
   {
    "duration": 5,
    "start_time": "2022-02-16T20:07:47.991Z"
   },
   {
    "duration": 5,
    "start_time": "2022-02-16T20:08:22.869Z"
   },
   {
    "duration": 5,
    "start_time": "2022-02-16T20:08:34.932Z"
   },
   {
    "duration": 5,
    "start_time": "2022-02-16T20:08:38.124Z"
   },
   {
    "duration": 63,
    "start_time": "2022-02-16T20:10:26.285Z"
   },
   {
    "duration": 6,
    "start_time": "2022-02-16T20:10:33.020Z"
   },
   {
    "duration": 5,
    "start_time": "2022-02-16T20:10:54.237Z"
   },
   {
    "duration": 6,
    "start_time": "2022-02-16T20:11:59.445Z"
   },
   {
    "duration": 4,
    "start_time": "2022-02-16T20:13:45.582Z"
   },
   {
    "duration": 4,
    "start_time": "2022-02-16T20:13:52.415Z"
   },
   {
    "duration": 5,
    "start_time": "2022-02-16T20:14:51.686Z"
   },
   {
    "duration": 4,
    "start_time": "2022-02-16T20:15:03.439Z"
   },
   {
    "duration": 5,
    "start_time": "2022-02-16T20:15:07.438Z"
   },
   {
    "duration": 174,
    "start_time": "2022-02-16T20:15:18.742Z"
   },
   {
    "duration": 5,
    "start_time": "2022-02-16T20:18:26.672Z"
   },
   {
    "duration": 56,
    "start_time": "2022-02-16T20:18:40.816Z"
   },
   {
    "duration": 59,
    "start_time": "2022-02-16T20:23:11.227Z"
   },
   {
    "duration": 5,
    "start_time": "2022-02-16T20:28:50.276Z"
   },
   {
    "duration": 5,
    "start_time": "2022-02-16T20:29:15.901Z"
   },
   {
    "duration": 5,
    "start_time": "2022-02-16T20:29:35.895Z"
   },
   {
    "duration": 5,
    "start_time": "2022-02-16T20:29:52.005Z"
   },
   {
    "duration": 5,
    "start_time": "2022-02-16T20:30:08.782Z"
   },
   {
    "duration": 159,
    "start_time": "2022-02-16T20:30:22.166Z"
   },
   {
    "duration": 57,
    "start_time": "2022-02-16T20:30:45.340Z"
   },
   {
    "duration": 5,
    "start_time": "2022-02-16T20:30:50.277Z"
   },
   {
    "duration": 5,
    "start_time": "2022-02-16T20:31:12.125Z"
   },
   {
    "duration": 162,
    "start_time": "2022-02-16T20:31:23.574Z"
   },
   {
    "duration": 180,
    "start_time": "2022-02-16T20:31:28.309Z"
   },
   {
    "duration": 5,
    "start_time": "2022-02-16T20:31:34.278Z"
   },
   {
    "duration": 178,
    "start_time": "2022-02-16T20:31:46.478Z"
   },
   {
    "duration": 6,
    "start_time": "2022-02-16T20:31:53.486Z"
   },
   {
    "duration": 166,
    "start_time": "2022-02-16T20:32:46.431Z"
   },
   {
    "duration": 171,
    "start_time": "2022-02-16T20:33:09.239Z"
   },
   {
    "duration": 231,
    "start_time": "2022-02-16T20:34:02.232Z"
   },
   {
    "duration": 160,
    "start_time": "2022-02-16T20:34:53.583Z"
   },
   {
    "duration": 169,
    "start_time": "2022-02-16T20:35:22.272Z"
   },
   {
    "duration": 178,
    "start_time": "2022-02-16T20:36:02.792Z"
   },
   {
    "duration": 317,
    "start_time": "2022-02-16T20:36:46.776Z"
   },
   {
    "duration": 169,
    "start_time": "2022-02-16T20:36:52.768Z"
   },
   {
    "duration": 4,
    "start_time": "2022-02-16T20:37:15.113Z"
   },
   {
    "duration": 52,
    "start_time": "2022-02-16T20:38:23.450Z"
   },
   {
    "duration": 58,
    "start_time": "2022-02-16T20:38:55.482Z"
   },
   {
    "duration": 736,
    "start_time": "2022-02-16T20:39:07.473Z"
   },
   {
    "duration": 760,
    "start_time": "2022-02-16T20:39:33.594Z"
   },
   {
    "duration": 819,
    "start_time": "2022-02-16T20:39:49.341Z"
   },
   {
    "duration": 750,
    "start_time": "2022-02-16T20:40:21.122Z"
   },
   {
    "duration": 235,
    "start_time": "2022-02-16T20:41:06.050Z"
   },
   {
    "duration": 240,
    "start_time": "2022-02-16T20:41:33.307Z"
   },
   {
    "duration": 195,
    "start_time": "2022-02-16T20:41:48.364Z"
   },
   {
    "duration": 2064,
    "start_time": "2022-02-16T20:42:13.810Z"
   },
   {
    "duration": 320,
    "start_time": "2022-02-16T20:42:21.909Z"
   },
   {
    "duration": 54,
    "start_time": "2022-02-16T20:42:41.074Z"
   },
   {
    "duration": 4446,
    "start_time": "2022-02-16T20:44:13.835Z"
   },
   {
    "duration": 59,
    "start_time": "2022-02-16T20:44:45.524Z"
   },
   {
    "duration": 3987,
    "start_time": "2022-02-16T20:44:53.868Z"
   },
   {
    "duration": 171,
    "start_time": "2022-02-16T20:45:13.100Z"
   },
   {
    "duration": 162,
    "start_time": "2022-02-16T20:45:25.604Z"
   },
   {
    "duration": 4264,
    "start_time": "2022-02-16T20:46:25.412Z"
   },
   {
    "duration": 4,
    "start_time": "2022-02-16T20:46:55.308Z"
   },
   {
    "duration": 840,
    "start_time": "2022-02-16T20:48:38.222Z"
   },
   {
    "duration": 28,
    "start_time": "2022-02-16T20:49:52.269Z"
   },
   {
    "duration": 53,
    "start_time": "2022-02-16T20:52:49.210Z"
   },
   {
    "duration": 31,
    "start_time": "2022-02-16T20:53:02.463Z"
   },
   {
    "duration": 23,
    "start_time": "2022-02-16T20:53:23.080Z"
   },
   {
    "duration": 6,
    "start_time": "2022-02-16T20:55:30.649Z"
   },
   {
    "duration": 24,
    "start_time": "2022-02-16T20:57:24.537Z"
   },
   {
    "duration": 7,
    "start_time": "2022-02-16T20:57:28.257Z"
   },
   {
    "duration": 48,
    "start_time": "2022-02-16T20:57:33.218Z"
   },
   {
    "duration": 12,
    "start_time": "2022-02-16T20:57:33.268Z"
   },
   {
    "duration": 11,
    "start_time": "2022-02-16T20:57:33.282Z"
   },
   {
    "duration": 11,
    "start_time": "2022-02-16T20:57:33.294Z"
   },
   {
    "duration": 30,
    "start_time": "2022-02-16T20:57:33.330Z"
   },
   {
    "duration": 21,
    "start_time": "2022-02-16T20:57:33.361Z"
   },
   {
    "duration": 21,
    "start_time": "2022-02-16T20:57:33.384Z"
   },
   {
    "duration": 47,
    "start_time": "2022-02-16T20:57:33.407Z"
   },
   {
    "duration": 8,
    "start_time": "2022-02-16T20:57:33.456Z"
   },
   {
    "duration": 61,
    "start_time": "2022-02-16T20:57:33.466Z"
   },
   {
    "duration": -93597,
    "start_time": "2022-02-16T20:59:07.126Z"
   },
   {
    "duration": 6,
    "start_time": "2022-02-16T20:58:30.529Z"
   },
   {
    "duration": 23,
    "start_time": "2022-02-16T20:59:16.011Z"
   },
   {
    "duration": 6,
    "start_time": "2022-02-16T20:59:16.210Z"
   },
   {
    "duration": 26,
    "start_time": "2022-02-16T21:00:03.901Z"
   },
   {
    "duration": 7,
    "start_time": "2022-02-16T21:00:06.697Z"
   },
   {
    "duration": 6,
    "start_time": "2022-02-16T21:00:54.810Z"
   },
   {
    "duration": 25,
    "start_time": "2022-02-16T21:01:08.372Z"
   },
   {
    "duration": 50,
    "start_time": "2022-02-16T21:01:36.613Z"
   },
   {
    "duration": 12,
    "start_time": "2022-02-16T21:01:36.665Z"
   },
   {
    "duration": 10,
    "start_time": "2022-02-16T21:01:36.679Z"
   },
   {
    "duration": 10,
    "start_time": "2022-02-16T21:01:36.691Z"
   },
   {
    "duration": 47,
    "start_time": "2022-02-16T21:01:36.702Z"
   },
   {
    "duration": 19,
    "start_time": "2022-02-16T21:01:36.751Z"
   },
   {
    "duration": 19,
    "start_time": "2022-02-16T21:01:36.771Z"
   },
   {
    "duration": 47,
    "start_time": "2022-02-16T21:01:36.793Z"
   },
   {
    "duration": 5,
    "start_time": "2022-02-16T21:01:36.842Z"
   },
   {
    "duration": 55,
    "start_time": "2022-02-16T21:01:36.848Z"
   },
   {
    "duration": -93599,
    "start_time": "2022-02-16T21:03:10.504Z"
   },
   {
    "duration": 22,
    "start_time": "2022-02-16T21:01:59.467Z"
   },
   {
    "duration": 24,
    "start_time": "2022-02-16T21:02:18.797Z"
   },
   {
    "duration": 787,
    "start_time": "2022-02-16T21:04:25.933Z"
   },
   {
    "duration": 6,
    "start_time": "2022-02-16T21:04:28.892Z"
   },
   {
    "duration": 777,
    "start_time": "2022-02-16T21:05:07.396Z"
   },
   {
    "duration": 6,
    "start_time": "2022-02-16T21:05:08.179Z"
   },
   {
    "duration": 48,
    "start_time": "2022-02-16T21:05:14.915Z"
   },
   {
    "duration": 13,
    "start_time": "2022-02-16T21:05:14.965Z"
   },
   {
    "duration": 11,
    "start_time": "2022-02-16T21:05:14.980Z"
   },
   {
    "duration": 11,
    "start_time": "2022-02-16T21:05:14.993Z"
   },
   {
    "duration": 48,
    "start_time": "2022-02-16T21:05:15.006Z"
   },
   {
    "duration": 22,
    "start_time": "2022-02-16T21:05:15.055Z"
   },
   {
    "duration": 27,
    "start_time": "2022-02-16T21:05:15.079Z"
   },
   {
    "duration": 820,
    "start_time": "2022-02-16T21:05:15.130Z"
   },
   {
    "duration": -93602,
    "start_time": "2022-02-16T21:06:49.553Z"
   },
   {
    "duration": -93604,
    "start_time": "2022-02-16T21:06:49.556Z"
   },
   {
    "duration": -93607,
    "start_time": "2022-02-16T21:06:49.560Z"
   },
   {
    "duration": 822,
    "start_time": "2022-02-16T21:06:08.605Z"
   },
   {
    "duration": 8,
    "start_time": "2022-02-16T21:06:10.396Z"
   },
   {
    "duration": 24,
    "start_time": "2022-02-16T21:07:35.550Z"
   },
   {
    "duration": 23,
    "start_time": "2022-02-16T21:08:48.870Z"
   },
   {
    "duration": 7,
    "start_time": "2022-02-16T21:08:49.438Z"
   },
   {
    "duration": 818,
    "start_time": "2022-02-16T21:09:11.103Z"
   },
   {
    "duration": -93577,
    "start_time": "2022-02-16T21:10:45.500Z"
   },
   {
    "duration": 753,
    "start_time": "2022-02-16T21:09:35.655Z"
   },
   {
    "duration": -93609,
    "start_time": "2022-02-16T21:11:10.019Z"
   },
   {
    "duration": 784,
    "start_time": "2022-02-16T21:09:47.294Z"
   },
   {
    "duration": -93604,
    "start_time": "2022-02-16T21:11:21.685Z"
   },
   {
    "duration": 24,
    "start_time": "2022-02-16T21:10:06.959Z"
   },
   {
    "duration": 7,
    "start_time": "2022-02-16T21:10:07.158Z"
   },
   {
    "duration": 26,
    "start_time": "2022-02-16T21:11:07.272Z"
   },
   {
    "duration": 26,
    "start_time": "2022-02-16T21:12:12.825Z"
   },
   {
    "duration": 23,
    "start_time": "2022-02-16T21:12:22.889Z"
   },
   {
    "duration": 7,
    "start_time": "2022-02-16T21:12:23.144Z"
   },
   {
    "duration": 6,
    "start_time": "2022-02-16T21:12:41.448Z"
   },
   {
    "duration": 770,
    "start_time": "2022-02-16T21:13:41.706Z"
   },
   {
    "duration": -93590,
    "start_time": "2022-02-16T21:15:16.068Z"
   },
   {
    "duration": 761,
    "start_time": "2022-02-16T21:14:11.994Z"
   },
   {
    "duration": 9,
    "start_time": "2022-02-16T21:14:13.377Z"
   },
   {
    "duration": 826,
    "start_time": "2022-02-16T21:14:53.634Z"
   },
   {
    "duration": -93602,
    "start_time": "2022-02-16T21:16:28.064Z"
   },
   {
    "duration": 24,
    "start_time": "2022-02-16T21:15:13.778Z"
   },
   {
    "duration": 5,
    "start_time": "2022-02-16T21:15:14.056Z"
   },
   {
    "duration": 170,
    "start_time": "2022-02-16T21:17:17.298Z"
   },
   {
    "duration": 164,
    "start_time": "2022-02-16T21:17:34.441Z"
   },
   {
    "duration": 177,
    "start_time": "2022-02-16T21:17:51.138Z"
   },
   {
    "duration": 170,
    "start_time": "2022-02-16T21:17:59.331Z"
   },
   {
    "duration": 6,
    "start_time": "2022-02-16T21:18:00.354Z"
   },
   {
    "duration": 175,
    "start_time": "2022-02-16T21:18:48.651Z"
   },
   {
    "duration": 6,
    "start_time": "2022-02-16T21:18:49.297Z"
   },
   {
    "duration": 167,
    "start_time": "2022-02-16T21:19:09.563Z"
   },
   {
    "duration": 6,
    "start_time": "2022-02-16T21:19:20.427Z"
   },
   {
    "duration": 6,
    "start_time": "2022-02-16T21:19:20.715Z"
   },
   {
    "duration": 783,
    "start_time": "2022-02-16T21:19:55.875Z"
   },
   {
    "duration": -93575,
    "start_time": "2022-02-16T21:21:30.235Z"
   },
   {
    "duration": 25,
    "start_time": "2022-02-16T21:20:27.980Z"
   },
   {
    "duration": 6,
    "start_time": "2022-02-16T21:20:28.261Z"
   },
   {
    "duration": 4,
    "start_time": "2022-02-16T21:21:17.389Z"
   },
   {
    "duration": 8,
    "start_time": "2022-02-16T21:23:00.749Z"
   },
   {
    "duration": 4,
    "start_time": "2022-02-16T21:23:44.380Z"
   },
   {
    "duration": 28,
    "start_time": "2022-02-16T21:23:52.676Z"
   },
   {
    "duration": 785,
    "start_time": "2022-02-16T21:24:30.750Z"
   },
   {
    "duration": 22,
    "start_time": "2022-02-16T21:37:33.949Z"
   },
   {
    "duration": 5,
    "start_time": "2022-02-16T21:37:34.294Z"
   },
   {
    "duration": 6,
    "start_time": "2022-02-16T21:37:47.243Z"
   },
   {
    "duration": 27,
    "start_time": "2022-02-16T21:39:59.316Z"
   },
   {
    "duration": 5,
    "start_time": "2022-02-16T21:39:59.493Z"
   },
   {
    "duration": 23,
    "start_time": "2022-02-16T21:40:16.127Z"
   },
   {
    "duration": 6,
    "start_time": "2022-02-16T21:40:16.316Z"
   },
   {
    "duration": 60,
    "start_time": "2022-02-16T21:42:04.149Z"
   },
   {
    "duration": 23,
    "start_time": "2022-02-16T21:42:27.126Z"
   },
   {
    "duration": 6,
    "start_time": "2022-02-16T21:42:27.317Z"
   },
   {
    "duration": 22,
    "start_time": "2022-02-16T21:42:40.725Z"
   },
   {
    "duration": 6,
    "start_time": "2022-02-16T21:42:40.894Z"
   },
   {
    "duration": 7,
    "start_time": "2022-02-16T21:42:58.077Z"
   },
   {
    "duration": 5,
    "start_time": "2022-02-16T21:43:17.069Z"
   },
   {
    "duration": 175,
    "start_time": "2022-02-16T21:43:32.606Z"
   },
   {
    "duration": 7,
    "start_time": "2022-02-16T21:43:47.982Z"
   },
   {
    "duration": 6,
    "start_time": "2022-02-16T21:43:57.677Z"
   },
   {
    "duration": 7,
    "start_time": "2022-02-16T21:44:01.606Z"
   },
   {
    "duration": 21,
    "start_time": "2022-02-16T21:44:45.808Z"
   },
   {
    "duration": 6,
    "start_time": "2022-02-16T21:44:46.038Z"
   },
   {
    "duration": 23,
    "start_time": "2022-02-16T21:45:04.078Z"
   },
   {
    "duration": 8,
    "start_time": "2022-02-16T21:45:04.397Z"
   },
   {
    "duration": 20,
    "start_time": "2022-02-16T21:45:23.369Z"
   },
   {
    "duration": 6,
    "start_time": "2022-02-16T21:45:23.569Z"
   },
   {
    "duration": 857,
    "start_time": "2022-02-17T10:57:49.786Z"
   },
   {
    "duration": 31,
    "start_time": "2022-02-17T10:57:50.646Z"
   },
   {
    "duration": 16,
    "start_time": "2022-02-17T10:57:50.680Z"
   },
   {
    "duration": 33,
    "start_time": "2022-02-17T10:57:50.699Z"
   },
   {
    "duration": 38,
    "start_time": "2022-02-17T10:57:50.735Z"
   },
   {
    "duration": 58,
    "start_time": "2022-02-17T10:57:50.776Z"
   },
   {
    "duration": 36,
    "start_time": "2022-02-17T10:57:50.836Z"
   },
   {
    "duration": 3,
    "start_time": "2022-02-17T10:57:50.875Z"
   },
   {
    "duration": 413,
    "start_time": "2022-02-17T11:22:47.026Z"
   },
   {
    "duration": 67,
    "start_time": "2022-02-17T11:23:09.811Z"
   },
   {
    "duration": 21,
    "start_time": "2022-02-17T11:23:09.881Z"
   },
   {
    "duration": 34,
    "start_time": "2022-02-17T11:23:09.906Z"
   },
   {
    "duration": 15,
    "start_time": "2022-02-17T11:23:09.943Z"
   },
   {
    "duration": 70,
    "start_time": "2022-02-17T11:23:09.962Z"
   },
   {
    "duration": 36,
    "start_time": "2022-02-17T11:23:10.035Z"
   },
   {
    "duration": 58,
    "start_time": "2022-02-17T11:23:10.074Z"
   },
   {
    "duration": 262,
    "start_time": "2022-02-17T11:23:10.136Z"
   },
   {
    "duration": 9,
    "start_time": "2022-02-17T11:27:54.746Z"
   },
   {
    "duration": 365,
    "start_time": "2022-02-17T11:45:01.601Z"
   },
   {
    "duration": 25,
    "start_time": "2022-02-17T11:46:08.993Z"
   },
   {
    "duration": 94,
    "start_time": "2022-02-17T11:46:58.425Z"
   },
   {
    "duration": 258,
    "start_time": "2022-02-17T11:47:07.140Z"
   },
   {
    "duration": 261,
    "start_time": "2022-02-17T11:47:32.768Z"
   },
   {
    "duration": 1643,
    "start_time": "2022-02-17T11:48:54.987Z"
   },
   {
    "duration": 29,
    "start_time": "2022-02-17T11:49:29.691Z"
   },
   {
    "duration": 68,
    "start_time": "2022-02-17T11:56:31.078Z"
   },
   {
    "duration": 32,
    "start_time": "2022-02-17T11:57:40.554Z"
   },
   {
    "duration": 33,
    "start_time": "2022-02-17T11:58:03.015Z"
   },
   {
    "duration": 63,
    "start_time": "2022-02-17T12:15:24.327Z"
   },
   {
    "duration": 140,
    "start_time": "2022-02-17T12:16:14.694Z"
   },
   {
    "duration": 640,
    "start_time": "2022-02-17T12:18:33.022Z"
   },
   {
    "duration": 37,
    "start_time": "2022-02-17T12:19:00.543Z"
   },
   {
    "duration": 58,
    "start_time": "2022-02-17T12:19:05.678Z"
   },
   {
    "duration": 249,
    "start_time": "2022-02-17T12:19:37.831Z"
   },
   {
    "duration": 82,
    "start_time": "2022-02-17T12:19:46.983Z"
   },
   {
    "duration": 38,
    "start_time": "2022-02-17T12:21:14.384Z"
   },
   {
    "duration": 6,
    "start_time": "2022-02-17T12:22:36.760Z"
   },
   {
    "duration": 273,
    "start_time": "2022-02-17T12:23:18.328Z"
   },
   {
    "duration": 318,
    "start_time": "2022-02-17T12:23:24.864Z"
   },
   {
    "duration": 416,
    "start_time": "2022-02-17T12:23:38.280Z"
   },
   {
    "duration": 7,
    "start_time": "2022-02-17T12:26:20.994Z"
   },
   {
    "duration": 328,
    "start_time": "2022-02-17T12:27:15.955Z"
   },
   {
    "duration": 6,
    "start_time": "2022-02-17T12:28:06.124Z"
   },
   {
    "duration": 302,
    "start_time": "2022-02-17T12:28:31.828Z"
   },
   {
    "duration": 397,
    "start_time": "2022-02-17T12:37:00.304Z"
   },
   {
    "duration": 988,
    "start_time": "2022-02-17T12:37:29.797Z"
   },
   {
    "duration": 20,
    "start_time": "2022-02-17T12:37:30.789Z"
   },
   {
    "duration": 43,
    "start_time": "2022-02-17T12:37:30.814Z"
   },
   {
    "duration": 24,
    "start_time": "2022-02-17T12:37:30.861Z"
   },
   {
    "duration": 71,
    "start_time": "2022-02-17T12:37:30.889Z"
   },
   {
    "duration": 34,
    "start_time": "2022-02-17T12:37:30.963Z"
   },
   {
    "duration": 58,
    "start_time": "2022-02-17T12:37:31.000Z"
   },
   {
    "duration": 787,
    "start_time": "2022-02-17T12:37:31.061Z"
   },
   {
    "duration": 198,
    "start_time": "2022-02-17T12:39:13.409Z"
   },
   {
    "duration": 209,
    "start_time": "2022-02-17T12:39:19.447Z"
   },
   {
    "duration": 501,
    "start_time": "2022-02-17T12:39:35.402Z"
   },
   {
    "duration": 546,
    "start_time": "2022-02-17T12:39:41.985Z"
   },
   {
    "duration": 463,
    "start_time": "2022-02-17T12:40:21.040Z"
   },
   {
    "duration": 332,
    "start_time": "2022-02-17T13:04:03.564Z"
   },
   {
    "duration": 80,
    "start_time": "2022-02-17T13:05:44.267Z"
   },
   {
    "duration": 10,
    "start_time": "2022-02-17T13:06:04.116Z"
   },
   {
    "duration": 9,
    "start_time": "2022-02-17T13:07:12.301Z"
   },
   {
    "duration": 42,
    "start_time": "2022-02-17T13:07:45.581Z"
   },
   {
    "duration": 8,
    "start_time": "2022-02-17T13:08:49.549Z"
   },
   {
    "duration": 24,
    "start_time": "2022-02-17T13:09:07.638Z"
   },
   {
    "duration": 7,
    "start_time": "2022-02-17T13:09:31.317Z"
   },
   {
    "duration": 434,
    "start_time": "2022-02-17T13:10:02.318Z"
   },
   {
    "duration": 429,
    "start_time": "2022-02-17T13:10:22.302Z"
   },
   {
    "duration": 8,
    "start_time": "2022-02-17T13:11:30.367Z"
   },
   {
    "duration": 264,
    "start_time": "2022-02-17T13:12:27.040Z"
   },
   {
    "duration": 262,
    "start_time": "2022-02-17T13:12:46.511Z"
   },
   {
    "duration": 261,
    "start_time": "2022-02-17T13:13:41.343Z"
   },
   {
    "duration": 360,
    "start_time": "2022-02-17T13:14:08.144Z"
   },
   {
    "duration": 62,
    "start_time": "2022-02-17T13:14:13.939Z"
   },
   {
    "duration": 22,
    "start_time": "2022-02-17T13:14:14.004Z"
   },
   {
    "duration": 49,
    "start_time": "2022-02-17T13:14:14.030Z"
   },
   {
    "duration": 34,
    "start_time": "2022-02-17T13:14:14.082Z"
   },
   {
    "duration": 101,
    "start_time": "2022-02-17T13:14:14.119Z"
   },
   {
    "duration": 52,
    "start_time": "2022-02-17T13:14:14.222Z"
   },
   {
    "duration": 67,
    "start_time": "2022-02-17T13:14:14.277Z"
   },
   {
    "duration": 59,
    "start_time": "2022-02-17T13:14:19.794Z"
   },
   {
    "duration": 19,
    "start_time": "2022-02-17T13:14:19.855Z"
   },
   {
    "duration": 18,
    "start_time": "2022-02-17T13:14:19.877Z"
   },
   {
    "duration": 39,
    "start_time": "2022-02-17T13:14:19.898Z"
   },
   {
    "duration": 54,
    "start_time": "2022-02-17T13:14:19.939Z"
   },
   {
    "duration": 48,
    "start_time": "2022-02-17T13:14:19.996Z"
   },
   {
    "duration": 50,
    "start_time": "2022-02-17T13:14:20.046Z"
   },
   {
    "duration": 329,
    "start_time": "2022-02-17T13:14:20.099Z"
   },
   {
    "duration": 275,
    "start_time": "2022-02-17T13:14:29.017Z"
   },
   {
    "duration": 298,
    "start_time": "2022-02-17T13:15:57.191Z"
   },
   {
    "duration": 267,
    "start_time": "2022-02-17T13:16:09.096Z"
   },
   {
    "duration": 4,
    "start_time": "2022-02-17T13:18:59.466Z"
   },
   {
    "duration": 24,
    "start_time": "2022-02-17T13:19:56.106Z"
   },
   {
    "duration": 4,
    "start_time": "2022-02-17T13:21:13.874Z"
   },
   {
    "duration": 9,
    "start_time": "2022-02-17T13:21:34.594Z"
   },
   {
    "duration": 10,
    "start_time": "2022-02-17T13:22:01.731Z"
   },
   {
    "duration": 8,
    "start_time": "2022-02-17T13:22:10.075Z"
   },
   {
    "duration": 9,
    "start_time": "2022-02-17T13:22:21.875Z"
   },
   {
    "duration": 25,
    "start_time": "2022-02-17T13:24:07.035Z"
   },
   {
    "duration": 12,
    "start_time": "2022-02-17T13:24:20.252Z"
   },
   {
    "duration": 329,
    "start_time": "2022-02-17T13:24:58.029Z"
   },
   {
    "duration": 361,
    "start_time": "2022-02-17T13:25:03.317Z"
   },
   {
    "duration": 533,
    "start_time": "2022-02-17T13:25:33.676Z"
   },
   {
    "duration": 487,
    "start_time": "2022-02-17T13:25:37.652Z"
   },
   {
    "duration": 481,
    "start_time": "2022-02-17T13:25:44.236Z"
   },
   {
    "duration": 570,
    "start_time": "2022-02-17T13:25:47.836Z"
   },
   {
    "duration": 518,
    "start_time": "2022-02-17T13:26:14.301Z"
   },
   {
    "duration": 238,
    "start_time": "2022-02-17T13:27:04.277Z"
   },
   {
    "duration": 495,
    "start_time": "2022-02-17T13:27:29.654Z"
   },
   {
    "duration": 270,
    "start_time": "2022-02-17T13:29:36.550Z"
   },
   {
    "duration": 536,
    "start_time": "2022-02-17T13:29:49.806Z"
   },
   {
    "duration": 8,
    "start_time": "2022-02-17T13:30:42.979Z"
   },
   {
    "duration": 7,
    "start_time": "2022-02-17T13:31:17.335Z"
   },
   {
    "duration": 136,
    "start_time": "2022-02-17T13:31:33.841Z"
   },
   {
    "duration": 28,
    "start_time": "2022-02-17T13:31:33.981Z"
   },
   {
    "duration": 31,
    "start_time": "2022-02-17T13:31:34.012Z"
   },
   {
    "duration": 13,
    "start_time": "2022-02-17T13:31:34.047Z"
   },
   {
    "duration": 77,
    "start_time": "2022-02-17T13:31:34.063Z"
   },
   {
    "duration": 33,
    "start_time": "2022-02-17T13:31:34.142Z"
   },
   {
    "duration": 72,
    "start_time": "2022-02-17T13:31:34.178Z"
   },
   {
    "duration": 7,
    "start_time": "2022-02-17T13:32:59.104Z"
   },
   {
    "duration": 271,
    "start_time": "2022-02-17T13:35:43.041Z"
   },
   {
    "duration": 963,
    "start_time": "2022-02-17T13:36:04.713Z"
   },
   {
    "duration": 262,
    "start_time": "2022-02-17T13:37:14.379Z"
   },
   {
    "duration": 18,
    "start_time": "2022-02-17T13:37:24.081Z"
   },
   {
    "duration": 19,
    "start_time": "2022-02-17T13:40:47.764Z"
   },
   {
    "duration": 261,
    "start_time": "2022-02-17T13:41:05.517Z"
   },
   {
    "duration": 20,
    "start_time": "2022-02-17T13:42:03.973Z"
   },
   {
    "duration": 317,
    "start_time": "2022-02-17T13:43:08.638Z"
   },
   {
    "duration": 20,
    "start_time": "2022-02-17T13:43:23.190Z"
   },
   {
    "duration": 265,
    "start_time": "2022-02-17T13:44:08.309Z"
   },
   {
    "duration": -93877,
    "start_time": "2022-02-17T13:50:38.570Z"
   },
   {
    "duration": 86,
    "start_time": "2022-02-17T13:49:09.135Z"
   },
   {
    "duration": 20,
    "start_time": "2022-02-17T13:49:09.225Z"
   },
   {
    "duration": 21,
    "start_time": "2022-02-17T13:49:09.248Z"
   },
   {
    "duration": 13,
    "start_time": "2022-02-17T13:49:09.271Z"
   },
   {
    "duration": 76,
    "start_time": "2022-02-17T13:49:09.287Z"
   },
   {
    "duration": 69,
    "start_time": "2022-02-17T13:49:09.366Z"
   },
   {
    "duration": 34,
    "start_time": "2022-02-17T13:49:09.438Z"
   },
   {
    "duration": 7348,
    "start_time": "2022-02-17T13:49:09.475Z"
   },
   {
    "duration": 21,
    "start_time": "2022-02-17T13:49:33.305Z"
   },
   {
    "duration": 18,
    "start_time": "2022-02-17T13:49:50.368Z"
   },
   {
    "duration": 27,
    "start_time": "2022-02-17T13:50:24.537Z"
   },
   {
    "duration": 258,
    "start_time": "2022-02-17T13:50:43.616Z"
   },
   {
    "duration": 62,
    "start_time": "2022-02-17T13:50:51.932Z"
   },
   {
    "duration": 20,
    "start_time": "2022-02-17T13:50:51.997Z"
   },
   {
    "duration": 16,
    "start_time": "2022-02-17T13:50:52.027Z"
   },
   {
    "duration": 12,
    "start_time": "2022-02-17T13:50:52.046Z"
   },
   {
    "duration": 71,
    "start_time": "2022-02-17T13:50:52.060Z"
   },
   {
    "duration": 52,
    "start_time": "2022-02-17T13:50:52.135Z"
   },
   {
    "duration": 74,
    "start_time": "2022-02-17T13:50:52.190Z"
   },
   {
    "duration": 1239,
    "start_time": "2022-02-17T13:51:17.641Z"
   },
   {
    "duration": 8,
    "start_time": "2022-02-17T13:51:50.273Z"
   },
   {
    "duration": 9,
    "start_time": "2022-02-17T13:52:17.994Z"
   },
   {
    "duration": 13,
    "start_time": "2022-02-17T13:52:39.640Z"
   },
   {
    "duration": 265,
    "start_time": "2022-02-17T13:52:53.905Z"
   },
   {
    "duration": 278,
    "start_time": "2022-02-17T13:53:06.457Z"
   },
   {
    "duration": 15,
    "start_time": "2022-02-17T13:53:13.632Z"
   },
   {
    "duration": 270,
    "start_time": "2022-02-17T13:53:35.689Z"
   },
   {
    "duration": 278,
    "start_time": "2022-02-17T13:53:43.865Z"
   },
   {
    "duration": 15,
    "start_time": "2022-02-17T13:55:07.153Z"
   },
   {
    "duration": 14,
    "start_time": "2022-02-17T13:55:35.651Z"
   },
   {
    "duration": 8,
    "start_time": "2022-02-17T13:55:55.033Z"
   },
   {
    "duration": 10,
    "start_time": "2022-02-17T13:56:08.721Z"
   },
   {
    "duration": 9,
    "start_time": "2022-02-17T13:56:15.914Z"
   },
   {
    "duration": 22,
    "start_time": "2022-02-17T13:56:24.316Z"
   },
   {
    "duration": 12,
    "start_time": "2022-02-17T13:58:57.563Z"
   },
   {
    "duration": 279,
    "start_time": "2022-02-17T13:59:44.955Z"
   },
   {
    "duration": 16,
    "start_time": "2022-02-17T14:00:06.229Z"
   },
   {
    "duration": 27,
    "start_time": "2022-02-17T14:04:14.958Z"
   },
   {
    "duration": 295,
    "start_time": "2022-02-17T14:04:24.615Z"
   },
   {
    "duration": 15,
    "start_time": "2022-02-17T14:04:37.397Z"
   },
   {
    "duration": 7,
    "start_time": "2022-02-17T14:07:07.446Z"
   },
   {
    "duration": 39,
    "start_time": "2022-02-17T14:14:13.913Z"
   },
   {
    "duration": 12,
    "start_time": "2022-02-17T14:16:36.219Z"
   },
   {
    "duration": 16,
    "start_time": "2022-02-17T15:33:02.156Z"
   },
   {
    "duration": 16,
    "start_time": "2022-02-17T15:46:15.867Z"
   },
   {
    "duration": 291,
    "start_time": "2022-02-17T16:13:19.485Z"
   },
   {
    "duration": 636,
    "start_time": "2022-02-17T16:13:32.335Z"
   },
   {
    "duration": 19,
    "start_time": "2022-02-17T16:13:32.973Z"
   },
   {
    "duration": 9,
    "start_time": "2022-02-17T16:13:32.994Z"
   },
   {
    "duration": 19,
    "start_time": "2022-02-17T16:13:33.005Z"
   },
   {
    "duration": 23,
    "start_time": "2022-02-17T16:13:35.115Z"
   },
   {
    "duration": 33,
    "start_time": "2022-02-17T16:13:49.460Z"
   },
   {
    "duration": 282,
    "start_time": "2022-02-17T16:15:09.206Z"
   },
   {
    "duration": 46,
    "start_time": "2022-02-17T16:15:43.844Z"
   },
   {
    "duration": 40,
    "start_time": "2022-02-17T16:16:01.734Z"
   },
   {
    "duration": 58,
    "start_time": "2022-02-17T16:21:34.799Z"
   },
   {
    "duration": 304,
    "start_time": "2022-02-17T16:26:44.898Z"
   },
   {
    "duration": 264,
    "start_time": "2022-02-17T16:26:59.281Z"
   },
   {
    "duration": 37,
    "start_time": "2022-02-17T16:27:19.585Z"
   },
   {
    "duration": 37,
    "start_time": "2022-02-17T16:27:42.545Z"
   },
   {
    "duration": 302,
    "start_time": "2022-02-17T16:28:19.194Z"
   },
   {
    "duration": 30,
    "start_time": "2022-02-17T16:28:24.986Z"
   },
   {
    "duration": 46,
    "start_time": "2022-02-17T16:28:38.850Z"
   },
   {
    "duration": 34,
    "start_time": "2022-02-17T16:31:33.700Z"
   },
   {
    "duration": 33,
    "start_time": "2022-02-17T16:31:43.979Z"
   },
   {
    "duration": 34,
    "start_time": "2022-02-17T16:33:58.565Z"
   },
   {
    "duration": 287,
    "start_time": "2022-02-17T16:34:29.725Z"
   },
   {
    "duration": 37,
    "start_time": "2022-02-17T16:34:58.989Z"
   },
   {
    "duration": 749,
    "start_time": "2022-02-17T16:35:14.517Z"
   },
   {
    "duration": 43,
    "start_time": "2022-02-17T16:35:19.453Z"
   },
   {
    "duration": 41,
    "start_time": "2022-02-17T16:35:34.950Z"
   },
   {
    "duration": 33,
    "start_time": "2022-02-17T16:41:20.512Z"
   },
   {
    "duration": 39,
    "start_time": "2022-02-17T16:41:34.510Z"
   },
   {
    "duration": 41,
    "start_time": "2022-02-17T16:42:18.120Z"
   },
   {
    "duration": 37,
    "start_time": "2022-02-17T16:44:06.608Z"
   },
   {
    "duration": 79,
    "start_time": "2022-02-17T17:04:24.826Z"
   },
   {
    "duration": 64,
    "start_time": "2022-02-17T17:04:57.339Z"
   },
   {
    "duration": 65,
    "start_time": "2022-02-17T17:05:18.811Z"
   },
   {
    "duration": 63,
    "start_time": "2022-02-17T17:05:59.034Z"
   },
   {
    "duration": 64,
    "start_time": "2022-02-17T17:06:49.756Z"
   },
   {
    "duration": 70,
    "start_time": "2022-02-17T17:07:06.475Z"
   },
   {
    "duration": 65,
    "start_time": "2022-02-17T17:07:38.163Z"
   },
   {
    "duration": 67,
    "start_time": "2022-02-17T17:08:06.115Z"
   },
   {
    "duration": 72,
    "start_time": "2022-02-17T17:08:21.445Z"
   },
   {
    "duration": 67,
    "start_time": "2022-02-17T17:08:25.843Z"
   },
   {
    "duration": 92,
    "start_time": "2022-02-17T17:08:35.259Z"
   },
   {
    "duration": 331,
    "start_time": "2022-02-17T19:04:35.787Z"
   },
   {
    "duration": 689,
    "start_time": "2022-02-17T19:04:42.132Z"
   },
   {
    "duration": 27,
    "start_time": "2022-02-17T19:04:42.823Z"
   },
   {
    "duration": 12,
    "start_time": "2022-02-17T19:04:42.852Z"
   },
   {
    "duration": 11,
    "start_time": "2022-02-17T19:04:42.866Z"
   },
   {
    "duration": 747,
    "start_time": "2022-02-17T19:04:46.802Z"
   },
   {
    "duration": 66,
    "start_time": "2022-02-17T19:05:05.826Z"
   },
   {
    "duration": 104,
    "start_time": "2022-02-17T19:05:48.451Z"
   },
   {
    "duration": 66,
    "start_time": "2022-02-17T19:05:56.570Z"
   },
   {
    "duration": 69,
    "start_time": "2022-02-17T19:06:18.938Z"
   },
   {
    "duration": 65,
    "start_time": "2022-02-17T19:07:25.746Z"
   },
   {
    "duration": 60,
    "start_time": "2022-02-17T19:07:43.211Z"
   },
   {
    "duration": 67,
    "start_time": "2022-02-17T19:07:55.667Z"
   },
   {
    "duration": 63,
    "start_time": "2022-02-17T19:08:16.404Z"
   },
   {
    "duration": 6961,
    "start_time": "2022-02-17T19:08:29.875Z"
   },
   {
    "duration": 79,
    "start_time": "2022-02-17T19:08:44.836Z"
   },
   {
    "duration": 73,
    "start_time": "2022-02-17T19:09:17.780Z"
   },
   {
    "duration": 71,
    "start_time": "2022-02-17T19:09:32.404Z"
   },
   {
    "duration": 63,
    "start_time": "2022-02-17T19:09:48.123Z"
   },
   {
    "duration": 66,
    "start_time": "2022-02-17T19:09:59.116Z"
   },
   {
    "duration": 311,
    "start_time": "2022-02-17T19:10:12.811Z"
   },
   {
    "duration": 69,
    "start_time": "2022-02-17T19:10:18.236Z"
   },
   {
    "duration": 68,
    "start_time": "2022-02-17T19:13:31.639Z"
   },
   {
    "duration": 68,
    "start_time": "2022-02-17T19:14:20.117Z"
   },
   {
    "duration": 89,
    "start_time": "2022-02-17T19:14:30.702Z"
   },
   {
    "duration": 115,
    "start_time": "2022-02-17T19:15:43.063Z"
   },
   {
    "duration": 66,
    "start_time": "2022-02-17T19:16:01.358Z"
   },
   {
    "duration": 74,
    "start_time": "2022-02-17T19:16:11.382Z"
   },
   {
    "duration": 76,
    "start_time": "2022-02-17T19:20:05.232Z"
   },
   {
    "duration": 70,
    "start_time": "2022-02-17T19:20:24.968Z"
   },
   {
    "duration": 66,
    "start_time": "2022-02-17T19:25:44.243Z"
   },
   {
    "duration": 62,
    "start_time": "2022-02-17T19:26:16.787Z"
   },
   {
    "duration": 93,
    "start_time": "2022-02-17T19:26:48.260Z"
   },
   {
    "duration": 68,
    "start_time": "2022-02-17T19:27:46.653Z"
   },
   {
    "duration": 66,
    "start_time": "2022-02-17T19:28:06.339Z"
   },
   {
    "duration": 76,
    "start_time": "2022-02-17T19:42:52.211Z"
   },
   {
    "duration": 421,
    "start_time": "2022-02-17T19:47:28.201Z"
   },
   {
    "duration": 433,
    "start_time": "2022-02-17T19:47:43.496Z"
   },
   {
    "duration": 355,
    "start_time": "2022-02-17T19:48:22.159Z"
   },
   {
    "duration": -97221,
    "start_time": "2022-02-17T19:52:49.026Z"
   },
   {
    "duration": -97222,
    "start_time": "2022-02-17T19:52:49.028Z"
   },
   {
    "duration": -97225,
    "start_time": "2022-02-17T19:52:49.033Z"
   },
   {
    "duration": -97229,
    "start_time": "2022-02-17T19:52:49.038Z"
   },
   {
    "duration": -97230,
    "start_time": "2022-02-17T19:52:49.042Z"
   },
   {
    "duration": 329,
    "start_time": "2022-02-17T19:53:14.519Z"
   },
   {
    "duration": 306,
    "start_time": "2022-02-17T19:53:47.808Z"
   },
   {
    "duration": 310,
    "start_time": "2022-02-17T19:58:54.314Z"
   },
   {
    "duration": 75,
    "start_time": "2022-02-17T19:59:11.922Z"
   },
   {
    "duration": 68,
    "start_time": "2022-02-17T20:01:25.683Z"
   },
   {
    "duration": 94,
    "start_time": "2022-02-17T20:01:43.286Z"
   },
   {
    "duration": 65,
    "start_time": "2022-02-17T20:01:48.226Z"
   },
   {
    "duration": 84,
    "start_time": "2022-02-17T20:02:03.350Z"
   },
   {
    "duration": 72,
    "start_time": "2022-02-17T20:02:34.075Z"
   },
   {
    "duration": 3991,
    "start_time": "2022-02-17T20:02:42.546Z"
   },
   {
    "duration": 308,
    "start_time": "2022-02-17T20:02:55.980Z"
   },
   {
    "duration": 319,
    "start_time": "2022-02-17T20:03:21.741Z"
   },
   {
    "duration": 75,
    "start_time": "2022-02-17T20:03:32.348Z"
   },
   {
    "duration": 6458,
    "start_time": "2022-02-17T20:05:28.259Z"
   },
   {
    "duration": 6217,
    "start_time": "2022-02-17T20:05:51.060Z"
   },
   {
    "duration": 6,
    "start_time": "2022-02-17T20:06:08.397Z"
   },
   {
    "duration": 6,
    "start_time": "2022-02-17T20:06:18.155Z"
   },
   {
    "duration": 5,
    "start_time": "2022-02-17T20:06:24.123Z"
   },
   {
    "duration": 81,
    "start_time": "2022-02-17T20:06:42.740Z"
   },
   {
    "duration": 238,
    "start_time": "2022-02-17T20:06:46.900Z"
   },
   {
    "duration": 6,
    "start_time": "2022-02-17T20:06:50.836Z"
   },
   {
    "duration": 261,
    "start_time": "2022-02-17T20:07:44.812Z"
   },
   {
    "duration": 240,
    "start_time": "2022-02-17T20:07:50.548Z"
   },
   {
    "duration": 274,
    "start_time": "2022-02-17T20:08:06.660Z"
   },
   {
    "duration": 6,
    "start_time": "2022-02-17T20:08:12.860Z"
   },
   {
    "duration": 416,
    "start_time": "2022-02-17T20:09:06.816Z"
   },
   {
    "duration": 337,
    "start_time": "2022-02-17T20:11:21.071Z"
   },
   {
    "duration": 17,
    "start_time": "2022-02-17T20:12:27.278Z"
   },
   {
    "duration": 6,
    "start_time": "2022-02-17T20:12:35.294Z"
   },
   {
    "duration": 20,
    "start_time": "2022-02-17T20:12:39.822Z"
   },
   {
    "duration": 87,
    "start_time": "2022-02-17T20:14:04.783Z"
   },
   {
    "duration": 11,
    "start_time": "2022-02-17T20:15:56.136Z"
   },
   {
    "duration": 121,
    "start_time": "2022-02-17T20:20:27.310Z"
   },
   {
    "duration": 92,
    "start_time": "2022-02-17T20:20:32.753Z"
   },
   {
    "duration": 386,
    "start_time": "2022-02-17T20:20:55.131Z"
   },
   {
    "duration": 91,
    "start_time": "2022-02-17T20:21:13.826Z"
   },
   {
    "duration": 411,
    "start_time": "2022-02-17T20:22:36.950Z"
   },
   {
    "duration": 383,
    "start_time": "2022-02-17T20:24:12.444Z"
   },
   {
    "duration": 6734,
    "start_time": "2022-02-17T20:24:47.781Z"
   },
   {
    "duration": 6303,
    "start_time": "2022-02-17T20:24:55.148Z"
   },
   {
    "duration": 352,
    "start_time": "2022-02-17T20:25:13.405Z"
   },
   {
    "duration": 142,
    "start_time": "2022-02-17T20:25:29.534Z"
   },
   {
    "duration": 85,
    "start_time": "2022-02-17T20:25:44.878Z"
   },
   {
    "duration": 90,
    "start_time": "2022-02-17T20:26:00.765Z"
   },
   {
    "duration": 80,
    "start_time": "2022-02-17T20:26:13.862Z"
   },
   {
    "duration": 81,
    "start_time": "2022-02-17T20:26:43.030Z"
   },
   {
    "duration": 82,
    "start_time": "2022-02-17T20:26:55.405Z"
   },
   {
    "duration": 80,
    "start_time": "2022-02-17T20:27:09.670Z"
   },
   {
    "duration": 84,
    "start_time": "2022-02-17T20:27:32.062Z"
   },
   {
    "duration": 85,
    "start_time": "2022-02-17T20:29:07.305Z"
   },
   {
    "duration": 88,
    "start_time": "2022-02-17T20:29:51.774Z"
   },
   {
    "duration": 100,
    "start_time": "2022-02-17T20:30:17.223Z"
   },
   {
    "duration": 156,
    "start_time": "2022-02-17T20:31:56.464Z"
   },
   {
    "duration": 91,
    "start_time": "2022-02-17T20:32:41.792Z"
   },
   {
    "duration": 100,
    "start_time": "2022-02-17T20:32:49.279Z"
   },
   {
    "duration": 62,
    "start_time": "2022-02-17T21:01:30.756Z"
   },
   {
    "duration": 14,
    "start_time": "2022-02-17T21:01:32.075Z"
   },
   {
    "duration": 23,
    "start_time": "2022-02-17T21:11:22.593Z"
   },
   {
    "duration": 32,
    "start_time": "2022-02-17T21:12:24.122Z"
   },
   {
    "duration": 24,
    "start_time": "2022-02-17T21:13:14.065Z"
   },
   {
    "duration": 47,
    "start_time": "2022-02-17T21:13:20.265Z"
   },
   {
    "duration": 24,
    "start_time": "2022-02-17T21:13:59.123Z"
   },
   {
    "duration": 219,
    "start_time": "2022-02-18T08:26:58.144Z"
   },
   {
    "duration": 605,
    "start_time": "2022-02-18T08:27:05.961Z"
   },
   {
    "duration": 18,
    "start_time": "2022-02-18T08:27:06.568Z"
   },
   {
    "duration": 11,
    "start_time": "2022-02-18T08:27:06.589Z"
   },
   {
    "duration": 8,
    "start_time": "2022-02-18T08:27:06.601Z"
   },
   {
    "duration": 40,
    "start_time": "2022-02-18T08:27:06.610Z"
   },
   {
    "duration": 212,
    "start_time": "2022-02-18T08:56:24.235Z"
   },
   {
    "duration": 26,
    "start_time": "2022-02-18T08:56:28.067Z"
   },
   {
    "duration": 10,
    "start_time": "2022-02-18T09:28:05.113Z"
   },
   {
    "duration": 6,
    "start_time": "2022-02-18T09:58:25.616Z"
   },
   {
    "duration": 8,
    "start_time": "2022-02-18T10:01:40.953Z"
   },
   {
    "duration": 8,
    "start_time": "2022-02-18T10:14:04.318Z"
   },
   {
    "duration": 8,
    "start_time": "2022-02-18T10:22:38.113Z"
   },
   {
    "duration": 8,
    "start_time": "2022-02-18T10:24:02.186Z"
   },
   {
    "duration": 7,
    "start_time": "2022-02-18T10:24:14.866Z"
   },
   {
    "duration": 5,
    "start_time": "2022-02-18T10:24:25.195Z"
   },
   {
    "duration": 5,
    "start_time": "2022-02-18T10:24:28.892Z"
   },
   {
    "duration": 22,
    "start_time": "2022-02-18T10:28:43.740Z"
   },
   {
    "duration": 18,
    "start_time": "2022-02-18T10:29:51.039Z"
   },
   {
    "duration": 179,
    "start_time": "2022-02-18T10:34:06.664Z"
   },
   {
    "duration": 22,
    "start_time": "2022-02-18T10:34:14.243Z"
   },
   {
    "duration": 23,
    "start_time": "2022-02-18T10:34:24.197Z"
   },
   {
    "duration": 196,
    "start_time": "2022-02-18T10:34:33.631Z"
   },
   {
    "duration": 10,
    "start_time": "2022-02-18T10:34:58.718Z"
   },
   {
    "duration": 24,
    "start_time": "2022-02-18T10:35:58.495Z"
   },
   {
    "duration": 21,
    "start_time": "2022-02-18T10:36:07.720Z"
   },
   {
    "duration": 22,
    "start_time": "2022-02-18T10:36:12.327Z"
   },
   {
    "duration": 9,
    "start_time": "2022-02-18T10:36:49.011Z"
   },
   {
    "duration": 8,
    "start_time": "2022-02-18T10:37:08.376Z"
   },
   {
    "duration": 9,
    "start_time": "2022-02-18T10:37:17.288Z"
   },
   {
    "duration": 21,
    "start_time": "2022-02-18T10:37:27.584Z"
   },
   {
    "duration": 23,
    "start_time": "2022-02-18T10:39:42.721Z"
   },
   {
    "duration": 21,
    "start_time": "2022-02-18T10:40:15.522Z"
   },
   {
    "duration": 22,
    "start_time": "2022-02-18T10:40:44.786Z"
   },
   {
    "duration": 22,
    "start_time": "2022-02-18T10:43:04.331Z"
   },
   {
    "duration": 56,
    "start_time": "2022-02-18T10:47:37.620Z"
   },
   {
    "duration": 23,
    "start_time": "2022-02-18T10:47:41.532Z"
   },
   {
    "duration": 6,
    "start_time": "2022-02-18T10:59:05.219Z"
   },
   {
    "duration": 5,
    "start_time": "2022-02-18T10:59:21.257Z"
   },
   {
    "duration": 182,
    "start_time": "2022-02-18T10:59:31.193Z"
   },
   {
    "duration": 8,
    "start_time": "2022-02-18T10:59:41.729Z"
   },
   {
    "duration": 8,
    "start_time": "2022-02-18T11:00:02.194Z"
   },
   {
    "duration": 210,
    "start_time": "2022-02-18T11:00:28.418Z"
   },
   {
    "duration": 9,
    "start_time": "2022-02-18T11:00:37.026Z"
   },
   {
    "duration": 5,
    "start_time": "2022-02-18T11:00:52.465Z"
   },
   {
    "duration": 41,
    "start_time": "2022-02-18T11:06:12.724Z"
   },
   {
    "duration": 45,
    "start_time": "2022-02-18T11:11:11.752Z"
   },
   {
    "duration": 202,
    "start_time": "2022-02-18T11:11:31.560Z"
   },
   {
    "duration": 6,
    "start_time": "2022-02-18T11:11:51.728Z"
   },
   {
    "duration": 10,
    "start_time": "2022-02-18T11:11:59.439Z"
   },
   {
    "duration": 5,
    "start_time": "2022-02-18T11:12:05.895Z"
   },
   {
    "duration": 43,
    "start_time": "2022-02-18T11:12:15.220Z"
   },
   {
    "duration": 12,
    "start_time": "2022-02-18T11:12:15.264Z"
   },
   {
    "duration": 15,
    "start_time": "2022-02-18T11:12:15.277Z"
   },
   {
    "duration": 8,
    "start_time": "2022-02-18T11:12:15.294Z"
   },
   {
    "duration": 43,
    "start_time": "2022-02-18T11:12:23.083Z"
   },
   {
    "duration": 12,
    "start_time": "2022-02-18T11:12:23.128Z"
   },
   {
    "duration": 11,
    "start_time": "2022-02-18T11:12:23.141Z"
   },
   {
    "duration": 11,
    "start_time": "2022-02-18T11:12:23.154Z"
   },
   {
    "duration": 6,
    "start_time": "2022-02-18T11:12:23.167Z"
   },
   {
    "duration": 5,
    "start_time": "2022-02-18T11:12:35.071Z"
   },
   {
    "duration": 197,
    "start_time": "2022-02-18T11:15:15.073Z"
   },
   {
    "duration": 177,
    "start_time": "2022-02-18T11:15:21.074Z"
   },
   {
    "duration": 5,
    "start_time": "2022-02-18T11:17:12.770Z"
   },
   {
    "duration": 30,
    "start_time": "2022-02-18T11:18:11.170Z"
   },
   {
    "duration": 46,
    "start_time": "2022-02-18T11:18:35.875Z"
   },
   {
    "duration": 20,
    "start_time": "2022-02-18T11:19:36.989Z"
   },
   {
    "duration": 41,
    "start_time": "2022-02-18T11:20:54.140Z"
   },
   {
    "duration": 23,
    "start_time": "2022-02-18T11:23:57.470Z"
   },
   {
    "duration": 375,
    "start_time": "2022-02-18T11:24:18.713Z"
   },
   {
    "duration": 350,
    "start_time": "2022-02-18T11:24:42.238Z"
   },
   {
    "duration": 318,
    "start_time": "2022-02-18T11:25:19.494Z"
   },
   {
    "duration": 61,
    "start_time": "2022-02-18T11:25:43.351Z"
   },
   {
    "duration": 217,
    "start_time": "2022-02-18T11:25:49.022Z"
   },
   {
    "duration": 314,
    "start_time": "2022-02-18T11:25:54.318Z"
   },
   {
    "duration": 323,
    "start_time": "2022-02-18T11:26:07.358Z"
   },
   {
    "duration": 303,
    "start_time": "2022-02-18T11:26:25.136Z"
   },
   {
    "duration": 351,
    "start_time": "2022-02-18T11:27:26.711Z"
   },
   {
    "duration": 59,
    "start_time": "2022-02-18T11:28:36.432Z"
   },
   {
    "duration": 410,
    "start_time": "2022-02-18T11:28:46.126Z"
   },
   {
    "duration": 7,
    "start_time": "2022-02-18T11:29:48.536Z"
   },
   {
    "duration": 5,
    "start_time": "2022-02-18T11:29:59.407Z"
   },
   {
    "duration": 5,
    "start_time": "2022-02-18T11:30:21.248Z"
   },
   {
    "duration": 5,
    "start_time": "2022-02-18T11:31:00.203Z"
   },
   {
    "duration": 5,
    "start_time": "2022-02-18T11:31:09.489Z"
   },
   {
    "duration": 25,
    "start_time": "2022-02-18T11:32:20.881Z"
   },
   {
    "duration": 34,
    "start_time": "2022-02-18T11:33:21.427Z"
   },
   {
    "duration": 200,
    "start_time": "2022-02-18T11:34:29.698Z"
   },
   {
    "duration": 10,
    "start_time": "2022-02-18T11:35:09.876Z"
   },
   {
    "duration": 25,
    "start_time": "2022-02-18T11:35:20.674Z"
   },
   {
    "duration": 176,
    "start_time": "2022-02-18T11:35:32.339Z"
   },
   {
    "duration": 27,
    "start_time": "2022-02-18T11:35:44.322Z"
   },
   {
    "duration": 24,
    "start_time": "2022-02-18T11:36:22.587Z"
   },
   {
    "duration": 183,
    "start_time": "2022-02-18T11:36:44.507Z"
   },
   {
    "duration": 25,
    "start_time": "2022-02-18T11:36:54.259Z"
   },
   {
    "duration": 5,
    "start_time": "2022-02-18T12:20:39.922Z"
   },
   {
    "duration": 5,
    "start_time": "2022-02-18T12:20:47.536Z"
   },
   {
    "duration": 196,
    "start_time": "2022-02-18T12:41:13.282Z"
   },
   {
    "duration": 4,
    "start_time": "2022-02-18T12:42:50.978Z"
   },
   {
    "duration": 21,
    "start_time": "2022-02-18T12:42:57.250Z"
   },
   {
    "duration": 10,
    "start_time": "2022-02-18T12:43:13.826Z"
   },
   {
    "duration": 22,
    "start_time": "2022-02-18T12:43:26.809Z"
   },
   {
    "duration": 22,
    "start_time": "2022-02-18T12:43:43.178Z"
   },
   {
    "duration": 6,
    "start_time": "2022-02-18T12:44:17.435Z"
   },
   {
    "duration": 5,
    "start_time": "2022-02-18T12:44:24.634Z"
   },
   {
    "duration": 8,
    "start_time": "2022-02-18T12:47:52.380Z"
   },
   {
    "duration": 8,
    "start_time": "2022-02-18T12:47:58.091Z"
   },
   {
    "duration": 7,
    "start_time": "2022-02-18T12:48:04.115Z"
   },
   {
    "duration": 58,
    "start_time": "2022-02-18T12:48:18.259Z"
   },
   {
    "duration": 5,
    "start_time": "2022-02-18T12:49:18.556Z"
   },
   {
    "duration": 183,
    "start_time": "2022-02-18T12:49:26.428Z"
   },
   {
    "duration": 81,
    "start_time": "2022-02-18T12:49:48.972Z"
   },
   {
    "duration": 10,
    "start_time": "2022-02-18T12:49:53.588Z"
   },
   {
    "duration": 9,
    "start_time": "2022-02-18T12:50:38.492Z"
   },
   {
    "duration": 27,
    "start_time": "2022-02-18T12:51:09.853Z"
   },
   {
    "duration": 281,
    "start_time": "2022-02-18T12:51:35.063Z"
   },
   {
    "duration": 29,
    "start_time": "2022-02-18T12:51:54.324Z"
   },
   {
    "duration": 25,
    "start_time": "2022-02-18T12:52:07.650Z"
   },
   {
    "duration": 18,
    "start_time": "2022-02-18T12:52:23.781Z"
   },
   {
    "duration": 20,
    "start_time": "2022-02-18T12:52:27.781Z"
   },
   {
    "duration": 30,
    "start_time": "2022-02-18T12:52:35.021Z"
   },
   {
    "duration": 25,
    "start_time": "2022-02-18T12:52:43.766Z"
   },
   {
    "duration": 26,
    "start_time": "2022-02-18T12:52:51.286Z"
   },
   {
    "duration": 26,
    "start_time": "2022-02-18T12:52:59.485Z"
   },
   {
    "duration": 62,
    "start_time": "2022-02-18T12:53:04.653Z"
   },
   {
    "duration": 28,
    "start_time": "2022-02-18T12:53:07.804Z"
   },
   {
    "duration": 25,
    "start_time": "2022-02-18T12:53:55.271Z"
   },
   {
    "duration": 26,
    "start_time": "2022-02-18T12:54:13.966Z"
   },
   {
    "duration": 28,
    "start_time": "2022-02-18T12:54:21.677Z"
   },
   {
    "duration": 28,
    "start_time": "2022-02-18T12:54:28.094Z"
   },
   {
    "duration": 27,
    "start_time": "2022-02-18T12:54:32.973Z"
   },
   {
    "duration": 26,
    "start_time": "2022-02-18T12:54:47.445Z"
   },
   {
    "duration": 25,
    "start_time": "2022-02-18T12:54:54.101Z"
   },
   {
    "duration": 27,
    "start_time": "2022-02-18T12:54:59.341Z"
   },
   {
    "duration": 26,
    "start_time": "2022-02-18T12:55:07.014Z"
   },
   {
    "duration": 26,
    "start_time": "2022-02-18T12:55:10.614Z"
   },
   {
    "duration": 26,
    "start_time": "2022-02-18T12:55:14.450Z"
   },
   {
    "duration": 36,
    "start_time": "2022-02-18T12:55:25.770Z"
   },
   {
    "duration": 27,
    "start_time": "2022-02-18T12:55:31.230Z"
   },
   {
    "duration": 26,
    "start_time": "2022-02-18T12:55:38.373Z"
   },
   {
    "duration": 29,
    "start_time": "2022-02-18T12:55:48.222Z"
   },
   {
    "duration": 6,
    "start_time": "2022-02-18T12:59:46.895Z"
   },
   {
    "duration": 6,
    "start_time": "2022-02-18T13:01:56.424Z"
   },
   {
    "duration": 10,
    "start_time": "2022-02-18T13:02:06.080Z"
   },
   {
    "duration": 8,
    "start_time": "2022-02-18T13:02:11.768Z"
   },
   {
    "duration": 5,
    "start_time": "2022-02-18T13:03:08.840Z"
   },
   {
    "duration": 8,
    "start_time": "2022-02-18T13:03:31.272Z"
   },
   {
    "duration": 295,
    "start_time": "2022-02-18T13:03:50.648Z"
   },
   {
    "duration": 24,
    "start_time": "2022-02-18T13:04:09.033Z"
   },
   {
    "duration": 26,
    "start_time": "2022-02-18T13:04:37.770Z"
   },
   {
    "duration": 7,
    "start_time": "2022-02-18T13:05:33.553Z"
   },
   {
    "duration": 23,
    "start_time": "2022-02-18T13:05:35.505Z"
   },
   {
    "duration": 4,
    "start_time": "2022-02-18T13:08:01.691Z"
   },
   {
    "duration": 6,
    "start_time": "2022-02-18T13:08:10.330Z"
   },
   {
    "duration": 22,
    "start_time": "2022-02-18T13:08:26.482Z"
   },
   {
    "duration": 24,
    "start_time": "2022-02-18T13:12:23.053Z"
   },
   {
    "duration": 21,
    "start_time": "2022-02-18T13:12:32.398Z"
   },
   {
    "duration": 11,
    "start_time": "2022-02-18T13:14:07.534Z"
   },
   {
    "duration": 4,
    "start_time": "2022-02-18T13:14:27.661Z"
   },
   {
    "duration": 11,
    "start_time": "2022-02-18T13:14:34.454Z"
   },
   {
    "duration": 10,
    "start_time": "2022-02-18T13:15:50.110Z"
   },
   {
    "duration": 172,
    "start_time": "2022-02-18T13:19:10.120Z"
   },
   {
    "duration": 171,
    "start_time": "2022-02-18T13:19:16.632Z"
   },
   {
    "duration": 12,
    "start_time": "2022-02-18T13:20:08.543Z"
   },
   {
    "duration": 190,
    "start_time": "2022-02-18T13:20:36.376Z"
   },
   {
    "duration": 2597,
    "start_time": "2022-02-18T13:21:02.976Z"
   },
   {
    "duration": 209,
    "start_time": "2022-02-18T13:21:23.898Z"
   },
   {
    "duration": 179,
    "start_time": "2022-02-18T13:21:30.128Z"
   },
   {
    "duration": 8,
    "start_time": "2022-02-18T13:23:27.433Z"
   },
   {
    "duration": 2691,
    "start_time": "2022-02-18T13:23:39.785Z"
   },
   {
    "duration": 14,
    "start_time": "2022-02-18T13:23:51.468Z"
   },
   {
    "duration": 20,
    "start_time": "2022-02-18T13:24:33.562Z"
   },
   {
    "duration": 12,
    "start_time": "2022-02-18T13:24:41.426Z"
   },
   {
    "duration": 13,
    "start_time": "2022-02-18T13:24:44.443Z"
   },
   {
    "duration": 21,
    "start_time": "2022-02-18T13:24:49.067Z"
   },
   {
    "duration": 20,
    "start_time": "2022-02-18T13:26:07.996Z"
   },
   {
    "duration": 12,
    "start_time": "2022-02-18T13:26:44.358Z"
   },
   {
    "duration": 14,
    "start_time": "2022-02-18T13:26:55.012Z"
   },
   {
    "duration": 12,
    "start_time": "2022-02-18T13:26:58.043Z"
   },
   {
    "duration": 12,
    "start_time": "2022-02-18T13:27:00.556Z"
   },
   {
    "duration": 45,
    "start_time": "2022-02-18T13:27:30.715Z"
   },
   {
    "duration": 12,
    "start_time": "2022-02-18T13:27:30.762Z"
   },
   {
    "duration": 24,
    "start_time": "2022-02-18T13:27:30.776Z"
   },
   {
    "duration": 9,
    "start_time": "2022-02-18T13:27:30.801Z"
   },
   {
    "duration": 18,
    "start_time": "2022-02-18T13:27:30.812Z"
   },
   {
    "duration": 7,
    "start_time": "2022-02-18T13:27:30.832Z"
   },
   {
    "duration": 24,
    "start_time": "2022-02-18T13:27:30.841Z"
   },
   {
    "duration": 21,
    "start_time": "2022-02-18T13:27:46.820Z"
   },
   {
    "duration": 12,
    "start_time": "2022-02-18T13:27:57.925Z"
   },
   {
    "duration": 53,
    "start_time": "2022-02-18T13:28:37.741Z"
   },
   {
    "duration": 182,
    "start_time": "2022-02-18T13:28:50.421Z"
   },
   {
    "duration": 21,
    "start_time": "2022-02-18T13:29:09.765Z"
   },
   {
    "duration": 12,
    "start_time": "2022-02-18T13:29:29.037Z"
   },
   {
    "duration": 63,
    "start_time": "2022-02-18T13:29:45.406Z"
   },
   {
    "duration": 23,
    "start_time": "2022-02-18T13:29:48.558Z"
   },
   {
    "duration": 207,
    "start_time": "2022-02-18T13:30:16.141Z"
   },
   {
    "duration": 205,
    "start_time": "2022-02-18T13:30:43.726Z"
   },
   {
    "duration": 185,
    "start_time": "2022-02-18T13:30:54.118Z"
   },
   {
    "duration": 23,
    "start_time": "2022-02-18T13:31:35.956Z"
   },
   {
    "duration": 16,
    "start_time": "2022-02-18T13:32:14.515Z"
   },
   {
    "duration": 20,
    "start_time": "2022-02-18T13:34:41.621Z"
   },
   {
    "duration": 4,
    "start_time": "2022-02-18T13:35:39.054Z"
   },
   {
    "duration": 17,
    "start_time": "2022-02-18T13:35:58.292Z"
   },
   {
    "duration": 17,
    "start_time": "2022-02-18T13:36:01.964Z"
   },
   {
    "duration": 8,
    "start_time": "2022-02-18T13:36:17.525Z"
   },
   {
    "duration": 5,
    "start_time": "2022-02-18T13:36:49.437Z"
   },
   {
    "duration": 6,
    "start_time": "2022-02-18T13:36:54.445Z"
   },
   {
    "duration": 4,
    "start_time": "2022-02-18T13:36:54.765Z"
   },
   {
    "duration": 44,
    "start_time": "2022-02-18T13:37:03.978Z"
   },
   {
    "duration": 15,
    "start_time": "2022-02-18T13:37:04.024Z"
   },
   {
    "duration": 12,
    "start_time": "2022-02-18T13:37:04.041Z"
   },
   {
    "duration": 10,
    "start_time": "2022-02-18T13:37:04.054Z"
   },
   {
    "duration": 7,
    "start_time": "2022-02-18T13:37:04.065Z"
   },
   {
    "duration": 9,
    "start_time": "2022-02-18T13:37:04.073Z"
   },
   {
    "duration": 8,
    "start_time": "2022-02-18T13:37:04.084Z"
   },
   {
    "duration": 184,
    "start_time": "2022-02-18T13:37:20.285Z"
   },
   {
    "duration": 8,
    "start_time": "2022-02-18T13:37:24.190Z"
   },
   {
    "duration": 6,
    "start_time": "2022-02-18T13:37:51.141Z"
   },
   {
    "duration": 187,
    "start_time": "2022-02-18T13:38:03.318Z"
   },
   {
    "duration": 9,
    "start_time": "2022-02-18T13:38:07.845Z"
   },
   {
    "duration": 8,
    "start_time": "2022-02-18T13:38:27.173Z"
   },
   {
    "duration": 7,
    "start_time": "2022-02-18T13:38:46.166Z"
   },
   {
    "duration": 7,
    "start_time": "2022-02-18T13:39:02.814Z"
   },
   {
    "duration": 3,
    "start_time": "2022-02-18T13:40:03.032Z"
   },
   {
    "duration": 6,
    "start_time": "2022-02-18T13:40:08.199Z"
   },
   {
    "duration": 187,
    "start_time": "2022-02-18T13:40:28.438Z"
   },
   {
    "duration": 248,
    "start_time": "2022-02-18T13:40:33.294Z"
   },
   {
    "duration": 14,
    "start_time": "2022-02-18T13:40:38.662Z"
   },
   {
    "duration": 5,
    "start_time": "2022-02-18T13:41:15.023Z"
   },
   {
    "duration": 14,
    "start_time": "2022-02-18T13:42:16.439Z"
   },
   {
    "duration": 7,
    "start_time": "2022-02-18T13:42:33.551Z"
   },
   {
    "duration": 6,
    "start_time": "2022-02-18T13:42:39.647Z"
   },
   {
    "duration": 7,
    "start_time": "2022-02-18T13:42:46.479Z"
   },
   {
    "duration": 6,
    "start_time": "2022-02-18T13:42:51.759Z"
   },
   {
    "duration": 53,
    "start_time": "2022-02-18T13:42:57.395Z"
   },
   {
    "duration": 13,
    "start_time": "2022-02-18T13:42:57.449Z"
   },
   {
    "duration": 14,
    "start_time": "2022-02-18T13:42:57.464Z"
   },
   {
    "duration": 10,
    "start_time": "2022-02-18T13:42:57.480Z"
   },
   {
    "duration": 4,
    "start_time": "2022-02-18T13:42:57.492Z"
   },
   {
    "duration": 33,
    "start_time": "2022-02-18T13:42:57.498Z"
   },
   {
    "duration": 7,
    "start_time": "2022-02-18T13:42:57.533Z"
   },
   {
    "duration": 709,
    "start_time": "2022-02-19T11:20:26.083Z"
   },
   {
    "duration": 21,
    "start_time": "2022-02-19T11:20:26.794Z"
   },
   {
    "duration": 16,
    "start_time": "2022-02-19T11:20:26.817Z"
   },
   {
    "duration": 11,
    "start_time": "2022-02-19T11:20:26.835Z"
   },
   {
    "duration": 6,
    "start_time": "2022-02-19T11:20:26.847Z"
   },
   {
    "duration": 11,
    "start_time": "2022-02-19T11:20:26.855Z"
   },
   {
    "duration": 376,
    "start_time": "2022-02-19T11:25:20.250Z"
   },
   {
    "duration": 4,
    "start_time": "2022-02-19T11:25:28.458Z"
   },
   {
    "duration": 4,
    "start_time": "2022-02-19T11:32:00.198Z"
   },
   {
    "duration": 28,
    "start_time": "2022-02-19T11:33:18.348Z"
   },
   {
    "duration": 271,
    "start_time": "2022-02-19T11:33:55.703Z"
   },
   {
    "duration": 32,
    "start_time": "2022-02-19T11:34:08.894Z"
   },
   {
    "duration": 4,
    "start_time": "2022-02-19T11:40:52.441Z"
   },
   {
    "duration": 31,
    "start_time": "2022-02-19T11:43:57.635Z"
   },
   {
    "duration": 30,
    "start_time": "2022-02-19T11:44:10.858Z"
   },
   {
    "duration": 31,
    "start_time": "2022-02-19T12:05:03.028Z"
   },
   {
    "duration": 24,
    "start_time": "2022-02-19T12:05:23.211Z"
   },
   {
    "duration": 24,
    "start_time": "2022-02-19T12:06:49.395Z"
   },
   {
    "duration": 31,
    "start_time": "2022-02-19T12:06:59.635Z"
   },
   {
    "duration": 33,
    "start_time": "2022-02-19T12:07:16.284Z"
   },
   {
    "duration": 30,
    "start_time": "2022-02-19T12:08:07.964Z"
   },
   {
    "duration": 30,
    "start_time": "2022-02-19T12:08:59.197Z"
   },
   {
    "duration": 31,
    "start_time": "2022-02-19T12:09:04.663Z"
   },
   {
    "duration": 29,
    "start_time": "2022-02-19T12:09:11.708Z"
   },
   {
    "duration": 26,
    "start_time": "2022-02-19T12:09:18.861Z"
   },
   {
    "duration": 670,
    "start_time": "2022-02-19T12:19:15.681Z"
   },
   {
    "duration": 15,
    "start_time": "2022-02-19T12:19:16.353Z"
   },
   {
    "duration": 15,
    "start_time": "2022-02-19T12:19:16.370Z"
   },
   {
    "duration": 20,
    "start_time": "2022-02-19T12:19:16.388Z"
   },
   {
    "duration": 6,
    "start_time": "2022-02-19T12:19:16.410Z"
   },
   {
    "duration": 14,
    "start_time": "2022-02-19T12:19:16.418Z"
   },
   {
    "duration": 8,
    "start_time": "2022-02-19T12:19:16.434Z"
   },
   {
    "duration": 6,
    "start_time": "2022-02-19T12:19:16.444Z"
   },
   {
    "duration": 26,
    "start_time": "2022-02-19T12:19:16.452Z"
   },
   {
    "duration": 450,
    "start_time": "2022-02-19T12:19:46.473Z"
   },
   {
    "duration": 279,
    "start_time": "2022-02-19T12:20:22.250Z"
   },
   {
    "duration": 55,
    "start_time": "2022-02-19T12:20:39.882Z"
   },
   {
    "duration": 16,
    "start_time": "2022-02-19T12:20:40.283Z"
   },
   {
    "duration": 13,
    "start_time": "2022-02-19T12:20:40.457Z"
   },
   {
    "duration": 11,
    "start_time": "2022-02-19T12:20:41.256Z"
   },
   {
    "duration": 6,
    "start_time": "2022-02-19T12:20:41.672Z"
   },
   {
    "duration": 9,
    "start_time": "2022-02-19T12:20:41.921Z"
   },
   {
    "duration": 6,
    "start_time": "2022-02-19T12:20:42.272Z"
   },
   {
    "duration": 4,
    "start_time": "2022-02-19T12:20:42.481Z"
   },
   {
    "duration": 27,
    "start_time": "2022-02-19T12:20:42.681Z"
   },
   {
    "duration": 283,
    "start_time": "2022-02-19T12:20:42.856Z"
   },
   {
    "duration": 1252,
    "start_time": "2022-02-19T12:22:09.051Z"
   },
   {
    "duration": 309,
    "start_time": "2022-02-19T12:23:21.179Z"
   },
   {
    "duration": 50,
    "start_time": "2022-02-19T12:23:25.838Z"
   },
   {
    "duration": 13,
    "start_time": "2022-02-19T12:23:25.891Z"
   },
   {
    "duration": 15,
    "start_time": "2022-02-19T12:23:25.906Z"
   },
   {
    "duration": 11,
    "start_time": "2022-02-19T12:23:25.924Z"
   },
   {
    "duration": 19,
    "start_time": "2022-02-19T12:23:25.937Z"
   },
   {
    "duration": 11,
    "start_time": "2022-02-19T12:23:25.958Z"
   },
   {
    "duration": 5,
    "start_time": "2022-02-19T12:23:25.971Z"
   },
   {
    "duration": 31,
    "start_time": "2022-02-19T12:23:25.978Z"
   },
   {
    "duration": 31,
    "start_time": "2022-02-19T12:23:26.011Z"
   },
   {
    "duration": 1216,
    "start_time": "2022-02-19T12:23:28.962Z"
   },
   {
    "duration": 337,
    "start_time": "2022-02-19T12:23:46.421Z"
   },
   {
    "duration": 329,
    "start_time": "2022-02-19T14:30:55.754Z"
   },
   {
    "duration": 1335,
    "start_time": "2022-02-19T14:31:20.518Z"
   },
   {
    "duration": 18,
    "start_time": "2022-02-19T14:31:21.855Z"
   },
   {
    "duration": 34,
    "start_time": "2022-02-19T14:31:21.875Z"
   },
   {
    "duration": 30,
    "start_time": "2022-02-19T14:31:21.912Z"
   },
   {
    "duration": 31,
    "start_time": "2022-02-19T14:31:21.944Z"
   },
   {
    "duration": 36,
    "start_time": "2022-02-19T14:31:21.977Z"
   },
   {
    "duration": 24,
    "start_time": "2022-02-19T14:31:22.016Z"
   },
   {
    "duration": 30,
    "start_time": "2022-02-19T14:31:22.042Z"
   },
   {
    "duration": 57,
    "start_time": "2022-02-19T14:31:22.075Z"
   },
   {
    "duration": 2,
    "start_time": "2022-02-19T14:31:22.134Z"
   },
   {
    "duration": 45,
    "start_time": "2022-02-19T15:23:59.435Z"
   },
   {
    "duration": 25,
    "start_time": "2022-02-19T15:23:59.839Z"
   },
   {
    "duration": 1191,
    "start_time": "2022-02-19T18:02:51.312Z"
   },
   {
    "duration": 15,
    "start_time": "2022-02-19T18:02:52.505Z"
   },
   {
    "duration": 42,
    "start_time": "2022-02-19T18:02:56.223Z"
   },
   {
    "duration": 11,
    "start_time": "2022-02-19T18:02:56.267Z"
   },
   {
    "duration": 10,
    "start_time": "2022-02-19T18:02:56.280Z"
   },
   {
    "duration": 10,
    "start_time": "2022-02-19T18:02:56.293Z"
   },
   {
    "duration": 6,
    "start_time": "2022-02-19T18:02:56.330Z"
   },
   {
    "duration": 8,
    "start_time": "2022-02-19T18:02:56.338Z"
   },
   {
    "duration": 4,
    "start_time": "2022-02-19T18:02:56.348Z"
   },
   {
    "duration": 4,
    "start_time": "2022-02-19T18:02:56.355Z"
   },
   {
    "duration": 21,
    "start_time": "2022-02-19T18:02:56.360Z"
   },
   {
    "duration": 2,
    "start_time": "2022-02-19T18:02:56.382Z"
   },
   {
    "duration": 1229464,
    "start_time": "2022-02-19T18:03:10.146Z"
   },
   {
    "duration": 39,
    "start_time": "2022-02-19T19:33:43.647Z"
   },
   {
    "duration": 38,
    "start_time": "2022-02-19T19:33:43.701Z"
   },
   {
    "duration": 12,
    "start_time": "2022-02-19T19:33:43.748Z"
   },
   {
    "duration": 10,
    "start_time": "2022-02-19T19:33:43.771Z"
   },
   {
    "duration": 43,
    "start_time": "2022-02-19T19:33:43.788Z"
   },
   {
    "duration": 9,
    "start_time": "2022-02-19T19:33:43.840Z"
   },
   {
    "duration": 4,
    "start_time": "2022-02-19T19:33:43.879Z"
   },
   {
    "duration": 1161,
    "start_time": "2022-03-06T15:33:06.852Z"
   },
   {
    "duration": 27,
    "start_time": "2022-03-06T15:33:08.016Z"
   },
   {
    "duration": 14,
    "start_time": "2022-03-06T15:33:08.046Z"
   },
   {
    "duration": 6,
    "start_time": "2022-03-06T15:33:08.062Z"
   },
   {
    "duration": 36,
    "start_time": "2022-03-06T15:33:08.069Z"
   },
   {
    "duration": 24,
    "start_time": "2022-03-06T15:33:08.107Z"
   },
   {
    "duration": 11,
    "start_time": "2022-03-06T15:33:16.970Z"
   }
  ],
  "kernelspec": {
   "display_name": "Python 3 (ipykernel)",
   "language": "python",
   "name": "python3"
  },
  "language_info": {
   "codemirror_mode": {
    "name": "ipython",
    "version": 3
   },
   "file_extension": ".py",
   "mimetype": "text/x-python",
   "name": "python",
   "nbconvert_exporter": "python",
   "pygments_lexer": "ipython3",
   "version": "3.9.12"
  },
  "toc": {
   "base_numbering": 1,
   "nav_menu": {},
   "number_sections": true,
   "sideBar": true,
   "skip_h1_title": true,
   "title_cell": "Table of Contents",
   "title_sidebar": "Contents",
   "toc_cell": false,
   "toc_position": {},
   "toc_section_display": true,
   "toc_window_display": false
  }
 },
 "nbformat": 4,
 "nbformat_minor": 5
}
