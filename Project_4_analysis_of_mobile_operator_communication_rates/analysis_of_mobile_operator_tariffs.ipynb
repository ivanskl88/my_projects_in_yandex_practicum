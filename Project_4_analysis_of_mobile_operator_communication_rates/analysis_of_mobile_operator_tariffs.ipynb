{
 "cells": [
  {
   "cell_type": "markdown",
   "id": "b5835a85",
   "metadata": {},
   "source": [
    "## 1. Обзор данных"
   ]
  },
  {
   "cell_type": "markdown",
   "id": "9346e27a",
   "metadata": {},
   "source": [
    "В нашем распоряжении 5 датафреймов, назовем их следующим образом:\n",
    "* `df_calls` - информация о звонках;\n",
    "* `df_internet` - информация об интернет-сессиях;\n",
    "* `df_messages` - информация о сообщениях;\n",
    "* `df_tariffs` - информация о тарифах;\n",
    "* `df_users` - информация о пользователях.\n",
    " \n",
    "Откроем каждый из датафреймов и выведем общую информацию. Изучим их по-отдельности и напишем описание данных согласно полученной документации. В завершении напишем общий вывод."
   ]
  },
  {
   "cell_type": "code",
   "execution_count": 1,
   "id": "f8cad7d9",
   "metadata": {},
   "outputs": [],
   "source": [
    "# импортируем библиотеки необходимые для исследования\n",
    "\n",
    "import pandas as pd\n",
    "import matplotlib.pyplot as plt\n",
    "import numpy as np\n",
    "from math import factorial\n",
    "from scipy import stats as st\n",
    "\n",
    "\n",
    "import warnings\n",
    "warnings.simplefilter(action='ignore', category=FutureWarning)"
   ]
  },
  {
   "cell_type": "code",
   "execution_count": 2,
   "id": "a9fa0dd1",
   "metadata": {},
   "outputs": [],
   "source": [
    "# укажем путь к дф и назовем их как указали выше\n",
    "\n",
    "try:\n",
    "    df_calls = pd.read_csv('/datasets/calls.csv.')                 # информация о звонках\n",
    "    df_internet = pd.read_csv('/datasets/internet.csv.')           # информация об интернет-сессиях\n",
    "    df_messages = pd.read_csv('/datasets/messages.csv.')           # информация о сообщениях\n",
    "    df_tariffs = pd.read_csv('/datasets/tariffs.csv.')             # информация о тарифах\n",
    "    df_users = pd.read_csv('/datasets/users.csv.')                 # информация о пользователях\n",
    "    \n",
    "except: \n",
    "    df_calls = pd.read_csv('link to the file')                     # информация о звонках\n",
    "    df_internet = pd.read_csv('link to the file')                  # информация об интернет-сессиях\n",
    "    df_messages = pd.read_csv('link to the file')                  # информация о сообщениях\n",
    "    df_tariffs = pd.read_csv('link to the file')                   # информация о тарифах\n",
    "    df_users = pd.read_csv('link to the file')                     # информация о пользователях\n",
    "    \n",
    "    "
   ]
  },
  {
   "cell_type": "markdown",
   "id": "d8aa0795",
   "metadata": {},
   "source": [
    "**Изучим датафрейм `df_calls`.**\n",
    "\n",
    "В нем содержится информация о звонках клиентов. Давайте ознакомимся с технической документацией, которую нам предоставил заказчик.\n"
   ]
  },
  {
   "cell_type": "code",
   "execution_count": 3,
   "id": "f7f0021a",
   "metadata": {},
   "outputs": [
    {
     "name": "stdout",
     "output_type": "stream",
     "text": [
      "Информация о звонках:\n"
     ]
    },
    {
     "data": {
      "text/html": [
       "<div>\n",
       "<style scoped>\n",
       "    .dataframe tbody tr th:only-of-type {\n",
       "        vertical-align: middle;\n",
       "    }\n",
       "\n",
       "    .dataframe tbody tr th {\n",
       "        vertical-align: top;\n",
       "    }\n",
       "\n",
       "    .dataframe thead th {\n",
       "        text-align: right;\n",
       "    }\n",
       "</style>\n",
       "<table border=\"1\" class=\"dataframe\">\n",
       "  <thead>\n",
       "    <tr style=\"text-align: right;\">\n",
       "      <th></th>\n",
       "      <th>id</th>\n",
       "      <th>call_date</th>\n",
       "      <th>duration</th>\n",
       "      <th>user_id</th>\n",
       "    </tr>\n",
       "  </thead>\n",
       "  <tbody>\n",
       "    <tr>\n",
       "      <th>0</th>\n",
       "      <td>1000_0</td>\n",
       "      <td>2018-07-25</td>\n",
       "      <td>0.00</td>\n",
       "      <td>1000</td>\n",
       "    </tr>\n",
       "    <tr>\n",
       "      <th>1</th>\n",
       "      <td>1000_1</td>\n",
       "      <td>2018-08-17</td>\n",
       "      <td>0.00</td>\n",
       "      <td>1000</td>\n",
       "    </tr>\n",
       "    <tr>\n",
       "      <th>2</th>\n",
       "      <td>1000_2</td>\n",
       "      <td>2018-06-11</td>\n",
       "      <td>2.85</td>\n",
       "      <td>1000</td>\n",
       "    </tr>\n",
       "    <tr>\n",
       "      <th>3</th>\n",
       "      <td>1000_3</td>\n",
       "      <td>2018-09-21</td>\n",
       "      <td>13.80</td>\n",
       "      <td>1000</td>\n",
       "    </tr>\n",
       "    <tr>\n",
       "      <th>4</th>\n",
       "      <td>1000_4</td>\n",
       "      <td>2018-12-15</td>\n",
       "      <td>5.18</td>\n",
       "      <td>1000</td>\n",
       "    </tr>\n",
       "  </tbody>\n",
       "</table>\n",
       "</div>"
      ],
      "text/plain": [
       "       id   call_date  duration  user_id\n",
       "0  1000_0  2018-07-25      0.00     1000\n",
       "1  1000_1  2018-08-17      0.00     1000\n",
       "2  1000_2  2018-06-11      2.85     1000\n",
       "3  1000_3  2018-09-21     13.80     1000\n",
       "4  1000_4  2018-12-15      5.18     1000"
      ]
     },
     "metadata": {},
     "output_type": "display_data"
    },
    {
     "name": "stdout",
     "output_type": "stream",
     "text": [
      "\n",
      "Общая информация о таблице\n",
      "\n",
      "<class 'pandas.core.frame.DataFrame'>\n",
      "RangeIndex: 202607 entries, 0 to 202606\n",
      "Data columns (total 4 columns):\n",
      " #   Column     Non-Null Count   Dtype  \n",
      "---  ------     --------------   -----  \n",
      " 0   id         202607 non-null  object \n",
      " 1   call_date  202607 non-null  object \n",
      " 2   duration   202607 non-null  float64\n",
      " 3   user_id    202607 non-null  int64  \n",
      "dtypes: float64(1), int64(1), object(2)\n",
      "memory usage: 6.2+ MB\n"
     ]
    }
   ],
   "source": [
    "# выведем первые 5 строк дф и общую информацию\n",
    "\n",
    "print('Информация о звонках:')\n",
    "display(df_calls.head(5))\n",
    "print()\n",
    "print('Общая информация о таблице')\n",
    "print()\n",
    "df_calls.info()"
   ]
  },
  {
   "cell_type": "markdown",
   "id": "af53e854",
   "metadata": {},
   "source": [
    "**Описание данных:**\n",
    "\n",
    "* `id` — уникальный номер звонка;\n",
    "* `call_date` — дата звонка;\n",
    "* `duration` — длительность звонка в минутах;\n",
    "* `user_id` — идентификатор пользователя, сделавшего звонок.\n",
    "\n",
    "**Итог по датафрейму**: \n",
    "\n",
    "* **202 607** строк и **4** столбца;\n",
    "* пропущенных значений **нет**;\n",
    "* название столбцов записано корректно;\n",
    "* столбец `call_date` содержит дату, его следует перевести в формат **datetime**;\n",
    "* столбец `duration` содержит длительность звонка, мы знаем, что «Мегалайн» всегда округляет секунды **до минут**, поэтому следует округлить до минут и можно поменять тип данных на **int**."
   ]
  },
  {
   "cell_type": "markdown",
   "id": "9b217f34",
   "metadata": {},
   "source": [
    "**Изучим датафрейм `df_internet`.**\n",
    "\n",
    "В нем содержится информация об интернет-сессиях клиентов. Давайте ознакомимся с технической документацией, которую нам предоставил заказчик.\n",
    "\n"
   ]
  },
  {
   "cell_type": "code",
   "execution_count": 4,
   "id": "5137da73",
   "metadata": {},
   "outputs": [
    {
     "name": "stdout",
     "output_type": "stream",
     "text": [
      "Информация об интернет-сессиях:\n"
     ]
    },
    {
     "data": {
      "text/html": [
       "<div>\n",
       "<style scoped>\n",
       "    .dataframe tbody tr th:only-of-type {\n",
       "        vertical-align: middle;\n",
       "    }\n",
       "\n",
       "    .dataframe tbody tr th {\n",
       "        vertical-align: top;\n",
       "    }\n",
       "\n",
       "    .dataframe thead th {\n",
       "        text-align: right;\n",
       "    }\n",
       "</style>\n",
       "<table border=\"1\" class=\"dataframe\">\n",
       "  <thead>\n",
       "    <tr style=\"text-align: right;\">\n",
       "      <th></th>\n",
       "      <th>Unnamed: 0</th>\n",
       "      <th>id</th>\n",
       "      <th>mb_used</th>\n",
       "      <th>session_date</th>\n",
       "      <th>user_id</th>\n",
       "    </tr>\n",
       "  </thead>\n",
       "  <tbody>\n",
       "    <tr>\n",
       "      <th>0</th>\n",
       "      <td>0</td>\n",
       "      <td>1000_0</td>\n",
       "      <td>112.95</td>\n",
       "      <td>2018-11-25</td>\n",
       "      <td>1000</td>\n",
       "    </tr>\n",
       "    <tr>\n",
       "      <th>1</th>\n",
       "      <td>1</td>\n",
       "      <td>1000_1</td>\n",
       "      <td>1052.81</td>\n",
       "      <td>2018-09-07</td>\n",
       "      <td>1000</td>\n",
       "    </tr>\n",
       "    <tr>\n",
       "      <th>2</th>\n",
       "      <td>2</td>\n",
       "      <td>1000_2</td>\n",
       "      <td>1197.26</td>\n",
       "      <td>2018-06-25</td>\n",
       "      <td>1000</td>\n",
       "    </tr>\n",
       "    <tr>\n",
       "      <th>3</th>\n",
       "      <td>3</td>\n",
       "      <td>1000_3</td>\n",
       "      <td>550.27</td>\n",
       "      <td>2018-08-22</td>\n",
       "      <td>1000</td>\n",
       "    </tr>\n",
       "    <tr>\n",
       "      <th>4</th>\n",
       "      <td>4</td>\n",
       "      <td>1000_4</td>\n",
       "      <td>302.56</td>\n",
       "      <td>2018-09-24</td>\n",
       "      <td>1000</td>\n",
       "    </tr>\n",
       "  </tbody>\n",
       "</table>\n",
       "</div>"
      ],
      "text/plain": [
       "   Unnamed: 0      id  mb_used session_date  user_id\n",
       "0           0  1000_0   112.95   2018-11-25     1000\n",
       "1           1  1000_1  1052.81   2018-09-07     1000\n",
       "2           2  1000_2  1197.26   2018-06-25     1000\n",
       "3           3  1000_3   550.27   2018-08-22     1000\n",
       "4           4  1000_4   302.56   2018-09-24     1000"
      ]
     },
     "metadata": {},
     "output_type": "display_data"
    },
    {
     "name": "stdout",
     "output_type": "stream",
     "text": [
      "\n",
      "Общая информация о таблице\n",
      "\n",
      "<class 'pandas.core.frame.DataFrame'>\n",
      "RangeIndex: 149396 entries, 0 to 149395\n",
      "Data columns (total 5 columns):\n",
      " #   Column        Non-Null Count   Dtype  \n",
      "---  ------        --------------   -----  \n",
      " 0   Unnamed: 0    149396 non-null  int64  \n",
      " 1   id            149396 non-null  object \n",
      " 2   mb_used       149396 non-null  float64\n",
      " 3   session_date  149396 non-null  object \n",
      " 4   user_id       149396 non-null  int64  \n",
      "dtypes: float64(1), int64(2), object(2)\n",
      "memory usage: 5.7+ MB\n"
     ]
    }
   ],
   "source": [
    "# выведем первые 5 строк дф и общую информацию\n",
    "\n",
    "print('Информация об интернет-сессиях:')\n",
    "display(df_internet.head(5))\n",
    "print()\n",
    "print('Общая информация о таблице')\n",
    "print()\n",
    "df_internet.info()"
   ]
  },
  {
   "cell_type": "markdown",
   "id": "d497bbe7",
   "metadata": {},
   "source": [
    "**Описание данных:**\n",
    "\n",
    "* `id` — уникальный номер сессии;\n",
    "* `mb_used` — объём потраченного за сессию интернет-трафика (в мегабайтах);\n",
    "* `session_date` — дата интернет-сессии;\n",
    "* `user_id` — идентификатор пользователя.\n",
    "\n",
    "* присутствует еще столбец `Unnamed: 0` (безымянный в переводе на русский) - его нет в описании данных, а содержит он в себе целые числа и чем-то похож на индексы.\n",
    "\n",
    "**Итог по датафрейму**: \n",
    "* **149 396** строк и **5** столбцов;\n",
    "* пропущенных значений **нет**;\n",
    "* название столбоц написано корректно, за исключением \"неопознаного\" столбца `Unnamed: 0`;\n",
    "* столбец `session_date` содержит дату, его следует перевести в формат **datetime**;\n",
    "* столбец `mb_used` содержит данные о потраченом за сессию интернет-трафика (в мегабайтах), мы знаем, что «Мегалайн» общую сумму за месяц округляет до **гигабайт**, поэтому следует округлить до **гигабайт** и можно поменять тип данных на **int**.\n"
   ]
  },
  {
   "cell_type": "markdown",
   "id": "48844a0c",
   "metadata": {},
   "source": [
    "**Изучим датафрейм `df_messages`.**\n",
    "\n",
    "В нем содержится информация о сообщениях клиентов. Давайте ознакомимся с технической документацией, которую нам предоставил заказчик.\n",
    "\n"
   ]
  },
  {
   "cell_type": "code",
   "execution_count": 5,
   "id": "6541dd5f",
   "metadata": {},
   "outputs": [
    {
     "name": "stdout",
     "output_type": "stream",
     "text": [
      "Информация о сообщениях:\n"
     ]
    },
    {
     "data": {
      "text/html": [
       "<div>\n",
       "<style scoped>\n",
       "    .dataframe tbody tr th:only-of-type {\n",
       "        vertical-align: middle;\n",
       "    }\n",
       "\n",
       "    .dataframe tbody tr th {\n",
       "        vertical-align: top;\n",
       "    }\n",
       "\n",
       "    .dataframe thead th {\n",
       "        text-align: right;\n",
       "    }\n",
       "</style>\n",
       "<table border=\"1\" class=\"dataframe\">\n",
       "  <thead>\n",
       "    <tr style=\"text-align: right;\">\n",
       "      <th></th>\n",
       "      <th>id</th>\n",
       "      <th>message_date</th>\n",
       "      <th>user_id</th>\n",
       "    </tr>\n",
       "  </thead>\n",
       "  <tbody>\n",
       "    <tr>\n",
       "      <th>0</th>\n",
       "      <td>1000_0</td>\n",
       "      <td>2018-06-27</td>\n",
       "      <td>1000</td>\n",
       "    </tr>\n",
       "    <tr>\n",
       "      <th>1</th>\n",
       "      <td>1000_1</td>\n",
       "      <td>2018-10-08</td>\n",
       "      <td>1000</td>\n",
       "    </tr>\n",
       "    <tr>\n",
       "      <th>2</th>\n",
       "      <td>1000_2</td>\n",
       "      <td>2018-08-04</td>\n",
       "      <td>1000</td>\n",
       "    </tr>\n",
       "    <tr>\n",
       "      <th>3</th>\n",
       "      <td>1000_3</td>\n",
       "      <td>2018-06-16</td>\n",
       "      <td>1000</td>\n",
       "    </tr>\n",
       "    <tr>\n",
       "      <th>4</th>\n",
       "      <td>1000_4</td>\n",
       "      <td>2018-12-05</td>\n",
       "      <td>1000</td>\n",
       "    </tr>\n",
       "  </tbody>\n",
       "</table>\n",
       "</div>"
      ],
      "text/plain": [
       "       id message_date  user_id\n",
       "0  1000_0   2018-06-27     1000\n",
       "1  1000_1   2018-10-08     1000\n",
       "2  1000_2   2018-08-04     1000\n",
       "3  1000_3   2018-06-16     1000\n",
       "4  1000_4   2018-12-05     1000"
      ]
     },
     "metadata": {},
     "output_type": "display_data"
    },
    {
     "name": "stdout",
     "output_type": "stream",
     "text": [
      "\n",
      "Общая информация о таблице\n",
      "\n",
      "<class 'pandas.core.frame.DataFrame'>\n",
      "RangeIndex: 123036 entries, 0 to 123035\n",
      "Data columns (total 3 columns):\n",
      " #   Column        Non-Null Count   Dtype \n",
      "---  ------        --------------   ----- \n",
      " 0   id            123036 non-null  object\n",
      " 1   message_date  123036 non-null  object\n",
      " 2   user_id       123036 non-null  int64 \n",
      "dtypes: int64(1), object(2)\n",
      "memory usage: 2.8+ MB\n"
     ]
    }
   ],
   "source": [
    "# выведем первые 5 строк дф и общую информацию\n",
    "\n",
    "print('Информация о сообщениях:')\n",
    "display(df_messages.head(5))\n",
    "print()\n",
    "print('Общая информация о таблице')\n",
    "print()\n",
    "df_messages.info()"
   ]
  },
  {
   "cell_type": "markdown",
   "id": "dc6c9f8e",
   "metadata": {},
   "source": [
    "**Описание данных:**\n",
    "\n",
    "* `id` — уникальный номер сообщения;\n",
    "* `message_date` — дата сообщения;\n",
    "* `user_id` — идентификатор пользователя, отправившего сообщение.\n",
    "\n",
    "**Итог по датафрейму**: \n",
    "* **123 036** строк и **3** столбцов;\n",
    "* пропущенных значений **нет**;\n",
    "* название столбоц написано корректно;\n",
    "* столбец `message_date` содержит дату, его следует перевести в формат **datetime**;\n",
    "* столбец `id` содержит уникальный номер сообщения абонента, мы можем перевести его в формат **int**."
   ]
  },
  {
   "cell_type": "markdown",
   "id": "a2040bce",
   "metadata": {},
   "source": [
    "**Изучим датафрейм `ds_tariffs`.**\n",
    "\n",
    "В нем содержится информация о тарифах. Давайте ознакомимся с технической документацией, которую нам предоставил заказчик.\n",
    "\n"
   ]
  },
  {
   "cell_type": "code",
   "execution_count": 6,
   "id": "f5615ec8",
   "metadata": {},
   "outputs": [
    {
     "name": "stdout",
     "output_type": "stream",
     "text": [
      "Информация о тарифах:\n"
     ]
    },
    {
     "data": {
      "text/html": [
       "<div>\n",
       "<style scoped>\n",
       "    .dataframe tbody tr th:only-of-type {\n",
       "        vertical-align: middle;\n",
       "    }\n",
       "\n",
       "    .dataframe tbody tr th {\n",
       "        vertical-align: top;\n",
       "    }\n",
       "\n",
       "    .dataframe thead th {\n",
       "        text-align: right;\n",
       "    }\n",
       "</style>\n",
       "<table border=\"1\" class=\"dataframe\">\n",
       "  <thead>\n",
       "    <tr style=\"text-align: right;\">\n",
       "      <th></th>\n",
       "      <th>messages_included</th>\n",
       "      <th>mb_per_month_included</th>\n",
       "      <th>minutes_included</th>\n",
       "      <th>rub_monthly_fee</th>\n",
       "      <th>rub_per_gb</th>\n",
       "      <th>rub_per_message</th>\n",
       "      <th>rub_per_minute</th>\n",
       "      <th>tariff_name</th>\n",
       "    </tr>\n",
       "  </thead>\n",
       "  <tbody>\n",
       "    <tr>\n",
       "      <th>0</th>\n",
       "      <td>50</td>\n",
       "      <td>15360</td>\n",
       "      <td>500</td>\n",
       "      <td>550</td>\n",
       "      <td>200</td>\n",
       "      <td>3</td>\n",
       "      <td>3</td>\n",
       "      <td>smart</td>\n",
       "    </tr>\n",
       "    <tr>\n",
       "      <th>1</th>\n",
       "      <td>1000</td>\n",
       "      <td>30720</td>\n",
       "      <td>3000</td>\n",
       "      <td>1950</td>\n",
       "      <td>150</td>\n",
       "      <td>1</td>\n",
       "      <td>1</td>\n",
       "      <td>ultra</td>\n",
       "    </tr>\n",
       "  </tbody>\n",
       "</table>\n",
       "</div>"
      ],
      "text/plain": [
       "   messages_included  mb_per_month_included  minutes_included  \\\n",
       "0                 50                  15360               500   \n",
       "1               1000                  30720              3000   \n",
       "\n",
       "   rub_monthly_fee  rub_per_gb  rub_per_message  rub_per_minute tariff_name  \n",
       "0              550         200                3               3       smart  \n",
       "1             1950         150                1               1       ultra  "
      ]
     },
     "metadata": {},
     "output_type": "display_data"
    },
    {
     "name": "stdout",
     "output_type": "stream",
     "text": [
      "\n",
      "Общая информация о таблице\n",
      "\n",
      "<class 'pandas.core.frame.DataFrame'>\n",
      "RangeIndex: 2 entries, 0 to 1\n",
      "Data columns (total 8 columns):\n",
      " #   Column                 Non-Null Count  Dtype \n",
      "---  ------                 --------------  ----- \n",
      " 0   messages_included      2 non-null      int64 \n",
      " 1   mb_per_month_included  2 non-null      int64 \n",
      " 2   minutes_included       2 non-null      int64 \n",
      " 3   rub_monthly_fee        2 non-null      int64 \n",
      " 4   rub_per_gb             2 non-null      int64 \n",
      " 5   rub_per_message        2 non-null      int64 \n",
      " 6   rub_per_minute         2 non-null      int64 \n",
      " 7   tariff_name            2 non-null      object\n",
      "dtypes: int64(7), object(1)\n",
      "memory usage: 256.0+ bytes\n"
     ]
    }
   ],
   "source": [
    "# выведем первые 5 строк дф и общую информацию\n",
    "\n",
    "print('Информация о тарифах:')\n",
    "display(df_tariffs.head(5))\n",
    "print()\n",
    "print('Общая информация о таблице')\n",
    "print()\n",
    "df_tariffs.info()"
   ]
  },
  {
   "cell_type": "markdown",
   "id": "306fa604",
   "metadata": {},
   "source": [
    "**Описание данных:**\n",
    "\n",
    "* `tariff_name` — название тарифа;\n",
    "* `rub_monthly_fee` — ежемесячная абонентская плата в рублях;\n",
    "* `minutes_included` — количество минут разговора в месяц, включённых в абонентскую плату;\n",
    "* `messages_included` — количество сообщений в месяц, включённых в абонентскую плату;\n",
    "* `mb_per_month_included` — объём интернет-трафика, включённого в абонентскую плату (в мегабайтах);\n",
    "* `rub_per_minute` — стоимость минуты разговора сверх тарифного пакета (например, если в тарифе 100 минут разговора в месяц, то со 101 минуты будет взиматься плата);\n",
    "* `rub_per_message` — стоимость отправки сообщения сверх тарифного пакета;\n",
    "* `rub_per_gb` — стоимость дополнительного гигабайта интернет-трафика сверх тарифного пакета (1 гигабайт = 1024 мегабайта).\n",
    "\n",
    "**Итог по датафрейму**: \n",
    "* **2** строки и **8** столбцов;\n",
    "* пропущенных значений **нет**;\n",
    "* название столбоц написано корректно."
   ]
  },
  {
   "cell_type": "markdown",
   "id": "4e8fc381",
   "metadata": {},
   "source": [
    "**Изучим датафрейм `df_users`.**\n",
    "\n",
    "В нем содержится информация о клиентах. Давайте ознакомимся с технической документацией, которую нам предоставил заказчик.\n",
    "\n"
   ]
  },
  {
   "cell_type": "code",
   "execution_count": 7,
   "id": "1383e82a",
   "metadata": {},
   "outputs": [
    {
     "name": "stdout",
     "output_type": "stream",
     "text": [
      "Информация о пользователях:\n"
     ]
    },
    {
     "data": {
      "text/html": [
       "<div>\n",
       "<style scoped>\n",
       "    .dataframe tbody tr th:only-of-type {\n",
       "        vertical-align: middle;\n",
       "    }\n",
       "\n",
       "    .dataframe tbody tr th {\n",
       "        vertical-align: top;\n",
       "    }\n",
       "\n",
       "    .dataframe thead th {\n",
       "        text-align: right;\n",
       "    }\n",
       "</style>\n",
       "<table border=\"1\" class=\"dataframe\">\n",
       "  <thead>\n",
       "    <tr style=\"text-align: right;\">\n",
       "      <th></th>\n",
       "      <th>user_id</th>\n",
       "      <th>age</th>\n",
       "      <th>churn_date</th>\n",
       "      <th>city</th>\n",
       "      <th>first_name</th>\n",
       "      <th>last_name</th>\n",
       "      <th>reg_date</th>\n",
       "      <th>tariff</th>\n",
       "    </tr>\n",
       "  </thead>\n",
       "  <tbody>\n",
       "    <tr>\n",
       "      <th>0</th>\n",
       "      <td>1000</td>\n",
       "      <td>52</td>\n",
       "      <td>NaN</td>\n",
       "      <td>Краснодар</td>\n",
       "      <td>Рафаил</td>\n",
       "      <td>Верещагин</td>\n",
       "      <td>2018-05-25</td>\n",
       "      <td>ultra</td>\n",
       "    </tr>\n",
       "    <tr>\n",
       "      <th>1</th>\n",
       "      <td>1001</td>\n",
       "      <td>41</td>\n",
       "      <td>NaN</td>\n",
       "      <td>Москва</td>\n",
       "      <td>Иван</td>\n",
       "      <td>Ежов</td>\n",
       "      <td>2018-11-01</td>\n",
       "      <td>smart</td>\n",
       "    </tr>\n",
       "    <tr>\n",
       "      <th>2</th>\n",
       "      <td>1002</td>\n",
       "      <td>59</td>\n",
       "      <td>NaN</td>\n",
       "      <td>Стерлитамак</td>\n",
       "      <td>Евгений</td>\n",
       "      <td>Абрамович</td>\n",
       "      <td>2018-06-17</td>\n",
       "      <td>smart</td>\n",
       "    </tr>\n",
       "    <tr>\n",
       "      <th>3</th>\n",
       "      <td>1003</td>\n",
       "      <td>23</td>\n",
       "      <td>NaN</td>\n",
       "      <td>Москва</td>\n",
       "      <td>Белла</td>\n",
       "      <td>Белякова</td>\n",
       "      <td>2018-08-17</td>\n",
       "      <td>ultra</td>\n",
       "    </tr>\n",
       "    <tr>\n",
       "      <th>4</th>\n",
       "      <td>1004</td>\n",
       "      <td>68</td>\n",
       "      <td>NaN</td>\n",
       "      <td>Новокузнецк</td>\n",
       "      <td>Татьяна</td>\n",
       "      <td>Авдеенко</td>\n",
       "      <td>2018-05-14</td>\n",
       "      <td>ultra</td>\n",
       "    </tr>\n",
       "  </tbody>\n",
       "</table>\n",
       "</div>"
      ],
      "text/plain": [
       "   user_id  age churn_date         city first_name  last_name    reg_date  \\\n",
       "0     1000   52        NaN    Краснодар     Рафаил  Верещагин  2018-05-25   \n",
       "1     1001   41        NaN       Москва       Иван       Ежов  2018-11-01   \n",
       "2     1002   59        NaN  Стерлитамак    Евгений  Абрамович  2018-06-17   \n",
       "3     1003   23        NaN       Москва      Белла   Белякова  2018-08-17   \n",
       "4     1004   68        NaN  Новокузнецк    Татьяна   Авдеенко  2018-05-14   \n",
       "\n",
       "  tariff  \n",
       "0  ultra  \n",
       "1  smart  \n",
       "2  smart  \n",
       "3  ultra  \n",
       "4  ultra  "
      ]
     },
     "metadata": {},
     "output_type": "display_data"
    },
    {
     "name": "stdout",
     "output_type": "stream",
     "text": [
      "\n",
      "Общая информация о таблице\n",
      "\n",
      "<class 'pandas.core.frame.DataFrame'>\n",
      "RangeIndex: 500 entries, 0 to 499\n",
      "Data columns (total 8 columns):\n",
      " #   Column      Non-Null Count  Dtype \n",
      "---  ------      --------------  ----- \n",
      " 0   user_id     500 non-null    int64 \n",
      " 1   age         500 non-null    int64 \n",
      " 2   churn_date  38 non-null     object\n",
      " 3   city        500 non-null    object\n",
      " 4   first_name  500 non-null    object\n",
      " 5   last_name   500 non-null    object\n",
      " 6   reg_date    500 non-null    object\n",
      " 7   tariff      500 non-null    object\n",
      "dtypes: int64(2), object(6)\n",
      "memory usage: 31.4+ KB\n"
     ]
    }
   ],
   "source": [
    "# выведем первые 5 строк дф и общую информацию\n",
    "\n",
    "\n",
    "print('Информация о пользователях:')\n",
    "display(df_users.head(5))\n",
    "print()\n",
    "print('Общая информация о таблице')\n",
    "print()\n",
    "df_users.info()"
   ]
  },
  {
   "cell_type": "markdown",
   "id": "3b1f3bf0",
   "metadata": {},
   "source": [
    "**Описание данных:**\n",
    "\n",
    "* `user_id` — уникальный идентификатор пользователя;\n",
    "* `first_name` — имя пользователя;\n",
    "* `last_name` — фамилия пользователя;\n",
    "* `age` — возраст пользователя (годы);\n",
    "* `reg_date` — дата подключения тарифа (день, месяц, год);\n",
    "* `churn_date` — дата прекращения пользования тарифом (если значение пропущено, то тариф ещё действовал на момент выгрузки данных);\n",
    "* `city` — город проживания пользователя;\n",
    "* `tariff` — название тарифного плана.\n",
    "\n",
    "\n",
    "**Итог по датафрейму**: \n",
    "* **500** строк и **8** столбцов;\n",
    "* пропущенных значений **нет**, пропуски в столбце `churn_date` означают, что тариф ещё действовал на момент выгрузки данных;\n",
    "* название столбоц написано корректно;\n",
    "* столбецы `churn_date` и `reg_date` содержат дату, их следует перевести в формат **datetime**."
   ]
  },
  {
   "cell_type": "markdown",
   "id": "a57c8161",
   "metadata": {},
   "source": [
    "### Общий вывод:\n",
    "\n",
    "У нас есть **5** датафреймов:\n",
    "\n",
    "* **3** датафрейма из которых хранится информация о том, как клиенты пользуются своими тарифными планами (сколько звонков они совершили, сообщений отправили или интернета израсходовали), эта информация отражает каждый сделанный звонок, отправленное сообщение и каждую интернет-сессию.\n",
    "\n",
    "* В **1** датафрейме представлена информация о самих клиентах: фамилия и имя, возраст, город проживания, дата подключения и отключения пакетов, а также название тарифного плана, которым они пользуются.\n",
    "\n",
    "* Еще в **1** датафрейме представлена вся необходимая информация о исследуемых тарифных планов: их стоимость и лимиты пакетов.\n",
    "\n",
    "У каждого клиента есть свой уникальный **id**, который указан в каждом датафрейме, за исключением информации о тарифных планах. По этому **id** можно понять какой именно пользователь, сколько данных израсходовал по своим пакетам. "
   ]
  },
  {
   "cell_type": "markdown",
   "id": "69cd94a7",
   "metadata": {},
   "source": [
    "## 2. Предобработка данных"
   ]
  },
  {
   "cell_type": "markdown",
   "id": "98b515fb",
   "metadata": {},
   "source": [
    "Проведя обзор данных мы выяснили, что в данных присутствуют пропуски в датафрейме **df_users**, в столбце `churn_date`, но заказчик предупредил нас, что если значение пропущено, то тариф ещё действовал на момент выгрузки данных, поэтому мы оставим их.\n",
    "\n",
    "Далее мы обнаружили, что в некоторых столбцах лучше сменить тип данных, это столбцы с датами.\n",
    "\n",
    "Дополнительно заказчик подсказал нам, что минуты и интернет трафик округляются к большему значению, после округления мы можем поменять тип данных на целочисленный и в этих столбцах. Единственное интернет-сессии округляются к большему значенич по-месячно, в то время как в минутах округляют каждый совершенный звонок. \n",
    "\n",
    "Хочу заметить, что для исследования нам не потребуются все данные, а только их часть и некоторую из этой части нам следует преобразовать, поэтому мы создадим новый датафрейм в который войдут только те данные, которе нам потребуются для исследования и в том формате, который нам необходим.\n",
    "\n",
    "**Порядок действий:**\n",
    "* 2.1: Изменим тип данных в столбцах с датой;\n",
    "* 2.2: Округлим столбцы с минутамии в большую сторону и изменим тип данных в столбце;\n",
    "* 2.3: Проверим данные на аномалии и избавимся от них если есть;\n",
    "* 2.4: Проверим данные на дубликаты;\n",
    "* 2.5: Создадим новый датафрейм, в который войдут только нужные для исследования данные;\n",
    "* 2.6: Округлим данные об интернет-сессии в соответствии с условиями заказчика\n"
   ]
  },
  {
   "cell_type": "markdown",
   "id": "638aae74",
   "metadata": {},
   "source": [
    "### 2.1: Изменим тип данных в столбцах с датой\n",
    "\n",
    "Изменим тип данных на **datetime** у следующих столбцов:\n",
    "* датафрейм **df_calls** столбец `call_date`;\n",
    "* датафрейм **df_internet** столбец `session_date`;\n",
    "* датафрейм **df_messages** столбец `message_date`;\n",
    "* датафрейм **df_users** столбец `churn_date` и `reg_date`."
   ]
  },
  {
   "cell_type": "code",
   "execution_count": 8,
   "id": "fe564390",
   "metadata": {},
   "outputs": [],
   "source": [
    "# изменим в столбцах с датами тип данных на datetime\n",
    "\n",
    "df_calls['call_date'] = pd.to_datetime(df_calls['call_date'], format='%Y.%m.%d')\n",
    "df_internet['session_date'] = pd.to_datetime(df_internet['session_date'], format='%Y.%m.%d')\n",
    "df_messages['message_date'] = pd.to_datetime(df_messages['message_date'], format='%Y.%m.%d')\n",
    "df_users['churn_date'] = pd.to_datetime(df_users['churn_date'], format='%Y.%m.%d')\n",
    "df_users['reg_date'] = pd.to_datetime(df_users['reg_date'], format='%Y.%m.%d')\n"
   ]
  },
  {
   "cell_type": "markdown",
   "id": "fe3a6ffe",
   "metadata": {},
   "source": [
    "### 2.2: Округлим столбцы с минутамии в большую сторону и изменим тип данных в столбце\n",
    "\n",
    "«Мегалайн» всегда округляет секунды до минут. Каждый звонок округляется отдельно: даже если он длился всего 1 секунду, будет засчитан как 1 минута. \n",
    "\n",
    "В датафрейме **df_calls** в столбце `duration` округлим каждый звонок в большую сторону до минут, а затем переведем тип данных на **int**."
   ]
  },
  {
   "cell_type": "code",
   "execution_count": 9,
   "id": "f4186942",
   "metadata": {},
   "outputs": [],
   "source": [
    "# округлим длительность звонков до минут и изветим тип данных на int\n",
    "\n",
    "df_calls['duration'] = np.ceil(df_calls['duration']).astype('int')\n"
   ]
  },
  {
   "cell_type": "markdown",
   "id": "8cb79280",
   "metadata": {},
   "source": [
    "### 2.3: Проверим данные на аномалии и избавимся от них если есть\n",
    "\n",
    "Как мы уже отметили ранее для исследования нам потребуются не все данные, поэтому давайте проверим на аномалии следующие датафреймы и столбцы:\n",
    "\n",
    "* В датафрейме **df_calls** проверим на аномалии столбцы: `call_date` и `duration`;\n",
    "* В датафрейме **df_internet** проверим на аномалии столбцы: `session_date` и `mb_used`;\n",
    "* В датафрейме **df_messages** проверим на аномалии столбцы: `message_date` и `id`;\n",
    "* В датафрейме **df_users** проверим на аномалии столбцы: `age`, `churn_date`, `reg_date` и `city`.\n",
    "\n",
    "Давайте еще раз повторим, что нам известно о выборке:\n",
    "\n",
    "* мы исследуем **500** абонентов из разных городов и разного возраста;\n",
    "* у нас есть данные по этим абонентам только за **2018** год;\n",
    "* продолжительность звонков у нас в **минутах**;\n",
    "* объём потраченного за сессию интернет-трафика представлен в **мегабайтах**;\n",
    "* звонки с нулевой продолжительностью - не ошибка, а пропущенные звонки.\n",
    "\n",
    "**В датафрейме df_calls проверим на аномалии столбцы: `call_date` и `duration`**"
   ]
  },
  {
   "cell_type": "code",
   "execution_count": 10,
   "id": "576c1eca",
   "metadata": {},
   "outputs": [
    {
     "data": {
      "image/png": "[encoded data removed]",
      "text/plain": [
       "<Figure size 432x288 with 1 Axes>"
      ]
     },
     "metadata": {
      "needs_background": "light"
     },
     "output_type": "display_data"
    },
    {
     "name": "stdout",
     "output_type": "stream",
     "text": [
      "Обзор числовых характеристик столбца\n"
     ]
    },
    {
     "data": {
      "text/plain": [
       "count    202607.000000\n",
       "mean          7.158198\n",
       "std           5.959173\n",
       "min           0.000000\n",
       "25%           2.000000\n",
       "50%           6.000000\n",
       "75%          11.000000\n",
       "max          38.000000\n",
       "Name: duration, dtype: float64"
      ]
     },
     "execution_count": 10,
     "metadata": {},
     "output_type": "execute_result"
    }
   ],
   "source": [
    "# изучем столбец с продолжительностью звонков\n",
    "\n",
    "df_calls['duration'].hist(bins=60)\n",
    "plt.title('Длительность звонков')\n",
    "plt.xlabel('время (мин.)')\n",
    "plt.ylabel('количество звонков')\n",
    "plt.show()\n",
    "print('Обзор числовых характеристик столбца')\n",
    "df_calls['duration'].describe()"
   ]
  },
  {
   "cell_type": "markdown",
   "id": "69a4d1c4",
   "metadata": {},
   "source": [
    "Мы знаем, что **0** минут - это пропущенные звонки, и их почти **40 000**, с учетом того, что это данные за всех пользователей, то эти значения кажутся нормальными. Но, на всякий случай, давайте проверим количество пропущенных звонков у каждого абонента отдельно."
   ]
  },
  {
   "cell_type": "code",
   "execution_count": 11,
   "id": "9ee0e619",
   "metadata": {},
   "outputs": [
    {
     "data": {
      "image/png": "[encoded data removed]",
      "text/plain": [
       "<Figure size 432x288 with 1 Axes>"
      ]
     },
     "metadata": {
      "needs_background": "light"
     },
     "output_type": "display_data"
    },
    {
     "data": {
      "image/png": "[encoded data removed]",
      "text/plain": [
       "<Figure size 432x288 with 1 Axes>"
      ]
     },
     "metadata": {
      "needs_background": "light"
     },
     "output_type": "display_data"
    }
   ],
   "source": [
    "# построим гистограмму пропущенных звонков по клиентам и по дате\n",
    "\n",
    "df_calls.query('duration == 0')['user_id'].hist(bins=250)\n",
    "plt.title('Пропущенные звонки по клиентам')\n",
    "plt.xlabel('ID-пользователя (от 1000 до 1500)')\n",
    "plt.ylabel('количество пропущенных звонков')\n",
    "plt.show()\n",
    "\n",
    "df_calls.query('duration == 0')['call_date'].hist(bins=360)\n",
    "plt.title('Пропущенные звонки по месяцам')\n",
    "plt.xlabel('дата')\n",
    "plt.ylabel('количество пропущенных звонков')\n",
    "plt.show()"
   ]
  },
  {
   "cell_type": "code",
   "execution_count": 12,
   "id": "0d09d9ac",
   "metadata": {},
   "outputs": [
    {
     "name": "stdout",
     "output_type": "stream",
     "text": [
      "Обзор числовых характеристик столбца с датой\n"
     ]
    },
    {
     "data": {
      "text/plain": [
       "count                  202607\n",
       "unique                    365\n",
       "top       2018-12-31 00:00:00\n",
       "freq                     1435\n",
       "first     2018-01-01 00:00:00\n",
       "last      2018-12-31 00:00:00\n",
       "Name: call_date, dtype: object"
      ]
     },
     "execution_count": 12,
     "metadata": {},
     "output_type": "execute_result"
    }
   ],
   "source": [
    "# взглянем на числовые характеристики столбца с датой\n",
    "\n",
    "print('Обзор числовых характеристик столбца с датой')\n",
    "df_calls['call_date'].describe()"
   ]
  },
  {
   "cell_type": "markdown",
   "id": "6aef4f37",
   "metadata": {},
   "source": [
    "Наши опасения не подтвердились, пропущенные звонки рассортированы по всем пользователям, а их количество больше всего в конце года, к праздникам. Все это кажется довольно логичным.\n",
    "\n",
    "Таким образом аномальных значений мы не обнаружили, максимальная продолжительность звонка - **38** минут,  а в среднем абоненты разговаривают **6-7** минут.\n",
    "Даты тоже представлены только за **2018** год, как и указано в задании.\n",
    "\n",
    "**В датафрейме df_internet проверим на аномалии столбцы: `session_date` и `mb_used`**"
   ]
  },
  {
   "cell_type": "code",
   "execution_count": 13,
   "id": "ea48cd69",
   "metadata": {},
   "outputs": [
    {
     "data": {
      "image/png": "[encoded data removed]",
      "text/plain": [
       "<Figure size 432x288 with 1 Axes>"
      ]
     },
     "metadata": {
      "needs_background": "light"
     },
     "output_type": "display_data"
    },
    {
     "data": {
      "text/plain": [
       "count    149396.000000\n",
       "mean        370.192426\n",
       "std         278.300951\n",
       "min           0.000000\n",
       "25%         138.187500\n",
       "50%         348.015000\n",
       "75%         559.552500\n",
       "max        1724.830000\n",
       "Name: mb_used, dtype: float64"
      ]
     },
     "execution_count": 13,
     "metadata": {},
     "output_type": "execute_result"
    }
   ],
   "source": [
    "# изучем столбец с интернет-сесиями пользователей\n",
    "\n",
    "df_internet['mb_used'].hist(bins=60)\n",
    "plt.title('Интернет-сессии абонентов')\n",
    "plt.xlabel('сессия интернет-трафика (мегабайты)')\n",
    "plt.ylabel('количество абонентов')\n",
    "plt.show()\n",
    "df_internet['mb_used'].describe()"
   ]
  },
  {
   "cell_type": "code",
   "execution_count": 14,
   "id": "57f5540c",
   "metadata": {},
   "outputs": [
    {
     "data": {
      "image/png": "[encoded data removed]",
      "text/plain": [
       "<Figure size 432x288 with 1 Axes>"
      ]
     },
     "metadata": {
      "needs_background": "light"
     },
     "output_type": "display_data"
    },
    {
     "data": {
      "image/png": "[encoded data removed]",
      "text/plain": [
       "<Figure size 432x288 with 1 Axes>"
      ]
     },
     "metadata": {
      "needs_background": "light"
     },
     "output_type": "display_data"
    }
   ],
   "source": [
    "# построим гистограмму \"нулевых\" интернет-сессий по клиентам и по дате\n",
    "\n",
    "df_internet.query('mb_used == 0')['user_id'].hist(bins=250)\n",
    "plt.title('Интернет-сессии равные нулю')\n",
    "plt.xlabel('ID-пользователя (от 1000 до 1500)')\n",
    "plt.ylabel('количество')\n",
    "plt.show()\n",
    "\n",
    "df_internet.query('mb_used == 0')['session_date'].hist(bins=360)\n",
    "plt.title('Интернет-сессии равные нулю')\n",
    "plt.xlabel('дата')\n",
    "plt.ylabel('количество')\n",
    "plt.show()"
   ]
  },
  {
   "cell_type": "code",
   "execution_count": 15,
   "id": "024383ca",
   "metadata": {},
   "outputs": [
    {
     "name": "stdout",
     "output_type": "stream",
     "text": [
      "Обзор числовых характеристик столбца с датой\n"
     ]
    },
    {
     "data": {
      "text/plain": [
       "count                  149396\n",
       "unique                    365\n",
       "top       2018-12-31 00:00:00\n",
       "freq                     1057\n",
       "first     2018-01-01 00:00:00\n",
       "last      2018-12-31 00:00:00\n",
       "Name: session_date, dtype: object"
      ]
     },
     "execution_count": 15,
     "metadata": {},
     "output_type": "execute_result"
    }
   ],
   "source": [
    "# взглянем на числовые характеристики столбца с датой\n",
    "\n",
    "print('Обзор числовых характеристик столбца с датой')\n",
    "df_internet['session_date'].describe()"
   ]
  },
  {
   "cell_type": "markdown",
   "id": "6c63445b",
   "metadata": {},
   "source": [
    "Здесь ситуация схожая с продолжительностью, есть много \"нулевых-сессий интернет трафика\", мы построиди две гистограммы для них отдельно и обнаружили, что эти сессии присутствуют среди практически всех абонентов, и также к концу года их количество увеличевается, возможно из-за праздников. "
   ]
  },
  {
   "cell_type": "markdown",
   "id": "42f9bda6",
   "metadata": {},
   "source": [
    "**В датафрейме df_messages проверим на аномалии столбцы: `message_date` и `id`**"
   ]
  },
  {
   "cell_type": "code",
   "execution_count": 16,
   "id": "55e12001",
   "metadata": {},
   "outputs": [
    {
     "data": {
      "text/html": [
       "<div>\n",
       "<style scoped>\n",
       "    .dataframe tbody tr th:only-of-type {\n",
       "        vertical-align: middle;\n",
       "    }\n",
       "\n",
       "    .dataframe tbody tr th {\n",
       "        vertical-align: top;\n",
       "    }\n",
       "\n",
       "    .dataframe thead th {\n",
       "        text-align: right;\n",
       "    }\n",
       "</style>\n",
       "<table border=\"1\" class=\"dataframe\">\n",
       "  <thead>\n",
       "    <tr style=\"text-align: right;\">\n",
       "      <th></th>\n",
       "      <th>id</th>\n",
       "    </tr>\n",
       "    <tr>\n",
       "      <th>user_id</th>\n",
       "      <th></th>\n",
       "    </tr>\n",
       "  </thead>\n",
       "  <tbody>\n",
       "    <tr>\n",
       "      <th>1277</th>\n",
       "      <td>1463</td>\n",
       "    </tr>\n",
       "    <tr>\n",
       "      <th>1089</th>\n",
       "      <td>1408</td>\n",
       "    </tr>\n",
       "    <tr>\n",
       "      <th>1231</th>\n",
       "      <td>1384</td>\n",
       "    </tr>\n",
       "    <tr>\n",
       "      <th>1385</th>\n",
       "      <td>1380</td>\n",
       "    </tr>\n",
       "    <tr>\n",
       "      <th>1356</th>\n",
       "      <td>1224</td>\n",
       "    </tr>\n",
       "    <tr>\n",
       "      <th>...</th>\n",
       "      <td>...</td>\n",
       "    </tr>\n",
       "    <tr>\n",
       "      <th>1389</th>\n",
       "      <td>6</td>\n",
       "    </tr>\n",
       "    <tr>\n",
       "      <th>1279</th>\n",
       "      <td>5</td>\n",
       "    </tr>\n",
       "    <tr>\n",
       "      <th>1074</th>\n",
       "      <td>3</td>\n",
       "    </tr>\n",
       "    <tr>\n",
       "      <th>1159</th>\n",
       "      <td>2</td>\n",
       "    </tr>\n",
       "    <tr>\n",
       "      <th>1141</th>\n",
       "      <td>1</td>\n",
       "    </tr>\n",
       "  </tbody>\n",
       "</table>\n",
       "<p>426 rows × 1 columns</p>\n",
       "</div>"
      ],
      "text/plain": [
       "           id\n",
       "user_id      \n",
       "1277     1463\n",
       "1089     1408\n",
       "1231     1384\n",
       "1385     1380\n",
       "1356     1224\n",
       "...       ...\n",
       "1389        6\n",
       "1279        5\n",
       "1074        3\n",
       "1159        2\n",
       "1141        1\n",
       "\n",
       "[426 rows x 1 columns]"
      ]
     },
     "execution_count": 16,
     "metadata": {},
     "output_type": "execute_result"
    }
   ],
   "source": [
    "# изучем столбец с сообщениями\n",
    "\n",
    "(\n",
    "df_messages\n",
    "    .pivot_table(index='user_id', \n",
    "                 values='id', \n",
    "                 aggfunc='count')\n",
    "    .sort_values(by='id',ascending=False)  \n",
    ")"
   ]
  },
  {
   "cell_type": "markdown",
   "id": "fdee07a1",
   "metadata": {},
   "source": [
    "**426** абонентов из 500 в течении года отправляли сообщения, все сообщения рассортированы среди абонентов, аномальных значений нет.\n",
    "\n",
    "Давайте проверим дату."
   ]
  },
  {
   "cell_type": "code",
   "execution_count": 17,
   "id": "7276f0e7",
   "metadata": {},
   "outputs": [
    {
     "data": {
      "image/png": "[encoded data removed]",
      "text/plain": [
       "<Figure size 432x288 with 1 Axes>"
      ]
     },
     "metadata": {
      "needs_background": "light"
     },
     "output_type": "display_data"
    }
   ],
   "source": [
    "# построим гистограмму по дате и посмотрим период\n",
    "\n",
    "df_messages['message_date'].hist(bins=360)\n",
    "plt.title('Количество отправленых сообщений');"
   ]
  },
  {
   "cell_type": "markdown",
   "id": "bdcaddac",
   "metadata": {},
   "source": [
    "Ситуация как и раньше, к концу года сообщения увеличиются. \n",
    "\n",
    "**В датафрейме df_users проверим на аномалии столбцы: `age`, `churn_date`, `reg_date` и `city`**"
   ]
  },
  {
   "cell_type": "code",
   "execution_count": 18,
   "id": "97e5558d",
   "metadata": {},
   "outputs": [
    {
     "data": {
      "image/png": "[encoded data removed]",
      "text/plain": [
       "<Figure size 432x288 with 1 Axes>"
      ]
     },
     "metadata": {
      "needs_background": "light"
     },
     "output_type": "display_data"
    },
    {
     "name": "stdout",
     "output_type": "stream",
     "text": [
      "Обзор числовых характеристик столбца\n"
     ]
    },
    {
     "data": {
      "text/plain": [
       "count    500.00000\n",
       "mean      46.58800\n",
       "std       16.66763\n",
       "min       18.00000\n",
       "25%       32.00000\n",
       "50%       46.00000\n",
       "75%       62.00000\n",
       "max       75.00000\n",
       "Name: age, dtype: float64"
      ]
     },
     "execution_count": 18,
     "metadata": {},
     "output_type": "execute_result"
    }
   ],
   "source": [
    "# проверим возраст абонентов и построим гистограмму\n",
    "\n",
    "df_users['age'].hist(bins=60)\n",
    "plt.title('Возраст абонентов')\n",
    "plt.xlabel('возраст')\n",
    "plt.ylabel('количество абонентов')\n",
    "plt.show()\n",
    "\n",
    "print('Обзор числовых характеристик столбца')\n",
    "df_users['age'].describe()"
   ]
  },
  {
   "cell_type": "markdown",
   "id": "4b8e9e92",
   "metadata": {},
   "source": [
    "Возраст абонентов в диапазоне **18 - 75** лет, здесь все логично. \n",
    "\n",
    "**Проверим даты**"
   ]
  },
  {
   "cell_type": "code",
   "execution_count": 19,
   "id": "ad9866d6",
   "metadata": {},
   "outputs": [
    {
     "data": {
      "image/png": "[encoded data removed]",
      "text/plain": [
       "<Figure size 432x288 with 1 Axes>"
      ]
     },
     "metadata": {
      "needs_background": "light"
     },
     "output_type": "display_data"
    }
   ],
   "source": [
    "# проверим столбцы с датами\n",
    "\n",
    "df_users['reg_date'].hist(bins=12)\n",
    "df_users['churn_date'].hist(bins=12)\n",
    "plt.title('Даты регистрации (синий) и отключения абонентов (оранжевый)')\n",
    "plt.show;\n",
    "\n"
   ]
  },
  {
   "cell_type": "markdown",
   "id": "ae8da292",
   "metadata": {},
   "source": [
    "Даты в этом датафрейме тоже представленны корректно.\n",
    "\n",
    "**Проверим города**"
   ]
  },
  {
   "cell_type": "code",
   "execution_count": 20,
   "id": "43a0f351",
   "metadata": {},
   "outputs": [
    {
     "name": "stdout",
     "output_type": "stream",
     "text": [
      "Выведим уникальные значения городов:\n"
     ]
    },
    {
     "data": {
      "text/plain": [
       "array(['Архангельск', 'Астрахань', 'Балашиха', 'Барнаул', 'Белгород',\n",
       "       'Брянск', 'Владивосток', 'Владикавказ', 'Владимир', 'Волгоград',\n",
       "       'Волжский', 'Вологда', 'Воронеж', 'Грозный', 'Екатеринбург',\n",
       "       'Иваново', 'Ижевск', 'Иркутск', 'Казань', 'Калининград', 'Калуга',\n",
       "       'Кемерово', 'Киров', 'Кострома', 'Краснодар', 'Красноярск',\n",
       "       'Курган', 'Курск', 'Липецк', 'Магнитогорск', 'Махачкала', 'Москва',\n",
       "       'Мурманск', 'Набережные Челны', 'Нижневартовск', 'Нижний Новгород',\n",
       "       'Нижний Тагил', 'Новокузнецк', 'Новороссийск', 'Новосибирск',\n",
       "       'Омск', 'Оренбург', 'Орёл', 'Пенза', 'Пермь', 'Петрозаводск',\n",
       "       'Подольск', 'Ростов-на-Дону', 'Рязань', 'Самара',\n",
       "       'Санкт-Петербург', 'Саранск', 'Саратов', 'Севастополь', 'Смоленск',\n",
       "       'Сочи', 'Ставрополь', 'Стерлитамак', 'Сургут', 'Тамбов', 'Тверь',\n",
       "       'Тольятти', 'Томск', 'Тула', 'Тюмень', 'Улан-Удэ', 'Ульяновск',\n",
       "       'Уфа', 'Хабаровск', 'Химки', 'Чебоксары', 'Челябинск', 'Череповец',\n",
       "       'Чита', 'Якутск', 'Ярославль'], dtype=object)"
      ]
     },
     "execution_count": 20,
     "metadata": {},
     "output_type": "execute_result"
    }
   ],
   "source": [
    "# получим уникальные значения столбца\n",
    "\n",
    "print('Выведим уникальные значения городов:')\n",
    "df_users['city'].sort_values().unique()"
   ]
  },
  {
   "cell_type": "markdown",
   "id": "a980bc16",
   "metadata": {},
   "source": [
    "Города тоже записаны корректно и все они находятся на территории России.\n",
    "\n",
    "### 2.4: Проверим данные на дубликаты"
   ]
  },
  {
   "cell_type": "code",
   "execution_count": 21,
   "id": "14ee43b9",
   "metadata": {},
   "outputs": [
    {
     "name": "stdout",
     "output_type": "stream",
     "text": [
      "\n",
      "Проверим количество дубликатов в датафреймах:\n",
      "\n",
      "df_calls - информация о звонках - количество дубликатов 0;\n",
      "df_internet - информация об интернет-сессиях - количество дубликатов 0;\n",
      "df_messages - информация о сообщениях - количество дубликатов 0;\n",
      "df_tariffs - информация о тарифах - количество дубликатов 0;\n",
      "df_users - информация о пользователях - количество дубликатов 0.\n",
      "\n",
      "\n"
     ]
    }
   ],
   "source": [
    "# проверим все датафреймы на наличик дубликатов\n",
    "\n",
    "print('''\n",
    "Проверим количество дубликатов в датафреймах:\n",
    "\n",
    "df_calls - информация о звонках - количество дубликатов {0};\n",
    "df_internet - информация об интернет-сессиях - количество дубликатов {1};\n",
    "df_messages - информация о сообщениях - количество дубликатов {2};\n",
    "df_tariffs - информация о тарифах - количество дубликатов {3};\n",
    "df_users - информация о пользователях - количество дубликатов {4}.\n",
    "\n",
    "'''.format(df_calls.duplicated().sum(), \n",
    "          df_internet.duplicated().sum(),\n",
    "          df_messages.duplicated().sum(),\n",
    "          df_tariffs.duplicated().sum(),\n",
    "          df_users.duplicated().sum())\n",
    ")"
   ]
  },
  {
   "cell_type": "markdown",
   "id": "eef9490e",
   "metadata": {},
   "source": [
    "### 2.5: Создадим новый датафрейм, в который войдут только нужные для исследования данные\n",
    "\n",
    "Нам нужно проанализировать поведение клиентов и сделать вывод — какой тариф лучше. Для этого у нас есть выборка из **500** абонентов, и детализация их расходов за **2018** год. Но, все данные разделены на 5 датафреймов, и для исследования нам этот формат будет не очень удобен. Поэтому я предлагаю создать новые датафреймы, которые затем войдут в один итоговый датафрейм, с которым мы и будем проводить исследование.\n",
    "\n",
    "Мы сделаем следующее:\n",
    "\n",
    "* создадим новый столбец `month` в датафреймах;\n",
    "* создадим новый датафрейм **good_data** в который добавим все необходимые данные из **5** датафреймов;\n",
    "* округлим интернет трафик, как нам подсказал заказчик до гигабайт;\n",
    "* приведем тип данных в столбцах датафрейма **good_data** к нужным типам.\n"
   ]
  },
  {
   "cell_type": "code",
   "execution_count": 22,
   "id": "0ba01a66",
   "metadata": {},
   "outputs": [],
   "source": [
    "# добавим столбец 'month' \n",
    "\n",
    "df_calls['month'] = df_calls['call_date'].dt.month\n",
    "df_internet['month'] = df_internet['session_date'].dt.month\n",
    "df_messages['month'] = df_messages['message_date'].dt.month"
   ]
  },
  {
   "cell_type": "code",
   "execution_count": 23,
   "id": "1c3d4385",
   "metadata": {},
   "outputs": [
    {
     "data": {
      "text/html": [
       "<div>\n",
       "<style scoped>\n",
       "    .dataframe tbody tr th:only-of-type {\n",
       "        vertical-align: middle;\n",
       "    }\n",
       "\n",
       "    .dataframe tbody tr th {\n",
       "        vertical-align: top;\n",
       "    }\n",
       "\n",
       "    .dataframe thead th {\n",
       "        text-align: right;\n",
       "    }\n",
       "</style>\n",
       "<table border=\"1\" class=\"dataframe\">\n",
       "  <thead>\n",
       "    <tr style=\"text-align: right;\">\n",
       "      <th></th>\n",
       "      <th>user_id</th>\n",
       "      <th>city</th>\n",
       "      <th>age</th>\n",
       "      <th>month</th>\n",
       "      <th>count_duration</th>\n",
       "      <th>sum_duration</th>\n",
       "      <th>id</th>\n",
       "      <th>mb_used</th>\n",
       "      <th>tariff</th>\n",
       "    </tr>\n",
       "  </thead>\n",
       "  <tbody>\n",
       "    <tr>\n",
       "      <th>0</th>\n",
       "      <td>1000</td>\n",
       "      <td>Краснодар</td>\n",
       "      <td>52</td>\n",
       "      <td>5</td>\n",
       "      <td>22.0</td>\n",
       "      <td>159.0</td>\n",
       "      <td>22.0</td>\n",
       "      <td>3.0</td>\n",
       "      <td>ultra</td>\n",
       "    </tr>\n",
       "    <tr>\n",
       "      <th>1</th>\n",
       "      <td>1000</td>\n",
       "      <td>Краснодар</td>\n",
       "      <td>52</td>\n",
       "      <td>6</td>\n",
       "      <td>43.0</td>\n",
       "      <td>172.0</td>\n",
       "      <td>60.0</td>\n",
       "      <td>23.0</td>\n",
       "      <td>ultra</td>\n",
       "    </tr>\n",
       "    <tr>\n",
       "      <th>2</th>\n",
       "      <td>1000</td>\n",
       "      <td>Краснодар</td>\n",
       "      <td>52</td>\n",
       "      <td>7</td>\n",
       "      <td>47.0</td>\n",
       "      <td>340.0</td>\n",
       "      <td>75.0</td>\n",
       "      <td>14.0</td>\n",
       "      <td>ultra</td>\n",
       "    </tr>\n",
       "    <tr>\n",
       "      <th>3</th>\n",
       "      <td>1000</td>\n",
       "      <td>Краснодар</td>\n",
       "      <td>52</td>\n",
       "      <td>8</td>\n",
       "      <td>52.0</td>\n",
       "      <td>408.0</td>\n",
       "      <td>81.0</td>\n",
       "      <td>14.0</td>\n",
       "      <td>ultra</td>\n",
       "    </tr>\n",
       "    <tr>\n",
       "      <th>4</th>\n",
       "      <td>1000</td>\n",
       "      <td>Краснодар</td>\n",
       "      <td>52</td>\n",
       "      <td>9</td>\n",
       "      <td>58.0</td>\n",
       "      <td>466.0</td>\n",
       "      <td>57.0</td>\n",
       "      <td>15.0</td>\n",
       "      <td>ultra</td>\n",
       "    </tr>\n",
       "    <tr>\n",
       "      <th>...</th>\n",
       "      <td>...</td>\n",
       "      <td>...</td>\n",
       "      <td>...</td>\n",
       "      <td>...</td>\n",
       "      <td>...</td>\n",
       "      <td>...</td>\n",
       "      <td>...</td>\n",
       "      <td>...</td>\n",
       "      <td>...</td>\n",
       "    </tr>\n",
       "    <tr>\n",
       "      <th>3209</th>\n",
       "      <td>1489</td>\n",
       "      <td>Санкт-Петербург</td>\n",
       "      <td>35</td>\n",
       "      <td>9</td>\n",
       "      <td>NaN</td>\n",
       "      <td>NaN</td>\n",
       "      <td>32.0</td>\n",
       "      <td>17.0</td>\n",
       "      <td>smart</td>\n",
       "    </tr>\n",
       "    <tr>\n",
       "      <th>3210</th>\n",
       "      <td>1489</td>\n",
       "      <td>Санкт-Петербург</td>\n",
       "      <td>35</td>\n",
       "      <td>10</td>\n",
       "      <td>NaN</td>\n",
       "      <td>NaN</td>\n",
       "      <td>21.0</td>\n",
       "      <td>20.0</td>\n",
       "      <td>smart</td>\n",
       "    </tr>\n",
       "    <tr>\n",
       "      <th>3211</th>\n",
       "      <td>1489</td>\n",
       "      <td>Санкт-Петербург</td>\n",
       "      <td>35</td>\n",
       "      <td>11</td>\n",
       "      <td>NaN</td>\n",
       "      <td>NaN</td>\n",
       "      <td>20.0</td>\n",
       "      <td>18.0</td>\n",
       "      <td>smart</td>\n",
       "    </tr>\n",
       "    <tr>\n",
       "      <th>3212</th>\n",
       "      <td>1489</td>\n",
       "      <td>Санкт-Петербург</td>\n",
       "      <td>35</td>\n",
       "      <td>12</td>\n",
       "      <td>NaN</td>\n",
       "      <td>NaN</td>\n",
       "      <td>35.0</td>\n",
       "      <td>17.0</td>\n",
       "      <td>smart</td>\n",
       "    </tr>\n",
       "    <tr>\n",
       "      <th>3213</th>\n",
       "      <td>1476</td>\n",
       "      <td>Москва</td>\n",
       "      <td>50</td>\n",
       "      <td>4</td>\n",
       "      <td>NaN</td>\n",
       "      <td>NaN</td>\n",
       "      <td>NaN</td>\n",
       "      <td>1.0</td>\n",
       "      <td>ultra</td>\n",
       "    </tr>\n",
       "  </tbody>\n",
       "</table>\n",
       "<p>3214 rows × 9 columns</p>\n",
       "</div>"
      ],
      "text/plain": [
       "      user_id             city  age  month  count_duration  sum_duration  \\\n",
       "0        1000        Краснодар   52      5            22.0         159.0   \n",
       "1        1000        Краснодар   52      6            43.0         172.0   \n",
       "2        1000        Краснодар   52      7            47.0         340.0   \n",
       "3        1000        Краснодар   52      8            52.0         408.0   \n",
       "4        1000        Краснодар   52      9            58.0         466.0   \n",
       "...       ...              ...  ...    ...             ...           ...   \n",
       "3209     1489  Санкт-Петербург   35      9             NaN           NaN   \n",
       "3210     1489  Санкт-Петербург   35     10             NaN           NaN   \n",
       "3211     1489  Санкт-Петербург   35     11             NaN           NaN   \n",
       "3212     1489  Санкт-Петербург   35     12             NaN           NaN   \n",
       "3213     1476           Москва   50      4             NaN           NaN   \n",
       "\n",
       "        id  mb_used tariff  \n",
       "0     22.0      3.0  ultra  \n",
       "1     60.0     23.0  ultra  \n",
       "2     75.0     14.0  ultra  \n",
       "3     81.0     14.0  ultra  \n",
       "4     57.0     15.0  ultra  \n",
       "...    ...      ...    ...  \n",
       "3209  32.0     17.0  smart  \n",
       "3210  21.0     20.0  smart  \n",
       "3211  20.0     18.0  smart  \n",
       "3212  35.0     17.0  smart  \n",
       "3213   NaN      1.0  ultra  \n",
       "\n",
       "[3214 rows x 9 columns]"
      ]
     },
     "execution_count": 23,
     "metadata": {},
     "output_type": "execute_result"
    }
   ],
   "source": [
    "# создадим дф good_data к которому присоеденим сгруппированую таблицу о звонках, в которой будет посчитаны \n",
    "# минуты за месяц по каждому абоненту\n",
    "# присоеденим к good_data сгруппированую таблицу о сообщениях за месяц\n",
    "# присоеденим к good_data сгруппированую таблицу об интернет-сессиях за месяц\n",
    "\n",
    "\n",
    "# создаем новый дф на основе данных со звонками\n",
    "\n",
    "good_data = (\n",
    "    df_calls\n",
    "    .groupby(['user_id', 'month'])\n",
    "    .agg({'duration': ['count', 'sum']\n",
    "         })\n",
    "    .reset_index()\n",
    ")\n",
    "\n",
    "# у нас получились двух-уровневые названия столбцов, сразу переменцем их\n",
    "\n",
    "good_data.columns = [ 'user_id', 'month', 'count_duration', 'sum_duration']\n",
    "\n",
    "# добавим данные о сообщениях, мы делали срез по звонкам, поэтому тип соединения используем outer, чтобы никого не пропустить\n",
    "\n",
    "good_data = (\n",
    "    good_data\n",
    "    .merge(df_messages\n",
    "           .groupby(['user_id', 'month'])\n",
    "           .agg({'id': 'count'})\n",
    "           .reset_index(),\n",
    "          on=['user_id', 'month'],\n",
    "          how='outer')\n",
    ")\n",
    "\n",
    "# добавим данные об интернет-сессиях, тип соединения используем outer, чтобы никого не пропустить\n",
    "\n",
    "good_data = (\n",
    "    good_data\n",
    "    .merge(df_internet\n",
    "           .groupby(['user_id', 'month'])\n",
    "           .agg({'mb_used': 'sum'})\n",
    "           .reset_index(),\n",
    "          on=['user_id', 'month'],\n",
    "          how='outer',\n",
    "                    )\n",
    ")\n",
    "\n",
    "# добавим данные об абонентах\n",
    "\n",
    "good_data = (\n",
    "    good_data\n",
    "    .merge(df_users,\n",
    "          on='user_id',\n",
    "          how='left')\n",
    ")\n",
    "\n",
    "# удалим ненужные толбцы\n",
    "\n",
    "good_data = good_data.drop(['churn_date', 'first_name', 'last_name', 'reg_date'], axis=1)\n",
    "\n",
    "# переставим некоторые столбцы местами\n",
    "\n",
    "good_data = good_data.reindex(columns=['user_id', \n",
    "                                       'city', \n",
    "                                       'age', \n",
    "                                       'month', \n",
    "                                       'count_duration', \n",
    "                                       'sum_duration', \n",
    "                                       'id', \n",
    "                                       'mb_used', \n",
    "                                       'tariff'\n",
    "                                      ])\n",
    "\n",
    "# изменим данные с интернет-сессией на ГБ, и округлим их в соответствии с условиями заказчика\n",
    "\n",
    "good_data['mb_used'] = good_data['mb_used'] / 1024\n",
    "good_data['mb_used'] = np.ceil(good_data['mb_used'])\n",
    "\n",
    "# выведем на экран новый дф\n",
    "\n",
    "good_data"
   ]
  },
  {
   "cell_type": "markdown",
   "id": "10840298",
   "metadata": {},
   "source": [
    "Мы создали новый датафрейм **good_data** в который вошли необходимые нам данные о расходах по тарифному плану наших абонентов, давайте взглянем на общую информацию о таблице."
   ]
  },
  {
   "cell_type": "code",
   "execution_count": 24,
   "id": "396328f8",
   "metadata": {},
   "outputs": [
    {
     "name": "stdout",
     "output_type": "stream",
     "text": [
      "<class 'pandas.core.frame.DataFrame'>\n",
      "Int64Index: 3214 entries, 0 to 3213\n",
      "Data columns (total 9 columns):\n",
      " #   Column          Non-Null Count  Dtype  \n",
      "---  ------          --------------  -----  \n",
      " 0   user_id         3214 non-null   int64  \n",
      " 1   city            3214 non-null   object \n",
      " 2   age             3214 non-null   int64  \n",
      " 3   month           3214 non-null   int64  \n",
      " 4   count_duration  3174 non-null   float64\n",
      " 5   sum_duration    3174 non-null   float64\n",
      " 6   id              2717 non-null   float64\n",
      " 7   mb_used         3203 non-null   float64\n",
      " 8   tariff          3214 non-null   object \n",
      "dtypes: float64(4), int64(3), object(2)\n",
      "memory usage: 251.1+ KB\n"
     ]
    }
   ],
   "source": [
    "# выведем общую информацию о таблице\n",
    "\n",
    "good_data.info()"
   ]
  },
  {
   "cell_type": "markdown",
   "id": "dde39b07",
   "metadata": {},
   "source": [
    "В **good_data** у нас получилось **3 214** строки и **9** столбцов.\n",
    "\n",
    "* мы видим пропущенные значения в столбцах: `count_duration`, `sum_duration`, `id` и `mb_used` - мы можем заполнить их нулевыми значениями, поскольку пропущенные звонки в таблице не учтены;\n",
    "* некоторые столбцы лучше переименовать:\n",
    " * столбец `age` переменуем в `age_user`;\n",
    " * столбец `id` переменуем в `count_messages`;\n",
    " * столбец `mb_used` переменуем в `gb_used`.\n",
    "* изменим тип данныех c **float** на **int**.\n",
    "\n",
    "Давайте исправим все наши замечания, чтобы продолжать дальше."
   ]
  },
  {
   "cell_type": "code",
   "execution_count": 25,
   "id": "6378904b",
   "metadata": {},
   "outputs": [
    {
     "data": {
      "text/html": [
       "<div>\n",
       "<style scoped>\n",
       "    .dataframe tbody tr th:only-of-type {\n",
       "        vertical-align: middle;\n",
       "    }\n",
       "\n",
       "    .dataframe tbody tr th {\n",
       "        vertical-align: top;\n",
       "    }\n",
       "\n",
       "    .dataframe thead th {\n",
       "        text-align: right;\n",
       "    }\n",
       "</style>\n",
       "<table border=\"1\" class=\"dataframe\">\n",
       "  <thead>\n",
       "    <tr style=\"text-align: right;\">\n",
       "      <th></th>\n",
       "      <th>user_id</th>\n",
       "      <th>city</th>\n",
       "      <th>age_user</th>\n",
       "      <th>month</th>\n",
       "      <th>count_duration</th>\n",
       "      <th>sum_duration</th>\n",
       "      <th>count_messages</th>\n",
       "      <th>gb_used</th>\n",
       "      <th>tariff</th>\n",
       "    </tr>\n",
       "  </thead>\n",
       "  <tbody>\n",
       "    <tr>\n",
       "      <th>0</th>\n",
       "      <td>1000</td>\n",
       "      <td>Краснодар</td>\n",
       "      <td>52</td>\n",
       "      <td>5</td>\n",
       "      <td>22</td>\n",
       "      <td>159</td>\n",
       "      <td>22</td>\n",
       "      <td>3</td>\n",
       "      <td>ultra</td>\n",
       "    </tr>\n",
       "    <tr>\n",
       "      <th>1</th>\n",
       "      <td>1000</td>\n",
       "      <td>Краснодар</td>\n",
       "      <td>52</td>\n",
       "      <td>6</td>\n",
       "      <td>43</td>\n",
       "      <td>172</td>\n",
       "      <td>60</td>\n",
       "      <td>23</td>\n",
       "      <td>ultra</td>\n",
       "    </tr>\n",
       "    <tr>\n",
       "      <th>2</th>\n",
       "      <td>1000</td>\n",
       "      <td>Краснодар</td>\n",
       "      <td>52</td>\n",
       "      <td>7</td>\n",
       "      <td>47</td>\n",
       "      <td>340</td>\n",
       "      <td>75</td>\n",
       "      <td>14</td>\n",
       "      <td>ultra</td>\n",
       "    </tr>\n",
       "    <tr>\n",
       "      <th>3</th>\n",
       "      <td>1000</td>\n",
       "      <td>Краснодар</td>\n",
       "      <td>52</td>\n",
       "      <td>8</td>\n",
       "      <td>52</td>\n",
       "      <td>408</td>\n",
       "      <td>81</td>\n",
       "      <td>14</td>\n",
       "      <td>ultra</td>\n",
       "    </tr>\n",
       "    <tr>\n",
       "      <th>4</th>\n",
       "      <td>1000</td>\n",
       "      <td>Краснодар</td>\n",
       "      <td>52</td>\n",
       "      <td>9</td>\n",
       "      <td>58</td>\n",
       "      <td>466</td>\n",
       "      <td>57</td>\n",
       "      <td>15</td>\n",
       "      <td>ultra</td>\n",
       "    </tr>\n",
       "    <tr>\n",
       "      <th>...</th>\n",
       "      <td>...</td>\n",
       "      <td>...</td>\n",
       "      <td>...</td>\n",
       "      <td>...</td>\n",
       "      <td>...</td>\n",
       "      <td>...</td>\n",
       "      <td>...</td>\n",
       "      <td>...</td>\n",
       "      <td>...</td>\n",
       "    </tr>\n",
       "    <tr>\n",
       "      <th>3209</th>\n",
       "      <td>1489</td>\n",
       "      <td>Санкт-Петербург</td>\n",
       "      <td>35</td>\n",
       "      <td>9</td>\n",
       "      <td>0</td>\n",
       "      <td>0</td>\n",
       "      <td>32</td>\n",
       "      <td>17</td>\n",
       "      <td>smart</td>\n",
       "    </tr>\n",
       "    <tr>\n",
       "      <th>3210</th>\n",
       "      <td>1489</td>\n",
       "      <td>Санкт-Петербург</td>\n",
       "      <td>35</td>\n",
       "      <td>10</td>\n",
       "      <td>0</td>\n",
       "      <td>0</td>\n",
       "      <td>21</td>\n",
       "      <td>20</td>\n",
       "      <td>smart</td>\n",
       "    </tr>\n",
       "    <tr>\n",
       "      <th>3211</th>\n",
       "      <td>1489</td>\n",
       "      <td>Санкт-Петербург</td>\n",
       "      <td>35</td>\n",
       "      <td>11</td>\n",
       "      <td>0</td>\n",
       "      <td>0</td>\n",
       "      <td>20</td>\n",
       "      <td>18</td>\n",
       "      <td>smart</td>\n",
       "    </tr>\n",
       "    <tr>\n",
       "      <th>3212</th>\n",
       "      <td>1489</td>\n",
       "      <td>Санкт-Петербург</td>\n",
       "      <td>35</td>\n",
       "      <td>12</td>\n",
       "      <td>0</td>\n",
       "      <td>0</td>\n",
       "      <td>35</td>\n",
       "      <td>17</td>\n",
       "      <td>smart</td>\n",
       "    </tr>\n",
       "    <tr>\n",
       "      <th>3213</th>\n",
       "      <td>1476</td>\n",
       "      <td>Москва</td>\n",
       "      <td>50</td>\n",
       "      <td>4</td>\n",
       "      <td>0</td>\n",
       "      <td>0</td>\n",
       "      <td>0</td>\n",
       "      <td>1</td>\n",
       "      <td>ultra</td>\n",
       "    </tr>\n",
       "  </tbody>\n",
       "</table>\n",
       "<p>3214 rows × 9 columns</p>\n",
       "</div>"
      ],
      "text/plain": [
       "      user_id             city  age_user  month  count_duration  sum_duration  \\\n",
       "0        1000        Краснодар        52      5              22           159   \n",
       "1        1000        Краснодар        52      6              43           172   \n",
       "2        1000        Краснодар        52      7              47           340   \n",
       "3        1000        Краснодар        52      8              52           408   \n",
       "4        1000        Краснодар        52      9              58           466   \n",
       "...       ...              ...       ...    ...             ...           ...   \n",
       "3209     1489  Санкт-Петербург        35      9               0             0   \n",
       "3210     1489  Санкт-Петербург        35     10               0             0   \n",
       "3211     1489  Санкт-Петербург        35     11               0             0   \n",
       "3212     1489  Санкт-Петербург        35     12               0             0   \n",
       "3213     1476           Москва        50      4               0             0   \n",
       "\n",
       "      count_messages  gb_used tariff  \n",
       "0                 22        3  ultra  \n",
       "1                 60       23  ultra  \n",
       "2                 75       14  ultra  \n",
       "3                 81       14  ultra  \n",
       "4                 57       15  ultra  \n",
       "...              ...      ...    ...  \n",
       "3209              32       17  smart  \n",
       "3210              21       20  smart  \n",
       "3211              20       18  smart  \n",
       "3212              35       17  smart  \n",
       "3213               0        1  ultra  \n",
       "\n",
       "[3214 rows x 9 columns]"
      ]
     },
     "execution_count": 25,
     "metadata": {},
     "output_type": "execute_result"
    }
   ],
   "source": [
    "# заполним пропущенные значения\n",
    "\n",
    "good_data = good_data.fillna(0)\n",
    "\n",
    "# переименуем некоторые столбцы\n",
    "\n",
    "good_data = good_data.rename(\n",
    "    columns = {\n",
    "        'age': 'age_user',\n",
    "        'id': 'count_messages',\n",
    "        'mb_used': 'gb_used'\n",
    "    }\n",
    ")\n",
    "\n",
    "# изменим тип данныех c float на int\n",
    "\n",
    "good_data[['count_duration', 'sum_duration', 'count_messages', 'gb_used']] = (good_data[['count_duration', \n",
    "                                                                                         'sum_duration', \n",
    "                                                                                         'count_messages', \n",
    "                                                                                         'gb_used']]\n",
    "                                                                              .astype('int') \n",
    "                                                                             )\n",
    "\n",
    "# выведем на экран good_data\n",
    "\n",
    "good_data"
   ]
  },
  {
   "cell_type": "markdown",
   "id": "04bf0b0b",
   "metadata": {},
   "source": [
    "Наша таблица почти готова, мы собрали всю необходимую информацию в ней о расходах пакетов услуг абонентов ежемесячно, дополнительно мы указали в ней: возраст и город проживания абонента.\n",
    "\n",
    "Хочу дополнительно отметить, что в нашу таблицу не вошли пропущенные звонки, которые были отмечены **0** в продолжительности звонка, а все **нулевые значения** теперь говорят о том, что абонент не расходавал пакеты услуг в этом месяце (не тратил минуты, не отправлял сообщения или не расходовал интернет-трафик).\n",
    "\n",
    "Исходя из вышесказанного давайте еще раз проверим наших абонентов, ведь это странно, если абонент в месяц не расходовал пакет услуг."
   ]
  },
  {
   "cell_type": "code",
   "execution_count": 26,
   "id": "1a4e5dbd",
   "metadata": {},
   "outputs": [
    {
     "name": "stdout",
     "output_type": "stream",
     "text": [
      "\n",
      "Количество абонентов, которые не расходовали свой пакет услуг в месяц - 0 человек.\n"
     ]
    }
   ],
   "source": [
    "# проверим есть ли абоненты которые не пользовались своими пакетами услуг\n",
    "\n",
    "print('''\n",
    "Количество абонентов, которые не расходовали свой пакет услуг в месяц - {0} человек.'''\n",
    "      \n",
    "      .format(len(good_data.query('sum_duration == 0 and  count_messages == 0 and gb_used == 0')))\n",
    ")"
   ]
  },
  {
   "cell_type": "markdown",
   "id": "b7b77a62",
   "metadata": {},
   "source": [
    "Давайте еще раз вспомним нашу главную задачу: `чтобы скорректировать рекламный бюджет, коммерческий департамент хочет понять, какой тариф приносит больше денег. Нужно проанализировать поведение клиентов и сделать вывод — какой тариф лучше.`\n",
    "\n",
    "Для этого нам необходим еще один столбец, в котором будет расчитана ежемесячная выручка с каждого абонента Для этого нам надо учесть абонентскую плату, все входящие пакеты в этот тариф и остаток.\n",
    "\n",
    "Добавим новый столбец **`income`** - который укажет ежемесячный доход компании с каждого абонента."
   ]
  },
  {
   "cell_type": "code",
   "execution_count": 27,
   "id": "7ce8868e",
   "metadata": {},
   "outputs": [
    {
     "data": {
      "text/html": [
       "<div>\n",
       "<style scoped>\n",
       "    .dataframe tbody tr th:only-of-type {\n",
       "        vertical-align: middle;\n",
       "    }\n",
       "\n",
       "    .dataframe tbody tr th {\n",
       "        vertical-align: top;\n",
       "    }\n",
       "\n",
       "    .dataframe thead th {\n",
       "        text-align: right;\n",
       "    }\n",
       "</style>\n",
       "<table border=\"1\" class=\"dataframe\">\n",
       "  <thead>\n",
       "    <tr style=\"text-align: right;\">\n",
       "      <th></th>\n",
       "      <th>user_id</th>\n",
       "      <th>city</th>\n",
       "      <th>age_user</th>\n",
       "      <th>month</th>\n",
       "      <th>count_duration</th>\n",
       "      <th>sum_duration</th>\n",
       "      <th>count_messages</th>\n",
       "      <th>gb_used</th>\n",
       "      <th>tariff</th>\n",
       "      <th>income</th>\n",
       "    </tr>\n",
       "  </thead>\n",
       "  <tbody>\n",
       "    <tr>\n",
       "      <th>0</th>\n",
       "      <td>1000</td>\n",
       "      <td>Краснодар</td>\n",
       "      <td>52</td>\n",
       "      <td>5</td>\n",
       "      <td>22</td>\n",
       "      <td>159</td>\n",
       "      <td>22</td>\n",
       "      <td>3</td>\n",
       "      <td>ultra</td>\n",
       "      <td>1950</td>\n",
       "    </tr>\n",
       "    <tr>\n",
       "      <th>1</th>\n",
       "      <td>1000</td>\n",
       "      <td>Краснодар</td>\n",
       "      <td>52</td>\n",
       "      <td>6</td>\n",
       "      <td>43</td>\n",
       "      <td>172</td>\n",
       "      <td>60</td>\n",
       "      <td>23</td>\n",
       "      <td>ultra</td>\n",
       "      <td>1950</td>\n",
       "    </tr>\n",
       "    <tr>\n",
       "      <th>2</th>\n",
       "      <td>1000</td>\n",
       "      <td>Краснодар</td>\n",
       "      <td>52</td>\n",
       "      <td>7</td>\n",
       "      <td>47</td>\n",
       "      <td>340</td>\n",
       "      <td>75</td>\n",
       "      <td>14</td>\n",
       "      <td>ultra</td>\n",
       "      <td>1950</td>\n",
       "    </tr>\n",
       "    <tr>\n",
       "      <th>3</th>\n",
       "      <td>1000</td>\n",
       "      <td>Краснодар</td>\n",
       "      <td>52</td>\n",
       "      <td>8</td>\n",
       "      <td>52</td>\n",
       "      <td>408</td>\n",
       "      <td>81</td>\n",
       "      <td>14</td>\n",
       "      <td>ultra</td>\n",
       "      <td>1950</td>\n",
       "    </tr>\n",
       "    <tr>\n",
       "      <th>4</th>\n",
       "      <td>1000</td>\n",
       "      <td>Краснодар</td>\n",
       "      <td>52</td>\n",
       "      <td>9</td>\n",
       "      <td>58</td>\n",
       "      <td>466</td>\n",
       "      <td>57</td>\n",
       "      <td>15</td>\n",
       "      <td>ultra</td>\n",
       "      <td>1950</td>\n",
       "    </tr>\n",
       "    <tr>\n",
       "      <th>...</th>\n",
       "      <td>...</td>\n",
       "      <td>...</td>\n",
       "      <td>...</td>\n",
       "      <td>...</td>\n",
       "      <td>...</td>\n",
       "      <td>...</td>\n",
       "      <td>...</td>\n",
       "      <td>...</td>\n",
       "      <td>...</td>\n",
       "      <td>...</td>\n",
       "    </tr>\n",
       "    <tr>\n",
       "      <th>3209</th>\n",
       "      <td>1489</td>\n",
       "      <td>Санкт-Петербург</td>\n",
       "      <td>35</td>\n",
       "      <td>9</td>\n",
       "      <td>0</td>\n",
       "      <td>0</td>\n",
       "      <td>32</td>\n",
       "      <td>17</td>\n",
       "      <td>smart</td>\n",
       "      <td>950</td>\n",
       "    </tr>\n",
       "    <tr>\n",
       "      <th>3210</th>\n",
       "      <td>1489</td>\n",
       "      <td>Санкт-Петербург</td>\n",
       "      <td>35</td>\n",
       "      <td>10</td>\n",
       "      <td>0</td>\n",
       "      <td>0</td>\n",
       "      <td>21</td>\n",
       "      <td>20</td>\n",
       "      <td>smart</td>\n",
       "      <td>1550</td>\n",
       "    </tr>\n",
       "    <tr>\n",
       "      <th>3211</th>\n",
       "      <td>1489</td>\n",
       "      <td>Санкт-Петербург</td>\n",
       "      <td>35</td>\n",
       "      <td>11</td>\n",
       "      <td>0</td>\n",
       "      <td>0</td>\n",
       "      <td>20</td>\n",
       "      <td>18</td>\n",
       "      <td>smart</td>\n",
       "      <td>1150</td>\n",
       "    </tr>\n",
       "    <tr>\n",
       "      <th>3212</th>\n",
       "      <td>1489</td>\n",
       "      <td>Санкт-Петербург</td>\n",
       "      <td>35</td>\n",
       "      <td>12</td>\n",
       "      <td>0</td>\n",
       "      <td>0</td>\n",
       "      <td>35</td>\n",
       "      <td>17</td>\n",
       "      <td>smart</td>\n",
       "      <td>950</td>\n",
       "    </tr>\n",
       "    <tr>\n",
       "      <th>3213</th>\n",
       "      <td>1476</td>\n",
       "      <td>Москва</td>\n",
       "      <td>50</td>\n",
       "      <td>4</td>\n",
       "      <td>0</td>\n",
       "      <td>0</td>\n",
       "      <td>0</td>\n",
       "      <td>1</td>\n",
       "      <td>ultra</td>\n",
       "      <td>1950</td>\n",
       "    </tr>\n",
       "  </tbody>\n",
       "</table>\n",
       "<p>3214 rows × 10 columns</p>\n",
       "</div>"
      ],
      "text/plain": [
       "      user_id             city  age_user  month  count_duration  sum_duration  \\\n",
       "0        1000        Краснодар        52      5              22           159   \n",
       "1        1000        Краснодар        52      6              43           172   \n",
       "2        1000        Краснодар        52      7              47           340   \n",
       "3        1000        Краснодар        52      8              52           408   \n",
       "4        1000        Краснодар        52      9              58           466   \n",
       "...       ...              ...       ...    ...             ...           ...   \n",
       "3209     1489  Санкт-Петербург        35      9               0             0   \n",
       "3210     1489  Санкт-Петербург        35     10               0             0   \n",
       "3211     1489  Санкт-Петербург        35     11               0             0   \n",
       "3212     1489  Санкт-Петербург        35     12               0             0   \n",
       "3213     1476           Москва        50      4               0             0   \n",
       "\n",
       "      count_messages  gb_used tariff  income  \n",
       "0                 22        3  ultra    1950  \n",
       "1                 60       23  ultra    1950  \n",
       "2                 75       14  ultra    1950  \n",
       "3                 81       14  ultra    1950  \n",
       "4                 57       15  ultra    1950  \n",
       "...              ...      ...    ...     ...  \n",
       "3209              32       17  smart     950  \n",
       "3210              21       20  smart    1550  \n",
       "3211              20       18  smart    1150  \n",
       "3212              35       17  smart     950  \n",
       "3213               0        1  ultra    1950  \n",
       "\n",
       "[3214 rows x 10 columns]"
      ]
     },
     "execution_count": 27,
     "metadata": {},
     "output_type": "execute_result"
    }
   ],
   "source": [
    "# добавим новый столбец с ежемесячным доходом пока что запишем абонентскую плату\n",
    "\n",
    "good_data['income'] = np.where(good_data['tariff'] == 'smart', 550, 1950)\n",
    "\n",
    "\n",
    "# напишем 3 функции которая посчитает стоимость услуг сверх тарифного пакета\n",
    "\n",
    "\n",
    "\n",
    "\n",
    "# первая функция считатет стоимость услуг сверх тарифного пакета за минуты\n",
    "\n",
    "def income_minute(row):\n",
    "    tariff = row['tariff']\n",
    "    income = row['income']\n",
    "    user_duration = row['sum_duration']\n",
    "    \n",
    "    # пишем условия для тарифа \"Смарт\"\n",
    "    \n",
    "    if tariff == 'smart':\n",
    "        \n",
    "        smart_limite_minute = 500         # количество минут включенных в тариф 'Смарт'\n",
    "        smart_price_minute = 3            # стоимость 1 минуты свер-пакета тарифа \"Смарт\"\n",
    "        \n",
    "        if user_duration > smart_limite_minute:\n",
    "            return income + ((user_duration - smart_limite_minute) * smart_price_minute)\n",
    "            \n",
    "        else:\n",
    "            return income\n",
    "        \n",
    "    # пишем условия для тарифа \"Ультра\"\n",
    "        \n",
    "    elif tariff == 'ultra':\n",
    "        \n",
    "        ultra_limite_minute = 3000       # количество минут включенных в тариф 'Ультра'\n",
    "        ultra_price_minute = 1           # стоимость 1 минуты свер-пакета тарифа \"Ультра\"\n",
    "        \n",
    "        if user_duration > ultra_limite_minute:\n",
    "            return income + ((user_duration - ultra_limite_minute) * ultra_price_minute)            \n",
    "        else:\n",
    "            return income\n",
    "        \n",
    "    else:\n",
    "        return 'неизвестный тариф'    \n",
    "    \n",
    "    \n",
    "    \n",
    "    \n",
    "# вторая функция считатет стоимость услуг сверх тарифного пакета за сообщения    \n",
    "    \n",
    "    \n",
    "def income_messages(row):\n",
    "    tariff = row['tariff']\n",
    "    income = row['income']\n",
    "    user_messages = row['count_messages']\n",
    "    \n",
    "    # пишем условия для тарифа \"Смарт\"\n",
    "    \n",
    "    if tariff == 'smart':\n",
    "        \n",
    "        smart_limite_message = 50             # количество сообщений включенных в тариф 'Смарт'\n",
    "        smart_price_message = 3               # стоимость 1 сообщения свер-пакета тарифа \"Смарт\"\n",
    "        \n",
    "        if user_messages > smart_limite_message:\n",
    "            return income + ((user_messages - smart_limite_message) * smart_price_message)            \n",
    "        else:\n",
    "            return income\n",
    "        \n",
    "    # пишем условия для тарифа \"Ультра\"\n",
    "        \n",
    "    elif tariff == 'ultra':\n",
    "        \n",
    "        ultra_limite_message = 1000           # количество сообщений включенных в тариф 'Ультра'\n",
    "        ultra_price_message = 1               # стоимость 1 сообщения свер-пакета тарифа \"Ультра\"\n",
    "        \n",
    "        if user_messages > ultra_limite_message:\n",
    "            return income + ((user_messages - ultra_limite_message) * ultra_price_message)            \n",
    "        else:\n",
    "            return income\n",
    "        \n",
    "    else:\n",
    "        return 'неизвестный тариф'\n",
    "         \n",
    "        \n",
    "        \n",
    "            \n",
    "# третсья функция считатет стоимость услуг сверх тарифного пакета за интернет                                  \n",
    "            \n",
    "def income_internet(row):\n",
    "    tariff = row['tariff']\n",
    "    income = row['income']\n",
    "    user_internet = row['gb_used']\n",
    "    \n",
    "    # пишем условия для тарифа \"Смарт\"\n",
    "    \n",
    "    if tariff == 'smart':\n",
    "        \n",
    "        smart_limite_internet = 15             # количество Гб включенных в тариф 'Смарт'\n",
    "        smart_price_internet = 200             # стоимость 1Гб свер-пакета тарифа \"Смарт\"\n",
    "        \n",
    "        if user_internet > smart_limite_internet:\n",
    "            return income + ((user_internet - smart_limite_internet) * smart_price_internet)            \n",
    "        else:\n",
    "            return income\n",
    "        \n",
    "    # пишем условия для тарифа \"Ультра\"\n",
    "\n",
    "    elif tariff == 'ultra':\n",
    "        \n",
    "        ultra_limite_internet = 30             # количество Гб включенных в тариф 'Ультра'\n",
    "        ultra_price_internet = 150             # стоимость 1Гб свер-пакета тарифа \"Ультра\"\n",
    "        \n",
    "        if user_internet > ultra_limite_internet:\n",
    "            return income + ((user_internet - ultra_limite_internet) * ultra_price_internet)            \n",
    "        else:\n",
    "            return income\n",
    "        \n",
    "    else:\n",
    "        return 'неизвестный тариф'\n",
    "\n",
    "\n",
    "    \n",
    "    \n",
    "    \n",
    "# применяем все три функции к столбцу 'income'    \n",
    "    \n",
    "good_data['income'] = good_data.apply(income_minute, axis=1)\n",
    "good_data['income'] = good_data.apply(income_messages, axis=1)\n",
    "good_data['income'] = good_data.apply(income_internet, axis=1)\n",
    "\n",
    "# выведем на экран good_data\n",
    "\n",
    "good_data"
   ]
  },
  {
   "cell_type": "markdown",
   "id": "f0a7d4fd",
   "metadata": {},
   "source": [
    "Итак, для дальнейшего исследования мы подготовили новый датафрейм **good_data** в который у нас вошли все нам необходимые данные и эти данные мы привели к нужному нам типу и формату.\n",
    "\n",
    "Прежде чем двигаться дальше, давайте сделаем описание нового датафрейма, вдруг в будущем с ним будут еще работать.\n",
    "\n",
    "**Описание данных датафрейма good_data:** \n",
    "\n",
    "* данная таблица содержит информацию о доходах компании за 2018 год!\n",
    "\n",
    "* `user_id` - уникальный идентификатор пользователя (подробная информация о пользователи хранится в датафрейме **df_users**);\n",
    "* `city` - город проживания пользователя (подробная информация о пользователи хранится в датафрейме **df_users**);\n",
    "* `age_user` - возраст пользователя (годы), (подробная информация о пользователи хранится в датафрейме **df_users**);\n",
    "* `month` - месяц пользования услугами оператора за 2018 год;\n",
    "* `count_duration` - количество совершенных звонков в месяц за 2018 год, дополнительная информация о звонках хранится в датафрейме **df_calls**;\n",
    "* `sum_duration` - сумма потраченных минут в месяц за 2018 год с округлением в большую сторону в соответствии с политикой оператора, дополнительная информация о звонках хранится в датафрейме **df_calls**;\n",
    "* `count_messages` - количество отправленных сообщений в месяц за 2018 год, дополнительная информация о сообщениях хранится в датафрейме **df_messages**;\n",
    "* `gb_used` - объём потраченного за месяц интернет-трафика (в гигабайтах) с округлением в большую сторону в соответствии с политикой оператора, дополнительная информация об интернет-трафике хранится в датафрейме **df_internet**;\n",
    "* `tariff` - тарифный план оператора (доступна 2 тарифных плана: \"Смарт\" и \"Ультра\"), дополнительная информация о тарифных планах хранится в датафрейме **df_tariff**;\n",
    "* `income` - ежемесячная выручка с абонента (руб.) (абонентская плата по тарифу + стоимость услуг сверх тарифного пакета), дополнительная информация о тарифных планах хранится в датафрейме **df_tariff** .\n",
    "\n"
   ]
  },
  {
   "cell_type": "markdown",
   "id": "678344a5",
   "metadata": {},
   "source": [
    "## 3. Анализ данных"
   ]
  },
  {
   "cell_type": "markdown",
   "id": "bfea23ca",
   "metadata": {},
   "source": [
    "Мы подготовили данные для анализы, теперь давайте выясним поведение клиентов оператора, исходя из выборки:\n",
    "\n",
    "* сколько минут разговора требуется пользователям каждого тарифа в месяц?\n",
    "* сколько сообщений требуется пользователям каждого тарифа в месяц?\n",
    "* какой объём интернет-трафика требуется пользователям каждого тарифа в месяц? \n",
    "* рассчитаем среднее количество, дисперсию и стандартное отклонение;\n",
    "* построим гистограммы;\n",
    "* опишите распределения.\n",
    "\n",
    "\n",
    "**Давайте для начала узнаем сколько абонентов из нашей выборке подключены к этим тарифам.**\n",
    "\n"
   ]
  },
  {
   "cell_type": "code",
   "execution_count": 28,
   "id": "88bf3fd7",
   "metadata": {},
   "outputs": [
    {
     "name": "stdout",
     "output_type": "stream",
     "text": [
      "Таблица с количеством абонентов по тарифам:\n"
     ]
    },
    {
     "data": {
      "text/html": [
       "<div>\n",
       "<style scoped>\n",
       "    .dataframe tbody tr th:only-of-type {\n",
       "        vertical-align: middle;\n",
       "    }\n",
       "\n",
       "    .dataframe tbody tr th {\n",
       "        vertical-align: top;\n",
       "    }\n",
       "\n",
       "    .dataframe thead th {\n",
       "        text-align: right;\n",
       "    }\n",
       "</style>\n",
       "<table border=\"1\" class=\"dataframe\">\n",
       "  <thead>\n",
       "    <tr style=\"text-align: right;\">\n",
       "      <th></th>\n",
       "      <th>user_id</th>\n",
       "    </tr>\n",
       "    <tr>\n",
       "      <th>tariff</th>\n",
       "      <th></th>\n",
       "    </tr>\n",
       "  </thead>\n",
       "  <tbody>\n",
       "    <tr>\n",
       "      <th>smart</th>\n",
       "      <td>350</td>\n",
       "    </tr>\n",
       "    <tr>\n",
       "      <th>ultra</th>\n",
       "      <td>148</td>\n",
       "    </tr>\n",
       "  </tbody>\n",
       "</table>\n",
       "</div>"
      ],
      "text/plain": [
       "        user_id\n",
       "tariff         \n",
       "smart       350\n",
       "ultra       148"
      ]
     },
     "metadata": {},
     "output_type": "display_data"
    },
    {
     "data": {
      "image/png": "[encoded data removed]",
      "text/plain": [
       "<Figure size 504x504 with 1 Axes>"
      ]
     },
     "metadata": {},
     "output_type": "display_data"
    }
   ],
   "source": [
    "# подсчитаем общее число абонентов по тарифам и построим круговую диграмму, что узнать долю абонентов по тарифам\n",
    "\n",
    "print('Таблица с количеством абонентов по тарифам:')\n",
    "display(good_data.groupby('tariff').agg({'user_id': 'nunique'}))\n",
    "\n",
    "\n",
    "(\n",
    "good_data\n",
    "    .groupby('tariff')\n",
    "    .agg({'user_id': 'nunique'})\n",
    "    .plot(kind='pie',\n",
    "          figsize=(7, 7),\n",
    "          subplots=True, \n",
    "          autopct='%1.1f%%',\n",
    "          explode = [0.1, 0],\n",
    "          shadow = True\n",
    "          )    \n",
    ")\n",
    "# plt.legend(title = \"Названия тарифов:\", loc=1) данная строка начала приводить к ошибке 'tuple' object is not callable\n",
    "plt.title('Доля абонентов по тарифам');"
   ]
  },
  {
   "cell_type": "markdown",
   "id": "df89dabf",
   "metadata": {},
   "source": [
    "Таким образом мы видим, что количество абонентов у нас получается **498**. Из них **большая часть** пользуется тарифом **\"Смарт\"**, а лишь **30%** использует более дорогой тариф **\"Ультра\"**.\n",
    "\n",
    "**Давайте изучим возраст абонентов.**"
   ]
  },
  {
   "cell_type": "code",
   "execution_count": 29,
   "id": "7b767cf5",
   "metadata": {},
   "outputs": [
    {
     "data": {
      "image/png": "[encoded data removed]",
      "text/plain": [
       "<Figure size 576x288 with 1 Axes>"
      ]
     },
     "metadata": {
      "needs_background": "light"
     },
     "output_type": "display_data"
    },
    {
     "data": {
      "image/png": "[encoded data removed]",
      "text/plain": [
       "<Figure size 576x288 with 1 Axes>"
      ]
     },
     "metadata": {
      "needs_background": "light"
     },
     "output_type": "display_data"
    }
   ],
   "source": [
    "# построим 2 гистограммы по тарифам в которой увидем возраст абонентов\n",
    "\n",
    "(\n",
    "good_data\n",
    "    .query('tariff == \"smart\"')\n",
    "    .pivot_table(\n",
    "        index='user_id', \n",
    "        values='age_user', \n",
    "        aggfunc='first')\n",
    "    .plot(\n",
    "        kind='hist', \n",
    "        bins=57, \n",
    "        alpha=1,\n",
    "        figsize=(8, 4)\n",
    "    ) \n",
    ")\n",
    "plt.title('Возраст абонентов тарифа \"Смарт\"')\n",
    "plt.xlabel('возраст')\n",
    "plt.ylabel('количество абонентов')\n",
    "plt.show()\n",
    "\n",
    "(\n",
    "good_data\n",
    "    .query('tariff == \"ultra\"')\n",
    "    .pivot_table(\n",
    "        index='user_id', \n",
    "        values='age_user', \n",
    "        aggfunc='first')\n",
    "    .plot(\n",
    "        kind='hist', \n",
    "        bins=57, \n",
    "        alpha=1, \n",
    "        color='orange',\n",
    "        figsize=(8, 4)\n",
    "    )\n",
    ")\n",
    "plt.title('Возраст абонентов тарифа \"Ультра\"')\n",
    "plt.xlabel('возраст')\n",
    "plt.ylabel('количество абонентов')\n",
    "plt.show()"
   ]
  },
  {
   "cell_type": "markdown",
   "id": "dc30eef4",
   "metadata": {},
   "source": [
    "Каких-либо отличительнных особенностей в возрасте абонентав по тарифам мы не видим, у обоих тарифов примерный возраст абонентов **18 - 75** лет.\n",
    "\n",
    "**Давайте изучим в каких городах проживают наши абоненты.**"
   ]
  },
  {
   "cell_type": "code",
   "execution_count": 30,
   "id": "662be583",
   "metadata": {},
   "outputs": [
    {
     "data": {
      "image/png": "[encoded data removed]",
      "text/plain": [
       "<Figure size 720x864 with 1 Axes>"
      ]
     },
     "metadata": {
      "needs_background": "light"
     },
     "output_type": "display_data"
    },
    {
     "data": {
      "image/png": "[encoded data removed]",
      "text/plain": [
       "<Figure size 720x864 with 1 Axes>"
      ]
     },
     "metadata": {
      "needs_background": "light"
     },
     "output_type": "display_data"
    }
   ],
   "source": [
    "# построим столбчатые диограммы по тарифам посмотрим в каких городах проживают наши абоненты\n",
    "# неразобрался как отразить на одной диаграмме оба тарифа\n",
    "\n",
    "(\n",
    "    df_users\n",
    "    .query('tariff == \"smart\"')['city']\n",
    "    .value_counts()\n",
    "    .sort_values()\n",
    "    .plot(\n",
    "        kind='barh', \n",
    "        figsize=(10, 12), \n",
    "        grid=True)\n",
    ")\n",
    "plt.title('Города проживания абонентов тарифа \"Смарт\"')\n",
    "plt.xlabel('количество абонентов')\n",
    "plt.show()\n",
    "\n",
    "(\n",
    "    df_users\n",
    "    .query('tariff == \"ultra\"')['city']\n",
    "    .value_counts()\n",
    "    .sort_values()\n",
    "    .plot(\n",
    "        kind='barh', \n",
    "        figsize=(10, 12), \n",
    "        grid=True,\n",
    "        color='orange')\n",
    ")\n",
    "plt.title('Города проживания абонентов тарифа \"Ультра\"')\n",
    "plt.xlabel('количество абонентов')\n",
    "plt.show()"
   ]
  },
  {
   "cell_type": "markdown",
   "id": "54c2d5ce",
   "metadata": {},
   "source": [
    "Здесь тоже без особых отличий, наибольшее число абонентов проживают в **Москве** и **Санкт-Петерурге**, в остальных городах значения различаются, но выборка слишком мала, чтобы о чем-то судить. \n",
    "\n",
    "\n",
    "Таким образом мы немного изучили наших аюонентов, теперь давайте перейдем к исследованию и ответим на следующие вопросы:\n",
    "* сколько минут разговора требуется пользователям каждого тарифа в месяц?\n",
    "* сколько сообщений требуется пользователям каждого тарифа в месяц?\n",
    "* какой объём интернет-трафика требуется пользователям каждого тарифа в месяц? \n",
    "* рассчитаем среднее количество, дисперсию и стандартное отклонение;\n",
    "* построим гистограммы;\n",
    "* опишите распределения."
   ]
  },
  {
   "cell_type": "markdown",
   "id": "0043eaee",
   "metadata": {},
   "source": [
    "Давайте попытаемся ответить на все эти вопросы и проведем статистический анализ данных, для этого найдем среднее по этим тарифам и вычислим среднее отклонение, благодаря этим знаниям мы сможем ответить на данные вопросы. \n",
    "\n",
    "**План статистического анализа данных:**\n",
    "* создадим 2 дф **smart** и **ultra** в которых рассчитаем среднее, дисперсию и стандартное отклонение, для: минут, сообщений, интернет-сессиий и дохода;\n",
    "* построим гистограммы по месяцам и по тарифам, для: минут, сообщений, интернет-сессиий;\n",
    "* опишем распределение.\n",
    "\n",
    "Создадим 2 дф **smart** и **ultra**"
   ]
  },
  {
   "cell_type": "code",
   "execution_count": 31,
   "id": "2d550ab2",
   "metadata": {},
   "outputs": [],
   "source": [
    "# для удобства создадим 2 дф в которых рассчитаем ср, дисп, и стд откл и по ним будем строить гистограммы\n",
    "\n",
    "smart = (\n",
    "    good_data\n",
    "    .query('tariff==\"smart\"')\n",
    "    .pivot_table(index='month', \n",
    "                 values=['sum_duration', \n",
    "                         'count_messages', \n",
    "                         'gb_used'],\n",
    "                 aggfunc=['mean', 'var', 'std']\n",
    "                \n",
    "                )\n",
    "        \n",
    "        )\n",
    "\n",
    "ultra = (\n",
    "    good_data\n",
    "    .query('tariff==\"ultra\"')\n",
    "    .pivot_table(index='month', \n",
    "                 values=['sum_duration', \n",
    "                         'count_messages', \n",
    "                         'gb_used'],\n",
    "                 aggfunc=['mean', 'var', 'std']\n",
    "                \n",
    "                )\n",
    "        \n",
    "        )"
   ]
  },
  {
   "cell_type": "markdown",
   "id": "82efbd1d",
   "metadata": {},
   "source": [
    "**Построим гистограммы для звонков**\n",
    "\n",
    "Опираясь на 2 новых дф построим гистограмму для минут опираясь на среднее значение в месяц."
   ]
  },
  {
   "cell_type": "code",
   "execution_count": 32,
   "id": "22b3b056",
   "metadata": {},
   "outputs": [
    {
     "data": {
      "image/png": "[encoded data removed]",
      "text/plain": [
       "<Figure size 648x432 with 1 Axes>"
      ]
     },
     "metadata": {
      "needs_background": "light"
     },
     "output_type": "display_data"
    }
   ],
   "source": [
    "# построим гистограмму потраченных минут в среднем по месяцам у абонентов двух тарифов\n",
    "\n",
    "plt.figure(figsize=(9,6))\n",
    "plt.title('Количество потраченных минут абонентов')\n",
    "plt.xlabel('минуты')\n",
    "plt.ylabel('количество месяцев')\n",
    "\n",
    "plt.hist(smart['mean']['sum_duration'],\n",
    "        bins=15,\n",
    "        alpha=.5,\n",
    "        label='Smart'\n",
    "        )\n",
    "\n",
    "plt.hist(ultra['mean']['sum_duration'],\n",
    "        bins=15,\n",
    "        alpha=.7,\n",
    "        color='orange',\n",
    "        label='Ultra'\n",
    "        )\n",
    "plt.legend();\n",
    "\n",
    "\n",
    "# пробовал через plot построить гистограмму, но появлялась ошибка Line2D\n",
    "# поэтому гистограмма без дополнительных \"украшений\"   :("
   ]
  },
  {
   "cell_type": "markdown",
   "id": "46dfa0de",
   "metadata": {},
   "source": [
    "Таким образом мы видим, что абоненты тарифного плана **Смарт** (синий цвет) расходуют меньше минут в месяц, чем абоненты **Ультра** (оранжевый цвет).\n",
    "Видим, что обе гистограммы имеют датасет с небольшой отрицательнной скошенностью.\n",
    "\n",
    "**Построим гистограммы для сообщений**\n",
    "\n",
    "Опираясь на 2 новых дф построим гистограмму для сообщений опираясь на среднее значение в месяц."
   ]
  },
  {
   "cell_type": "code",
   "execution_count": 33,
   "id": "6f95b949",
   "metadata": {},
   "outputs": [
    {
     "data": {
      "image/png": "[encoded data removed]",
      "text/plain": [
       "<Figure size 648x432 with 1 Axes>"
      ]
     },
     "metadata": {
      "needs_background": "light"
     },
     "output_type": "display_data"
    }
   ],
   "source": [
    "# построим гистограмму отправленных сообщений в среднем по месяцам у абонентов двух тарифов\n",
    "\n",
    "plt.figure(figsize=(9,6))\n",
    "plt.title('Количество отправленных сообщений')\n",
    "plt.xlabel('количество (шт.)')\n",
    "plt.ylabel('количество месяцев')\n",
    "\n",
    "plt.hist(smart['mean']['count_messages'],\n",
    "        bins=12,\n",
    "        alpha=.5\n",
    "        )\n",
    "\n",
    "plt.hist(ultra['mean']['count_messages'],\n",
    "        bins=12,\n",
    "        alpha=.7,\n",
    "        color='orange'\n",
    "        );"
   ]
  },
  {
   "cell_type": "markdown",
   "id": "d6fd82ac",
   "metadata": {},
   "source": [
    "Абоненты тарифного плана **Смарт** (синий цвет) отправляют меньше сообщений в месяц, чем абоненты **Ультра** (оранжевый цвет). Видим, что синяя гистограмма имеет небольшую отрицательнную скошенностью, а оранжевая практически симметрична.\n",
    "\n",
    "**Построим гистограммы для интернет-сессий**\n",
    "\n",
    "Опираясь на 2 новых дф построим гистограмму для интернет-сессий у абонентов опираясь на среднее значение в месяц."
   ]
  },
  {
   "cell_type": "code",
   "execution_count": 34,
   "id": "d0308431",
   "metadata": {},
   "outputs": [
    {
     "data": {
      "image/png": "[encoded data removed]",
      "text/plain": [
       "<Figure size 648x432 with 1 Axes>"
      ]
     },
     "metadata": {
      "needs_background": "light"
     },
     "output_type": "display_data"
    }
   ],
   "source": [
    "# построим гистограмму интернет-сессий в среднем по месяцам у абонентов двух тарифов\n",
    "\n",
    "plt.figure(figsize=(9,6))\n",
    "plt.title('Количество отправленных сообщений')\n",
    "plt.xlabel('количество (шт.)')\n",
    "plt.ylabel('количество месяцев')\n",
    "\n",
    "plt.hist(smart['mean']['gb_used'],\n",
    "        bins=12,\n",
    "        alpha=.5\n",
    "        )\n",
    "\n",
    "plt.hist(ultra['mean']['gb_used'],\n",
    "        bins=12,\n",
    "        alpha=.7,\n",
    "        color='orange'\n",
    "        );"
   ]
  },
  {
   "cell_type": "markdown",
   "id": "233bf733",
   "metadata": {},
   "source": [
    "Таким образом мы видим, что абоненты тарифного плана **Смарт** (синий цвет) расходуют меньше интернета в месяц, чем абоненты **Ультра** (оранжевый цвет).\n",
    "Видим, что обе гистограммы имеют датасет с небольшой отрицательнной скошенностью.\n",
    "\n",
    "Подвидя итог, можем сказать, что абоненты тарифного плана **Ультра** значительно больше рассходуют свои тарифные-пакеты в месяц.\n",
    "Также видим, опираясь на среднее значения в месяц, что практически все гистограммы имеют небольшую отрицательнную скошенность, следовательно и среднне значение меньше медианны.\n",
    "\n",
    "**Дополнительно** я бы хотел предложить рассчитать данные за год, в нашем случае - это 2018 год, предлагаю найти среднее и стандартное отклоненние за год у тарифных планов, рассчитать диапазон 99% данных (по правилу 3 сигм):\n",
    "* За год рассчитаем среднее и стандартное отклонение у:\n",
    "* * количества звонков;\n",
    "* * потраченных минут;\n",
    "* * отправленных сообщений;\n",
    "* * использованных ГБ;\n",
    "* * полученного дохода.\n",
    "\n",
    "Для этого обратимся снова к **good_data** и вычислим эти показатели"
   ]
  },
  {
   "cell_type": "code",
   "execution_count": 35,
   "id": "67b03ce9",
   "metadata": {},
   "outputs": [],
   "source": [
    "# рассчитаем среднее и стандартное за год по тарифам, и применим правило 3 сигм\n",
    "\n",
    "# рассчитаем среднее у абонентов Смарт\n",
    "\n",
    "mean_smart_calls = np.mean(good_data.query('tariff == \"smart\"')['count_duration'])\n",
    "mean_smart_duration = np.mean(good_data.query('tariff == \"smart\"')['sum_duration'])\n",
    "mean_smart_messages = np.mean(good_data.query('tariff == \"smart\"')['count_messages'])\n",
    "mean_smart_internet = np.mean(good_data.query('tariff == \"smart\"')['gb_used'])\n",
    "mean_smart_income = np.mean(good_data.query('tariff == \"smart\"')['income'])\n",
    "\n",
    "# рассчитаем среднее у абонентов Ультра\n",
    "\n",
    "mean_ultra_calls = np.mean(good_data.query('tariff == \"ultra\"')['count_duration'])\n",
    "mean_ultra_duration = np.mean(good_data.query('tariff == \"ultra\"')['sum_duration'])\n",
    "mean_ultra_messages = np.mean(good_data.query('tariff == \"ultra\"')['count_messages'])\n",
    "mean_ultra_internet = np.mean(good_data.query('tariff == \"ultra\"')['gb_used'])\n",
    "mean_ultra_income = np.mean(good_data.query('tariff == \"ultra\"')['income'])\n",
    "\n",
    "# рассчитаем стандартное отклонение у абонентов Смарт с учетом выборке\n",
    "\n",
    "std_smart_calls = np.std(good_data.query('tariff == \"smart\"')['count_duration'], ddof=1)\n",
    "std_smart_duration = np.std(good_data.query('tariff == \"smart\"')['sum_duration'], ddof=1)\n",
    "std_smart_messages = np.std(good_data.query('tariff == \"smart\"')['count_messages'], ddof=1)\n",
    "std_smart_internet = np.std(good_data.query('tariff == \"smart\"')['gb_used'], ddof=1)\n",
    "std_smart_income = np.std(good_data.query('tariff == \"smart\"')['income'], ddof=1)\n",
    "\n",
    "# рассчитаем стандартное отклонение у абонентов Ультра с учетом выборке\n",
    "\n",
    "std_ultra_calls = np.std(good_data.query('tariff == \"ultra\"')['count_duration'], ddof=1)\n",
    "std_ultra_duration = np.std(good_data.query('tariff == \"ultra\"')['sum_duration'], ddof=1)\n",
    "std_ultra_messages = np.std(good_data.query('tariff == \"ultra\"')['count_messages'], ddof=1)\n",
    "std_ultra_internet = np.std(good_data.query('tariff == \"ultra\"')['gb_used'], ddof=1)\n",
    "std_ultra_income = np.std(good_data.query('tariff == \"ultra\"')['income'], ddof=1)"
   ]
  },
  {
   "cell_type": "markdown",
   "id": "768d4c1e",
   "metadata": {},
   "source": [
    "**Рассчитаем дисперсию**\n",
    "\n",
    "Рассчитаем дисперсию за год по тарифам и выведем на экран."
   ]
  },
  {
   "cell_type": "code",
   "execution_count": 36,
   "id": "2594c7d6",
   "metadata": {},
   "outputs": [],
   "source": [
    "# рассчитаем дисперсию у абонентов Смарт с учетом выборке\n",
    "\n",
    "var_smart_calls = np.var(good_data.query('tariff == \"smart\"')['count_duration'], ddof=1)\n",
    "var_smart_duration = np.var(good_data.query('tariff == \"smart\"')['sum_duration'], ddof=1)\n",
    "var_smart_messages = np.var(good_data.query('tariff == \"smart\"')['count_messages'], ddof=1)\n",
    "var_smart_internet = np.var(good_data.query('tariff == \"smart\"')['gb_used'], ddof=1)\n",
    "var_smart_income = np.var(good_data.query('tariff == \"smart\"')['income'], ddof=1)\n",
    "\n",
    "# рассчитаем дисперсию у абонентов Ультра с учетом выборке\n",
    "\n",
    "var_ultra_calls = np.var(good_data.query('tariff == \"ultra\"')['count_duration'], ddof=1)\n",
    "var_ultra_duration = np.var(good_data.query('tariff == \"ultra\"')['sum_duration'], ddof=1)\n",
    "var_ultra_messages = np.var(good_data.query('tariff == \"ultra\"')['count_messages'], ddof=1)\n",
    "var_ultra_internet = np.var(good_data.query('tariff == \"ultra\"')['gb_used'], ddof=1)\n",
    "var_ultra_income = np.var(good_data.query('tariff == \"ultra\"')['income'], ddof=1)"
   ]
  },
  {
   "cell_type": "code",
   "execution_count": 37,
   "id": "3ac1208a",
   "metadata": {},
   "outputs": [
    {
     "data": {
      "text/plain": [
       "count    2229.000000\n",
       "mean     1289.973531\n",
       "std       818.404367\n",
       "min       550.000000\n",
       "25%       550.000000\n",
       "50%      1023.000000\n",
       "75%      1750.000000\n",
       "max      6770.000000\n",
       "Name: income, dtype: float64"
      ]
     },
     "execution_count": 37,
     "metadata": {},
     "output_type": "execute_result"
    }
   ],
   "source": [
    "good_data.query('tariff == \"smart\"')['income'].describe().T\n"
   ]
  },
  {
   "cell_type": "code",
   "execution_count": 38,
   "id": "8fbd7101",
   "metadata": {
    "scrolled": true
   },
   "outputs": [
    {
     "name": "stdout",
     "output_type": "stream",
     "text": [
      "\n",
      "Абоненты тарифного плана Смарт, в среднем в месяц расходуют:\n",
      "58 - совершают звонков;\n",
      "417 - тратят минут;\n",
      "33 - отправляют сообщений;\n",
      "16 - тратят Гб.;\n",
      "1289 - приносят дохода.\n",
      "\n",
      "Абоненты тарифного плана Ультра, в среднем в месяц расходуют:\n",
      "73 - совершают звонков;\n",
      "526 - тратят минут;\n",
      "49 - отправляют сообщений;\n",
      "19 - тратят Гб.;\n",
      "2070 - приносят дохода.\n"
     ]
    }
   ],
   "source": [
    "# рассчитаем сколько абоненты тратят в среднем за месяц\n",
    "\n",
    "\n",
    "print('''\n",
    "Абоненты тарифного плана Смарт, в среднем в месяц расходуют:\n",
    "{0} - совершают звонков;\n",
    "{1} - тратят минут;\n",
    "{2} - отправляют сообщений;\n",
    "{3} - тратят Гб.;\n",
    "{4} - приносят дохода.'''.format(int(mean_smart_calls), \n",
    "                           int(mean_smart_duration), \n",
    "                           int(mean_smart_messages), \n",
    "                           int(mean_smart_internet), \n",
    "                           int(mean_smart_income)))\n",
    "\n",
    "print('''\n",
    "Абоненты тарифного плана Ультра, в среднем в месяц расходуют:\n",
    "{0} - совершают звонков;\n",
    "{1} - тратят минут;\n",
    "{2} - отправляют сообщений;\n",
    "{3} - тратят Гб.;\n",
    "{4} - приносят дохода.'''.format(int(mean_ultra_calls), \n",
    "                           int(mean_ultra_duration), \n",
    "                           int(mean_ultra_messages), \n",
    "                           int(mean_ultra_internet), \n",
    "                           int(mean_ultra_income)))\n",
    "\n",
    "\n"
   ]
  },
  {
   "cell_type": "code",
   "execution_count": 39,
   "id": "6c6e198b",
   "metadata": {},
   "outputs": [
    {
     "name": "stdout",
     "output_type": "stream",
     "text": [
      "\n",
      "\n",
      "Средний возраст абонентов:\n",
      "на тарифном плане \"Смарт\" составляет 47 лет,\n",
      "а у тарифного плана \"Ультра\" составляет 45 лет.\n",
      "\n",
      "\n"
     ]
    }
   ],
   "source": [
    "# расчитаем средний возраст абонентов\n",
    "\n",
    "print('''\n",
    "\n",
    "Средний возраст абонентов:\n",
    "на тарифном плане \"Смарт\" составляет {0} лет,\n",
    "а у тарифного плана \"Ультра\" составляет {1} лет.\n",
    "\n",
    "'''.format(int(good_data.query('tariff == \"smart\"')['age_user'].median()),\n",
    "          int(good_data.query('tariff == \"ultra\"')['age_user'].median()))\n",
    "     \n",
    "     \n",
    "     )"
   ]
  },
  {
   "cell_type": "code",
   "execution_count": 40,
   "id": "fd8ea939",
   "metadata": {},
   "outputs": [
    {
     "data": {
      "image/png": "[encoded data removed]",
      "text/plain": [
       "<Figure size 576x432 with 1 Axes>"
      ]
     },
     "metadata": {
      "needs_background": "light"
     },
     "output_type": "display_data"
    },
    {
     "name": "stdout",
     "output_type": "stream",
     "text": [
      "\n",
      "\n",
      "у тарифного плана \"Смарт\" 1662 раз абоненты выходили за рамки тарифа;\n",
      "у тарифного плана \"Ультра\" 134 раз абоненты выходили за рамки тарифа.\n",
      "\n",
      "\n"
     ]
    }
   ],
   "source": [
    "# построим гистограмму по абонентам превысившим абон плату\n",
    "\n",
    "plt.figure(figsize=(8, 6))\n",
    "good_data.query('tariff == \"smart\" and income > 550')['income'].hist(bins=15, label='Smart')\n",
    "good_data.query('tariff == \"ultra\" and income > 1950')['income'].hist(bins=15, label='Ultra')\n",
    "plt.title('Количество абонентов превысивших пакет услуг по тарифам')\n",
    "plt.legend()\n",
    "plt.xlabel('плата по тарифу')\n",
    "plt.ylabel('количество абонентов')\n",
    "plt.show();\n",
    "\n",
    "# рассчитаем какая группа пользователь чаще выходит за рамки абонентской платы\n",
    "\n",
    "print('''\n",
    "\n",
    "у тарифного плана \"Смарт\" {0} раз абоненты выходили за рамки тарифа;\n",
    "у тарифного плана \"Ультра\" {1} раз абоненты выходили за рамки тарифа.\n",
    "\n",
    "'''.format(len(good_data.query('tariff == \"smart\" and income > 550')),\n",
    "           len(good_data.query('tariff == \"ultra\" and income > 1950'))\n",
    "          \n",
    "          )\n",
    "      )\n"
   ]
  },
  {
   "cell_type": "code",
   "execution_count": 41,
   "id": "03ea23b8",
   "metadata": {},
   "outputs": [
    {
     "data": {
      "image/png": "[encoded data removed]",
      "text/plain": [
       "<Figure size 432x288 with 1 Axes>"
      ]
     },
     "metadata": {
      "needs_background": "light"
     },
     "output_type": "display_data"
    }
   ],
   "source": [
    "# построим гистограмму максимальной абон платы\n",
    "\n",
    "\n",
    "good_data.query('tariff == \"smart\" and income > 550')['income'].hist(bins=15, label='Smart', range=(4000, 7000))\n",
    "good_data.query('tariff == \"ultra\" and income > 1950')['income'].hist(bins=15, label='Ultra', range=(4000, 7000))\n",
    "plt.title('Максимальная абонентская плата по тарифам')\n",
    "plt.legend()\n",
    "plt.xlabel('плата по тарифу')\n",
    "plt.ylabel('количество абонентов')\n",
    "plt.show();"
   ]
  },
  {
   "cell_type": "markdown",
   "id": "54ceb88b",
   "metadata": {},
   "source": [
    "### Итог анализа данных\n",
    "\n",
    "Мы провели анализ данных и выяснили, что большая часть абонентов проживает в **Москве** или **Санкт-Петербурге**.\n",
    "**70%** из выборке пользуются тарифом \"Смарт\", а остальные \"Ультра\".\n",
    "Возраст абонентов у тарифов схожий и находится в диапазоне **18**-**75** лет, также средний возраст абонентов практически совпадает у обоих тарифов и составляет **45-47** лет.\n",
    "\n",
    "Абонентов **Смарт** больше примерно в 2,5 раза чем абонентов **Ультра** стоит учитывать это. \n",
    "\n",
    "В среднем в месяц абоненты **Ультра** приносят **2 070 рублей** дохода, \n",
    "\n",
    "а абоненты **Смарт** около **1 289 рублей** в месяц. \n",
    "\n",
    "Но в тоже время мы видим, что абоненты тарифа **Смарт** чаще выходят за рамки тарифа, в отличии от абонентов тарифа **Ультра**.\n",
    "К тому же максимальная сумма абонентской плату у абонентов **Смарт** составляла чуть больше **6 500** рублей, в то время как у **Ультры** максимум до **5 000** рублей. \n",
    "\n",
    "Абоненты **Смарт** не только чаще выходят за рамки своего тарифа, но и доход от них выше чем от абонентов **Ультра**\n",
    "\n"
   ]
  },
  {
   "cell_type": "markdown",
   "id": "a9265119",
   "metadata": {},
   "source": [
    "## 4. Проверка гипотез\n",
    "\n",
    "Заказчик дополнительнно попросил нас проверить две гипотезы, которые звучат так:\n",
    "* средняя выручка пользователей тарифов «Ультра» и «Смарт» различаются;\n",
    "* средняя выручка пользователей из Москвы отличается от выручки пользователей из других регионов.\n",
    "\n",
    "\n",
    "Нам предстоить проверить 2 гипотезы, но для начала давайте их сформулируем:\n",
    "\n",
    "1. \n",
    "\n",
    "\n",
    "* * H₀ - средняя выручка пользователей тарифов «Ультра» и «Смарт» не различается, выручки **равны**;\n",
    "* * H₁ - средняя выручка пользователей тарифов «Ультра» и «Смарт» различается, выручки **не равны**.\n",
    "\n",
    "\n",
    "2.\n",
    "* * H₀ - средняя выручка пользователей из Москвы и пользователей из других регионов не различается, выручки **равны**;\n",
    "* * H₁ - средняя выручка пользователей из Москвы и пользователей из других регионов различается, выручки **не равны**.\n",
    "\n",
    "Обе наших гипотезы являются двухсторонними, поэтому предлагаю пороговое значение **alpha** = **5%**.  \n",
    "\n",
    "Нулевая гипотеза всегда формулируется так, чтобы использовать знак равенства. Другими словами, чтобы все данные лежали в районе изначально предполагаемого значения.\n",
    "\n",
    "\n",
    "**Давайте проверим гипотезу №1**\n",
    "\n",
    "* * H₀ - средняя выручка пользователей тарифов «Ультра» и «Смарт» не различается, выручки **равны**;\n",
    "* * H₁ - средняя выручка пользователей тарифов «Ультра» и «Смарт» различается, выручки **не равны**.\n",
    " \n",
    "Запишем иначе:\n",
    "* **U** - средняя выручка пользователей тарифа «Ультра»;\n",
    "* **S** - средняя выручка пользователей тарифа «Смарт».\n",
    "\n",
    "Таким образов, получаем:\n",
    "* **H₀**: U = S - нулевая гипотеза;\n",
    "* **H₁**: U ≠ S - альтернативная гипотеза.\n",
    "\n",
    "В данной гипотезе мы будем сравнивать выборки из двух генеральных совокупностей:\n",
    "* выборка выручки абонентов тарифа «Ультра», и\n",
    "* выборка выручки абонентов тарифа «Смарт».\n",
    "\n",
    "Ранее мы выяснили, что доля абонентов тарифа «Ультра» около **30%**, также мы знаем, что этот тарифный план дороже по абонентской плате. Ранее мы выяснили, что приблизительно средний возраст абонентов составляет **45-47** лет. Нам нужно определиться, стоит ли при проверке гипотезы считать ли равными дисперсии выборок.\n",
    "\n",
    "Проверим их размер."
   ]
  },
  {
   "cell_type": "code",
   "execution_count": 42,
   "id": "94bb140f",
   "metadata": {},
   "outputs": [
    {
     "name": "stdout",
     "output_type": "stream",
     "text": [
      "\n",
      "Размер выборки по тарифам \"Смарт\" равняется 2229,\n",
      "а размер выборки по тарифу \"Ультра\" равняется 985.\n",
      "\n"
     ]
    }
   ],
   "source": [
    "# создадим два массива по этим тарифам, подсчитаем их количество\n",
    "\n",
    "array_smart = (\n",
    "    good_data\n",
    "    .query('tariff == \"smart\"')['income']\n",
    "             )\n",
    "\n",
    "array_ultra = (\n",
    "    good_data\n",
    "    .query('tariff == \"ultra\"')['income']\n",
    "             )\n",
    "\n",
    "# сделаем их массивами Numpy\n",
    "\n",
    "array_smart = np.array(array_smart)\n",
    "array_ultra = np.array(array_ultra)\n",
    "\n",
    "print('''\n",
    "Размер выборки по тарифам \"Смарт\" равняется {0},\n",
    "а размер выборки по тарифу \"Ультра\" равняется {1}.\n",
    "'''.format(len(array_smart), len(array_ultra))\n",
    "     )"
   ]
  },
  {
   "cell_type": "code",
   "execution_count": 43,
   "id": "a8707b36",
   "metadata": {},
   "outputs": [
    {
     "name": "stdout",
     "output_type": "stream",
     "text": [
      "\n",
      "\n",
      "дисперия для массива \"Smart\" составляет: 669485;\n",
      "дисперия для массива \"Ultra\" составляет: 141373;\n",
      "\n",
      "\n"
     ]
    }
   ],
   "source": [
    "print('''\n",
    "\n",
    "дисперия для массива \"Smart\" составляет: {0};\n",
    "дисперия для массива \"Ultra\" составляет: {1};\n",
    "\n",
    "'''.format(int(np.var(array_smart)), \n",
    "           int(np.var(array_ultra))\n",
    "          )\n",
    "     )"
   ]
  },
  {
   "cell_type": "markdown",
   "id": "67eed5df",
   "metadata": {},
   "source": [
    "Видим, что выборки разных размеров почти в 2 раза одна из них больше, плюс доход по тарифным планам различается, абонентская плата у тариа \"Ультра\" больше. \n",
    "\n",
    "К тому же выше мы рассчитали дисперсии для этих двух выборок отдельно и видим, что они очень сильно отличаются.\n",
    "\n",
    "Исходя из вышесказанного при проверке гипотезы мы не будем считать дисперсии выборок равными. "
   ]
  },
  {
   "cell_type": "code",
   "execution_count": 44,
   "id": "1edd270b",
   "metadata": {},
   "outputs": [
    {
     "name": "stdout",
     "output_type": "stream",
     "text": [
      "р-значение: 4.2606313931076085e-250\n",
      "Отвергаем нулевую гипотезу\n"
     ]
    }
   ],
   "source": [
    "# давайте проверим 1 гипотезу\n",
    "# H₀: U = S - нулевая гипотеза\n",
    "# H₁: U ≠ S - альтернативная гипотеза\n",
    "# где: \n",
    "# U - средняя выручка пользователей тарифа «Ультра»\n",
    "# S - средняя выручка пользователей тарифа «Смарт»\n",
    "\n",
    "alpha = .05   # критический уровень статистической значимости\n",
    "\n",
    "results = st.ttest_ind(array_smart, array_ultra, equal_var=False)\n",
    "\n",
    "print('р-значение:', results.pvalue)\n",
    "\n",
    "if results.pvalue < alpha:\n",
    "    print(\"Отвергаем нулевую гипотезу\")\n",
    "else:\n",
    "    print(\"Не получилось отвергнуть нулевую гипотезу\") \n"
   ]
  },
  {
   "cell_type": "markdown",
   "id": "902a805b",
   "metadata": {},
   "source": [
    "Таким образом средняя выручка пользователей тарифов «Ультра» и «Смарт» различается, выручки **не равны**. \n",
    "\n",
    "\n",
    "**Давайте проверим гипотезу №2**\n",
    "\n",
    "* * H₀ - средняя выручка пользователей из Москвы и пользователей из других регионов не различается, выручки **равны**;\n",
    "* * H₁ - средняя выручка пользователей из Москвы и пользователей из других регионов различается, выручки **не равны**.\n",
    " \n",
    "Запишем иначе:\n",
    "* **M** - средняя выручка пользователей из Москвы;\n",
    "* **O** - средняя выручка пользователей из других регионов.\n",
    "\n",
    "Таким образов, получаем:\n",
    "* **H₀**: M = O - нулевая гипотеза;\n",
    "* **H₁**: M ≠ O - альтернативная гипотеза.\n",
    "\n",
    "В данной гипотезе мы будем сравнивать выборки из двух генеральных совокупностей:\n",
    "* средняя выручка пользователей из Москвы;\n",
    "* средняя выручка пользователей из других регионов.\n",
    "\n"
   ]
  },
  {
   "cell_type": "code",
   "execution_count": 45,
   "id": "9f7d10f4",
   "metadata": {},
   "outputs": [
    {
     "name": "stdout",
     "output_type": "stream",
     "text": [
      "\n",
      "Размер выборки по Москве равняется 611,\n",
      "а размер выборки по другим регионам равняется 2603.\n",
      "\n"
     ]
    }
   ],
   "source": [
    "# создадим два массива по городам, подсчитаем их количество\n",
    "\n",
    "array_moscow = (\n",
    "    good_data\n",
    "    .query('city == \"Москва\"')['income']\n",
    "             )\n",
    "\n",
    "array_other = (\n",
    "    good_data\n",
    "    .query('city != \"Москва\"')['income']\n",
    "             )\n",
    "\n",
    "# сделаем их массивами Numpy\n",
    "\n",
    "array_moscow = np.array(array_moscow)\n",
    "array_other = np.array(array_other)\n",
    "\n",
    "print('''\n",
    "Размер выборки по Москве равняется {0},\n",
    "а размер выборки по другим регионам равняется {1}.\n",
    "'''.format(len(array_moscow), len(array_other))\n",
    "     )"
   ]
  },
  {
   "cell_type": "markdown",
   "id": "563feec7",
   "metadata": {},
   "source": [
    "Опять же и тут разный размер выборок, поэтому и в проверке этой гипотезы мы не будем считать дисперсии выборок равными."
   ]
  },
  {
   "cell_type": "code",
   "execution_count": 46,
   "id": "ef6555c9",
   "metadata": {},
   "outputs": [
    {
     "name": "stdout",
     "output_type": "stream",
     "text": [
      "р-значение: 0.5257376663729298\n",
      "Не получилось отвергнуть нулевую гипотезу\n"
     ]
    }
   ],
   "source": [
    "# давайте проверим 2 гипотезу\n",
    "# H₀: M = O - нулевая гипотеза\n",
    "# H₁: M ≠ O - альтернативная гипотеза\n",
    "# где: \n",
    "# M - средняя выручка пользователей из Москвы;\n",
    "# O - средняя выручка пользователей из других регионов.\n",
    "\n",
    "alpha = .05   # критический уровень статистической значимости\n",
    "\n",
    "results = st.ttest_ind(array_moscow, array_other, equal_var=False)\n",
    "\n",
    "print('р-значение:', results.pvalue)\n",
    "\n",
    "if results.pvalue < alpha:\n",
    "    print(\"Отвергаем нулевую гипотезу\")\n",
    "else:\n",
    "    print(\"Не получилось отвергнуть нулевую гипотезу\") "
   ]
  },
  {
   "cell_type": "markdown",
   "id": "00bea8e3",
   "metadata": {},
   "source": [
    "При проверку второй гипотезы, мы можем сказать, что средняя выручка пользователей из Москвы и пользователей различается в **~52%** случаев."
   ]
  },
  {
   "cell_type": "markdown",
   "id": "7a45548f",
   "metadata": {},
   "source": [
    "### Дополнительно:\n",
    "\n",
    "целью исследования является подсказать, какой из двух тарифов лучше, проверя 2 гипотезы, мы выяснили, что выручки между тарифов различаются и что выручка пользователей из Москвы сравнима с вырочкой пользователей из других регионов. Но у нас остался еще один вопрос, какой из тарифов все же выгоднее, давайте дополнительно проверим еще одну из гипотез:\n",
    "\n",
    "**Давайте проверим гипотезу №3**\n",
    "\n",
    "* * H₀ - средняя выручка пользователей тарифов «Ультра» и «Смарт» не различается, выручки **равны**;\n",
    "* * H₁ - средняя выручка пользователей тарифа «Ультра» **больше** чем средняя выручка пользователей тарифа «Смарт».\n",
    " \n",
    "Запишем иначе:\n",
    "* **U** - средняя выручка пользователей тарифа «Ультра»;\n",
    "* **S** - средняя выручка пользователей тарифа «Смарт».\n",
    "\n",
    "Таким образов, получаем:\n",
    "* **H₀**: U = S - нулевая гипотеза;\n",
    "* **H₁**: U > S - альтернативная гипотеза.\n",
    "\n",
    "В данной гипотезе мы будем сравнивать выборки из двух генеральных совокупностей:\n",
    "* выборка выручки абонентов тарифа «Ультра», и\n",
    "* выборка выручки абонентов тарифа «Смарт»."
   ]
  },
  {
   "cell_type": "code",
   "execution_count": 47,
   "id": "77be0306",
   "metadata": {},
   "outputs": [
    {
     "name": "stdout",
     "output_type": "stream",
     "text": [
      "р-значение: 1.681759983e-315\n",
      "Отвергаем нулевую гипотезу\n"
     ]
    }
   ],
   "source": [
    "# давайте проверим 3 гипотезу\n",
    "# H₀: U = S - нулевая гипотеза\n",
    "# H₁: U > S - альтернативная гипотеза\n",
    "# где: \n",
    "# U - средняя выручка пользователей тарифа «Ультра»\n",
    "# S - средняя выручка пользователей тарифа «Смарт»\n",
    "\n",
    "alpha = .05   # критический уровень статистической значимости\n",
    "\n",
    "\n",
    "results = st.ttest_1samp(array_smart, mean_ultra_income)\n",
    "\n",
    "print('р-значение:', results.pvalue / 2)\n",
    "\n",
    "if (results.pvalue / 2 < alpha) and (array_smart.mean() < mean_ultra_income):\n",
    "    print(\"Отвергаем нулевую гипотезу\")\n",
    "else:\n",
    "    print(\"Не получилось отвергнуть нулевую гипотезу\") \n"
   ]
  },
  {
   "cell_type": "markdown",
   "id": "5af89d9c",
   "metadata": {},
   "source": [
    "**Таким образом мы выяснили, что средняя выручка абонентов тарифа «Ультра» больше по сравнениюя со средней выручкой абонентов тарифа «Смарт».**"
   ]
  },
  {
   "cell_type": "markdown",
   "id": "a551f294",
   "metadata": {},
   "source": [
    "## Общий вывод"
   ]
  },
  {
   "cell_type": "markdown",
   "id": "8f96133c",
   "metadata": {},
   "source": [
    "Мы изучили поведения абонентов «Мегалайн» — федерального оператора сотовой связи на выборке из **500** человек за 2018 год.\n",
    "\n",
    "В самом начале оператор нам преставил данные хранящиеся в **5** датафреймах, которые объединялись между собой столбцом `user_id`, по которому мы собрали новый датафрейм **good_data** в который вошли сгруппирированные данные по абонентам и их расходам пакет-услуг по-месячно. \n",
    "\n",
    "Округлили данные по минутам и интернет-сессиям в соответствии с требованием мобильного оператора. \n",
    "\n",
    "Также рассчитали ежемесячный доход по каждому абоненту с учетом его потребления покетов услуг по тарифу. \n",
    "\n",
    "В **good_data** все данные привели к нужным нам типам, проверили данные на аномалии, также удалили все звонки, которые длились **0** минут - оператор пояснил, что это пропущенные звонки. \n",
    "\n",
    "Таким образом датафрейм **good_data** мы подготовили для анализа. \n",
    "\n",
    "При проведении анализа мы выяснили, что:\n",
    "\n",
    "* доля абонентов тарифа \"Смарт\" составляет **70%** (350 человек) от выборке, а остаток это абоненты тарифа \"Ультра\" - **30%** (148 человек); * 2 абонента у нас отсеялись из-за того, что они не пользовались пакетами услуг;\n",
    "* большая часть абонентов компании «Мегалайн» проживает в Москве и Санкт-Петербурге;\n",
    "* возраст абонентов у тарифов схожий и находится в диапазоне **18**-**75** лет, также средний возраст абонентов практически совпадает у обоих тарифов и составляет **45-47** лет;\n",
    "* Абоненты тарифного плана **Смарт**, в среднем в месяц расходуют:\n",
    "* * 46 - совершают звонков;\n",
    "* * 417 - тратят минут;\n",
    "* * 33 - отправляют сообщений;\n",
    "* * 16 - тратят Гб.;\n",
    "* * 1289 - приносят дохода.\n",
    "* Абоненты тарифного плана **Ультра**, в среднем в месяц расходуют:\n",
    "* * 59 - совершают звонков;\n",
    "* * 526 - тратят минут;\n",
    "* * 49 - отправляют сообщений;\n",
    "* * 19 - тратят Гб.;\n",
    "* * 2070 - приносят дохода.\n",
    "* **Далее** мы проверили 3 гипотезы и выяснили следующее:\n",
    "* * средняя выручка пользователей тарифов «Ультра» и «Смарт» различается, выручки **не равны**, выручка пользователей тарифов «Ультра» **больше**.\n",
    "* * средняя выручка пользователей из Москвы и пользователей из других регионов не различается, выручки **равны**.\n",
    "\n",
    "Таким образом абоненты тарифного плана \"Ультра\" приносят больше выручки, но и тратят больше пакетов услуг, к тому же доля их значительно меньше, чем абонентов тарифного плана \"Смарт\".\n",
    "\n",
    "**Исследование закончен!**"
   ]
  }
 ],
 "metadata": {
  "ExecuteTimeLog": [
   {
    "duration": 1446,
    "start_time": "2022-04-15T16:18:56.452Z"
   },
   {
    "duration": 15,
    "start_time": "2022-04-15T16:18:57.900Z"
   },
   {
    "duration": 110,
    "start_time": "2022-04-15T16:18:57.916Z"
   },
   {
    "duration": 0,
    "start_time": "2022-04-15T16:18:58.029Z"
   },
   {
    "duration": 0,
    "start_time": "2022-04-15T16:18:58.031Z"
   },
   {
    "duration": 0,
    "start_time": "2022-04-15T16:18:58.035Z"
   },
   {
    "duration": 0,
    "start_time": "2022-04-15T16:18:58.036Z"
   },
   {
    "duration": 0,
    "start_time": "2022-04-15T16:18:58.038Z"
   },
   {
    "duration": 0,
    "start_time": "2022-04-15T16:18:58.039Z"
   },
   {
    "duration": 0,
    "start_time": "2022-04-15T16:18:58.041Z"
   },
   {
    "duration": 0,
    "start_time": "2022-04-15T16:18:58.042Z"
   },
   {
    "duration": 0,
    "start_time": "2022-04-15T16:18:58.048Z"
   },
   {
    "duration": 0,
    "start_time": "2022-04-15T16:18:58.049Z"
   },
   {
    "duration": 0,
    "start_time": "2022-04-15T16:18:58.051Z"
   },
   {
    "duration": 0,
    "start_time": "2022-04-15T16:18:58.052Z"
   },
   {
    "duration": 0,
    "start_time": "2022-04-15T16:18:58.053Z"
   },
   {
    "duration": 0,
    "start_time": "2022-04-15T16:18:58.055Z"
   },
   {
    "duration": 0,
    "start_time": "2022-04-15T16:18:58.056Z"
   },
   {
    "duration": 0,
    "start_time": "2022-04-15T16:18:58.057Z"
   },
   {
    "duration": 0,
    "start_time": "2022-04-15T16:18:58.059Z"
   },
   {
    "duration": 0,
    "start_time": "2022-04-15T16:18:58.060Z"
   },
   {
    "duration": 0,
    "start_time": "2022-04-15T16:18:58.061Z"
   },
   {
    "duration": 0,
    "start_time": "2022-04-15T16:18:58.063Z"
   },
   {
    "duration": 0,
    "start_time": "2022-04-15T16:18:58.063Z"
   },
   {
    "duration": 0,
    "start_time": "2022-04-15T16:18:58.065Z"
   },
   {
    "duration": 0,
    "start_time": "2022-04-15T16:18:58.066Z"
   },
   {
    "duration": 0,
    "start_time": "2022-04-15T16:18:58.067Z"
   },
   {
    "duration": 0,
    "start_time": "2022-04-15T16:18:58.068Z"
   },
   {
    "duration": 0,
    "start_time": "2022-04-15T16:18:58.069Z"
   },
   {
    "duration": 0,
    "start_time": "2022-04-15T16:18:58.070Z"
   },
   {
    "duration": 0,
    "start_time": "2022-04-15T16:18:58.071Z"
   },
   {
    "duration": 0,
    "start_time": "2022-04-15T16:18:58.072Z"
   },
   {
    "duration": 0,
    "start_time": "2022-04-15T16:18:58.073Z"
   },
   {
    "duration": 0,
    "start_time": "2022-04-15T16:18:58.075Z"
   },
   {
    "duration": 0,
    "start_time": "2022-04-15T16:18:58.076Z"
   },
   {
    "duration": 0,
    "start_time": "2022-04-15T16:18:58.136Z"
   },
   {
    "duration": 0,
    "start_time": "2022-04-15T16:18:58.137Z"
   },
   {
    "duration": 0,
    "start_time": "2022-04-15T16:18:58.141Z"
   },
   {
    "duration": 0,
    "start_time": "2022-04-15T16:18:58.142Z"
   },
   {
    "duration": 0,
    "start_time": "2022-04-15T16:18:58.144Z"
   },
   {
    "duration": 0,
    "start_time": "2022-04-15T16:18:58.152Z"
   },
   {
    "duration": 9,
    "start_time": "2022-04-15T16:20:19.168Z"
   },
   {
    "duration": 9,
    "start_time": "2022-04-15T16:20:29.362Z"
   },
   {
    "duration": 2453,
    "start_time": "2022-04-15T16:22:15.161Z"
   },
   {
    "duration": 21,
    "start_time": "2022-04-15T16:22:20.367Z"
   },
   {
    "duration": 12,
    "start_time": "2022-04-15T16:22:40.675Z"
   },
   {
    "duration": 19,
    "start_time": "2022-04-15T16:22:46.032Z"
   },
   {
    "duration": 10,
    "start_time": "2022-04-15T16:22:50.683Z"
   },
   {
    "duration": 13,
    "start_time": "2022-04-15T16:22:56.233Z"
   },
   {
    "duration": 15,
    "start_time": "2022-04-15T16:23:01.651Z"
   },
   {
    "duration": 14,
    "start_time": "2022-04-15T16:37:26.552Z"
   },
   {
    "duration": 1204,
    "start_time": "2022-04-15T16:37:35.500Z"
   },
   {
    "duration": 14,
    "start_time": "2022-04-15T16:37:36.706Z"
   },
   {
    "duration": 564,
    "start_time": "2022-04-15T16:37:36.722Z"
   },
   {
    "duration": 18,
    "start_time": "2022-04-15T16:37:37.288Z"
   },
   {
    "duration": 44,
    "start_time": "2022-04-15T16:37:37.308Z"
   },
   {
    "duration": 34,
    "start_time": "2022-04-15T16:37:37.354Z"
   },
   {
    "duration": 58,
    "start_time": "2022-04-15T16:37:37.390Z"
   },
   {
    "duration": 21,
    "start_time": "2022-04-15T16:37:37.451Z"
   },
   {
    "duration": 20,
    "start_time": "2022-04-15T16:37:37.474Z"
   },
   {
    "duration": 128,
    "start_time": "2022-04-15T16:37:37.497Z"
   },
   {
    "duration": 10,
    "start_time": "2022-04-15T16:37:37.633Z"
   },
   {
    "duration": 297,
    "start_time": "2022-04-15T16:37:37.645Z"
   },
   {
    "duration": 1358,
    "start_time": "2022-04-15T16:37:37.945Z"
   },
   {
    "duration": 14,
    "start_time": "2022-04-15T16:37:39.305Z"
   },
   {
    "duration": 278,
    "start_time": "2022-04-15T16:37:39.320Z"
   },
   {
    "duration": 1253,
    "start_time": "2022-04-15T16:37:39.600Z"
   },
   {
    "duration": 11,
    "start_time": "2022-04-15T16:37:40.855Z"
   },
   {
    "duration": 27,
    "start_time": "2022-04-15T16:37:40.867Z"
   },
   {
    "duration": 734,
    "start_time": "2022-04-15T16:37:40.895Z"
   },
   {
    "duration": 237,
    "start_time": "2022-04-15T16:37:41.633Z"
   },
   {
    "duration": 224,
    "start_time": "2022-04-15T16:37:41.871Z"
   },
   {
    "duration": 6,
    "start_time": "2022-04-15T16:37:42.097Z"
   },
   {
    "duration": 243,
    "start_time": "2022-04-15T16:37:42.105Z"
   },
   {
    "duration": 54,
    "start_time": "2022-04-15T16:37:42.351Z"
   },
   {
    "duration": 119,
    "start_time": "2022-04-15T16:37:42.407Z"
   },
   {
    "duration": 20,
    "start_time": "2022-04-15T16:37:42.528Z"
   },
   {
    "duration": 28,
    "start_time": "2022-04-15T16:37:42.550Z"
   },
   {
    "duration": 8,
    "start_time": "2022-04-15T16:37:42.581Z"
   },
   {
    "duration": 169,
    "start_time": "2022-04-15T16:37:42.591Z"
   },
   {
    "duration": 232,
    "start_time": "2022-04-15T16:37:42.762Z"
   },
   {
    "duration": 637,
    "start_time": "2022-04-15T16:37:42.996Z"
   },
   {
    "duration": 2538,
    "start_time": "2022-04-15T16:37:43.635Z"
   },
   {
    "duration": 66,
    "start_time": "2022-04-15T16:37:46.175Z"
   },
   {
    "duration": 234,
    "start_time": "2022-04-15T16:37:46.246Z"
   },
   {
    "duration": 213,
    "start_time": "2022-04-15T16:37:46.482Z"
   },
   {
    "duration": 214,
    "start_time": "2022-04-15T16:37:46.697Z"
   },
   {
    "duration": 69,
    "start_time": "2022-04-15T16:37:46.914Z"
   },
   {
    "duration": 17,
    "start_time": "2022-04-15T16:37:46.985Z"
   },
   {
    "duration": 14,
    "start_time": "2022-04-15T16:37:47.003Z"
   },
   {
    "duration": 23,
    "start_time": "2022-04-15T16:37:47.035Z"
   },
   {
    "duration": 12,
    "start_time": "2022-04-15T16:37:47.060Z"
   },
   {
    "duration": 10,
    "start_time": "2022-04-15T16:37:47.074Z"
   },
   {
    "duration": 8,
    "start_time": "2022-04-15T16:37:47.086Z"
   },
   {
    "duration": 12,
    "start_time": "2022-04-15T17:00:01.582Z"
   },
   {
    "duration": 142,
    "start_time": "2022-04-15T17:12:13.757Z"
   },
   {
    "duration": 804,
    "start_time": "2022-04-15T17:12:19.821Z"
   },
   {
    "duration": 599,
    "start_time": "2022-04-15T17:28:05.321Z"
   },
   {
    "duration": 750,
    "start_time": "2022-04-15T17:28:09.519Z"
   },
   {
    "duration": 4,
    "start_time": "2022-04-15T17:31:42.292Z"
   },
   {
    "duration": 3,
    "start_time": "2022-04-15T17:31:50.956Z"
   },
   {
    "duration": 4,
    "start_time": "2022-04-15T17:32:06.061Z"
   },
   {
    "duration": 172,
    "start_time": "2022-04-15T17:32:11.960Z"
   },
   {
    "duration": 4,
    "start_time": "2022-04-15T17:32:17.023Z"
   },
   {
    "duration": 158,
    "start_time": "2022-04-15T17:32:28.716Z"
   },
   {
    "duration": 3,
    "start_time": "2022-04-15T17:32:35.401Z"
   },
   {
    "duration": 4,
    "start_time": "2022-04-15T17:33:55.202Z"
   },
   {
    "duration": 6,
    "start_time": "2022-04-15T17:34:08.263Z"
   },
   {
    "duration": 17,
    "start_time": "2022-04-15T17:35:11.047Z"
   },
   {
    "duration": 5,
    "start_time": "2022-04-15T17:37:06.591Z"
   },
   {
    "duration": 208,
    "start_time": "2022-04-15T17:38:18.392Z"
   },
   {
    "duration": 5,
    "start_time": "2022-04-15T17:55:41.448Z"
   },
   {
    "duration": 643,
    "start_time": "2022-04-15T18:03:56.589Z"
   },
   {
    "duration": 222,
    "start_time": "2022-04-15T18:22:01.203Z"
   },
   {
    "duration": 160,
    "start_time": "2022-04-15T18:22:05.529Z"
   },
   {
    "duration": 170,
    "start_time": "2022-04-15T18:22:19.048Z"
   },
   {
    "duration": 223,
    "start_time": "2022-04-15T18:23:08.642Z"
   },
   {
    "duration": 169,
    "start_time": "2022-04-15T18:24:14.357Z"
   },
   {
    "duration": 148,
    "start_time": "2022-04-15T18:24:33.866Z"
   },
   {
    "duration": 222,
    "start_time": "2022-04-15T18:24:52.129Z"
   },
   {
    "duration": 164,
    "start_time": "2022-04-15T18:25:20.808Z"
   },
   {
    "duration": 221,
    "start_time": "2022-04-15T18:25:31.857Z"
   },
   {
    "duration": 153,
    "start_time": "2022-04-15T18:25:56.661Z"
   },
   {
    "duration": 213,
    "start_time": "2022-04-15T18:26:11.144Z"
   },
   {
    "duration": 59,
    "start_time": "2022-04-15T18:32:14.508Z"
   },
   {
    "duration": 9,
    "start_time": "2022-04-15T19:01:26.013Z"
   },
   {
    "duration": 13,
    "start_time": "2022-04-15T19:01:33.971Z"
   },
   {
    "duration": 9,
    "start_time": "2022-04-15T19:04:33.118Z"
   },
   {
    "duration": 179,
    "start_time": "2022-04-15T19:04:40.101Z"
   },
   {
    "duration": 177,
    "start_time": "2022-04-15T19:05:07.810Z"
   },
   {
    "duration": 242,
    "start_time": "2022-04-15T19:05:18.776Z"
   },
   {
    "duration": 5,
    "start_time": "2022-04-15T19:05:29.429Z"
   },
   {
    "duration": 5,
    "start_time": "2022-04-15T19:05:38.257Z"
   },
   {
    "duration": 11,
    "start_time": "2022-04-15T19:05:53.450Z"
   },
   {
    "duration": 5,
    "start_time": "2022-04-15T19:06:05.970Z"
   },
   {
    "duration": 10,
    "start_time": "2022-04-15T19:06:40.790Z"
   },
   {
    "duration": 10,
    "start_time": "2022-04-15T19:06:46.680Z"
   },
   {
    "duration": 9,
    "start_time": "2022-04-15T19:07:13.607Z"
   },
   {
    "duration": 11,
    "start_time": "2022-04-15T19:07:30.205Z"
   },
   {
    "duration": 12,
    "start_time": "2022-04-15T19:08:19.022Z"
   },
   {
    "duration": 1133,
    "start_time": "2022-04-15T20:39:36.979Z"
   },
   {
    "duration": 15,
    "start_time": "2022-04-15T20:39:38.115Z"
   },
   {
    "duration": 438,
    "start_time": "2022-04-15T20:39:38.134Z"
   },
   {
    "duration": 37,
    "start_time": "2022-04-15T20:39:38.574Z"
   },
   {
    "duration": 30,
    "start_time": "2022-04-15T20:39:38.613Z"
   },
   {
    "duration": 26,
    "start_time": "2022-04-15T20:39:38.644Z"
   },
   {
    "duration": 18,
    "start_time": "2022-04-15T20:39:38.671Z"
   },
   {
    "duration": 47,
    "start_time": "2022-04-15T20:39:38.691Z"
   },
   {
    "duration": 93,
    "start_time": "2022-04-15T20:39:38.740Z"
   },
   {
    "duration": 6,
    "start_time": "2022-04-15T20:39:38.837Z"
   },
   {
    "duration": 270,
    "start_time": "2022-04-15T20:39:38.845Z"
   },
   {
    "duration": 1237,
    "start_time": "2022-04-15T20:39:39.116Z"
   },
   {
    "duration": 12,
    "start_time": "2022-04-15T20:39:40.355Z"
   },
   {
    "duration": 245,
    "start_time": "2022-04-15T20:39:40.369Z"
   },
   {
    "duration": 1180,
    "start_time": "2022-04-15T20:39:40.616Z"
   },
   {
    "duration": 13,
    "start_time": "2022-04-15T20:39:41.797Z"
   },
   {
    "duration": 41,
    "start_time": "2022-04-15T20:39:41.812Z"
   },
   {
    "duration": 632,
    "start_time": "2022-04-15T20:39:41.855Z"
   },
   {
    "duration": 223,
    "start_time": "2022-04-15T20:39:42.489Z"
   },
   {
    "duration": 209,
    "start_time": "2022-04-15T20:39:42.713Z"
   },
   {
    "duration": 13,
    "start_time": "2022-04-15T20:39:42.924Z"
   },
   {
    "duration": 214,
    "start_time": "2022-04-15T20:39:42.939Z"
   },
   {
    "duration": 50,
    "start_time": "2022-04-15T20:39:43.155Z"
   },
   {
    "duration": 116,
    "start_time": "2022-04-15T20:39:43.207Z"
   },
   {
    "duration": 17,
    "start_time": "2022-04-15T20:39:43.325Z"
   },
   {
    "duration": 22,
    "start_time": "2022-04-15T20:39:43.343Z"
   },
   {
    "duration": 8,
    "start_time": "2022-04-15T20:39:43.367Z"
   },
   {
    "duration": 182,
    "start_time": "2022-04-15T20:39:43.380Z"
   },
   {
    "duration": 228,
    "start_time": "2022-04-15T20:39:43.564Z"
   },
   {
    "duration": 630,
    "start_time": "2022-04-15T20:39:43.794Z"
   },
   {
    "duration": 2408,
    "start_time": "2022-04-15T20:39:44.426Z"
   },
   {
    "duration": 63,
    "start_time": "2022-04-15T20:39:46.837Z"
   },
   {
    "duration": 236,
    "start_time": "2022-04-15T20:39:46.901Z"
   },
   {
    "duration": 205,
    "start_time": "2022-04-15T20:39:47.139Z"
   },
   {
    "duration": 209,
    "start_time": "2022-04-15T20:39:47.346Z"
   },
   {
    "duration": 48,
    "start_time": "2022-04-15T20:39:47.557Z"
   },
   {
    "duration": 27,
    "start_time": "2022-04-15T20:39:47.607Z"
   },
   {
    "duration": 17,
    "start_time": "2022-04-15T20:39:47.637Z"
   },
   {
    "duration": 23,
    "start_time": "2022-04-15T20:39:47.656Z"
   },
   {
    "duration": 20,
    "start_time": "2022-04-15T20:39:47.681Z"
   },
   {
    "duration": 16,
    "start_time": "2022-04-15T20:39:47.703Z"
   },
   {
    "duration": 21,
    "start_time": "2022-04-15T20:39:47.720Z"
   },
   {
    "duration": 21,
    "start_time": "2022-04-15T20:39:47.743Z"
   },
   {
    "duration": 1324,
    "start_time": "2022-04-19T18:46:11.878Z"
   },
   {
    "duration": 2489,
    "start_time": "2022-04-19T18:46:13.204Z"
   },
   {
    "duration": 34,
    "start_time": "2022-04-19T18:46:15.695Z"
   },
   {
    "duration": 28,
    "start_time": "2022-04-19T18:46:15.731Z"
   },
   {
    "duration": 42,
    "start_time": "2022-04-19T18:46:15.761Z"
   },
   {
    "duration": 13,
    "start_time": "2022-04-19T18:46:15.805Z"
   },
   {
    "duration": 15,
    "start_time": "2022-04-19T18:46:15.820Z"
   },
   {
    "duration": 91,
    "start_time": "2022-04-19T18:46:15.837Z"
   },
   {
    "duration": 3,
    "start_time": "2022-04-19T18:46:15.930Z"
   },
   {
    "duration": 232,
    "start_time": "2022-04-19T18:46:15.936Z"
   },
   {
    "duration": 992,
    "start_time": "2022-04-19T18:46:16.169Z"
   },
   {
    "duration": 11,
    "start_time": "2022-04-19T18:46:17.162Z"
   },
   {
    "duration": 200,
    "start_time": "2022-04-19T18:46:17.174Z"
   },
   {
    "duration": 966,
    "start_time": "2022-04-19T18:46:17.376Z"
   },
   {
    "duration": 8,
    "start_time": "2022-04-19T18:46:18.344Z"
   },
   {
    "duration": 22,
    "start_time": "2022-04-19T18:46:18.354Z"
   },
   {
    "duration": 459,
    "start_time": "2022-04-19T18:46:18.400Z"
   },
   {
    "duration": 177,
    "start_time": "2022-04-19T18:46:18.860Z"
   },
   {
    "duration": 156,
    "start_time": "2022-04-19T18:46:19.039Z"
   },
   {
    "duration": 6,
    "start_time": "2022-04-19T18:46:19.197Z"
   },
   {
    "duration": 160,
    "start_time": "2022-04-19T18:46:19.205Z"
   },
   {
    "duration": 54,
    "start_time": "2022-04-19T18:46:19.367Z"
   },
   {
    "duration": 67,
    "start_time": "2022-04-19T18:46:19.422Z"
   },
   {
    "duration": 10,
    "start_time": "2022-04-19T18:46:19.499Z"
   },
   {
    "duration": 17,
    "start_time": "2022-04-19T18:46:19.511Z"
   },
   {
    "duration": 6,
    "start_time": "2022-04-19T18:46:19.530Z"
   },
   {
    "duration": 145,
    "start_time": "2022-04-19T18:46:19.538Z"
   },
   {
    "duration": 164,
    "start_time": "2022-04-19T18:46:19.686Z"
   },
   {
    "duration": 468,
    "start_time": "2022-04-19T18:46:19.851Z"
   },
   {
    "duration": 1814,
    "start_time": "2022-04-19T18:46:20.321Z"
   },
   {
    "duration": 43,
    "start_time": "2022-04-19T18:46:22.136Z"
   },
   {
    "duration": 184,
    "start_time": "2022-04-19T18:46:22.180Z"
   },
   {
    "duration": 145,
    "start_time": "2022-04-19T18:46:22.365Z"
   },
   {
    "duration": 145,
    "start_time": "2022-04-19T18:46:22.511Z"
   },
   {
    "duration": 47,
    "start_time": "2022-04-19T18:46:22.657Z"
   },
   {
    "duration": 22,
    "start_time": "2022-04-19T18:46:22.706Z"
   },
   {
    "duration": 8,
    "start_time": "2022-04-19T18:46:22.729Z"
   },
   {
    "duration": 4,
    "start_time": "2022-04-19T18:46:22.739Z"
   },
   {
    "duration": 10,
    "start_time": "2022-04-19T18:46:22.745Z"
   },
   {
    "duration": 198,
    "start_time": "2022-04-19T18:46:22.757Z"
   },
   {
    "duration": 166,
    "start_time": "2022-04-19T18:46:22.957Z"
   },
   {
    "duration": 8,
    "start_time": "2022-04-19T18:46:23.124Z"
   },
   {
    "duration": 6,
    "start_time": "2022-04-19T18:46:23.134Z"
   },
   {
    "duration": 7,
    "start_time": "2022-04-19T18:46:23.141Z"
   },
   {
    "duration": 11,
    "start_time": "2022-04-19T18:46:23.150Z"
   },
   {
    "duration": 11,
    "start_time": "2022-04-19T18:46:23.162Z"
   },
   {
    "duration": 27,
    "start_time": "2022-04-19T18:46:23.174Z"
   },
   {
    "duration": 17,
    "start_time": "2022-04-19T20:00:53.705Z"
   },
   {
    "duration": 28,
    "start_time": "2022-04-19T20:03:03.734Z"
   },
   {
    "duration": 13,
    "start_time": "2022-04-19T20:04:34.983Z"
   },
   {
    "duration": 556,
    "start_time": "2022-04-19T20:05:37.859Z"
   },
   {
    "duration": 3,
    "start_time": "2022-04-19T20:06:26.700Z"
   },
   {
    "duration": 490,
    "start_time": "2022-04-19T20:06:31.180Z"
   },
   {
    "duration": 617,
    "start_time": "2022-04-19T20:06:45.902Z"
   },
   {
    "duration": 13,
    "start_time": "2022-04-19T20:07:00.087Z"
   },
   {
    "duration": 15,
    "start_time": "2022-04-19T20:07:42.505Z"
   },
   {
    "duration": 114,
    "start_time": "2022-04-19T20:08:23.800Z"
   },
   {
    "duration": 703,
    "start_time": "2022-04-19T20:08:42.339Z"
   },
   {
    "duration": 118,
    "start_time": "2022-04-19T20:08:51.809Z"
   },
   {
    "duration": 105,
    "start_time": "2022-04-19T20:08:56.636Z"
   },
   {
    "duration": 13,
    "start_time": "2022-04-19T20:09:21.063Z"
   },
   {
    "duration": 14,
    "start_time": "2022-04-19T20:09:56.098Z"
   },
   {
    "duration": 5,
    "start_time": "2022-04-19T20:10:20.132Z"
   },
   {
    "duration": 94,
    "start_time": "2022-04-19T20:10:47.604Z"
   },
   {
    "duration": 5,
    "start_time": "2022-04-19T20:10:52.657Z"
   },
   {
    "duration": 6,
    "start_time": "2022-04-19T20:11:01.952Z"
   },
   {
    "duration": 33,
    "start_time": "2022-04-19T20:11:09.433Z"
   },
   {
    "duration": 4,
    "start_time": "2022-04-19T22:38:05.666Z"
   },
   {
    "duration": 1139,
    "start_time": "2022-04-19T23:00:46.182Z"
   },
   {
    "duration": 2751,
    "start_time": "2022-04-19T23:00:47.323Z"
   },
   {
    "duration": 34,
    "start_time": "2022-04-19T23:00:50.076Z"
   },
   {
    "duration": 26,
    "start_time": "2022-04-19T23:00:50.112Z"
   },
   {
    "duration": 24,
    "start_time": "2022-04-19T23:00:50.140Z"
   },
   {
    "duration": 43,
    "start_time": "2022-04-19T23:00:50.165Z"
   },
   {
    "duration": 18,
    "start_time": "2022-04-19T23:00:50.210Z"
   },
   {
    "duration": 86,
    "start_time": "2022-04-19T23:00:50.230Z"
   },
   {
    "duration": 4,
    "start_time": "2022-04-19T23:00:50.318Z"
   },
   {
    "duration": 214,
    "start_time": "2022-04-19T23:00:50.324Z"
   },
   {
    "duration": 967,
    "start_time": "2022-04-19T23:00:50.540Z"
   },
   {
    "duration": 11,
    "start_time": "2022-04-19T23:00:51.508Z"
   },
   {
    "duration": 197,
    "start_time": "2022-04-19T23:00:51.520Z"
   },
   {
    "duration": 931,
    "start_time": "2022-04-19T23:00:51.718Z"
   },
   {
    "duration": 10,
    "start_time": "2022-04-19T23:00:52.651Z"
   },
   {
    "duration": 23,
    "start_time": "2022-04-19T23:00:52.662Z"
   },
   {
    "duration": 477,
    "start_time": "2022-04-19T23:00:52.700Z"
   },
   {
    "duration": 176,
    "start_time": "2022-04-19T23:00:53.179Z"
   },
   {
    "duration": 152,
    "start_time": "2022-04-19T23:00:53.356Z"
   },
   {
    "duration": 6,
    "start_time": "2022-04-19T23:00:53.510Z"
   },
   {
    "duration": 172,
    "start_time": "2022-04-19T23:00:53.517Z"
   },
   {
    "duration": 43,
    "start_time": "2022-04-19T23:00:53.691Z"
   },
   {
    "duration": 79,
    "start_time": "2022-04-19T23:00:53.735Z"
   },
   {
    "duration": 9,
    "start_time": "2022-04-19T23:00:53.816Z"
   },
   {
    "duration": 19,
    "start_time": "2022-04-19T23:00:53.827Z"
   },
   {
    "duration": 7,
    "start_time": "2022-04-19T23:00:53.848Z"
   },
   {
    "duration": 145,
    "start_time": "2022-04-19T23:00:53.856Z"
   },
   {
    "duration": 167,
    "start_time": "2022-04-19T23:00:54.004Z"
   },
   {
    "duration": 489,
    "start_time": "2022-04-19T23:00:54.172Z"
   },
   {
    "duration": 1811,
    "start_time": "2022-04-19T23:00:54.662Z"
   },
   {
    "duration": 48,
    "start_time": "2022-04-19T23:00:56.474Z"
   },
   {
    "duration": 181,
    "start_time": "2022-04-19T23:00:56.524Z"
   },
   {
    "duration": 140,
    "start_time": "2022-04-19T23:00:56.706Z"
   },
   {
    "duration": 159,
    "start_time": "2022-04-19T23:00:56.848Z"
   },
   {
    "duration": 43,
    "start_time": "2022-04-19T23:00:57.009Z"
   },
   {
    "duration": 24,
    "start_time": "2022-04-19T23:00:57.053Z"
   },
   {
    "duration": 25,
    "start_time": "2022-04-19T23:00:57.079Z"
   },
   {
    "duration": 5,
    "start_time": "2022-04-19T23:00:57.106Z"
   },
   {
    "duration": 11,
    "start_time": "2022-04-19T23:00:57.113Z"
   },
   {
    "duration": 194,
    "start_time": "2022-04-19T23:00:57.126Z"
   },
   {
    "duration": 170,
    "start_time": "2022-04-19T23:00:57.322Z"
   },
   {
    "duration": 12,
    "start_time": "2022-04-19T23:00:57.494Z"
   },
   {
    "duration": 7,
    "start_time": "2022-04-19T23:00:57.508Z"
   },
   {
    "duration": 8,
    "start_time": "2022-04-19T23:00:57.516Z"
   },
   {
    "duration": 9,
    "start_time": "2022-04-19T23:00:57.525Z"
   },
   {
    "duration": 10,
    "start_time": "2022-04-19T23:00:57.535Z"
   },
   {
    "duration": 9,
    "start_time": "2022-04-19T23:00:57.546Z"
   }
  ],
  "kernelspec": {
   "display_name": "Python 3 (ipykernel)",
   "language": "python",
   "name": "python3"
  },
  "language_info": {
   "codemirror_mode": {
    "name": "ipython",
    "version": 3
   },
   "file_extension": ".py",
   "mimetype": "text/x-python",
   "name": "python",
   "nbconvert_exporter": "python",
   "pygments_lexer": "ipython3",
   "version": "3.9.12"
  },
  "toc": {
   "base_numbering": 1,
   "nav_menu": {},
   "number_sections": true,
   "sideBar": true,
   "skip_h1_title": true,
   "title_cell": "Table of Contents",
   "title_sidebar": "Contents",
   "toc_cell": false,
   "toc_position": {},
   "toc_section_display": true,
   "toc_window_display": false
  }
 },
 "nbformat": 4,
 "nbformat_minor": 5
}
