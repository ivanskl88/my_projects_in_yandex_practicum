{
 "cells": [
  {
   "cell_type": "code",
   "execution_count": 1,
   "metadata": {
    "id": "AXN7PHPN_Zcs"
   },
   "outputs": [],
   "source": [
    "# импорт библиотек\n",
    "import pandas as pd \n",
    "\n",
    "import warnings\n",
    "warnings.filterwarnings(\"ignore\")"
   ]
  },
  {
   "cell_type": "code",
   "execution_count": 2,
   "metadata": {
    "id": "fFVu7vqh_Zct"
   },
   "outputs": [],
   "source": [
    "# чтение файла с данными и сохранение в df\n",
    "\n",
    "df = pd.read_csv('link to the file') "
   ]
  },
  {
   "cell_type": "code",
   "execution_count": 3,
   "metadata": {
    "id": "oWTVX3gW_Zct"
   },
   "outputs": [
    {
     "data": {
      "text/html": [
       "<div>\n",
       "<style scoped>\n",
       "    .dataframe tbody tr th:only-of-type {\n",
       "        vertical-align: middle;\n",
       "    }\n",
       "\n",
       "    .dataframe tbody tr th {\n",
       "        vertical-align: top;\n",
       "    }\n",
       "\n",
       "    .dataframe thead th {\n",
       "        text-align: right;\n",
       "    }\n",
       "</style>\n",
       "<table border=\"1\" class=\"dataframe\">\n",
       "  <thead>\n",
       "    <tr style=\"text-align: right;\">\n",
       "      <th></th>\n",
       "      <th>userID</th>\n",
       "      <th>Track</th>\n",
       "      <th>artist</th>\n",
       "      <th>genre</th>\n",
       "      <th>City</th>\n",
       "      <th>time</th>\n",
       "      <th>Day</th>\n",
       "    </tr>\n",
       "  </thead>\n",
       "  <tbody>\n",
       "    <tr>\n",
       "      <th>0</th>\n",
       "      <td>FFB692EC</td>\n",
       "      <td>Kamigata To Boots</td>\n",
       "      <td>The Mass Missile</td>\n",
       "      <td>rock</td>\n",
       "      <td>Saint-Petersburg</td>\n",
       "      <td>20:28:33</td>\n",
       "      <td>Wednesday</td>\n",
       "    </tr>\n",
       "    <tr>\n",
       "      <th>1</th>\n",
       "      <td>55204538</td>\n",
       "      <td>Delayed Because of Accident</td>\n",
       "      <td>Andreas Rönnberg</td>\n",
       "      <td>rock</td>\n",
       "      <td>Moscow</td>\n",
       "      <td>14:07:09</td>\n",
       "      <td>Friday</td>\n",
       "    </tr>\n",
       "    <tr>\n",
       "      <th>2</th>\n",
       "      <td>20EC38</td>\n",
       "      <td>Funiculì funiculà</td>\n",
       "      <td>Mario Lanza</td>\n",
       "      <td>pop</td>\n",
       "      <td>Saint-Petersburg</td>\n",
       "      <td>20:58:07</td>\n",
       "      <td>Wednesday</td>\n",
       "    </tr>\n",
       "    <tr>\n",
       "      <th>3</th>\n",
       "      <td>A3DD03C9</td>\n",
       "      <td>Dragons in the Sunset</td>\n",
       "      <td>Fire + Ice</td>\n",
       "      <td>folk</td>\n",
       "      <td>Saint-Petersburg</td>\n",
       "      <td>08:37:09</td>\n",
       "      <td>Monday</td>\n",
       "    </tr>\n",
       "    <tr>\n",
       "      <th>4</th>\n",
       "      <td>E2DC1FAE</td>\n",
       "      <td>Soul People</td>\n",
       "      <td>Space Echo</td>\n",
       "      <td>dance</td>\n",
       "      <td>Moscow</td>\n",
       "      <td>08:34:34</td>\n",
       "      <td>Monday</td>\n",
       "    </tr>\n",
       "    <tr>\n",
       "      <th>5</th>\n",
       "      <td>842029A1</td>\n",
       "      <td>Преданная</td>\n",
       "      <td>IMPERVTOR</td>\n",
       "      <td>rusrap</td>\n",
       "      <td>Saint-Petersburg</td>\n",
       "      <td>13:09:41</td>\n",
       "      <td>Friday</td>\n",
       "    </tr>\n",
       "    <tr>\n",
       "      <th>6</th>\n",
       "      <td>4CB90AA5</td>\n",
       "      <td>True</td>\n",
       "      <td>Roman Messer</td>\n",
       "      <td>dance</td>\n",
       "      <td>Moscow</td>\n",
       "      <td>13:00:07</td>\n",
       "      <td>Wednesday</td>\n",
       "    </tr>\n",
       "    <tr>\n",
       "      <th>7</th>\n",
       "      <td>F03E1C1F</td>\n",
       "      <td>Feeling This Way</td>\n",
       "      <td>Polina Griffith</td>\n",
       "      <td>dance</td>\n",
       "      <td>Moscow</td>\n",
       "      <td>20:47:49</td>\n",
       "      <td>Wednesday</td>\n",
       "    </tr>\n",
       "    <tr>\n",
       "      <th>8</th>\n",
       "      <td>8FA1D3BE</td>\n",
       "      <td>И вновь продолжается бой</td>\n",
       "      <td>NaN</td>\n",
       "      <td>ruspop</td>\n",
       "      <td>Moscow</td>\n",
       "      <td>09:17:40</td>\n",
       "      <td>Friday</td>\n",
       "    </tr>\n",
       "    <tr>\n",
       "      <th>9</th>\n",
       "      <td>E772D5C0</td>\n",
       "      <td>Pessimist</td>\n",
       "      <td>NaN</td>\n",
       "      <td>dance</td>\n",
       "      <td>Saint-Petersburg</td>\n",
       "      <td>21:20:49</td>\n",
       "      <td>Wednesday</td>\n",
       "    </tr>\n",
       "  </tbody>\n",
       "</table>\n",
       "</div>"
      ],
      "text/plain": [
       "     userID                        Track            artist   genre  \\\n",
       "0  FFB692EC            Kamigata To Boots  The Mass Missile    rock   \n",
       "1  55204538  Delayed Because of Accident  Andreas Rönnberg    rock   \n",
       "2    20EC38            Funiculì funiculà       Mario Lanza     pop   \n",
       "3  A3DD03C9        Dragons in the Sunset        Fire + Ice    folk   \n",
       "4  E2DC1FAE                  Soul People        Space Echo   dance   \n",
       "5  842029A1                    Преданная         IMPERVTOR  rusrap   \n",
       "6  4CB90AA5                         True      Roman Messer   dance   \n",
       "7  F03E1C1F             Feeling This Way   Polina Griffith   dance   \n",
       "8  8FA1D3BE     И вновь продолжается бой               NaN  ruspop   \n",
       "9  E772D5C0                    Pessimist               NaN   dance   \n",
       "\n",
       "             City        time        Day  \n",
       "0  Saint-Petersburg  20:28:33  Wednesday  \n",
       "1            Moscow  14:07:09     Friday  \n",
       "2  Saint-Petersburg  20:58:07  Wednesday  \n",
       "3  Saint-Petersburg  08:37:09     Monday  \n",
       "4            Moscow  08:34:34     Monday  \n",
       "5  Saint-Petersburg  13:09:41     Friday  \n",
       "6            Moscow  13:00:07  Wednesday  \n",
       "7            Moscow  20:47:49  Wednesday  \n",
       "8            Moscow  09:17:40     Friday  \n",
       "9  Saint-Petersburg  21:20:49  Wednesday  "
      ]
     },
     "execution_count": 3,
     "metadata": {},
     "output_type": "execute_result"
    }
   ],
   "source": [
    "# получение первых 10 строк таблицы df\n",
    "\n",
    "df.head(10)"
   ]
  },
  {
   "cell_type": "code",
   "execution_count": 4,
   "metadata": {
    "id": "DSf2kIb-_Zct"
   },
   "outputs": [
    {
     "name": "stdout",
     "output_type": "stream",
     "text": [
      "<class 'pandas.core.frame.DataFrame'>\n",
      "RangeIndex: 65079 entries, 0 to 65078\n",
      "Data columns (total 7 columns):\n",
      " #   Column    Non-Null Count  Dtype \n",
      "---  ------    --------------  ----- \n",
      " 0     userID  65079 non-null  object\n",
      " 1   Track     63848 non-null  object\n",
      " 2   artist    57876 non-null  object\n",
      " 3   genre     63881 non-null  object\n",
      " 4     City    65079 non-null  object\n",
      " 5   time      65079 non-null  object\n",
      " 6   Day       65079 non-null  object\n",
      "dtypes: object(7)\n",
      "memory usage: 3.5+ MB\n"
     ]
    }
   ],
   "source": [
    "# получение общей информации о данных в таблице df\n",
    "\n",
    "df.info()"
   ]
  },
  {
   "cell_type": "markdown",
   "metadata": {
    "id": "TaQ2Iwbr_Zct"
   },
   "source": [
    "Итак, в таблице семь столбцов. Тип данных во всех столбцах — `object`.\n",
    "\n",
    "Согласно документации к данным:\n",
    "* `userID` — идентификатор пользователя;\n",
    "* `Track` — название трека;  \n",
    "* `artist` — имя исполнителя;\n",
    "* `genre` — название жанра;\n",
    "* `City` — город пользователя;\n",
    "* `time` — время начала прослушивания;\n",
    "* `Day` — день недели.\n",
    "\n",
    "В названиях колонок видны три нарушения стиля:\n",
    "1. Строчные буквы сочетаются с прописными.\n",
    "2. Встречаются пробелы.\n",
    "<b>\n",
    "3. Слова в названии не разделены нижним подчеркиванием.</b>\n",
    "\n",
    "\n",
    "\n",
    "Количество значений в столбцах различается. Значит, в данных есть пропущенные значения.\n"
   ]
  },
  {
   "cell_type": "markdown",
   "metadata": {
    "id": "MCB6-dXG_Zct"
   },
   "source": [
    "**Выводы**\n",
    "\n",
    "В каждой строке таблицы — данные о прослушанном треке. Часть колонок описывает саму композицию: название, исполнителя и жанр. Остальные данные рассказывают о пользователе: из какого он города, когда он слушал музыку. \n",
    "\n",
    "Предварительно можно утверждать, что, данных достаточно для проверки гипотез. Но встречаются пропуски в данных, а в названиях колонок — расхождения с хорошим стилем.\n",
    "\n",
    "Чтобы двигаться дальше, нужно устранить проблемы в данных."
   ]
  },
  {
   "cell_type": "markdown",
   "metadata": {
    "id": "SjYF6Ub9_Zct"
   },
   "source": [
    "## Предобработка данных\n",
    "\n",
    "Необходимо установить природу пропущенных значений и попытаться их заполнить"
   ]
  },
  {
   "cell_type": "markdown",
   "metadata": {
    "id": "dIaKXr29_Zct"
   },
   "source": [
    "### Стиль заголовков\n",
    "Выведем на экран названия столбцов:"
   ]
  },
  {
   "cell_type": "code",
   "execution_count": 5,
   "metadata": {
    "id": "oKOTdF_Q_Zct"
   },
   "outputs": [
    {
     "name": "stdout",
     "output_type": "stream",
     "text": [
      "Index(['  userID', 'Track', 'artist', 'genre', '  City  ', 'time', 'Day'], dtype='object')\n"
     ]
    }
   ],
   "source": [
    "# перечень названий столбцов таблицы df\n",
    "\n",
    "print(df.columns) "
   ]
  },
  {
   "cell_type": "markdown",
   "metadata": {
    "id": "zj5534cv_Zct"
   },
   "source": [
    "**Видим**:\n",
    "* несколько слов в названии запишите в «змеином_регистре»,\n",
    "* все символы сделайте строчными,\n",
    "* устраните пробелы.\n",
    "\n",
    "переименуем колонки так:\n",
    "* `'  userID'` → `'user_id'`;\n",
    "* `'Track'` → `'track'`;\n",
    "* `'  City  '` → `'city'`;\n",
    "* `'Day'` → `'day'`."
   ]
  },
  {
   "cell_type": "code",
   "execution_count": 6,
   "metadata": {
    "id": "ISlFqs5y_Zct"
   },
   "outputs": [],
   "source": [
    "# переименование столбцов\n",
    "\n",
    "df = df.rename(columns={'  userID': 'user_id',\n",
    "                        'Track': 'track',\n",
    "                        '  City  ': 'city',\n",
    "                        'Day': 'day'}) "
   ]
  },
  {
   "cell_type": "code",
   "execution_count": 7,
   "metadata": {
    "id": "d4NOAmTW_Zct"
   },
   "outputs": [
    {
     "name": "stdout",
     "output_type": "stream",
     "text": [
      "Index(['user_id', 'track', 'artist', 'genre', 'city', 'time', 'day'], dtype='object')\n"
     ]
    }
   ],
   "source": [
    "# проверка результатов - перечень названий столбцов\n",
    "\n",
    "print(df.columns) "
   ]
  },
  {
   "cell_type": "markdown",
   "metadata": {
    "id": "5ISfbcfY_Zct"
   },
   "source": [
    "### Пропуски значений\n",
    "Сначала посчитайте, сколько в таблице пропущенных значений. Для этого достаточно двух методов `pandas`:"
   ]
  },
  {
   "cell_type": "code",
   "execution_count": 8,
   "metadata": {
    "id": "RskX29qr_Zct"
   },
   "outputs": [
    {
     "data": {
      "text/plain": [
       "user_id       0\n",
       "track      1231\n",
       "artist     7203\n",
       "genre      1198\n",
       "city          0\n",
       "time          0\n",
       "day           0\n",
       "dtype: int64"
      ]
     },
     "execution_count": 8,
     "metadata": {},
     "output_type": "execute_result"
    }
   ],
   "source": [
    "# подсчёт пропусков\n",
    "\n",
    "df.isna().sum() "
   ]
  },
  {
   "cell_type": "markdown",
   "metadata": {
    "id": "qubhgnlO_Zct"
   },
   "source": [
    "Не все пропущенные значения влияют на исследование. Так в `track` и `artist` пропуски не важны для вашей работы. Достаточно заменить их явными обозначениями.\n",
    "\n",
    "Но пропуски в `genre` могут помешать сравнению музыкальных вкусов в Москве и Санкт-Петербурге. На практике было бы правильно установить причину пропусков и восстановить данные. Такой возможности нет в учебном проекте. Придётся:\n",
    "* заполнить и эти пропуски явными обозначениями,\n",
    "* оценить, насколько они повредят расчётам. "
   ]
  },
  {
   "cell_type": "markdown",
   "metadata": {
    "id": "fSv2laPA_Zct"
   },
   "source": [
    "Замените пропущенные значения в столбцах `track`, `artist` и `genre` на строку `'unknown'`. Для этого создайте список `columns_to_replace`, переберите его элементы циклом `for` и для каждого столбца выполните замену пропущенных значений:"
   ]
  },
  {
   "cell_type": "code",
   "execution_count": 9,
   "metadata": {
    "id": "KplB5qWs_Zct"
   },
   "outputs": [],
   "source": [
    "# замена пропущенных значений на строку 'unknown'\n",
    "\n",
    "columns_to_replace = ['track', 'artist', 'genre']\n",
    "for column in columns_to_replace:\n",
    "    df[column] = df[column].fillna('unknow')"
   ]
  },
  {
   "cell_type": "markdown",
   "metadata": {
    "id": "Ilsm-MZo_Zct"
   },
   "source": [
    "Убедитесь, что в таблице не осталось пропусков. Для этого ещё раз посчитайте пропущенные значения."
   ]
  },
  {
   "cell_type": "code",
   "execution_count": 10,
   "metadata": {
    "id": "Tq4nYRX4_Zct"
   },
   "outputs": [
    {
     "data": {
      "text/plain": [
       "user_id    0\n",
       "track      0\n",
       "artist     0\n",
       "genre      0\n",
       "city       0\n",
       "time       0\n",
       "day        0\n",
       "dtype: int64"
      ]
     },
     "execution_count": 10,
     "metadata": {},
     "output_type": "execute_result"
    }
   ],
   "source": [
    "# проверка, подсчёт пропусков\n",
    "\n",
    "df.isna().sum() "
   ]
  },
  {
   "cell_type": "markdown",
   "metadata": {
    "id": "BWKRtBJ3_Zct"
   },
   "source": [
    "### Дубликаты\n",
    "Посчитайте явные дубликаты в таблице одной командой:"
   ]
  },
  {
   "cell_type": "code",
   "execution_count": 11,
   "metadata": {
    "id": "36eES_S0_Zct"
   },
   "outputs": [
    {
     "data": {
      "text/plain": [
       "3826"
      ]
     },
     "execution_count": 11,
     "metadata": {},
     "output_type": "execute_result"
    }
   ],
   "source": [
    "# Посчитайте явные дубликаты в таблице одной командой\n",
    "\n",
    "df.duplicated().sum()"
   ]
  },
  {
   "cell_type": "markdown",
   "metadata": {
    "id": "Ot25h6XR_Zct"
   },
   "source": [
    "Вызовите специальный метод `pandas`, чтобы удалить явные дубликаты:"
   ]
  },
  {
   "cell_type": "code",
   "execution_count": 12,
   "metadata": {
    "id": "exFHq6tt_Zct"
   },
   "outputs": [],
   "source": [
    "# удаление явных дубликатов (с удалением старых индексов и формированием новых)\n",
    "\n",
    "df = df.drop_duplicates().reset_index(drop=True) \n"
   ]
  },
  {
   "cell_type": "markdown",
   "metadata": {
    "id": "Im2YwBEG_Zct"
   },
   "source": [
    "Ещё раз посчитайте явные дубликаты в таблице — убедитесь, что полностью от них избавились:"
   ]
  },
  {
   "cell_type": "code",
   "execution_count": 13,
   "metadata": {
    "id": "-8PuNWQ0_Zct"
   },
   "outputs": [
    {
     "data": {
      "text/plain": [
       "0"
      ]
     },
     "execution_count": 13,
     "metadata": {},
     "output_type": "execute_result"
    }
   ],
   "source": [
    "# проверка на отсутствие дубликатов\n",
    "\n",
    "df.duplicated().sum() "
   ]
  },
  {
   "cell_type": "markdown",
   "metadata": {
    "id": "QlFBsxAr_Zct"
   },
   "source": [
    "Теперь избавьтесь от неявных дубликатов в колонке `genre`. Например, название одного и того же жанра может быть записано немного по-разному. Такие ошибки тоже повлияют на результат исследования."
   ]
  },
  {
   "cell_type": "markdown",
   "metadata": {
    "id": "eSjWwsOh_Zct"
   },
   "source": [
    "Выведите на экран список уникальных названий жанров, отсортированный в алфавитном порядке. Для этого:\n",
    "* извлеките нужный столбец датафрейма, \n",
    "* примените к нему метод сортировки,\n",
    "* для отсортированного столбца вызовите метод, который вернёт уникальные значения из столбца."
   ]
  },
  {
   "cell_type": "code",
   "execution_count": 14,
   "metadata": {
    "id": "JIUcqzZN_Zct"
   },
   "outputs": [
    {
     "data": {
      "text/plain": [
       "array(['acid', 'acoustic', 'action', 'adult', 'africa', 'afrikaans',\n",
       "       'alternative', 'alternativepunk', 'ambient', 'americana',\n",
       "       'animated', 'anime', 'arabesk', 'arabic', 'arena',\n",
       "       'argentinetango', 'art', 'audiobook', 'author', 'avantgarde',\n",
       "       'axé', 'baile', 'balkan', 'beats', 'bigroom', 'black', 'bluegrass',\n",
       "       'blues', 'bollywood', 'bossa', 'brazilian', 'breakbeat', 'breaks',\n",
       "       'broadway', 'cantautori', 'cantopop', 'canzone', 'caribbean',\n",
       "       'caucasian', 'celtic', 'chamber', 'chanson', 'children', 'chill',\n",
       "       'chinese', 'choral', 'christian', 'christmas', 'classical',\n",
       "       'classicmetal', 'club', 'colombian', 'comedy', 'conjazz',\n",
       "       'contemporary', 'country', 'cuban', 'dance', 'dancehall',\n",
       "       'dancepop', 'dark', 'death', 'deep', 'deutschrock', 'deutschspr',\n",
       "       'dirty', 'disco', 'dnb', 'documentary', 'downbeat', 'downtempo',\n",
       "       'drum', 'dub', 'dubstep', 'eastern', 'easy', 'electronic',\n",
       "       'electropop', 'emo', 'entehno', 'epicmetal', 'estrada', 'ethnic',\n",
       "       'eurofolk', 'european', 'experimental', 'extrememetal', 'fado',\n",
       "       'fairytail', 'film', 'fitness', 'flamenco', 'folk', 'folklore',\n",
       "       'folkmetal', 'folkrock', 'folktronica', 'forró', 'frankreich',\n",
       "       'französisch', 'french', 'funk', 'future', 'gangsta', 'garage',\n",
       "       'german', 'ghazal', 'gitarre', 'glitch', 'gospel', 'gothic',\n",
       "       'grime', 'grunge', 'gypsy', 'handsup', \"hard'n'heavy\", 'hardcore',\n",
       "       'hardstyle', 'hardtechno', 'hip', 'hip-hop', 'hiphop',\n",
       "       'historisch', 'holiday', 'hop', 'horror', 'house', 'hymn', 'idm',\n",
       "       'independent', 'indian', 'indie', 'indipop', 'industrial',\n",
       "       'inspirational', 'instrumental', 'international', 'irish', 'jam',\n",
       "       'japanese', 'jazz', 'jewish', 'jpop', 'jungle', 'k-pop',\n",
       "       'karadeniz', 'karaoke', 'kayokyoku', 'korean', 'laiko', 'latin',\n",
       "       'latino', 'leftfield', 'local', 'lounge', 'loungeelectronic',\n",
       "       'lovers', 'malaysian', 'mandopop', 'marschmusik', 'meditative',\n",
       "       'mediterranean', 'melodic', 'metal', 'metalcore', 'mexican',\n",
       "       'middle', 'minimal', 'miscellaneous', 'modern', 'mood', 'mpb',\n",
       "       'muslim', 'native', 'neoklassik', 'neue', 'new', 'newage',\n",
       "       'newwave', 'nu', 'nujazz', 'numetal', 'oceania', 'old', 'opera',\n",
       "       'orchestral', 'other', 'piano', 'podcasts', 'pop', 'popdance',\n",
       "       'popelectronic', 'popeurodance', 'poprussian', 'post',\n",
       "       'posthardcore', 'postrock', 'power', 'progmetal', 'progressive',\n",
       "       'psychedelic', 'punjabi', 'punk', 'quebecois', 'ragga', 'ram',\n",
       "       'rancheras', 'rap', 'rave', 'reggae', 'reggaeton', 'regional',\n",
       "       'relax', 'religious', 'retro', 'rhythm', 'rnb', 'rnr', 'rock',\n",
       "       'rockabilly', 'rockalternative', 'rockindie', 'rockother',\n",
       "       'romance', 'roots', 'ruspop', 'rusrap', 'rusrock', 'russian',\n",
       "       'salsa', 'samba', 'scenic', 'schlager', 'self', 'sertanejo',\n",
       "       'shanson', 'shoegazing', 'showtunes', 'singer', 'ska', 'skarock',\n",
       "       'slow', 'smooth', 'soft', 'soul', 'soulful', 'sound', 'soundtrack',\n",
       "       'southern', 'specialty', 'speech', 'spiritual', 'sport',\n",
       "       'stonerrock', 'surf', 'swing', 'synthpop', 'synthrock',\n",
       "       'sängerportrait', 'tango', 'tanzorchester', 'taraftar', 'tatar',\n",
       "       'tech', 'techno', 'teen', 'thrash', 'top', 'traditional',\n",
       "       'tradjazz', 'trance', 'tribal', 'trip', 'triphop', 'tropical',\n",
       "       'türk', 'türkçe', 'ukrrock', 'unknow', 'urban', 'uzbek', 'variété',\n",
       "       'vi', 'videogame', 'vocal', 'western', 'world', 'worldbeat', 'ïîï',\n",
       "       'электроника'], dtype=object)"
      ]
     },
     "execution_count": 14,
     "metadata": {},
     "output_type": "execute_result"
    }
   ],
   "source": [
    "# Выведите на экран список уникальных названий жанров, отсортированный в алфавитном порядке\n",
    "\n",
    "genre_df = df['genre']\n",
    "genre_df.sort_values().unique()"
   ]
  },
  {
   "cell_type": "markdown",
   "metadata": {
    "id": "qej-Qmuo_Zct"
   },
   "source": [
    "Просмотрите список и найдите неявные дубликаты названия `hiphop`. Это могут быть названия с ошибками или альтернативные названия того же жанра.\n",
    "\n",
    "Вы увидите следующие неявные дубликаты:\n",
    "* *hip*,\n",
    "* *hop*,\n",
    "* *hip-hop*.\n",
    "\n",
    "Чтобы очистить от них таблицу, напишите функцию `replace_wrong_genres()` с двумя параметрами: \n",
    "* `wrong_genres` — список дубликатов,\n",
    "* `correct_genre` — строка с правильным значением.\n",
    "\n",
    "Функция должна исправить колонку `genre` в таблице `df`: заменить каждое значение из списка `wrong_genres` на значение из `correct_genre`."
   ]
  },
  {
   "cell_type": "code",
   "execution_count": 15,
   "metadata": {
    "id": "ErNDkmns_Zct"
   },
   "outputs": [],
   "source": [
    "# функция для замены неявных дубликатов\n",
    "\n",
    "def replace_wrong_genres(wrong_genres, correct_genre):\n",
    "    for index in wrong_genres:\n",
    "        df['genre'] = df['genre'].replace(index, correct_genre)\n",
    "        "
   ]
  },
  {
   "cell_type": "markdown",
   "metadata": {
    "id": "aDoBJxbA_Zct"
   },
   "source": [
    "Вызовите `replace_wrong_genres()` и передайте ей такие аргументы, чтобы она устранила неявные дубликаты: вместо `hip`, `hop` и `hip-hop` в таблице должно быть значение `hiphop`:"
   ]
  },
  {
   "cell_type": "code",
   "execution_count": 16,
   "metadata": {
    "id": "YN5i2hpmSo09"
   },
   "outputs": [],
   "source": [
    "# устранение неявных дубликатов\n",
    "\n",
    "wrong_genres = ['hip', 'hop', 'hip-hop']\n",
    "correct_genre = 'hiphop'\n",
    "replace_wrong_genres(wrong_genres, correct_genre)\n"
   ]
  },
  {
   "cell_type": "markdown",
   "metadata": {
    "id": "zQKF16_RG15m"
   },
   "source": [
    "Проверьте, что заменили неправильные названия:\n",
    "\n",
    "*   hip\n",
    "*   hop\n",
    "*   hip-hop\n",
    "\n",
    "Выведите отсортированный список уникальных значений столбца `genre`:"
   ]
  },
  {
   "cell_type": "code",
   "execution_count": 17,
   "metadata": {
    "id": "wvixALnFG15m",
    "scrolled": true
   },
   "outputs": [
    {
     "data": {
      "text/plain": [
       "array(['acid', 'acoustic', 'action', 'adult', 'africa', 'afrikaans',\n",
       "       'alternative', 'alternativepunk', 'ambient', 'americana',\n",
       "       'animated', 'anime', 'arabesk', 'arabic', 'arena',\n",
       "       'argentinetango', 'art', 'audiobook', 'author', 'avantgarde',\n",
       "       'axé', 'baile', 'balkan', 'beats', 'bigroom', 'black', 'bluegrass',\n",
       "       'blues', 'bollywood', 'bossa', 'brazilian', 'breakbeat', 'breaks',\n",
       "       'broadway', 'cantautori', 'cantopop', 'canzone', 'caribbean',\n",
       "       'caucasian', 'celtic', 'chamber', 'chanson', 'children', 'chill',\n",
       "       'chinese', 'choral', 'christian', 'christmas', 'classical',\n",
       "       'classicmetal', 'club', 'colombian', 'comedy', 'conjazz',\n",
       "       'contemporary', 'country', 'cuban', 'dance', 'dancehall',\n",
       "       'dancepop', 'dark', 'death', 'deep', 'deutschrock', 'deutschspr',\n",
       "       'dirty', 'disco', 'dnb', 'documentary', 'downbeat', 'downtempo',\n",
       "       'drum', 'dub', 'dubstep', 'eastern', 'easy', 'electronic',\n",
       "       'electropop', 'emo', 'entehno', 'epicmetal', 'estrada', 'ethnic',\n",
       "       'eurofolk', 'european', 'experimental', 'extrememetal', 'fado',\n",
       "       'fairytail', 'film', 'fitness', 'flamenco', 'folk', 'folklore',\n",
       "       'folkmetal', 'folkrock', 'folktronica', 'forró', 'frankreich',\n",
       "       'französisch', 'french', 'funk', 'future', 'gangsta', 'garage',\n",
       "       'german', 'ghazal', 'gitarre', 'glitch', 'gospel', 'gothic',\n",
       "       'grime', 'grunge', 'gypsy', 'handsup', \"hard'n'heavy\", 'hardcore',\n",
       "       'hardstyle', 'hardtechno', 'hiphop', 'historisch', 'holiday',\n",
       "       'horror', 'house', 'hymn', 'idm', 'independent', 'indian', 'indie',\n",
       "       'indipop', 'industrial', 'inspirational', 'instrumental',\n",
       "       'international', 'irish', 'jam', 'japanese', 'jazz', 'jewish',\n",
       "       'jpop', 'jungle', 'k-pop', 'karadeniz', 'karaoke', 'kayokyoku',\n",
       "       'korean', 'laiko', 'latin', 'latino', 'leftfield', 'local',\n",
       "       'lounge', 'loungeelectronic', 'lovers', 'malaysian', 'mandopop',\n",
       "       'marschmusik', 'meditative', 'mediterranean', 'melodic', 'metal',\n",
       "       'metalcore', 'mexican', 'middle', 'minimal', 'miscellaneous',\n",
       "       'modern', 'mood', 'mpb', 'muslim', 'native', 'neoklassik', 'neue',\n",
       "       'new', 'newage', 'newwave', 'nu', 'nujazz', 'numetal', 'oceania',\n",
       "       'old', 'opera', 'orchestral', 'other', 'piano', 'podcasts', 'pop',\n",
       "       'popdance', 'popelectronic', 'popeurodance', 'poprussian', 'post',\n",
       "       'posthardcore', 'postrock', 'power', 'progmetal', 'progressive',\n",
       "       'psychedelic', 'punjabi', 'punk', 'quebecois', 'ragga', 'ram',\n",
       "       'rancheras', 'rap', 'rave', 'reggae', 'reggaeton', 'regional',\n",
       "       'relax', 'religious', 'retro', 'rhythm', 'rnb', 'rnr', 'rock',\n",
       "       'rockabilly', 'rockalternative', 'rockindie', 'rockother',\n",
       "       'romance', 'roots', 'ruspop', 'rusrap', 'rusrock', 'russian',\n",
       "       'salsa', 'samba', 'scenic', 'schlager', 'self', 'sertanejo',\n",
       "       'shanson', 'shoegazing', 'showtunes', 'singer', 'ska', 'skarock',\n",
       "       'slow', 'smooth', 'soft', 'soul', 'soulful', 'sound', 'soundtrack',\n",
       "       'southern', 'specialty', 'speech', 'spiritual', 'sport',\n",
       "       'stonerrock', 'surf', 'swing', 'synthpop', 'synthrock',\n",
       "       'sängerportrait', 'tango', 'tanzorchester', 'taraftar', 'tatar',\n",
       "       'tech', 'techno', 'teen', 'thrash', 'top', 'traditional',\n",
       "       'tradjazz', 'trance', 'tribal', 'trip', 'triphop', 'tropical',\n",
       "       'türk', 'türkçe', 'ukrrock', 'unknow', 'urban', 'uzbek', 'variété',\n",
       "       'vi', 'videogame', 'vocal', 'western', 'world', 'worldbeat', 'ïîï',\n",
       "       'электроника'], dtype=object)"
      ]
     },
     "execution_count": 17,
     "metadata": {},
     "output_type": "execute_result"
    }
   ],
   "source": [
    "# Проверка на неявные дубликаты\n",
    "\n",
    "df['genre'].sort_values().unique()\n"
   ]
  },
  {
   "cell_type": "markdown",
   "metadata": {
    "id": "jz6a9-7HQUDd"
   },
   "source": [
    "**Выводы**\n",
    "\n",
    "Предобработка обнаружила три проблемы в данных:\n",
    "\n",
    "- нарушения в стиле заголовков,\n",
    "- пропущенные значения,\n",
    "- дубликаты — явные и неявные.\n",
    "\n",
    "Вы исправили заголовки, чтобы упростить работу с таблицей. Без дубликатов исследование станет более точным.\n",
    "\n",
    "Пропущенные значения вы заменили на `'unknown'`. Ещё предстоит увидеть, не повредят ли исследованию пропуски в колонке `genre`.\n",
    "\n",
    "Теперь можно перейти к проверке гипотез. "
   ]
  },
  {
   "cell_type": "markdown",
   "metadata": {
    "id": "WttZHXH0SqKk"
   },
   "source": [
    "## Проверка гипотез"
   ]
  },
  {
   "cell_type": "markdown",
   "metadata": {
    "id": "Im936VVi_Zcu"
   },
   "source": [
    "### Сравнение поведения пользователей двух столиц"
   ]
  },
  {
   "cell_type": "markdown",
   "metadata": {
    "id": "nwt_MuaL_Zcu"
   },
   "source": [
    "Первая гипотеза утверждает, что пользователи по-разному слушают музыку в Москве и Санкт-Петербурге. Проверьте это предположение по данным о трёх днях недели — понедельнике, среде и пятнице. Для этого:\n",
    "\n",
    "* Разделите пользователей Москвы и Санкт-Петербурга\n",
    "* Сравните, сколько треков послушала каждая группа пользователей в понедельник, среду и пятницу.\n"
   ]
  },
  {
   "cell_type": "markdown",
   "metadata": {
    "id": "8Dw_YMmT_Zcu"
   },
   "source": [
    "Для тренировки сначала выполните каждый из расчётов по отдельности. \n",
    "\n",
    "Оцените активность пользователей в каждом городе. Сгруппируйте данные по городу и посчитайте прослушивания в каждой группе.\n",
    "\n"
   ]
  },
  {
   "cell_type": "code",
   "execution_count": 18,
   "metadata": {
    "id": "0_Qs96oh_Zcu"
   },
   "outputs": [
    {
     "data": {
      "text/plain": [
       "city\n",
       "Moscow              42741\n",
       "Saint-Petersburg    18512\n",
       "Name: time, dtype: int64"
      ]
     },
     "execution_count": 18,
     "metadata": {},
     "output_type": "execute_result"
    }
   ],
   "source": [
    "# Подсчёт прослушиваний в каждом городе\n",
    "\n",
    "df.groupby('city')['time'].count() \n"
   ]
  },
  {
   "cell_type": "markdown",
   "metadata": {
    "id": "dzli3w8o_Zcu"
   },
   "source": [
    "В Москве прослушиваний больше, чем в Петербурге. Из этого не следует, что московские пользователи чаще слушают музыку. Просто самих пользователей в Москве больше.\n",
    "\n",
    "Теперь сгруппируйте данные по дню недели и подсчитайте прослушивания в понедельник, среду и пятницу. Учтите, что в данных есть информация только о прослушиваниях только за эти дни.\n"
   ]
  },
  {
   "cell_type": "code",
   "execution_count": 19,
   "metadata": {
    "id": "uZMKjiJz_Zcu"
   },
   "outputs": [
    {
     "data": {
      "text/plain": [
       "day\n",
       "Friday       21840\n",
       "Monday       21354\n",
       "Wednesday    18059\n",
       "Name: time, dtype: int64"
      ]
     },
     "execution_count": 19,
     "metadata": {},
     "output_type": "execute_result"
    }
   ],
   "source": [
    "# Подсчёт прослушиваний в каждый из трёх дней\n",
    "\n",
    "df.groupby('day')['time'].count() "
   ]
  },
  {
   "cell_type": "markdown",
   "metadata": {
    "id": "cC2tNrlL_Zcu"
   },
   "source": [
    "В среднем пользователи из двух городов менее активны по средам. Но картина может измениться, если рассмотреть каждый город в отдельности."
   ]
  },
  {
   "cell_type": "markdown",
   "metadata": {
    "id": "POzs8bGa_Zcu"
   },
   "source": [
    "Вы видели, как работает группировка по городу и по дням недели. Теперь напишите функцию, которая объединит два эти расчёта.\n",
    "\n",
    "Создайте функцию `number_tracks()`, которая посчитает прослушивания для заданного дня и города. Ей понадобятся два параметра:\n",
    "* день недели,\n",
    "* название города.\n",
    "\n",
    "В функции сохраните в переменную строки исходной таблицы, у которых значение:\n",
    "  * в колонке `day` равно параметру `day`,\n",
    "  * в колонке `city` равно параметру `city`.\n",
    "\n",
    "Для этого примените последовательную фильтрацию с логической индексацией.\n",
    "\n",
    "Затем посчитайте значения в столбце `user_id` получившейся таблицы. Результат сохраните в новую переменную. Верните эту переменную из функции."
   ]
  },
  {
   "cell_type": "code",
   "execution_count": 20,
   "metadata": {
    "id": "Nz3GdQB1_Zcu"
   },
   "outputs": [],
   "source": [
    "# <создание функции number_tracks()>\n",
    "# Объявляется функция с двумя параметрами: day, city.        \n",
    "# В переменной track_list сохраняются те строки таблицы df, для которых \n",
    "# значение в столбце 'day' равно параметру day и одновременно значение\n",
    "# в столбце 'city' равно параметру city (используйте последовательную фильтрацию\n",
    "# с помощью логической индексации).\n",
    "# В переменной track_list_count сохраняется число значений столбца 'user_id',\n",
    "# рассчитанное методом count() для таблицы track_list.\n",
    "# Функция возвращает число - значение track_list_count.\n",
    "\n",
    "# Функция для подсчёта прослушиваний для конкретного города и дня.\n",
    "# С помощью последовательной фильтрации с логической индексацией она \n",
    "# сначала получит из исходной таблицы строки с нужным днём,\n",
    "# затем из результата отфильтрует строки с нужным городом,\n",
    "# методом count() посчитает количество значений в колонке user_id. \n",
    "# Это количество функция вернёт в качестве результата\n",
    "\n",
    "def number_tracks(day, city): \n",
    "    track_list = df[df['day'] == day][df['city'] == city]\n",
    "    track_list_count = track_list['user_id'].count()\n",
    "    return track_list_count\n",
    "    \n"
   ]
  },
  {
   "cell_type": "markdown",
   "metadata": {
    "id": "ytf7xFrFJQ2r"
   },
   "source": [
    "Вызовите `number_tracks()` шесть раз, меняя значение параметров — так, чтобы получить данные для каждого города в каждый из трёх дней."
   ]
  },
  {
   "cell_type": "code",
   "execution_count": 21,
   "metadata": {
    "id": "rJcRATNQ_Zcu"
   },
   "outputs": [
    {
     "data": {
      "text/plain": [
       "15740"
      ]
     },
     "execution_count": 21,
     "metadata": {},
     "output_type": "execute_result"
    }
   ],
   "source": [
    "# количество прослушиваний в Москве по понедельникам\n",
    "\n",
    "mon_mos = number_tracks('Monday', 'Moscow') \n",
    "mon_mos"
   ]
  },
  {
   "cell_type": "code",
   "execution_count": 22,
   "metadata": {
    "id": "hq_ncZ5T_Zcu"
   },
   "outputs": [
    {
     "data": {
      "text/plain": [
       "5614"
      ]
     },
     "execution_count": 22,
     "metadata": {},
     "output_type": "execute_result"
    }
   ],
   "source": [
    "# количество прослушиваний в Санкт-Петербурге по понедельникам\n",
    "\n",
    "mon_spb = number_tracks('Monday', 'Saint-Petersburg') \n",
    "mon_spb"
   ]
  },
  {
   "cell_type": "code",
   "execution_count": 23,
   "metadata": {
    "id": "_NTy2VPU_Zcu"
   },
   "outputs": [
    {
     "data": {
      "text/plain": [
       "11056"
      ]
     },
     "execution_count": 23,
     "metadata": {},
     "output_type": "execute_result"
    }
   ],
   "source": [
    "# количество прослушиваний в Москве по средам\n",
    "\n",
    "wed_mos = number_tracks('Wednesday', 'Moscow') \n",
    "wed_mos"
   ]
  },
  {
   "cell_type": "code",
   "execution_count": 24,
   "metadata": {
    "id": "j2y3TAwo_Zcu"
   },
   "outputs": [
    {
     "data": {
      "text/plain": [
       "7003"
      ]
     },
     "execution_count": 24,
     "metadata": {},
     "output_type": "execute_result"
    }
   ],
   "source": [
    "# количество прослушиваний в Санкт-Петербурге по средам\n",
    "\n",
    "wed_spb = number_tracks('Wednesday', 'Saint-Petersburg') \n",
    "wed_spb"
   ]
  },
  {
   "cell_type": "code",
   "execution_count": 25,
   "metadata": {
    "id": "vYDw5u_K_Zcu"
   },
   "outputs": [
    {
     "data": {
      "text/plain": [
       "15945"
      ]
     },
     "execution_count": 25,
     "metadata": {},
     "output_type": "execute_result"
    }
   ],
   "source": [
    "# количество прослушиваний в Москве по пятницам\n",
    "\n",
    "fri_mos = number_tracks('Friday', 'Moscow') \n",
    "fri_mos"
   ]
  },
  {
   "cell_type": "code",
   "execution_count": 26,
   "metadata": {
    "id": "8_yzFtW3_Zcu"
   },
   "outputs": [
    {
     "data": {
      "text/plain": [
       "5895"
      ]
     },
     "execution_count": 26,
     "metadata": {},
     "output_type": "execute_result"
    }
   ],
   "source": [
    "# количество прослушиваний в Санкт-Петербурге по пятницам\n",
    "\n",
    "fri_spb = number_tracks('Friday', 'Saint-Petersburg') \n",
    "fri_spb"
   ]
  },
  {
   "cell_type": "markdown",
   "metadata": {
    "id": "7QXffbO-_Zcu"
   },
   "source": [
    "Создайте c помощью конструктора `pd.DataFrame` таблицу, где\n",
    "* названия колонок — `['city', 'monday', 'wednesday', 'friday']`;\n",
    "* данные — результаты, которые вы получили с помощью `number_tracks`."
   ]
  },
  {
   "cell_type": "code",
   "execution_count": 27,
   "metadata": {
    "id": "APAcLpOr_Zcu"
   },
   "outputs": [
    {
     "data": {
      "text/html": [
       "<div>\n",
       "<style scoped>\n",
       "    .dataframe tbody tr th:only-of-type {\n",
       "        vertical-align: middle;\n",
       "    }\n",
       "\n",
       "    .dataframe tbody tr th {\n",
       "        vertical-align: top;\n",
       "    }\n",
       "\n",
       "    .dataframe thead th {\n",
       "        text-align: right;\n",
       "    }\n",
       "</style>\n",
       "<table border=\"1\" class=\"dataframe\">\n",
       "  <thead>\n",
       "    <tr style=\"text-align: right;\">\n",
       "      <th></th>\n",
       "      <th>city</th>\n",
       "      <th>monday</th>\n",
       "      <th>wednesday</th>\n",
       "      <th>friday</th>\n",
       "    </tr>\n",
       "  </thead>\n",
       "  <tbody>\n",
       "    <tr>\n",
       "      <th>0</th>\n",
       "      <td>Moscow</td>\n",
       "      <td>15740</td>\n",
       "      <td>11056</td>\n",
       "      <td>15945</td>\n",
       "    </tr>\n",
       "    <tr>\n",
       "      <th>1</th>\n",
       "      <td>Saint-Petersburg</td>\n",
       "      <td>5614</td>\n",
       "      <td>7003</td>\n",
       "      <td>5895</td>\n",
       "    </tr>\n",
       "  </tbody>\n",
       "</table>\n",
       "</div>"
      ],
      "text/plain": [
       "               city  monday  wednesday  friday\n",
       "0            Moscow   15740      11056   15945\n",
       "1  Saint-Petersburg    5614       7003    5895"
      ]
     },
     "execution_count": 27,
     "metadata": {},
     "output_type": "execute_result"
    }
   ],
   "source": [
    "# Таблица с результатами\n",
    "\n",
    "columns = ['city', 'monday', 'wednesday', 'friday']\n",
    "data = [\n",
    "    ['Moscow', mon_mos, wed_mos, fri_mos],\n",
    "    ['Saint-Petersburg', mon_spb, wed_spb, fri_spb]\n",
    "    ]\n",
    "\n",
    "df_city_time = pd.DataFrame(data=data, columns=columns)\n",
    "df_city_time"
   ]
  },
  {
   "cell_type": "markdown",
   "metadata": {
    "id": "-EgPIHYu_Zcu"
   },
   "source": [
    "**Выводы**\n",
    "\n",
    "Данные показывают разницу поведения пользователей:\n",
    "\n",
    "- В Москве пик прослушиваний приходится на понедельник и пятницу, а в среду заметен спад.\n",
    "- В Петербурге, наоборот, больше слушают музыку по средам. Активность в понедельник и пятницу здесь почти в равной мере уступает среде.\n",
    "\n",
    "Значит, данные говорят в пользу первой гипотезы."
   ]
  },
  {
   "cell_type": "markdown",
   "metadata": {
    "id": "atZAxtq4_Zcu"
   },
   "source": [
    "### Музыка в начале и в конце недели"
   ]
  },
  {
   "cell_type": "markdown",
   "metadata": {
    "id": "eXrQqXFH_Zcu"
   },
   "source": [
    "Согласно второй гипотезе, утром в понедельник в Москве преобладают одни жанры, а в Петербурге — другие. Так же и вечером пятницы преобладают разные жанры — в зависимости от города."
   ]
  },
  {
   "cell_type": "markdown",
   "metadata": {
    "id": "S8UcW6Hw_Zcu"
   },
   "source": [
    "Сохраните таблицы с данными в две переменные:\n",
    "* по Москве — в `moscow_general`;\n",
    "* по Санкт-Петербургу — в `spb_general`."
   ]
  },
  {
   "cell_type": "code",
   "execution_count": 28,
   "metadata": {
    "id": "qeaFfM_P_Zcu"
   },
   "outputs": [
    {
     "data": {
      "text/html": [
       "<div>\n",
       "<style scoped>\n",
       "    .dataframe tbody tr th:only-of-type {\n",
       "        vertical-align: middle;\n",
       "    }\n",
       "\n",
       "    .dataframe tbody tr th {\n",
       "        vertical-align: top;\n",
       "    }\n",
       "\n",
       "    .dataframe thead th {\n",
       "        text-align: right;\n",
       "    }\n",
       "</style>\n",
       "<table border=\"1\" class=\"dataframe\">\n",
       "  <thead>\n",
       "    <tr style=\"text-align: right;\">\n",
       "      <th></th>\n",
       "      <th>user_id</th>\n",
       "      <th>track</th>\n",
       "      <th>artist</th>\n",
       "      <th>genre</th>\n",
       "      <th>city</th>\n",
       "      <th>time</th>\n",
       "      <th>day</th>\n",
       "    </tr>\n",
       "  </thead>\n",
       "  <tbody>\n",
       "    <tr>\n",
       "      <th>1</th>\n",
       "      <td>55204538</td>\n",
       "      <td>Delayed Because of Accident</td>\n",
       "      <td>Andreas Rönnberg</td>\n",
       "      <td>rock</td>\n",
       "      <td>Moscow</td>\n",
       "      <td>14:07:09</td>\n",
       "      <td>Friday</td>\n",
       "    </tr>\n",
       "    <tr>\n",
       "      <th>4</th>\n",
       "      <td>E2DC1FAE</td>\n",
       "      <td>Soul People</td>\n",
       "      <td>Space Echo</td>\n",
       "      <td>dance</td>\n",
       "      <td>Moscow</td>\n",
       "      <td>08:34:34</td>\n",
       "      <td>Monday</td>\n",
       "    </tr>\n",
       "    <tr>\n",
       "      <th>6</th>\n",
       "      <td>4CB90AA5</td>\n",
       "      <td>True</td>\n",
       "      <td>Roman Messer</td>\n",
       "      <td>dance</td>\n",
       "      <td>Moscow</td>\n",
       "      <td>13:00:07</td>\n",
       "      <td>Wednesday</td>\n",
       "    </tr>\n",
       "    <tr>\n",
       "      <th>7</th>\n",
       "      <td>F03E1C1F</td>\n",
       "      <td>Feeling This Way</td>\n",
       "      <td>Polina Griffith</td>\n",
       "      <td>dance</td>\n",
       "      <td>Moscow</td>\n",
       "      <td>20:47:49</td>\n",
       "      <td>Wednesday</td>\n",
       "    </tr>\n",
       "    <tr>\n",
       "      <th>8</th>\n",
       "      <td>8FA1D3BE</td>\n",
       "      <td>И вновь продолжается бой</td>\n",
       "      <td>unknow</td>\n",
       "      <td>ruspop</td>\n",
       "      <td>Moscow</td>\n",
       "      <td>09:17:40</td>\n",
       "      <td>Friday</td>\n",
       "    </tr>\n",
       "    <tr>\n",
       "      <th>...</th>\n",
       "      <td>...</td>\n",
       "      <td>...</td>\n",
       "      <td>...</td>\n",
       "      <td>...</td>\n",
       "      <td>...</td>\n",
       "      <td>...</td>\n",
       "      <td>...</td>\n",
       "    </tr>\n",
       "    <tr>\n",
       "      <th>61247</th>\n",
       "      <td>83A474E7</td>\n",
       "      <td>I Worship Only What You Bleed</td>\n",
       "      <td>The Black Dahlia Murder</td>\n",
       "      <td>extrememetal</td>\n",
       "      <td>Moscow</td>\n",
       "      <td>21:07:12</td>\n",
       "      <td>Monday</td>\n",
       "    </tr>\n",
       "    <tr>\n",
       "      <th>61248</th>\n",
       "      <td>729CBB09</td>\n",
       "      <td>My Name</td>\n",
       "      <td>McLean</td>\n",
       "      <td>rnb</td>\n",
       "      <td>Moscow</td>\n",
       "      <td>13:32:28</td>\n",
       "      <td>Wednesday</td>\n",
       "    </tr>\n",
       "    <tr>\n",
       "      <th>61250</th>\n",
       "      <td>C5E3A0D5</td>\n",
       "      <td>Jalopiina</td>\n",
       "      <td>unknow</td>\n",
       "      <td>industrial</td>\n",
       "      <td>Moscow</td>\n",
       "      <td>20:09:26</td>\n",
       "      <td>Friday</td>\n",
       "    </tr>\n",
       "    <tr>\n",
       "      <th>61251</th>\n",
       "      <td>321D0506</td>\n",
       "      <td>Freight Train</td>\n",
       "      <td>Chas McDevitt</td>\n",
       "      <td>rock</td>\n",
       "      <td>Moscow</td>\n",
       "      <td>21:43:59</td>\n",
       "      <td>Friday</td>\n",
       "    </tr>\n",
       "    <tr>\n",
       "      <th>61252</th>\n",
       "      <td>3A64EF84</td>\n",
       "      <td>Tell Me Sweet Little Lies</td>\n",
       "      <td>Monica Lopez</td>\n",
       "      <td>country</td>\n",
       "      <td>Moscow</td>\n",
       "      <td>21:59:46</td>\n",
       "      <td>Friday</td>\n",
       "    </tr>\n",
       "  </tbody>\n",
       "</table>\n",
       "<p>42741 rows × 7 columns</p>\n",
       "</div>"
      ],
      "text/plain": [
       "        user_id                          track                   artist  \\\n",
       "1      55204538    Delayed Because of Accident         Andreas Rönnberg   \n",
       "4      E2DC1FAE                    Soul People               Space Echo   \n",
       "6      4CB90AA5                           True             Roman Messer   \n",
       "7      F03E1C1F               Feeling This Way          Polina Griffith   \n",
       "8      8FA1D3BE       И вновь продолжается бой                   unknow   \n",
       "...         ...                            ...                      ...   \n",
       "61247  83A474E7  I Worship Only What You Bleed  The Black Dahlia Murder   \n",
       "61248  729CBB09                        My Name                   McLean   \n",
       "61250  C5E3A0D5                      Jalopiina                   unknow   \n",
       "61251  321D0506                  Freight Train            Chas McDevitt   \n",
       "61252  3A64EF84      Tell Me Sweet Little Lies             Monica Lopez   \n",
       "\n",
       "              genre    city      time        day  \n",
       "1              rock  Moscow  14:07:09     Friday  \n",
       "4             dance  Moscow  08:34:34     Monday  \n",
       "6             dance  Moscow  13:00:07  Wednesday  \n",
       "7             dance  Moscow  20:47:49  Wednesday  \n",
       "8            ruspop  Moscow  09:17:40     Friday  \n",
       "...             ...     ...       ...        ...  \n",
       "61247  extrememetal  Moscow  21:07:12     Monday  \n",
       "61248           rnb  Moscow  13:32:28  Wednesday  \n",
       "61250    industrial  Moscow  20:09:26     Friday  \n",
       "61251          rock  Moscow  21:43:59     Friday  \n",
       "61252       country  Moscow  21:59:46     Friday  \n",
       "\n",
       "[42741 rows x 7 columns]"
      ]
     },
     "execution_count": 28,
     "metadata": {},
     "output_type": "execute_result"
    }
   ],
   "source": [
    "# получение таблицы moscow_general из тех строк таблицы df, \n",
    "# для которых значение в столбце 'city' равно 'Moscow'\n",
    "\n",
    "moscow_general = df[df['city'] == 'Moscow']\n",
    "moscow_general"
   ]
  },
  {
   "cell_type": "code",
   "execution_count": 29,
   "metadata": {
    "id": "ORaVRKto_Zcu"
   },
   "outputs": [
    {
     "data": {
      "text/html": [
       "<div>\n",
       "<style scoped>\n",
       "    .dataframe tbody tr th:only-of-type {\n",
       "        vertical-align: middle;\n",
       "    }\n",
       "\n",
       "    .dataframe tbody tr th {\n",
       "        vertical-align: top;\n",
       "    }\n",
       "\n",
       "    .dataframe thead th {\n",
       "        text-align: right;\n",
       "    }\n",
       "</style>\n",
       "<table border=\"1\" class=\"dataframe\">\n",
       "  <thead>\n",
       "    <tr style=\"text-align: right;\">\n",
       "      <th></th>\n",
       "      <th>user_id</th>\n",
       "      <th>track</th>\n",
       "      <th>artist</th>\n",
       "      <th>genre</th>\n",
       "      <th>city</th>\n",
       "      <th>time</th>\n",
       "      <th>day</th>\n",
       "    </tr>\n",
       "  </thead>\n",
       "  <tbody>\n",
       "    <tr>\n",
       "      <th>0</th>\n",
       "      <td>FFB692EC</td>\n",
       "      <td>Kamigata To Boots</td>\n",
       "      <td>The Mass Missile</td>\n",
       "      <td>rock</td>\n",
       "      <td>Saint-Petersburg</td>\n",
       "      <td>20:28:33</td>\n",
       "      <td>Wednesday</td>\n",
       "    </tr>\n",
       "    <tr>\n",
       "      <th>2</th>\n",
       "      <td>20EC38</td>\n",
       "      <td>Funiculì funiculà</td>\n",
       "      <td>Mario Lanza</td>\n",
       "      <td>pop</td>\n",
       "      <td>Saint-Petersburg</td>\n",
       "      <td>20:58:07</td>\n",
       "      <td>Wednesday</td>\n",
       "    </tr>\n",
       "    <tr>\n",
       "      <th>3</th>\n",
       "      <td>A3DD03C9</td>\n",
       "      <td>Dragons in the Sunset</td>\n",
       "      <td>Fire + Ice</td>\n",
       "      <td>folk</td>\n",
       "      <td>Saint-Petersburg</td>\n",
       "      <td>08:37:09</td>\n",
       "      <td>Monday</td>\n",
       "    </tr>\n",
       "    <tr>\n",
       "      <th>5</th>\n",
       "      <td>842029A1</td>\n",
       "      <td>Преданная</td>\n",
       "      <td>IMPERVTOR</td>\n",
       "      <td>rusrap</td>\n",
       "      <td>Saint-Petersburg</td>\n",
       "      <td>13:09:41</td>\n",
       "      <td>Friday</td>\n",
       "    </tr>\n",
       "    <tr>\n",
       "      <th>9</th>\n",
       "      <td>E772D5C0</td>\n",
       "      <td>Pessimist</td>\n",
       "      <td>unknow</td>\n",
       "      <td>dance</td>\n",
       "      <td>Saint-Petersburg</td>\n",
       "      <td>21:20:49</td>\n",
       "      <td>Wednesday</td>\n",
       "    </tr>\n",
       "    <tr>\n",
       "      <th>...</th>\n",
       "      <td>...</td>\n",
       "      <td>...</td>\n",
       "      <td>...</td>\n",
       "      <td>...</td>\n",
       "      <td>...</td>\n",
       "      <td>...</td>\n",
       "      <td>...</td>\n",
       "    </tr>\n",
       "    <tr>\n",
       "      <th>61239</th>\n",
       "      <td>D94F810B</td>\n",
       "      <td>Theme from the Walking Dead</td>\n",
       "      <td>Proyecto Halloween</td>\n",
       "      <td>film</td>\n",
       "      <td>Saint-Petersburg</td>\n",
       "      <td>21:14:40</td>\n",
       "      <td>Monday</td>\n",
       "    </tr>\n",
       "    <tr>\n",
       "      <th>61240</th>\n",
       "      <td>BC8EC5CF</td>\n",
       "      <td>Red Lips: Gta (Rover Rework)</td>\n",
       "      <td>Rover</td>\n",
       "      <td>electronic</td>\n",
       "      <td>Saint-Petersburg</td>\n",
       "      <td>21:06:50</td>\n",
       "      <td>Monday</td>\n",
       "    </tr>\n",
       "    <tr>\n",
       "      <th>61241</th>\n",
       "      <td>29E04611</td>\n",
       "      <td>Bre Petrunko</td>\n",
       "      <td>Perunika Trio</td>\n",
       "      <td>world</td>\n",
       "      <td>Saint-Petersburg</td>\n",
       "      <td>13:56:00</td>\n",
       "      <td>Monday</td>\n",
       "    </tr>\n",
       "    <tr>\n",
       "      <th>61242</th>\n",
       "      <td>1B91C621</td>\n",
       "      <td>(Hello) Cloud Mountain</td>\n",
       "      <td>sleepmakeswaves</td>\n",
       "      <td>postrock</td>\n",
       "      <td>Saint-Petersburg</td>\n",
       "      <td>09:22:13</td>\n",
       "      <td>Monday</td>\n",
       "    </tr>\n",
       "    <tr>\n",
       "      <th>61249</th>\n",
       "      <td>D08D4A55</td>\n",
       "      <td>Maybe One Day (feat. Black Spade)</td>\n",
       "      <td>Blu &amp; Exile</td>\n",
       "      <td>hiphop</td>\n",
       "      <td>Saint-Petersburg</td>\n",
       "      <td>10:00:00</td>\n",
       "      <td>Monday</td>\n",
       "    </tr>\n",
       "  </tbody>\n",
       "</table>\n",
       "<p>18512 rows × 7 columns</p>\n",
       "</div>"
      ],
      "text/plain": [
       "        user_id                              track              artist  \\\n",
       "0      FFB692EC                  Kamigata To Boots    The Mass Missile   \n",
       "2        20EC38                  Funiculì funiculà         Mario Lanza   \n",
       "3      A3DD03C9              Dragons in the Sunset          Fire + Ice   \n",
       "5      842029A1                          Преданная           IMPERVTOR   \n",
       "9      E772D5C0                          Pessimist              unknow   \n",
       "...         ...                                ...                 ...   \n",
       "61239  D94F810B        Theme from the Walking Dead  Proyecto Halloween   \n",
       "61240  BC8EC5CF       Red Lips: Gta (Rover Rework)               Rover   \n",
       "61241  29E04611                       Bre Petrunko       Perunika Trio   \n",
       "61242  1B91C621             (Hello) Cloud Mountain     sleepmakeswaves   \n",
       "61249  D08D4A55  Maybe One Day (feat. Black Spade)         Blu & Exile   \n",
       "\n",
       "            genre              city      time        day  \n",
       "0            rock  Saint-Petersburg  20:28:33  Wednesday  \n",
       "2             pop  Saint-Petersburg  20:58:07  Wednesday  \n",
       "3            folk  Saint-Petersburg  08:37:09     Monday  \n",
       "5          rusrap  Saint-Petersburg  13:09:41     Friday  \n",
       "9           dance  Saint-Petersburg  21:20:49  Wednesday  \n",
       "...           ...               ...       ...        ...  \n",
       "61239        film  Saint-Petersburg  21:14:40     Monday  \n",
       "61240  electronic  Saint-Petersburg  21:06:50     Monday  \n",
       "61241       world  Saint-Petersburg  13:56:00     Monday  \n",
       "61242    postrock  Saint-Petersburg  09:22:13     Monday  \n",
       "61249      hiphop  Saint-Petersburg  10:00:00     Monday  \n",
       "\n",
       "[18512 rows x 7 columns]"
      ]
     },
     "execution_count": 29,
     "metadata": {},
     "output_type": "execute_result"
    }
   ],
   "source": [
    "# получение таблицы spb_general из тех строк таблицы df,\n",
    "# для которых значение в столбце 'city' равно 'Saint-Petersburg'\n",
    "\n",
    "spb_general = df[df['city'] == 'Saint-Petersburg']\n",
    "spb_general"
   ]
  },
  {
   "cell_type": "markdown",
   "metadata": {
    "id": "MEJV-CX2_Zcu"
   },
   "source": [
    "Создайте функцию `genre_weekday()` с четырьмя параметрами:\n",
    "* таблица (датафрейм) с данными,\n",
    "* день недели,\n",
    "* начальная временная метка в формате 'hh:mm', \n",
    "* последняя временная метка в формате 'hh:mm'.\n",
    "\n",
    "Функция должна вернуть информацию о топ-10 жанров тех треков, которые прослушивали в указанный день, в промежутке между двумя отметками времени."
   ]
  },
  {
   "cell_type": "code",
   "execution_count": 30,
   "metadata": {
    "id": "laJT9BYl_Zcu"
   },
   "outputs": [],
   "source": [
    "# Объявление функции genre_weekday() с параметрами table, day, time1, time2,\n",
    "# которая возвращает информацию о самых популярных жанрах в указанный день в\n",
    "# заданное время:    \n",
    "#1) в переменную genre_df сохраняются те строки переданного датафрейма table, для\n",
    "#    которых одновременно:\n",
    "#    - значение в столбце day равно значению аргумента day\n",
    "#    - значение в столбце time больше значения аргумента time1\n",
    "#    - значение в столбце time меньше значения аргумента time2\n",
    "     #    Используйте последовательную фильтрацию с помощью логической индексации.\n",
    "# 2) сгруппировать датафрейм genre_df по столбцу genre, взять один из его\n",
    "#    столбцов и посчитать методом count() количество записей для каждого из\n",
    "#    присутствующих жанров, получившийся Series записать в переменную\n",
    "#    genre_df_count\n",
    "# 3) отсортировать genre_df_count по убыванию встречаемости и сохранить\n",
    "#    в переменную genre_df_sorted\n",
    "#4) вернуть Series из 10 первых значений genre_df_sorted, это будут топ-10\n",
    "#    популярных жанров (в указанный день, в заданное время)\n",
    "\n",
    "def genre_weekday(table, day, time1, time2):\n",
    "    genre_df = table[table['day'] == day][table['time'] > time1][table['time'] < time2] \n",
    " \n",
    "    genre_df_count = genre_df.groupby('genre')['user_id'].count() \n",
    "    genre_df_sorted = genre_df_count.sort_values(ascending=False) \n",
    "    return genre_df_sorted.head(10) "
   ]
  },
  {
   "cell_type": "markdown",
   "metadata": {
    "id": "la2s2_PF_Zcu"
   },
   "source": [
    "Cравните результаты функции `genre_weekday()` для Москвы и Санкт-Петербурга в понедельник утром (с 7:00 до 11:00) и в пятницу вечером (с 17:00 до 23:00):"
   ]
  },
  {
   "cell_type": "code",
   "execution_count": 31,
   "metadata": {
    "id": "yz7itPUQ_Zcu"
   },
   "outputs": [
    {
     "data": {
      "text/plain": [
       "genre\n",
       "pop            781\n",
       "dance          549\n",
       "electronic     480\n",
       "rock           474\n",
       "hiphop         286\n",
       "ruspop         186\n",
       "world          181\n",
       "rusrap         175\n",
       "alternative    164\n",
       "unknow         161\n",
       "Name: user_id, dtype: int64"
      ]
     },
     "execution_count": 31,
     "metadata": {},
     "output_type": "execute_result"
    }
   ],
   "source": [
    "# вызов функции для утра понедельника в Москве (вместо df — таблица moscow_general)\n",
    "# объекты, хранящие время, являются строками и сравниваются как строки\n",
    "# пример вызова: genre_weekday(moscow_general, 'Monday', '07:00', '11:00')\n",
    "\n",
    "genre_weekday(moscow_general, 'Monday', '07:00', '11:00')"
   ]
  },
  {
   "cell_type": "code",
   "execution_count": 32,
   "metadata": {
    "id": "kwUcHPdy_Zcu"
   },
   "outputs": [
    {
     "data": {
      "text/plain": [
       "genre\n",
       "pop            218\n",
       "dance          182\n",
       "rock           162\n",
       "electronic     147\n",
       "hiphop          80\n",
       "ruspop          64\n",
       "alternative     58\n",
       "rusrap          55\n",
       "jazz            44\n",
       "classical       40\n",
       "Name: user_id, dtype: int64"
      ]
     },
     "execution_count": 32,
     "metadata": {},
     "output_type": "execute_result"
    }
   ],
   "source": [
    "# вызов функции для утра понедельника в Петербурге (вместо df — таблица spb_general)\n",
    "\n",
    "genre_weekday(spb_general, 'Monday', '07:00', '11:00')"
   ]
  },
  {
   "cell_type": "code",
   "execution_count": 33,
   "metadata": {
    "id": "EzXVRE1o_Zcu"
   },
   "outputs": [
    {
     "data": {
      "text/plain": [
       "genre\n",
       "pop            717\n",
       "dance          524\n",
       "rock           518\n",
       "electronic     485\n",
       "hiphop         238\n",
       "alternative    182\n",
       "classical      172\n",
       "world          172\n",
       "ruspop         149\n",
       "rusrap         133\n",
       "Name: user_id, dtype: int64"
      ]
     },
     "execution_count": 33,
     "metadata": {},
     "output_type": "execute_result"
    }
   ],
   "source": [
    "# вызов функции для вечера пятницы в Москве\n",
    "\n",
    "genre_weekday(moscow_general, 'Monday', '19:00', '23:00')"
   ]
  },
  {
   "cell_type": "code",
   "execution_count": 34,
   "metadata": {
    "id": "JZaEKu5v_Zcu"
   },
   "outputs": [
    {
     "data": {
      "text/plain": [
       "genre\n",
       "pop            732\n",
       "dance          589\n",
       "rock           577\n",
       "electronic     523\n",
       "hiphop         277\n",
       "alternative    199\n",
       "classical      187\n",
       "jazz           174\n",
       "rusrap         164\n",
       "world          163\n",
       "Name: user_id, dtype: int64"
      ]
     },
     "execution_count": 34,
     "metadata": {},
     "output_type": "execute_result"
    }
   ],
   "source": [
    "# вызов функции для вечера пятницы в Петербурге\n",
    "\n",
    "genre_weekday(spb_general, 'Monday', '019:00', '23:00')"
   ]
  },
  {
   "cell_type": "markdown",
   "metadata": {
    "id": "wrCe4MNX_Zcu"
   },
   "source": [
    "**Выводы**\n",
    "\n",
    "Если сравнить топ-10 жанров в понедельник утром, можно сделать такие выводы:\n",
    "\n",
    "1. В Москве и Петербурге слушают похожую музыку. Единственное отличие — в московский рейтинг вошёл жанр “world”, а в петербургский — джаз и классика.\n",
    "\n",
    "2. В Москве пропущенных значений оказалось так много, что значение `'unknown'` заняло десятое место среди самых популярных жанров. Значит, пропущенные значения занимают существенную долю в данных и угрожают достоверности исследования.\n",
    "\n",
    "Вечер пятницы не меняет эту картину. Некоторые жанры поднимаются немного выше, другие спускаются, но в целом топ-10 остаётся тем же самым.\n",
    "\n",
    "Таким образом, вторая гипотеза подтвердилась лишь частично:\n",
    "* Пользователи слушают похожую музыку в начале недели и в конце.\n",
    "* Разница между Москвой и Петербургом не слишком выражена. В Москве чаще слушают русскую популярную музыку, в Петербурге — джаз.\n",
    "\n",
    "Однако пропуски в данных ставят под сомнение этот результат. В Москве их так много, что рейтинг топ-10 мог бы выглядеть иначе, если бы не утерянные  данные о жанрах."
   ]
  },
  {
   "cell_type": "markdown",
   "metadata": {
    "id": "JolODAqr_Zcu"
   },
   "source": [
    "### Жанровые предпочтения в Москве и Петербурге\n",
    "\n",
    "Гипотеза: Петербург — столица рэпа, музыку этого жанра там слушают чаще, чем в Москве.  А Москва — город контрастов, в котором, тем не менее, преобладает поп-музыка."
   ]
  },
  {
   "cell_type": "markdown",
   "metadata": {
    "id": "DlegSvaT_Zcu"
   },
   "source": [
    "Сгруппируйте таблицу `moscow_general` по жанру и посчитайте прослушивания треков каждого жанра методом `count()`. Затем отсортируйте результат в порядке убывания и сохраните его в таблице `moscow_genres`."
   ]
  },
  {
   "cell_type": "code",
   "execution_count": 35,
   "metadata": {
    "id": "r19lIPke_Zcu"
   },
   "outputs": [],
   "source": [
    "# одной строкой: группировка таблицы moscow_general по столбцу 'genre', \n",
    "# подсчёт числа значений 'genre' в этой группировке методом count(), \n",
    "# сортировка получившегося Series в порядке убывания и сохранение в moscow_genres\n",
    "\n",
    "moscow_genres = moscow_general.groupby('genre')['genre'].count().sort_values(ascending=False)\n"
   ]
  },
  {
   "cell_type": "markdown",
   "metadata": {
    "id": "6kMuomxTiIr8"
   },
   "source": [
    "Выведите на экран первые десять строк `moscow_genres`:"
   ]
  },
  {
   "cell_type": "code",
   "execution_count": 36,
   "metadata": {
    "id": "WhCSooF8_Zcv"
   },
   "outputs": [
    {
     "data": {
      "text/plain": [
       "genre\n",
       "pop            5892\n",
       "dance          4435\n",
       "rock           3965\n",
       "electronic     3786\n",
       "hiphop         2096\n",
       "classical      1616\n",
       "world          1432\n",
       "alternative    1379\n",
       "ruspop         1372\n",
       "rusrap         1161\n",
       "Name: genre, dtype: int64"
      ]
     },
     "execution_count": 36,
     "metadata": {},
     "output_type": "execute_result"
    }
   ],
   "source": [
    "# просмотр первых 10 строк moscow_genres\n",
    "\n",
    "moscow_genres.head(10)"
   ]
  },
  {
   "cell_type": "markdown",
   "metadata": {
    "id": "cnPG2vnN_Zcv"
   },
   "source": [
    "Теперь повторите то же и для Петербурга.\n",
    "\n",
    "Сгруппируйте таблицу `spb_general` по жанру. Посчитайте прослушивания треков каждого жанра. Результат отсортируйте в порядке убывания и сохраните в таблице `spb_genres`:\n"
   ]
  },
  {
   "cell_type": "code",
   "execution_count": 37,
   "metadata": {
    "id": "gluLIpE7_Zcv"
   },
   "outputs": [],
   "source": [
    "# одной строкой: группировка таблицы spb_general по столбцу 'genre', \n",
    "# подсчёт числа значений 'genre' в этой группировке методом count(), \n",
    "# сортировка получившегося Series в порядке убывания и сохранение в spb_genres\n",
    "\n",
    "spb_genres = spb_general.groupby('genre')['genre'].count().sort_values(ascending=False)\n",
    "\n",
    "\n"
   ]
  },
  {
   "cell_type": "markdown",
   "metadata": {
    "id": "5Doha_ODgyQ8"
   },
   "source": [
    "Выведите на экран первые десять строк `spb_genres`:"
   ]
  },
  {
   "cell_type": "code",
   "execution_count": 38,
   "metadata": {
    "id": "uaGJHjVU_Zcv"
   },
   "outputs": [
    {
     "data": {
      "text/plain": [
       "genre\n",
       "pop            2431\n",
       "dance          1932\n",
       "rock           1879\n",
       "electronic     1736\n",
       "hiphop          960\n",
       "alternative     649\n",
       "classical       646\n",
       "rusrap          564\n",
       "ruspop          538\n",
       "world           515\n",
       "Name: genre, dtype: int64"
      ]
     },
     "execution_count": 38,
     "metadata": {},
     "output_type": "execute_result"
    }
   ],
   "source": [
    "# просмотр первых 10 строк spb_genres\n",
    "\n",
    "spb_genres.head(10)"
   ]
  },
  {
   "cell_type": "markdown",
   "metadata": {
    "id": "RY51YJYu_Zcv"
   },
   "source": [
    "**Выводы**"
   ]
  },
  {
   "cell_type": "markdown",
   "metadata": {
    "id": "nVhnJEm__Zcv"
   },
   "source": [
    "Гипотеза частично подтвердилась:\n",
    "* Поп-музыка — самый популярный жанр в Москве, как и предполагала гипотеза. Более того, в топ-10 жанров встречается близкий жанр — русская популярная музыка.\n",
    "* Вопреки ожиданиям, рэп одинаково популярен в Москве и Петербурге. \n"
   ]
  },
  {
   "cell_type": "markdown",
   "metadata": {
    "id": "ykKQ0N65_Zcv"
   },
   "source": [
    "## Итоги исследования"
   ]
  },
  {
   "cell_type": "markdown",
   "metadata": {
    "id": "tjUwbHb3_Zcv"
   },
   "source": [
    "Вы проверили три гипотезы и установили:\n",
    "\n",
    "1. День недели по-разному влияет на активность пользователей в Москве и Петербурге. \n",
    "\n",
    "Первая гипотеза полностью подтвердилась.\n",
    "\n",
    "2. Музыкальные предпочтения не сильно меняются в течение недели — будь то Москва или Петербург. Небольшие различия заметны в начале недели, по понедельникам:\n",
    "* в Москве слушают музыку жанра “world”,\n",
    "* в Петербурге — джаз и классику.\n",
    "\n",
    "Таким образом, вторая гипотеза подтвердилась лишь отчасти. Этот результат мог оказаться иным, если бы не пропуски в данных.\n",
    "\n",
    "3. Во вкусах пользователей Москвы и Петербурга больше общего чем различий. Вопреки ожиданиям, предпочтения жанров в Петербурге напоминают московские.\n",
    "\n",
    "Третья гипотеза не подтвердилась. Если различия в предпочтениях и существуют, на основной массе пользователей они незаметны.\n",
    "\n",
    "**На практике исследования содержат проверки статистических гипотез.**\n",
    "Из данных одного сервиса не всегда можно сделать вывод о всех жителях города.\n",
    "Проверки статистических гипотез покажут, насколько они достоверны, исходя из имеющихся данных. \n",
    "С методами проверок гипотез вы ещё познакомитесь в следующих темах."
   ]
  }
 ],
 "metadata": {
  "ExecuteTimeLog": [
   {
    "duration": 215,
    "start_time": "2022-01-27T19:27:14.428Z"
   },
   {
    "duration": 169,
    "start_time": "2022-01-27T19:28:10.787Z"
   },
   {
    "duration": 179,
    "start_time": "2022-01-27T19:28:57.090Z"
   },
   {
    "duration": 178,
    "start_time": "2022-01-27T19:29:17.259Z"
   },
   {
    "duration": 187,
    "start_time": "2022-01-27T19:29:42.026Z"
   },
   {
    "duration": 185,
    "start_time": "2022-01-27T19:33:15.183Z"
   },
   {
    "duration": 193,
    "start_time": "2022-01-27T19:33:45.228Z"
   },
   {
    "duration": 588,
    "start_time": "2022-01-27T19:34:09.197Z"
   },
   {
    "duration": 156,
    "start_time": "2022-01-27T19:34:11.788Z"
   },
   {
    "duration": 9,
    "start_time": "2022-01-27T19:34:22.100Z"
   },
   {
    "duration": 18,
    "start_time": "2022-01-27T19:34:32.637Z"
   },
   {
    "duration": 13,
    "start_time": "2022-01-27T19:35:13.821Z"
   },
   {
    "duration": 11,
    "start_time": "2022-01-27T19:35:22.190Z"
   },
   {
    "duration": 11,
    "start_time": "2022-01-27T19:36:35.133Z"
   },
   {
    "duration": 25,
    "start_time": "2022-01-27T19:37:10.637Z"
   },
   {
    "duration": 24,
    "start_time": "2022-01-27T19:37:58.870Z"
   },
   {
    "duration": 37,
    "start_time": "2022-01-27T19:39:49.527Z"
   },
   {
    "duration": 26,
    "start_time": "2022-01-27T19:40:02.358Z"
   },
   {
    "duration": 27,
    "start_time": "2022-01-27T19:40:06.742Z"
   },
   {
    "duration": 27,
    "start_time": "2022-01-27T19:40:15.407Z"
   },
   {
    "duration": 10,
    "start_time": "2022-01-27T20:29:13.568Z"
   },
   {
    "duration": 190,
    "start_time": "2022-01-27T20:29:34.025Z"
   },
   {
    "duration": 182,
    "start_time": "2022-01-27T20:29:43.193Z"
   },
   {
    "duration": 173,
    "start_time": "2022-01-27T20:30:09.489Z"
   },
   {
    "duration": 179,
    "start_time": "2022-01-27T20:30:46.298Z"
   },
   {
    "duration": 189,
    "start_time": "2022-01-27T20:30:53.585Z"
   },
   {
    "duration": 185,
    "start_time": "2022-01-27T20:32:05.009Z"
   },
   {
    "duration": 185,
    "start_time": "2022-01-27T20:32:49.485Z"
   },
   {
    "duration": 195,
    "start_time": "2022-01-27T20:33:19.457Z"
   },
   {
    "duration": 183,
    "start_time": "2022-01-27T20:37:01.699Z"
   },
   {
    "duration": 173,
    "start_time": "2022-01-27T20:37:19.883Z"
   },
   {
    "duration": 188,
    "start_time": "2022-01-27T20:38:02.440Z"
   },
   {
    "duration": 164,
    "start_time": "2022-01-27T20:38:18.465Z"
   },
   {
    "duration": 168,
    "start_time": "2022-01-27T20:38:24.167Z"
   },
   {
    "duration": 188,
    "start_time": "2022-01-27T20:38:30.111Z"
   },
   {
    "duration": 3,
    "start_time": "2022-01-27T20:39:51.629Z"
   },
   {
    "duration": 172,
    "start_time": "2022-01-27T20:39:51.634Z"
   },
   {
    "duration": 10,
    "start_time": "2022-01-27T20:39:51.808Z"
   },
   {
    "duration": 31,
    "start_time": "2022-01-27T20:39:51.820Z"
   },
   {
    "duration": 187,
    "start_time": "2022-01-27T20:39:51.852Z"
   },
   {
    "duration": -84759,
    "start_time": "2022-01-27T20:41:16.800Z"
   },
   {
    "duration": -84804,
    "start_time": "2022-01-27T20:41:16.846Z"
   },
   {
    "duration": -84808,
    "start_time": "2022-01-27T20:41:16.851Z"
   },
   {
    "duration": -84811,
    "start_time": "2022-01-27T20:41:16.855Z"
   },
   {
    "duration": -84815,
    "start_time": "2022-01-27T20:41:16.860Z"
   },
   {
    "duration": -84819,
    "start_time": "2022-01-27T20:41:16.865Z"
   },
   {
    "duration": -84823,
    "start_time": "2022-01-27T20:41:16.870Z"
   },
   {
    "duration": -84827,
    "start_time": "2022-01-27T20:41:16.875Z"
   },
   {
    "duration": -84830,
    "start_time": "2022-01-27T20:41:16.879Z"
   },
   {
    "duration": -84834,
    "start_time": "2022-01-27T20:41:16.884Z"
   },
   {
    "duration": -84887,
    "start_time": "2022-01-27T20:41:16.938Z"
   },
   {
    "duration": -84892,
    "start_time": "2022-01-27T20:41:16.943Z"
   },
   {
    "duration": -84896,
    "start_time": "2022-01-27T20:41:16.948Z"
   },
   {
    "duration": -84900,
    "start_time": "2022-01-27T20:41:16.953Z"
   },
   {
    "duration": -84903,
    "start_time": "2022-01-27T20:41:16.958Z"
   },
   {
    "duration": -84908,
    "start_time": "2022-01-27T20:41:16.963Z"
   },
   {
    "duration": -84911,
    "start_time": "2022-01-27T20:41:16.967Z"
   },
   {
    "duration": -84915,
    "start_time": "2022-01-27T20:41:16.972Z"
   },
   {
    "duration": -84935,
    "start_time": "2022-01-27T20:41:16.993Z"
   },
   {
    "duration": -84953,
    "start_time": "2022-01-27T20:41:17.012Z"
   },
   {
    "duration": -84958,
    "start_time": "2022-01-27T20:41:17.018Z"
   },
   {
    "duration": -84962,
    "start_time": "2022-01-27T20:41:17.023Z"
   },
   {
    "duration": -84967,
    "start_time": "2022-01-27T20:41:17.028Z"
   },
   {
    "duration": -84971,
    "start_time": "2022-01-27T20:41:17.033Z"
   },
   {
    "duration": -84975,
    "start_time": "2022-01-27T20:41:17.038Z"
   },
   {
    "duration": -84980,
    "start_time": "2022-01-27T20:41:17.044Z"
   },
   {
    "duration": -84990,
    "start_time": "2022-01-27T20:41:17.055Z"
   },
   {
    "duration": -84994,
    "start_time": "2022-01-27T20:41:17.060Z"
   },
   {
    "duration": -85033,
    "start_time": "2022-01-27T20:41:17.099Z"
   },
   {
    "duration": -85037,
    "start_time": "2022-01-27T20:41:17.104Z"
   },
   {
    "duration": -85040,
    "start_time": "2022-01-27T20:41:17.108Z"
   },
   {
    "duration": -85044,
    "start_time": "2022-01-27T20:41:17.113Z"
   },
   {
    "duration": -85047,
    "start_time": "2022-01-27T20:41:17.117Z"
   },
   {
    "duration": 3,
    "start_time": "2022-01-27T20:40:22.453Z"
   },
   {
    "duration": 150,
    "start_time": "2022-01-27T20:40:22.457Z"
   },
   {
    "duration": 11,
    "start_time": "2022-01-27T20:40:22.609Z"
   },
   {
    "duration": 25,
    "start_time": "2022-01-27T20:40:22.622Z"
   },
   {
    "duration": 23,
    "start_time": "2022-01-27T20:40:31.911Z"
   },
   {
    "duration": 183,
    "start_time": "2022-01-27T20:40:39.477Z"
   },
   {
    "duration": 3,
    "start_time": "2022-01-27T20:40:50.367Z"
   },
   {
    "duration": 4,
    "start_time": "2022-01-27T20:41:02.215Z"
   },
   {
    "duration": 4,
    "start_time": "2022-01-27T20:41:08.142Z"
   },
   {
    "duration": 4,
    "start_time": "2022-01-27T20:44:13.288Z"
   },
   {
    "duration": 3,
    "start_time": "2022-01-27T20:44:50.071Z"
   },
   {
    "duration": 153,
    "start_time": "2022-01-27T20:44:50.076Z"
   },
   {
    "duration": 11,
    "start_time": "2022-01-27T20:44:50.231Z"
   },
   {
    "duration": 28,
    "start_time": "2022-01-27T20:44:50.244Z"
   },
   {
    "duration": 24,
    "start_time": "2022-01-27T20:44:50.274Z"
   },
   {
    "duration": 23,
    "start_time": "2022-01-27T20:44:50.300Z"
   },
   {
    "duration": 3,
    "start_time": "2022-01-27T20:44:55.591Z"
   },
   {
    "duration": 25,
    "start_time": "2022-01-27T20:48:53.929Z"
   },
   {
    "duration": 3,
    "start_time": "2022-01-27T21:27:19.836Z"
   },
   {
    "duration": 162,
    "start_time": "2022-01-27T21:27:19.842Z"
   },
   {
    "duration": 13,
    "start_time": "2022-01-27T21:27:20.007Z"
   },
   {
    "duration": 34,
    "start_time": "2022-01-27T21:27:20.022Z"
   },
   {
    "duration": 4,
    "start_time": "2022-01-27T21:27:20.059Z"
   },
   {
    "duration": 51,
    "start_time": "2022-01-27T21:27:20.065Z"
   },
   {
    "duration": 4,
    "start_time": "2022-01-27T21:27:20.118Z"
   },
   {
    "duration": 27,
    "start_time": "2022-01-27T21:27:20.125Z"
   },
   {
    "duration": 8,
    "start_time": "2022-01-27T21:27:20.154Z"
   },
   {
    "duration": 12,
    "start_time": "2022-01-27T21:27:24.225Z"
   },
   {
    "duration": 24,
    "start_time": "2022-01-27T21:27:52.666Z"
   },
   {
    "duration": 28,
    "start_time": "2022-01-27T21:29:40.985Z"
   },
   {
    "duration": 187,
    "start_time": "2022-01-27T21:29:45.282Z"
   },
   {
    "duration": 25,
    "start_time": "2022-01-27T21:29:58.042Z"
   },
   {
    "duration": 205,
    "start_time": "2022-01-27T21:31:06.771Z"
   },
   {
    "duration": 32,
    "start_time": "2022-01-27T21:31:08.370Z"
   },
   {
    "duration": 172,
    "start_time": "2022-01-27T21:32:45.317Z"
   },
   {
    "duration": 4445,
    "start_time": "2022-01-27T21:33:22.267Z"
   },
   {
    "duration": -84794,
    "start_time": "2022-01-27T21:34:51.513Z"
   },
   {
    "duration": 28,
    "start_time": "2022-01-27T21:33:26.978Z"
   },
   {
    "duration": 3,
    "start_time": "2022-01-27T21:33:36.482Z"
   },
   {
    "duration": 145,
    "start_time": "2022-01-27T21:33:36.490Z"
   },
   {
    "duration": 11,
    "start_time": "2022-01-27T21:33:36.637Z"
   },
   {
    "duration": 39,
    "start_time": "2022-01-27T21:33:36.651Z"
   },
   {
    "duration": 5,
    "start_time": "2022-01-27T21:33:36.698Z"
   },
   {
    "duration": 34,
    "start_time": "2022-01-27T21:33:36.704Z"
   },
   {
    "duration": 4,
    "start_time": "2022-01-27T21:33:36.740Z"
   },
   {
    "duration": 31,
    "start_time": "2022-01-27T21:33:36.746Z"
   },
   {
    "duration": 4680,
    "start_time": "2022-01-27T21:33:36.779Z"
   },
   {
    "duration": 2,
    "start_time": "2022-01-27T21:34:14.944Z"
   },
   {
    "duration": 169,
    "start_time": "2022-01-27T21:39:14.637Z"
   },
   {
    "duration": 2236,
    "start_time": "2022-01-27T21:39:29.262Z"
   },
   {
    "duration": 2769,
    "start_time": "2022-01-27T21:40:58.343Z"
   },
   {
    "duration": 56,
    "start_time": "2022-01-27T21:47:12.427Z"
   },
   {
    "duration": 4,
    "start_time": "2022-01-27T21:47:22.106Z"
   },
   {
    "duration": 180,
    "start_time": "2022-01-27T21:47:33.626Z"
   },
   {
    "duration": 2157,
    "start_time": "2022-01-27T21:47:53.841Z"
   },
   {
    "duration": 2241,
    "start_time": "2022-01-27T21:50:40.720Z"
   },
   {
    "duration": 3224,
    "start_time": "2022-01-27T21:51:42.154Z"
   },
   {
    "duration": 61,
    "start_time": "2022-01-27T21:52:27.076Z"
   },
   {
    "duration": 2251,
    "start_time": "2022-01-27T21:53:10.915Z"
   },
   {
    "duration": 2220,
    "start_time": "2022-01-27T21:53:49.371Z"
   },
   {
    "duration": 65,
    "start_time": "2022-01-27T21:54:35.941Z"
   },
   {
    "duration": 2173,
    "start_time": "2022-01-27T21:54:40.611Z"
   },
   {
    "duration": 2295,
    "start_time": "2022-01-27T21:54:53.980Z"
   },
   {
    "duration": 3,
    "start_time": "2022-01-27T21:55:20.375Z"
   },
   {
    "duration": 144,
    "start_time": "2022-01-27T21:55:20.380Z"
   },
   {
    "duration": 10,
    "start_time": "2022-01-27T21:55:20.525Z"
   },
   {
    "duration": 31,
    "start_time": "2022-01-27T21:55:20.536Z"
   },
   {
    "duration": 27,
    "start_time": "2022-01-27T21:55:20.569Z"
   },
   {
    "duration": 33,
    "start_time": "2022-01-27T21:55:20.597Z"
   },
   {
    "duration": 3,
    "start_time": "2022-01-27T21:55:20.632Z"
   },
   {
    "duration": 35,
    "start_time": "2022-01-27T21:55:20.636Z"
   },
   {
    "duration": 5,
    "start_time": "2022-01-27T21:55:28.316Z"
   },
   {
    "duration": 4154,
    "start_time": "2022-01-27T21:56:19.173Z"
   },
   {
    "duration": 4250,
    "start_time": "2022-01-27T21:56:56.421Z"
   },
   {
    "duration": 10,
    "start_time": "2022-01-27T21:57:21.438Z"
   },
   {
    "duration": 16,
    "start_time": "2022-01-27T21:58:11.853Z"
   },
   {
    "duration": 24,
    "start_time": "2022-01-27T21:58:16.149Z"
   },
   {
    "duration": 15,
    "start_time": "2022-01-27T21:58:19.461Z"
   },
   {
    "duration": 25,
    "start_time": "2022-01-27T21:58:20.381Z"
   },
   {
    "duration": 18,
    "start_time": "2022-01-27T21:58:32.301Z"
   },
   {
    "duration": 25,
    "start_time": "2022-01-27T21:58:32.924Z"
   },
   {
    "duration": 193,
    "start_time": "2022-01-27T22:06:35.578Z"
   },
   {
    "duration": 2,
    "start_time": "2022-01-27T22:06:42.738Z"
   },
   {
    "duration": 173,
    "start_time": "2022-01-27T22:06:42.742Z"
   },
   {
    "duration": 9,
    "start_time": "2022-01-27T22:06:42.917Z"
   },
   {
    "duration": 32,
    "start_time": "2022-01-27T22:06:42.928Z"
   },
   {
    "duration": 8,
    "start_time": "2022-01-27T22:06:42.962Z"
   },
   {
    "duration": 25,
    "start_time": "2022-01-27T22:06:42.972Z"
   },
   {
    "duration": 3,
    "start_time": "2022-01-27T22:06:42.999Z"
   },
   {
    "duration": 27,
    "start_time": "2022-01-27T22:06:43.004Z"
   },
   {
    "duration": 18,
    "start_time": "2022-01-27T22:06:43.033Z"
   },
   {
    "duration": 45,
    "start_time": "2022-01-27T22:06:43.053Z"
   },
   {
    "duration": 172,
    "start_time": "2022-01-27T22:06:43.099Z"
   },
   {
    "duration": -84792,
    "start_time": "2022-01-27T22:08:08.066Z"
   },
   {
    "duration": -84795,
    "start_time": "2022-01-27T22:08:08.070Z"
   },
   {
    "duration": -84800,
    "start_time": "2022-01-27T22:08:08.076Z"
   },
   {
    "duration": -84804,
    "start_time": "2022-01-27T22:08:08.081Z"
   },
   {
    "duration": -84807,
    "start_time": "2022-01-27T22:08:08.085Z"
   },
   {
    "duration": -84814,
    "start_time": "2022-01-27T22:08:08.092Z"
   },
   {
    "duration": -84818,
    "start_time": "2022-01-27T22:08:08.097Z"
   },
   {
    "duration": -84822,
    "start_time": "2022-01-27T22:08:08.102Z"
   },
   {
    "duration": -84827,
    "start_time": "2022-01-27T22:08:08.108Z"
   },
   {
    "duration": -84831,
    "start_time": "2022-01-27T22:08:08.113Z"
   },
   {
    "duration": -84835,
    "start_time": "2022-01-27T22:08:08.118Z"
   },
   {
    "duration": -84838,
    "start_time": "2022-01-27T22:08:08.122Z"
   },
   {
    "duration": -84842,
    "start_time": "2022-01-27T22:08:08.127Z"
   },
   {
    "duration": -84844,
    "start_time": "2022-01-27T22:08:08.131Z"
   },
   {
    "duration": -84847,
    "start_time": "2022-01-27T22:08:08.136Z"
   },
   {
    "duration": -84850,
    "start_time": "2022-01-27T22:08:08.140Z"
   },
   {
    "duration": -84854,
    "start_time": "2022-01-27T22:08:08.145Z"
   },
   {
    "duration": -84858,
    "start_time": "2022-01-27T22:08:08.150Z"
   },
   {
    "duration": -84862,
    "start_time": "2022-01-27T22:08:08.155Z"
   },
   {
    "duration": -84875,
    "start_time": "2022-01-27T22:08:08.169Z"
   },
   {
    "duration": -84880,
    "start_time": "2022-01-27T22:08:08.175Z"
   },
   {
    "duration": -84884,
    "start_time": "2022-01-27T22:08:08.180Z"
   },
   {
    "duration": -84888,
    "start_time": "2022-01-27T22:08:08.185Z"
   },
   {
    "duration": -84892,
    "start_time": "2022-01-27T22:08:08.190Z"
   },
   {
    "duration": -84896,
    "start_time": "2022-01-27T22:08:08.195Z"
   },
   {
    "duration": -84900,
    "start_time": "2022-01-27T22:08:08.200Z"
   },
   {
    "duration": -84904,
    "start_time": "2022-01-27T22:08:08.206Z"
   },
   {
    "duration": 176,
    "start_time": "2022-01-27T22:07:02.081Z"
   },
   {
    "duration": 54,
    "start_time": "2022-01-27T22:07:27.537Z"
   },
   {
    "duration": 52,
    "start_time": "2022-01-27T22:07:48.321Z"
   },
   {
    "duration": 52,
    "start_time": "2022-01-27T22:08:29.937Z"
   },
   {
    "duration": 53,
    "start_time": "2022-01-27T22:09:53.018Z"
   },
   {
    "duration": 56,
    "start_time": "2022-01-27T22:10:15.546Z"
   },
   {
    "duration": 54,
    "start_time": "2022-01-27T22:10:29.249Z"
   },
   {
    "duration": 61,
    "start_time": "2022-01-27T22:11:14.396Z"
   },
   {
    "duration": 186,
    "start_time": "2022-01-27T22:11:46.541Z"
   },
   {
    "duration": 53,
    "start_time": "2022-01-27T22:12:06.211Z"
   },
   {
    "duration": 55,
    "start_time": "2022-01-27T22:16:50.533Z"
   },
   {
    "duration": 188,
    "start_time": "2022-01-27T22:16:57.821Z"
   },
   {
    "duration": 71,
    "start_time": "2022-01-27T22:17:27.861Z"
   },
   {
    "duration": 55,
    "start_time": "2022-01-27T22:17:35.045Z"
   },
   {
    "duration": 62,
    "start_time": "2022-01-27T22:17:40.255Z"
   },
   {
    "duration": 52,
    "start_time": "2022-01-27T22:17:42.412Z"
   },
   {
    "duration": 180,
    "start_time": "2022-01-27T22:22:37.798Z"
   },
   {
    "duration": 68,
    "start_time": "2022-01-27T22:23:13.711Z"
   },
   {
    "duration": 7,
    "start_time": "2022-01-27T22:23:20.712Z"
   },
   {
    "duration": 182,
    "start_time": "2022-01-27T22:26:45.426Z"
   },
   {
    "duration": 4,
    "start_time": "2022-01-27T22:28:17.074Z"
   },
   {
    "duration": 4,
    "start_time": "2022-01-27T22:29:04.677Z"
   },
   {
    "duration": 6,
    "start_time": "2022-01-27T22:29:14.578Z"
   },
   {
    "duration": 285,
    "start_time": "2022-01-27T22:30:12.914Z"
   },
   {
    "duration": 408,
    "start_time": "2022-01-27T22:30:35.074Z"
   },
   {
    "duration": 6,
    "start_time": "2022-01-27T22:30:55.987Z"
   },
   {
    "duration": 7,
    "start_time": "2022-01-27T22:31:09.435Z"
   },
   {
    "duration": 224,
    "start_time": "2022-01-27T22:31:43.122Z"
   },
   {
    "duration": 37,
    "start_time": "2022-01-27T22:31:49.932Z"
   },
   {
    "duration": 36,
    "start_time": "2022-01-27T22:32:36.348Z"
   },
   {
    "duration": 39,
    "start_time": "2022-01-27T22:33:11.420Z"
   },
   {
    "duration": 43,
    "start_time": "2022-01-27T22:33:30.043Z"
   },
   {
    "duration": 39,
    "start_time": "2022-01-27T22:33:38.027Z"
   },
   {
    "duration": 38,
    "start_time": "2022-01-27T22:34:47.941Z"
   },
   {
    "duration": 213,
    "start_time": "2022-01-27T22:34:57.300Z"
   },
   {
    "duration": 39,
    "start_time": "2022-01-27T22:35:07.052Z"
   },
   {
    "duration": 4,
    "start_time": "2022-01-27T23:07:52.848Z"
   },
   {
    "duration": 160,
    "start_time": "2022-01-27T23:07:52.854Z"
   },
   {
    "duration": 14,
    "start_time": "2022-01-27T23:07:53.016Z"
   },
   {
    "duration": 28,
    "start_time": "2022-01-27T23:07:53.032Z"
   },
   {
    "duration": 5,
    "start_time": "2022-01-27T23:07:53.062Z"
   },
   {
    "duration": 43,
    "start_time": "2022-01-27T23:07:53.069Z"
   },
   {
    "duration": 4,
    "start_time": "2022-01-27T23:07:53.114Z"
   },
   {
    "duration": 26,
    "start_time": "2022-01-27T23:07:53.120Z"
   },
   {
    "duration": 18,
    "start_time": "2022-01-27T23:07:53.147Z"
   },
   {
    "duration": 43,
    "start_time": "2022-01-27T23:07:53.167Z"
   },
   {
    "duration": 58,
    "start_time": "2022-01-27T23:07:53.212Z"
   },
   {
    "duration": 78,
    "start_time": "2022-01-27T23:07:53.271Z"
   },
   {
    "duration": 62,
    "start_time": "2022-01-27T23:07:53.351Z"
   },
   {
    "duration": 39,
    "start_time": "2022-01-27T23:07:53.414Z"
   },
   {
    "duration": 501,
    "start_time": "2022-01-27T23:07:53.455Z"
   },
   {
    "duration": -84716,
    "start_time": "2022-01-27T23:09:18.674Z"
   },
   {
    "duration": 428,
    "start_time": "2022-01-27T23:08:21.187Z"
   },
   {
    "duration": 449,
    "start_time": "2022-01-27T23:08:34.139Z"
   },
   {
    "duration": 179,
    "start_time": "2022-01-27T23:08:48.883Z"
   },
   {
    "duration": 3,
    "start_time": "2022-01-27T23:09:08.868Z"
   },
   {
    "duration": 176,
    "start_time": "2022-01-27T23:09:10.707Z"
   },
   {
    "duration": 6,
    "start_time": "2022-01-27T23:09:56.971Z"
   },
   {
    "duration": 185,
    "start_time": "2022-01-27T23:11:35.871Z"
   },
   {
    "duration": 4,
    "start_time": "2022-01-27T23:13:30.174Z"
   },
   {
    "duration": 3,
    "start_time": "2022-01-27T23:13:44.509Z"
   },
   {
    "duration": 4,
    "start_time": "2022-01-27T23:13:45.652Z"
   },
   {
    "duration": 5,
    "start_time": "2022-01-27T23:13:48.558Z"
   },
   {
    "duration": 178,
    "start_time": "2022-01-27T23:14:16.838Z"
   },
   {
    "duration": 3,
    "start_time": "2022-01-27T23:14:47.254Z"
   },
   {
    "duration": 175,
    "start_time": "2022-01-27T23:14:48.446Z"
   },
   {
    "duration": 4,
    "start_time": "2022-01-27T23:15:02.766Z"
   },
   {
    "duration": 4,
    "start_time": "2022-01-27T23:15:08.071Z"
   },
   {
    "duration": 2,
    "start_time": "2022-01-27T23:15:18.976Z"
   },
   {
    "duration": 172,
    "start_time": "2022-01-27T23:15:18.980Z"
   },
   {
    "duration": 11,
    "start_time": "2022-01-27T23:15:19.154Z"
   },
   {
    "duration": 49,
    "start_time": "2022-01-27T23:15:19.167Z"
   },
   {
    "duration": 4,
    "start_time": "2022-01-27T23:15:19.218Z"
   },
   {
    "duration": 26,
    "start_time": "2022-01-27T23:15:19.224Z"
   },
   {
    "duration": 3,
    "start_time": "2022-01-27T23:15:19.253Z"
   },
   {
    "duration": 49,
    "start_time": "2022-01-27T23:15:19.259Z"
   },
   {
    "duration": 19,
    "start_time": "2022-01-27T23:15:19.310Z"
   },
   {
    "duration": 25,
    "start_time": "2022-01-27T23:15:19.331Z"
   },
   {
    "duration": 78,
    "start_time": "2022-01-27T23:15:19.358Z"
   },
   {
    "duration": 70,
    "start_time": "2022-01-27T23:15:19.437Z"
   },
   {
    "duration": 51,
    "start_time": "2022-01-27T23:15:19.509Z"
   },
   {
    "duration": 49,
    "start_time": "2022-01-27T23:15:19.562Z"
   },
   {
    "duration": 3,
    "start_time": "2022-01-27T23:15:19.613Z"
   },
   {
    "duration": 185,
    "start_time": "2022-01-27T23:15:19.617Z"
   },
   {
    "duration": -84733,
    "start_time": "2022-01-27T23:16:44.556Z"
   },
   {
    "duration": -84741,
    "start_time": "2022-01-27T23:16:44.565Z"
   },
   {
    "duration": -84760,
    "start_time": "2022-01-27T23:16:44.585Z"
   },
   {
    "duration": -84771,
    "start_time": "2022-01-27T23:16:44.597Z"
   },
   {
    "duration": -84777,
    "start_time": "2022-01-27T23:16:44.604Z"
   },
   {
    "duration": -84855,
    "start_time": "2022-01-27T23:16:44.683Z"
   },
   {
    "duration": -84882,
    "start_time": "2022-01-27T23:16:44.711Z"
   },
   {
    "duration": -84896,
    "start_time": "2022-01-27T23:16:44.726Z"
   },
   {
    "duration": -84929,
    "start_time": "2022-01-27T23:16:44.760Z"
   },
   {
    "duration": -84949,
    "start_time": "2022-01-27T23:16:44.781Z"
   },
   {
    "duration": -84954,
    "start_time": "2022-01-27T23:16:44.787Z"
   },
   {
    "duration": -85002,
    "start_time": "2022-01-27T23:16:44.836Z"
   },
   {
    "duration": -85031,
    "start_time": "2022-01-27T23:16:44.866Z"
   },
   {
    "duration": -85045,
    "start_time": "2022-01-27T23:16:44.881Z"
   },
   {
    "duration": -85048,
    "start_time": "2022-01-27T23:16:44.885Z"
   },
   {
    "duration": -85062,
    "start_time": "2022-01-27T23:16:44.900Z"
   },
   {
    "duration": -85076,
    "start_time": "2022-01-27T23:16:44.915Z"
   },
   {
    "duration": -85087,
    "start_time": "2022-01-27T23:16:44.927Z"
   },
   {
    "duration": -85090,
    "start_time": "2022-01-27T23:16:44.931Z"
   },
   {
    "duration": -85094,
    "start_time": "2022-01-27T23:16:44.936Z"
   },
   {
    "duration": -85097,
    "start_time": "2022-01-27T23:16:44.940Z"
   },
   {
    "duration": -85101,
    "start_time": "2022-01-27T23:16:44.945Z"
   },
   {
    "duration": 199,
    "start_time": "2022-01-27T23:18:01.175Z"
   },
   {
    "duration": 4,
    "start_time": "2022-01-27T23:18:06.753Z"
   },
   {
    "duration": 5,
    "start_time": "2022-01-27T23:18:49.047Z"
   },
   {
    "duration": 4,
    "start_time": "2022-01-27T23:19:02.913Z"
   },
   {
    "duration": 4,
    "start_time": "2022-01-27T23:19:22.479Z"
   },
   {
    "duration": 5,
    "start_time": "2022-01-27T23:19:23.335Z"
   },
   {
    "duration": 3,
    "start_time": "2022-01-27T23:20:24.217Z"
   },
   {
    "duration": 4,
    "start_time": "2022-01-27T23:20:26.064Z"
   },
   {
    "duration": 2,
    "start_time": "2022-01-27T23:21:10.492Z"
   },
   {
    "duration": 144,
    "start_time": "2022-01-27T23:21:10.496Z"
   },
   {
    "duration": 9,
    "start_time": "2022-01-27T23:21:10.642Z"
   },
   {
    "duration": 27,
    "start_time": "2022-01-27T23:21:10.653Z"
   },
   {
    "duration": 16,
    "start_time": "2022-01-27T23:21:10.682Z"
   },
   {
    "duration": 26,
    "start_time": "2022-01-27T23:21:10.700Z"
   },
   {
    "duration": 3,
    "start_time": "2022-01-27T23:21:10.728Z"
   },
   {
    "duration": 26,
    "start_time": "2022-01-27T23:21:10.733Z"
   },
   {
    "duration": 38,
    "start_time": "2022-01-27T23:21:10.760Z"
   },
   {
    "duration": 24,
    "start_time": "2022-01-27T23:21:10.800Z"
   },
   {
    "duration": 73,
    "start_time": "2022-01-27T23:21:10.825Z"
   },
   {
    "duration": 65,
    "start_time": "2022-01-27T23:21:10.899Z"
   },
   {
    "duration": 67,
    "start_time": "2022-01-27T23:21:10.966Z"
   },
   {
    "duration": 37,
    "start_time": "2022-01-27T23:21:11.035Z"
   },
   {
    "duration": 3,
    "start_time": "2022-01-27T23:21:11.074Z"
   },
   {
    "duration": 21,
    "start_time": "2022-01-27T23:21:11.078Z"
   },
   {
    "duration": 6,
    "start_time": "2022-01-27T23:21:11.101Z"
   },
   {
    "duration": 3,
    "start_time": "2022-01-27T23:21:53.737Z"
   },
   {
    "duration": 4,
    "start_time": "2022-01-27T23:21:54.816Z"
   },
   {
    "duration": 4,
    "start_time": "2022-01-27T23:22:28.801Z"
   },
   {
    "duration": 4,
    "start_time": "2022-01-27T23:22:32.072Z"
   },
   {
    "duration": 3,
    "start_time": "2022-01-27T23:22:53.872Z"
   },
   {
    "duration": 4,
    "start_time": "2022-01-27T23:22:54.710Z"
   },
   {
    "duration": 5,
    "start_time": "2022-01-27T23:22:55.905Z"
   },
   {
    "duration": 3,
    "start_time": "2022-01-27T23:23:42.441Z"
   },
   {
    "duration": 4,
    "start_time": "2022-01-27T23:23:43.128Z"
   },
   {
    "duration": 4,
    "start_time": "2022-01-27T23:23:44.543Z"
   },
   {
    "duration": 60,
    "start_time": "2022-01-27T23:25:31.042Z"
   },
   {
    "duration": 3,
    "start_time": "2022-01-27T23:27:17.716Z"
   },
   {
    "duration": 3,
    "start_time": "2022-01-27T23:27:19.842Z"
   },
   {
    "duration": 5,
    "start_time": "2022-01-27T23:27:21.217Z"
   },
   {
    "duration": 179,
    "start_time": "2022-01-27T23:27:38.281Z"
   },
   {
    "duration": 5,
    "start_time": "2022-01-27T23:27:45.992Z"
   },
   {
    "duration": 4,
    "start_time": "2022-01-27T23:34:46.940Z"
   },
   {
    "duration": 249,
    "start_time": "2022-01-27T23:34:51.068Z"
   },
   {
    "duration": 4,
    "start_time": "2022-01-27T23:34:56.188Z"
   },
   {
    "duration": 179,
    "start_time": "2022-01-27T23:42:52.213Z"
   },
   {
    "duration": 5,
    "start_time": "2022-01-27T23:42:52.489Z"
   },
   {
    "duration": 5,
    "start_time": "2022-01-27T23:43:09.800Z"
   },
   {
    "duration": 3,
    "start_time": "2022-01-27T23:43:15.314Z"
   },
   {
    "duration": 5,
    "start_time": "2022-01-27T23:56:46.349Z"
   },
   {
    "duration": 3,
    "start_time": "2022-01-27T23:57:57.903Z"
   },
   {
    "duration": 4,
    "start_time": "2022-01-27T23:57:58.901Z"
   },
   {
    "duration": 4,
    "start_time": "2022-01-28T00:00:01.400Z"
   },
   {
    "duration": 3,
    "start_time": "2022-01-28T00:00:02.039Z"
   },
   {
    "duration": 4,
    "start_time": "2022-01-28T00:00:02.671Z"
   },
   {
    "duration": 367,
    "start_time": "2022-01-28T00:00:51.000Z"
   },
   {
    "duration": 4,
    "start_time": "2022-01-28T00:00:51.735Z"
   },
   {
    "duration": 4,
    "start_time": "2022-01-28T00:02:05.544Z"
   },
   {
    "duration": 358,
    "start_time": "2022-01-28T00:02:06.159Z"
   },
   {
    "duration": 4,
    "start_time": "2022-01-28T00:02:07.119Z"
   },
   {
    "duration": 2,
    "start_time": "2022-01-28T00:04:57.619Z"
   },
   {
    "duration": 3,
    "start_time": "2022-01-28T00:10:38.044Z"
   },
   {
    "duration": 3,
    "start_time": "2022-01-28T00:13:18.821Z"
   },
   {
    "duration": 361,
    "start_time": "2022-01-28T00:13:20.628Z"
   },
   {
    "duration": 369,
    "start_time": "2022-01-28T00:14:43.103Z"
   },
   {
    "duration": 335,
    "start_time": "2022-01-28T00:14:58.714Z"
   },
   {
    "duration": 3,
    "start_time": "2022-01-28T00:15:55.430Z"
   },
   {
    "duration": 383,
    "start_time": "2022-01-28T00:16:25.406Z"
   },
   {
    "duration": 4,
    "start_time": "2022-01-28T00:16:44.439Z"
   },
   {
    "duration": 370,
    "start_time": "2022-01-28T00:16:45.287Z"
   },
   {
    "duration": 3,
    "start_time": "2022-01-28T00:18:24.456Z"
   },
   {
    "duration": 347,
    "start_time": "2022-01-28T00:18:25.015Z"
   },
   {
    "duration": 3,
    "start_time": "2022-01-28T00:25:14.010Z"
   },
   {
    "duration": 352,
    "start_time": "2022-01-28T00:25:15.275Z"
   },
   {
    "duration": 4,
    "start_time": "2022-01-28T00:25:49.778Z"
   },
   {
    "duration": 348,
    "start_time": "2022-01-28T00:25:50.914Z"
   },
   {
    "duration": 3,
    "start_time": "2022-01-28T00:26:48.962Z"
   },
   {
    "duration": 351,
    "start_time": "2022-01-28T00:26:49.803Z"
   },
   {
    "duration": 3,
    "start_time": "2022-01-28T00:27:33.364Z"
   },
   {
    "duration": 355,
    "start_time": "2022-01-28T00:27:34.027Z"
   },
   {
    "duration": 3,
    "start_time": "2022-01-28T00:28:12.258Z"
   },
   {
    "duration": 351,
    "start_time": "2022-01-28T00:28:12.923Z"
   },
   {
    "duration": 390,
    "start_time": "2022-01-28T00:30:05.446Z"
   },
   {
    "duration": 3,
    "start_time": "2022-01-28T00:31:35.334Z"
   },
   {
    "duration": 363,
    "start_time": "2022-01-28T00:31:35.787Z"
   },
   {
    "duration": 248,
    "start_time": "2022-01-28T08:59:27.402Z"
   },
   {
    "duration": 494,
    "start_time": "2022-01-28T08:59:33.359Z"
   },
   {
    "duration": 118,
    "start_time": "2022-01-28T08:59:33.854Z"
   },
   {
    "duration": 14,
    "start_time": "2022-01-28T08:59:33.974Z"
   },
   {
    "duration": 28,
    "start_time": "2022-01-28T08:59:33.990Z"
   },
   {
    "duration": 4,
    "start_time": "2022-01-28T08:59:34.020Z"
   },
   {
    "duration": 19,
    "start_time": "2022-01-28T08:59:34.026Z"
   },
   {
    "duration": 3,
    "start_time": "2022-01-28T08:59:34.047Z"
   },
   {
    "duration": 21,
    "start_time": "2022-01-28T08:59:34.053Z"
   },
   {
    "duration": 45,
    "start_time": "2022-01-28T08:59:34.076Z"
   },
   {
    "duration": 22,
    "start_time": "2022-01-28T08:59:34.123Z"
   },
   {
    "duration": 68,
    "start_time": "2022-01-28T08:59:34.147Z"
   },
   {
    "duration": 61,
    "start_time": "2022-01-28T08:59:34.216Z"
   },
   {
    "duration": 55,
    "start_time": "2022-01-28T08:59:34.279Z"
   },
   {
    "duration": 37,
    "start_time": "2022-01-28T08:59:34.336Z"
   },
   {
    "duration": 2,
    "start_time": "2022-01-28T08:59:34.375Z"
   },
   {
    "duration": 395,
    "start_time": "2022-01-28T08:59:34.379Z"
   },
   {
    "duration": -85415,
    "start_time": "2022-01-28T09:01:00.191Z"
   },
   {
    "duration": -85419,
    "start_time": "2022-01-28T09:01:00.196Z"
   },
   {
    "duration": -85422,
    "start_time": "2022-01-28T09:01:00.200Z"
   },
   {
    "duration": -85426,
    "start_time": "2022-01-28T09:01:00.204Z"
   },
   {
    "duration": -85439,
    "start_time": "2022-01-28T09:01:00.218Z"
   },
   {
    "duration": -85448,
    "start_time": "2022-01-28T09:01:00.228Z"
   },
   {
    "duration": -85452,
    "start_time": "2022-01-28T09:01:00.233Z"
   },
   {
    "duration": -85455,
    "start_time": "2022-01-28T09:01:00.237Z"
   },
   {
    "duration": -85459,
    "start_time": "2022-01-28T09:01:00.241Z"
   },
   {
    "duration": -85462,
    "start_time": "2022-01-28T09:01:00.245Z"
   },
   {
    "duration": -85477,
    "start_time": "2022-01-28T09:01:00.261Z"
   },
   {
    "duration": -85490,
    "start_time": "2022-01-28T09:01:00.275Z"
   },
   {
    "duration": -85494,
    "start_time": "2022-01-28T09:01:00.279Z"
   },
   {
    "duration": -85507,
    "start_time": "2022-01-28T09:01:00.293Z"
   },
   {
    "duration": -85519,
    "start_time": "2022-01-28T09:01:00.306Z"
   },
   {
    "duration": -85524,
    "start_time": "2022-01-28T09:01:00.311Z"
   },
   {
    "duration": -85535,
    "start_time": "2022-01-28T09:01:00.324Z"
   },
   {
    "duration": -85540,
    "start_time": "2022-01-28T09:01:00.329Z"
   },
   {
    "duration": -85552,
    "start_time": "2022-01-28T09:01:00.342Z"
   },
   {
    "duration": -85564,
    "start_time": "2022-01-28T09:01:00.355Z"
   },
   {
    "duration": -85567,
    "start_time": "2022-01-28T09:01:00.359Z"
   },
   {
    "duration": -85580,
    "start_time": "2022-01-28T09:01:00.372Z"
   },
   {
    "duration": 41,
    "start_time": "2022-01-28T09:00:11.791Z"
   },
   {
    "duration": 286,
    "start_time": "2022-01-28T09:00:44.824Z"
   },
   {
    "duration": 258,
    "start_time": "2022-01-28T09:02:17.785Z"
   },
   {
    "duration": 37,
    "start_time": "2022-01-28T09:02:49.673Z"
   },
   {
    "duration": 118,
    "start_time": "2022-01-28T09:03:34.889Z"
   },
   {
    "duration": 219,
    "start_time": "2022-01-28T09:09:22.156Z"
   },
   {
    "duration": 5,
    "start_time": "2022-01-28T09:09:32.700Z"
   },
   {
    "duration": 206,
    "start_time": "2022-01-28T09:10:02.924Z"
   },
   {
    "duration": 189,
    "start_time": "2022-01-28T09:10:08.740Z"
   },
   {
    "duration": 210,
    "start_time": "2022-01-28T09:10:13.419Z"
   },
   {
    "duration": 40,
    "start_time": "2022-01-28T09:12:25.245Z"
   },
   {
    "duration": 504,
    "start_time": "2022-01-28T09:13:20.982Z"
   },
   {
    "duration": 38,
    "start_time": "2022-01-28T09:13:42.846Z"
   },
   {
    "duration": 39,
    "start_time": "2022-01-28T09:14:36.653Z"
   },
   {
    "duration": 39,
    "start_time": "2022-01-28T09:14:51.197Z"
   },
   {
    "duration": 373,
    "start_time": "2022-01-28T09:28:46.129Z"
   },
   {
    "duration": 3,
    "start_time": "2022-01-28T09:29:18.443Z"
   },
   {
    "duration": 131,
    "start_time": "2022-01-28T09:29:18.448Z"
   },
   {
    "duration": 11,
    "start_time": "2022-01-28T09:29:18.581Z"
   },
   {
    "duration": 37,
    "start_time": "2022-01-28T09:29:18.594Z"
   },
   {
    "duration": 4,
    "start_time": "2022-01-28T09:29:18.632Z"
   },
   {
    "duration": 23,
    "start_time": "2022-01-28T09:29:18.637Z"
   },
   {
    "duration": 3,
    "start_time": "2022-01-28T09:29:18.662Z"
   },
   {
    "duration": 23,
    "start_time": "2022-01-28T09:29:18.667Z"
   },
   {
    "duration": 37,
    "start_time": "2022-01-28T09:29:18.691Z"
   },
   {
    "duration": 21,
    "start_time": "2022-01-28T09:29:18.729Z"
   },
   {
    "duration": 72,
    "start_time": "2022-01-28T09:29:18.751Z"
   },
   {
    "duration": 60,
    "start_time": "2022-01-28T09:29:18.824Z"
   },
   {
    "duration": 60,
    "start_time": "2022-01-28T09:29:18.885Z"
   },
   {
    "duration": 40,
    "start_time": "2022-01-28T09:29:18.947Z"
   },
   {
    "duration": 2,
    "start_time": "2022-01-28T09:29:18.989Z"
   },
   {
    "duration": 9,
    "start_time": "2022-01-28T09:29:21.321Z"
   },
   {
    "duration": 6,
    "start_time": "2022-01-28T09:29:42.361Z"
   },
   {
    "duration": 6,
    "start_time": "2022-01-28T09:30:03.371Z"
   },
   {
    "duration": 38,
    "start_time": "2022-01-28T09:30:54.506Z"
   },
   {
    "duration": 9,
    "start_time": "2022-01-28T09:32:18.651Z"
   },
   {
    "duration": 10,
    "start_time": "2022-01-28T09:32:34.899Z"
   },
   {
    "duration": 194,
    "start_time": "2022-01-28T09:32:46.491Z"
   },
   {
    "duration": 10,
    "start_time": "2022-01-28T09:33:14.731Z"
   },
   {
    "duration": 8,
    "start_time": "2022-01-28T09:33:25.370Z"
   },
   {
    "duration": 38,
    "start_time": "2022-01-28T09:33:57.163Z"
   },
   {
    "duration": 5,
    "start_time": "2022-01-28T09:38:08.669Z"
   },
   {
    "duration": 6,
    "start_time": "2022-01-28T09:38:17.957Z"
   },
   {
    "duration": 7,
    "start_time": "2022-01-28T09:39:45.973Z"
   },
   {
    "duration": 5,
    "start_time": "2022-01-28T09:39:54.462Z"
   },
   {
    "duration": 4,
    "start_time": "2022-01-28T09:43:04.695Z"
   },
   {
    "duration": 3,
    "start_time": "2022-01-28T09:44:27.165Z"
   },
   {
    "duration": 125,
    "start_time": "2022-01-28T09:44:27.171Z"
   },
   {
    "duration": 19,
    "start_time": "2022-01-28T09:44:27.298Z"
   },
   {
    "duration": 23,
    "start_time": "2022-01-28T09:44:27.319Z"
   },
   {
    "duration": 7,
    "start_time": "2022-01-28T09:44:27.344Z"
   },
   {
    "duration": 22,
    "start_time": "2022-01-28T09:44:27.353Z"
   },
   {
    "duration": 3,
    "start_time": "2022-01-28T09:44:27.376Z"
   },
   {
    "duration": 49,
    "start_time": "2022-01-28T09:44:27.380Z"
   },
   {
    "duration": 16,
    "start_time": "2022-01-28T09:44:27.433Z"
   },
   {
    "duration": 22,
    "start_time": "2022-01-28T09:44:27.450Z"
   },
   {
    "duration": 80,
    "start_time": "2022-01-28T09:44:27.473Z"
   },
   {
    "duration": 58,
    "start_time": "2022-01-28T09:44:27.555Z"
   },
   {
    "duration": 50,
    "start_time": "2022-01-28T09:44:27.614Z"
   },
   {
    "duration": 51,
    "start_time": "2022-01-28T09:44:27.665Z"
   },
   {
    "duration": 2,
    "start_time": "2022-01-28T09:44:27.718Z"
   },
   {
    "duration": 14,
    "start_time": "2022-01-28T09:44:27.721Z"
   },
   {
    "duration": 6,
    "start_time": "2022-01-28T09:44:27.736Z"
   },
   {
    "duration": 4,
    "start_time": "2022-01-28T09:44:27.743Z"
   },
   {
    "duration": 2,
    "start_time": "2022-01-28T09:44:27.749Z"
   },
   {
    "duration": 4,
    "start_time": "2022-01-28T09:44:27.753Z"
   },
   {
    "duration": 5,
    "start_time": "2022-01-28T09:44:27.758Z"
   },
   {
    "duration": 4,
    "start_time": "2022-01-28T09:44:27.765Z"
   },
   {
    "duration": 6,
    "start_time": "2022-01-28T09:44:27.770Z"
   },
   {
    "duration": 2,
    "start_time": "2022-01-28T09:44:27.779Z"
   },
   {
    "duration": 2,
    "start_time": "2022-01-28T09:44:27.813Z"
   },
   {
    "duration": 7,
    "start_time": "2022-01-28T09:44:27.816Z"
   },
   {
    "duration": 5,
    "start_time": "2022-01-28T09:44:27.825Z"
   },
   {
    "duration": 3,
    "start_time": "2022-01-28T09:44:27.832Z"
   },
   {
    "duration": 4,
    "start_time": "2022-01-28T09:44:27.836Z"
   },
   {
    "duration": 4,
    "start_time": "2022-01-28T09:44:27.842Z"
   },
   {
    "duration": 9,
    "start_time": "2022-01-28T09:44:27.847Z"
   },
   {
    "duration": 5,
    "start_time": "2022-01-28T09:44:27.857Z"
   },
   {
    "duration": 7,
    "start_time": "2022-01-28T09:44:27.863Z"
   },
   {
    "duration": 18,
    "start_time": "2022-01-28T09:44:27.872Z"
   },
   {
    "duration": 20,
    "start_time": "2022-01-28T09:44:27.891Z"
   },
   {
    "duration": 4,
    "start_time": "2022-01-28T09:44:27.913Z"
   },
   {
    "duration": 5,
    "start_time": "2022-01-28T09:44:27.918Z"
   },
   {
    "duration": 5,
    "start_time": "2022-01-28T09:44:27.924Z"
   },
   {
    "duration": 4,
    "start_time": "2022-01-28T09:45:12.849Z"
   },
   {
    "duration": 6,
    "start_time": "2022-01-28T09:45:18.320Z"
   },
   {
    "duration": 5,
    "start_time": "2022-01-28T09:45:20.614Z"
   },
   {
    "duration": 12,
    "start_time": "2022-01-28T09:47:37.192Z"
   },
   {
    "duration": 29,
    "start_time": "2022-01-28T09:48:00.552Z"
   },
   {
    "duration": 30,
    "start_time": "2022-01-28T09:48:17.144Z"
   },
   {
    "duration": 10,
    "start_time": "2022-01-28T09:48:57.362Z"
   },
   {
    "duration": 31,
    "start_time": "2022-01-28T09:49:07.344Z"
   },
   {
    "duration": 30,
    "start_time": "2022-01-28T09:49:44.049Z"
   },
   {
    "duration": 32,
    "start_time": "2022-01-28T09:50:22.729Z"
   },
   {
    "duration": 11,
    "start_time": "2022-01-28T09:51:12.755Z"
   },
   {
    "duration": 10,
    "start_time": "2022-01-28T09:51:31.434Z"
   },
   {
    "duration": 10,
    "start_time": "2022-01-28T09:51:43.001Z"
   },
   {
    "duration": 559,
    "start_time": "2022-01-28T12:52:19.750Z"
   },
   {
    "duration": 121,
    "start_time": "2022-01-28T12:52:20.311Z"
   },
   {
    "duration": 15,
    "start_time": "2022-01-28T12:52:20.434Z"
   },
   {
    "duration": 25,
    "start_time": "2022-01-28T12:52:20.451Z"
   },
   {
    "duration": 2,
    "start_time": "2022-01-28T12:52:20.478Z"
   },
   {
    "duration": 19,
    "start_time": "2022-01-28T12:52:20.482Z"
   },
   {
    "duration": 2,
    "start_time": "2022-01-28T12:52:20.503Z"
   },
   {
    "duration": 39,
    "start_time": "2022-01-28T12:52:20.507Z"
   },
   {
    "duration": 25,
    "start_time": "2022-01-28T12:52:20.548Z"
   },
   {
    "duration": 33,
    "start_time": "2022-01-28T12:52:20.575Z"
   },
   {
    "duration": 88,
    "start_time": "2022-01-28T12:52:20.609Z"
   },
   {
    "duration": 80,
    "start_time": "2022-01-28T12:52:20.699Z"
   },
   {
    "duration": 49,
    "start_time": "2022-01-28T12:52:20.780Z"
   },
   {
    "duration": 36,
    "start_time": "2022-01-28T12:52:20.830Z"
   },
   {
    "duration": 3,
    "start_time": "2022-01-28T12:52:20.867Z"
   },
   {
    "duration": 18,
    "start_time": "2022-01-28T12:52:20.871Z"
   },
   {
    "duration": 8,
    "start_time": "2022-01-28T12:52:20.890Z"
   },
   {
    "duration": 13,
    "start_time": "2022-01-28T12:52:20.899Z"
   },
   {
    "duration": 22,
    "start_time": "2022-01-28T12:52:20.914Z"
   },
   {
    "duration": 2,
    "start_time": "2022-01-28T12:52:20.937Z"
   },
   {
    "duration": 13,
    "start_time": "2022-01-28T12:52:20.940Z"
   },
   {
    "duration": 7,
    "start_time": "2022-01-28T12:52:20.955Z"
   },
   {
    "duration": 6,
    "start_time": "2022-01-28T12:52:20.964Z"
   },
   {
    "duration": 12,
    "start_time": "2022-01-28T12:52:20.971Z"
   },
   {
    "duration": 6,
    "start_time": "2022-01-28T12:52:20.984Z"
   },
   {
    "duration": 6,
    "start_time": "2022-01-28T12:52:20.991Z"
   },
   {
    "duration": 5,
    "start_time": "2022-01-28T12:52:20.998Z"
   },
   {
    "duration": 7,
    "start_time": "2022-01-28T12:52:21.004Z"
   },
   {
    "duration": 8,
    "start_time": "2022-01-28T12:52:21.012Z"
   },
   {
    "duration": 6,
    "start_time": "2022-01-28T12:52:21.021Z"
   },
   {
    "duration": 11,
    "start_time": "2022-01-28T12:52:21.028Z"
   },
   {
    "duration": 6,
    "start_time": "2022-01-28T12:52:21.040Z"
   },
   {
    "duration": 7,
    "start_time": "2022-01-28T12:52:21.048Z"
   },
   {
    "duration": 5,
    "start_time": "2022-01-28T12:52:21.056Z"
   },
   {
    "duration": 5,
    "start_time": "2022-01-28T12:52:21.062Z"
   },
   {
    "duration": 3,
    "start_time": "2022-01-28T12:52:21.069Z"
   },
   {
    "duration": 6,
    "start_time": "2022-01-28T12:52:21.074Z"
   },
   {
    "duration": 4,
    "start_time": "2022-01-28T12:52:21.082Z"
   },
   {
    "duration": 9,
    "start_time": "2022-01-28T12:52:57.852Z"
   },
   {
    "duration": 5,
    "start_time": "2022-01-28T12:52:58.908Z"
   },
   {
    "duration": 6,
    "start_time": "2022-01-28T12:54:03.830Z"
   },
   {
    "duration": 360,
    "start_time": "2022-01-28T12:55:12.734Z"
   },
   {
    "duration": 323,
    "start_time": "2022-01-28T12:55:25.757Z"
   },
   {
    "duration": 330,
    "start_time": "2022-01-28T12:55:54.688Z"
   },
   {
    "duration": 30,
    "start_time": "2022-01-28T12:59:11.640Z"
   },
   {
    "duration": 9,
    "start_time": "2022-01-28T13:02:24.928Z"
   },
   {
    "duration": 5,
    "start_time": "2022-01-28T13:02:45.201Z"
   },
   {
    "duration": 338,
    "start_time": "2022-01-28T13:03:11.425Z"
   },
   {
    "duration": 319,
    "start_time": "2022-01-28T13:04:06.370Z"
   },
   {
    "duration": 371,
    "start_time": "2022-01-28T13:04:31.563Z"
   },
   {
    "duration": 6,
    "start_time": "2022-01-28T13:04:49.631Z"
   },
   {
    "duration": 564,
    "start_time": "2022-01-28T13:12:52.844Z"
   },
   {
    "duration": 121,
    "start_time": "2022-01-28T13:12:53.410Z"
   },
   {
    "duration": 18,
    "start_time": "2022-01-28T13:12:53.533Z"
   },
   {
    "duration": 22,
    "start_time": "2022-01-28T13:12:53.552Z"
   },
   {
    "duration": 4,
    "start_time": "2022-01-28T13:12:53.575Z"
   },
   {
    "duration": 47,
    "start_time": "2022-01-28T13:12:53.581Z"
   },
   {
    "duration": 4,
    "start_time": "2022-01-28T13:12:53.629Z"
   },
   {
    "duration": 22,
    "start_time": "2022-01-28T13:12:53.636Z"
   },
   {
    "duration": 15,
    "start_time": "2022-01-28T13:12:53.661Z"
   },
   {
    "duration": 20,
    "start_time": "2022-01-28T13:12:53.678Z"
   },
   {
    "duration": 76,
    "start_time": "2022-01-28T13:12:53.700Z"
   },
   {
    "duration": 75,
    "start_time": "2022-01-28T13:12:53.777Z"
   },
   {
    "duration": 45,
    "start_time": "2022-01-28T13:12:53.853Z"
   },
   {
    "duration": 44,
    "start_time": "2022-01-28T13:12:53.899Z"
   },
   {
    "duration": 12,
    "start_time": "2022-01-28T13:12:53.944Z"
   },
   {
    "duration": 31,
    "start_time": "2022-01-28T13:12:53.957Z"
   },
   {
    "duration": 11,
    "start_time": "2022-01-28T13:12:53.989Z"
   },
   {
    "duration": 21,
    "start_time": "2022-01-28T13:12:54.001Z"
   },
   {
    "duration": 15,
    "start_time": "2022-01-28T13:12:54.023Z"
   },
   {
    "duration": 13,
    "start_time": "2022-01-28T13:12:54.039Z"
   },
   {
    "duration": 26,
    "start_time": "2022-01-28T13:12:54.053Z"
   },
   {
    "duration": 11,
    "start_time": "2022-01-28T13:12:54.080Z"
   },
   {
    "duration": 15,
    "start_time": "2022-01-28T13:12:54.094Z"
   },
   {
    "duration": 25,
    "start_time": "2022-01-28T13:12:54.111Z"
   },
   {
    "duration": 19,
    "start_time": "2022-01-28T13:12:54.137Z"
   },
   {
    "duration": 31,
    "start_time": "2022-01-28T13:12:54.158Z"
   },
   {
    "duration": 19,
    "start_time": "2022-01-28T13:12:54.190Z"
   },
   {
    "duration": 12,
    "start_time": "2022-01-28T13:12:54.211Z"
   },
   {
    "duration": 22,
    "start_time": "2022-01-28T13:12:54.225Z"
   },
   {
    "duration": 30,
    "start_time": "2022-01-28T13:12:54.248Z"
   },
   {
    "duration": 20,
    "start_time": "2022-01-28T13:12:54.280Z"
   },
   {
    "duration": 16,
    "start_time": "2022-01-28T13:12:54.301Z"
   },
   {
    "duration": 28,
    "start_time": "2022-01-28T13:12:54.319Z"
   },
   {
    "duration": 9,
    "start_time": "2022-01-28T13:12:54.349Z"
   },
   {
    "duration": 19,
    "start_time": "2022-01-28T13:12:54.359Z"
   },
   {
    "duration": 8,
    "start_time": "2022-01-28T13:12:54.379Z"
   },
   {
    "duration": 6,
    "start_time": "2022-01-28T13:12:54.389Z"
   },
   {
    "duration": 5,
    "start_time": "2022-01-28T13:12:54.396Z"
   },
   {
    "duration": 5,
    "start_time": "2022-01-28T13:13:55.458Z"
   },
   {
    "duration": 3,
    "start_time": "2022-01-28T13:14:01.553Z"
   },
   {
    "duration": 145,
    "start_time": "2022-01-28T13:14:01.558Z"
   },
   {
    "duration": 10,
    "start_time": "2022-01-28T13:14:01.705Z"
   },
   {
    "duration": 38,
    "start_time": "2022-01-28T13:14:01.717Z"
   },
   {
    "duration": 10,
    "start_time": "2022-01-28T13:14:01.757Z"
   },
   {
    "duration": 34,
    "start_time": "2022-01-28T13:14:01.769Z"
   },
   {
    "duration": 4,
    "start_time": "2022-01-28T13:14:01.805Z"
   },
   {
    "duration": 41,
    "start_time": "2022-01-28T13:14:01.811Z"
   },
   {
    "duration": 18,
    "start_time": "2022-01-28T13:14:01.854Z"
   },
   {
    "duration": 22,
    "start_time": "2022-01-28T13:14:01.875Z"
   },
   {
    "duration": 65,
    "start_time": "2022-01-28T13:14:01.899Z"
   },
   {
    "duration": 64,
    "start_time": "2022-01-28T13:14:01.965Z"
   },
   {
    "duration": 46,
    "start_time": "2022-01-28T13:14:02.031Z"
   },
   {
    "duration": 36,
    "start_time": "2022-01-28T13:14:02.078Z"
   },
   {
    "duration": 2,
    "start_time": "2022-01-28T13:14:02.128Z"
   },
   {
    "duration": 11,
    "start_time": "2022-01-28T13:14:02.132Z"
   },
   {
    "duration": 5,
    "start_time": "2022-01-28T13:14:02.145Z"
   },
   {
    "duration": 5,
    "start_time": "2022-01-28T13:14:05.097Z"
   },
   {
    "duration": 5,
    "start_time": "2022-01-28T13:14:18.698Z"
   },
   {
    "duration": 403,
    "start_time": "2022-01-28T13:15:35.843Z"
   },
   {
    "duration": 2,
    "start_time": "2022-01-28T13:57:45.712Z"
   },
   {
    "duration": 119,
    "start_time": "2022-01-28T13:57:45.715Z"
   },
   {
    "duration": 9,
    "start_time": "2022-01-28T13:57:45.835Z"
   },
   {
    "duration": 21,
    "start_time": "2022-01-28T13:57:45.845Z"
   },
   {
    "duration": 3,
    "start_time": "2022-01-28T13:57:45.868Z"
   },
   {
    "duration": 18,
    "start_time": "2022-01-28T13:57:45.872Z"
   },
   {
    "duration": 3,
    "start_time": "2022-01-28T13:57:45.892Z"
   },
   {
    "duration": 45,
    "start_time": "2022-01-28T13:57:45.897Z"
   },
   {
    "duration": 14,
    "start_time": "2022-01-28T13:57:45.944Z"
   },
   {
    "duration": 19,
    "start_time": "2022-01-28T13:57:45.959Z"
   },
   {
    "duration": 68,
    "start_time": "2022-01-28T13:57:45.979Z"
   },
   {
    "duration": 53,
    "start_time": "2022-01-28T13:57:46.048Z"
   },
   {
    "duration": 59,
    "start_time": "2022-01-28T13:57:46.102Z"
   },
   {
    "duration": 324,
    "start_time": "2022-01-28T13:57:46.163Z"
   },
   {
    "duration": -85245,
    "start_time": "2022-01-28T13:59:11.734Z"
   },
   {
    "duration": -85249,
    "start_time": "2022-01-28T13:59:11.739Z"
   },
   {
    "duration": -85252,
    "start_time": "2022-01-28T13:59:11.743Z"
   },
   {
    "duration": -85259,
    "start_time": "2022-01-28T13:59:11.750Z"
   },
   {
    "duration": -85288,
    "start_time": "2022-01-28T13:59:11.780Z"
   },
   {
    "duration": -85292,
    "start_time": "2022-01-28T13:59:11.785Z"
   },
   {
    "duration": -85295,
    "start_time": "2022-01-28T13:59:11.789Z"
   },
   {
    "duration": -85298,
    "start_time": "2022-01-28T13:59:11.793Z"
   },
   {
    "duration": -85302,
    "start_time": "2022-01-28T13:59:11.797Z"
   },
   {
    "duration": -85305,
    "start_time": "2022-01-28T13:59:11.801Z"
   },
   {
    "duration": -85308,
    "start_time": "2022-01-28T13:59:11.805Z"
   },
   {
    "duration": -85311,
    "start_time": "2022-01-28T13:59:11.809Z"
   },
   {
    "duration": -85316,
    "start_time": "2022-01-28T13:59:11.814Z"
   },
   {
    "duration": -85320,
    "start_time": "2022-01-28T13:59:11.819Z"
   },
   {
    "duration": -85325,
    "start_time": "2022-01-28T13:59:11.825Z"
   },
   {
    "duration": -85329,
    "start_time": "2022-01-28T13:59:11.830Z"
   },
   {
    "duration": -85333,
    "start_time": "2022-01-28T13:59:11.834Z"
   },
   {
    "duration": -85339,
    "start_time": "2022-01-28T13:59:11.841Z"
   },
   {
    "duration": -85342,
    "start_time": "2022-01-28T13:59:11.845Z"
   },
   {
    "duration": -85346,
    "start_time": "2022-01-28T13:59:11.850Z"
   },
   {
    "duration": -85351,
    "start_time": "2022-01-28T13:59:11.855Z"
   },
   {
    "duration": -85354,
    "start_time": "2022-01-28T13:59:11.860Z"
   },
   {
    "duration": -85357,
    "start_time": "2022-01-28T13:59:11.864Z"
   },
   {
    "duration": -85361,
    "start_time": "2022-01-28T13:59:11.869Z"
   },
   {
    "duration": 311,
    "start_time": "2022-01-28T13:59:28.559Z"
   },
   {
    "duration": 4,
    "start_time": "2022-01-28T14:00:56.960Z"
   },
   {
    "duration": 5,
    "start_time": "2022-01-28T14:01:24.983Z"
   },
   {
    "duration": 5,
    "start_time": "2022-01-28T14:01:35.327Z"
   },
   {
    "duration": 321,
    "start_time": "2022-01-28T14:01:42.144Z"
   },
   {
    "duration": 325,
    "start_time": "2022-01-28T14:02:42.762Z"
   },
   {
    "duration": 38,
    "start_time": "2022-01-28T14:02:56.488Z"
   },
   {
    "duration": 36,
    "start_time": "2022-01-28T14:03:05.849Z"
   },
   {
    "duration": 2,
    "start_time": "2022-01-28T14:03:39.968Z"
   },
   {
    "duration": 9,
    "start_time": "2022-01-28T14:03:46.592Z"
   },
   {
    "duration": 358,
    "start_time": "2022-01-28T14:04:05.129Z"
   },
   {
    "duration": 35,
    "start_time": "2022-01-28T14:04:10.152Z"
   },
   {
    "duration": 37,
    "start_time": "2022-01-28T14:04:17.890Z"
   },
   {
    "duration": 10,
    "start_time": "2022-01-28T14:05:41.505Z"
   },
   {
    "duration": 14,
    "start_time": "2022-01-28T14:06:42.002Z"
   },
   {
    "duration": 3,
    "start_time": "2022-01-28T14:20:26.448Z"
   },
   {
    "duration": 4,
    "start_time": "2022-01-28T14:20:38.015Z"
   },
   {
    "duration": 655,
    "start_time": "2022-01-28T14:21:33.455Z"
   },
   {
    "duration": 3,
    "start_time": "2022-01-28T14:27:20.596Z"
   },
   {
    "duration": 658,
    "start_time": "2022-01-28T14:27:22.163Z"
   },
   {
    "duration": 676,
    "start_time": "2022-01-28T14:28:38.147Z"
   },
   {
    "duration": 2,
    "start_time": "2022-01-28T14:28:47.132Z"
   },
   {
    "duration": 138,
    "start_time": "2022-01-28T14:28:47.136Z"
   },
   {
    "duration": 12,
    "start_time": "2022-01-28T14:28:47.276Z"
   },
   {
    "duration": 30,
    "start_time": "2022-01-28T14:28:47.290Z"
   },
   {
    "duration": 13,
    "start_time": "2022-01-28T14:28:47.327Z"
   },
   {
    "duration": 40,
    "start_time": "2022-01-28T14:28:47.342Z"
   },
   {
    "duration": 3,
    "start_time": "2022-01-28T14:28:47.384Z"
   },
   {
    "duration": 29,
    "start_time": "2022-01-28T14:28:47.389Z"
   },
   {
    "duration": 24,
    "start_time": "2022-01-28T14:28:47.419Z"
   },
   {
    "duration": 36,
    "start_time": "2022-01-28T14:28:47.444Z"
   },
   {
    "duration": 56,
    "start_time": "2022-01-28T14:28:47.483Z"
   },
   {
    "duration": 60,
    "start_time": "2022-01-28T14:28:47.540Z"
   },
   {
    "duration": 57,
    "start_time": "2022-01-28T14:28:47.601Z"
   },
   {
    "duration": 36,
    "start_time": "2022-01-28T14:28:47.660Z"
   },
   {
    "duration": 5,
    "start_time": "2022-01-28T14:28:47.698Z"
   },
   {
    "duration": 16,
    "start_time": "2022-01-28T14:28:47.704Z"
   },
   {
    "duration": 45,
    "start_time": "2022-01-28T14:28:47.727Z"
   },
   {
    "duration": 21,
    "start_time": "2022-01-28T14:28:47.774Z"
   },
   {
    "duration": 21,
    "start_time": "2022-01-28T14:28:47.797Z"
   },
   {
    "duration": 11,
    "start_time": "2022-01-28T14:28:47.819Z"
   },
   {
    "duration": 718,
    "start_time": "2022-01-28T14:28:47.831Z"
   },
   {
    "duration": -85289,
    "start_time": "2022-01-28T14:30:13.839Z"
   },
   {
    "duration": -85325,
    "start_time": "2022-01-28T14:30:13.876Z"
   },
   {
    "duration": -85341,
    "start_time": "2022-01-28T14:30:13.894Z"
   },
   {
    "duration": -85366,
    "start_time": "2022-01-28T14:30:13.920Z"
   },
   {
    "duration": 678,
    "start_time": "2022-01-28T14:29:14.156Z"
   },
   {
    "duration": 657,
    "start_time": "2022-01-28T14:34:16.112Z"
   },
   {
    "duration": 2127,
    "start_time": "2022-01-28T14:40:22.324Z"
   },
   {
    "duration": 2578,
    "start_time": "2022-01-28T14:40:24.687Z"
   },
   {
    "duration": 646,
    "start_time": "2022-01-28T14:41:20.354Z"
   },
   {
    "duration": 680,
    "start_time": "2022-01-28T14:43:32.731Z"
   },
   {
    "duration": 3,
    "start_time": "2022-01-28T14:43:53.329Z"
   },
   {
    "duration": 653,
    "start_time": "2022-01-28T14:43:53.334Z"
   },
   {
    "duration": 753,
    "start_time": "2022-01-28T14:50:05.430Z"
   },
   {
    "duration": 661,
    "start_time": "2022-01-28T14:50:23.062Z"
   },
   {
    "duration": 3,
    "start_time": "2022-01-28T14:50:52.342Z"
   },
   {
    "duration": 12,
    "start_time": "2022-01-28T14:50:52.973Z"
   },
   {
    "duration": 121,
    "start_time": "2022-01-28T14:51:56.959Z"
   },
   {
    "duration": 12,
    "start_time": "2022-01-28T14:51:57.333Z"
   },
   {
    "duration": 18,
    "start_time": "2022-01-28T14:53:33.553Z"
   },
   {
    "duration": 4,
    "start_time": "2022-01-28T14:53:54.624Z"
   },
   {
    "duration": 30,
    "start_time": "2022-01-28T14:53:55.174Z"
   },
   {
    "duration": 2,
    "start_time": "2022-01-28T14:57:23.941Z"
   },
   {
    "duration": 124,
    "start_time": "2022-01-28T14:57:23.946Z"
   },
   {
    "duration": 10,
    "start_time": "2022-01-28T14:57:24.072Z"
   },
   {
    "duration": 22,
    "start_time": "2022-01-28T14:57:24.084Z"
   },
   {
    "duration": 3,
    "start_time": "2022-01-28T14:57:24.108Z"
   },
   {
    "duration": 19,
    "start_time": "2022-01-28T14:57:24.127Z"
   },
   {
    "duration": 4,
    "start_time": "2022-01-28T14:57:24.148Z"
   },
   {
    "duration": 23,
    "start_time": "2022-01-28T14:57:24.153Z"
   },
   {
    "duration": 17,
    "start_time": "2022-01-28T14:57:24.179Z"
   },
   {
    "duration": 47,
    "start_time": "2022-01-28T14:57:24.198Z"
   },
   {
    "duration": 49,
    "start_time": "2022-01-28T14:57:24.247Z"
   },
   {
    "duration": 73,
    "start_time": "2022-01-28T14:57:24.298Z"
   },
   {
    "duration": 45,
    "start_time": "2022-01-28T14:57:24.372Z"
   },
   {
    "duration": 43,
    "start_time": "2022-01-28T14:57:24.418Z"
   },
   {
    "duration": 3,
    "start_time": "2022-01-28T14:57:24.462Z"
   },
   {
    "duration": 10,
    "start_time": "2022-01-28T14:57:24.466Z"
   },
   {
    "duration": 55,
    "start_time": "2022-01-28T14:57:24.477Z"
   },
   {
    "duration": 9,
    "start_time": "2022-01-28T14:57:24.533Z"
   },
   {
    "duration": 11,
    "start_time": "2022-01-28T14:57:24.543Z"
   },
   {
    "duration": 3,
    "start_time": "2022-01-28T14:57:24.555Z"
   },
   {
    "duration": 20,
    "start_time": "2022-01-28T14:57:24.559Z"
   },
   {
    "duration": 14,
    "start_time": "2022-01-28T14:57:24.580Z"
   },
   {
    "duration": 43,
    "start_time": "2022-01-28T14:57:24.595Z"
   },
   {
    "duration": 14,
    "start_time": "2022-01-28T14:57:24.641Z"
   },
   {
    "duration": 15,
    "start_time": "2022-01-28T14:57:24.656Z"
   },
   {
    "duration": 13,
    "start_time": "2022-01-28T14:57:24.673Z"
   },
   {
    "duration": 2,
    "start_time": "2022-01-28T14:57:24.687Z"
   },
   {
    "duration": 3,
    "start_time": "2022-01-28T14:58:22.041Z"
   },
   {
    "duration": 3,
    "start_time": "2022-01-28T14:58:25.796Z"
   },
   {
    "duration": 144,
    "start_time": "2022-01-28T14:58:25.801Z"
   },
   {
    "duration": 10,
    "start_time": "2022-01-28T14:58:25.947Z"
   },
   {
    "duration": 22,
    "start_time": "2022-01-28T14:58:25.959Z"
   },
   {
    "duration": 3,
    "start_time": "2022-01-28T14:58:25.983Z"
   },
   {
    "duration": 18,
    "start_time": "2022-01-28T14:58:25.987Z"
   },
   {
    "duration": 3,
    "start_time": "2022-01-28T14:58:26.028Z"
   },
   {
    "duration": 24,
    "start_time": "2022-01-28T14:58:26.033Z"
   },
   {
    "duration": 16,
    "start_time": "2022-01-28T14:58:26.058Z"
   },
   {
    "duration": 21,
    "start_time": "2022-01-28T14:58:26.076Z"
   },
   {
    "duration": 72,
    "start_time": "2022-01-28T14:58:26.099Z"
   },
   {
    "duration": 66,
    "start_time": "2022-01-28T14:58:26.172Z"
   },
   {
    "duration": 46,
    "start_time": "2022-01-28T14:58:26.240Z"
   },
   {
    "duration": 49,
    "start_time": "2022-01-28T14:58:26.287Z"
   },
   {
    "duration": 3,
    "start_time": "2022-01-28T14:58:26.337Z"
   },
   {
    "duration": 11,
    "start_time": "2022-01-28T14:58:26.341Z"
   },
   {
    "duration": 42,
    "start_time": "2022-01-28T14:58:26.353Z"
   },
   {
    "duration": 9,
    "start_time": "2022-01-28T14:58:26.397Z"
   },
   {
    "duration": 21,
    "start_time": "2022-01-28T14:58:26.408Z"
   },
   {
    "duration": 2,
    "start_time": "2022-01-28T14:58:26.431Z"
   },
   {
    "duration": 23,
    "start_time": "2022-01-28T14:58:26.434Z"
   },
   {
    "duration": 15,
    "start_time": "2022-01-28T14:58:26.459Z"
   },
   {
    "duration": 15,
    "start_time": "2022-01-28T14:58:26.475Z"
   },
   {
    "duration": 38,
    "start_time": "2022-01-28T14:58:26.492Z"
   },
   {
    "duration": 16,
    "start_time": "2022-01-28T14:58:26.532Z"
   },
   {
    "duration": 13,
    "start_time": "2022-01-28T14:58:26.549Z"
   },
   {
    "duration": 2,
    "start_time": "2022-01-28T14:58:26.563Z"
   },
   {
    "duration": 4,
    "start_time": "2022-01-28T14:58:26.567Z"
   },
   {
    "duration": 4,
    "start_time": "2022-01-28T14:58:26.572Z"
   },
   {
    "duration": 4,
    "start_time": "2022-01-28T14:58:26.577Z"
   },
   {
    "duration": 6,
    "start_time": "2022-01-28T14:58:26.582Z"
   },
   {
    "duration": 5,
    "start_time": "2022-01-28T14:58:26.589Z"
   },
   {
    "duration": 5,
    "start_time": "2022-01-28T14:58:26.595Z"
   },
   {
    "duration": 25,
    "start_time": "2022-01-28T14:58:26.602Z"
   },
   {
    "duration": 4,
    "start_time": "2022-01-28T14:58:26.629Z"
   },
   {
    "duration": 4,
    "start_time": "2022-01-28T14:58:26.634Z"
   },
   {
    "duration": 7,
    "start_time": "2022-01-28T14:58:26.639Z"
   },
   {
    "duration": 4,
    "start_time": "2022-01-28T14:58:26.647Z"
   },
   {
    "duration": 3,
    "start_time": "2022-01-28T14:59:32.905Z"
   },
   {
    "duration": 638,
    "start_time": "2022-01-28T14:59:33.281Z"
   },
   {
    "duration": -85268,
    "start_time": "2022-01-28T15:00:59.189Z"
   },
   {
    "duration": -85272,
    "start_time": "2022-01-28T15:00:59.193Z"
   },
   {
    "duration": -85275,
    "start_time": "2022-01-28T15:00:59.197Z"
   },
   {
    "duration": 641,
    "start_time": "2022-01-28T14:59:33.936Z"
   },
   {
    "duration": -85237,
    "start_time": "2022-01-28T15:00:59.816Z"
   },
   {
    "duration": 3,
    "start_time": "2022-01-28T14:59:45.657Z"
   },
   {
    "duration": 17,
    "start_time": "2022-01-28T14:59:46.303Z"
   },
   {
    "duration": 16,
    "start_time": "2022-01-28T14:59:46.474Z"
   },
   {
    "duration": 16,
    "start_time": "2022-01-28T14:59:46.647Z"
   },
   {
    "duration": 16,
    "start_time": "2022-01-28T14:59:46.793Z"
   },
   {
    "duration": 19,
    "start_time": "2022-01-28T14:59:46.945Z"
   },
   {
    "duration": 17,
    "start_time": "2022-01-28T14:59:47.473Z"
   },
   {
    "duration": 3,
    "start_time": "2022-01-28T15:03:22.900Z"
   },
   {
    "duration": 883,
    "start_time": "2022-01-28T15:03:23.242Z"
   },
   {
    "duration": -85273,
    "start_time": "2022-01-28T15:04:49.400Z"
   },
   {
    "duration": -85277,
    "start_time": "2022-01-28T15:04:49.405Z"
   },
   {
    "duration": -85281,
    "start_time": "2022-01-28T15:04:49.410Z"
   },
   {
    "duration": -85284,
    "start_time": "2022-01-28T15:04:49.414Z"
   },
   {
    "duration": 644,
    "start_time": "2022-01-28T15:03:24.154Z"
   },
   {
    "duration": 3,
    "start_time": "2022-01-28T15:03:34.556Z"
   },
   {
    "duration": 18,
    "start_time": "2022-01-28T15:03:34.890Z"
   },
   {
    "duration": 17,
    "start_time": "2022-01-28T15:03:35.052Z"
   },
   {
    "duration": 17,
    "start_time": "2022-01-28T15:03:35.219Z"
   },
   {
    "duration": 17,
    "start_time": "2022-01-28T15:03:35.364Z"
   },
   {
    "duration": 18,
    "start_time": "2022-01-28T15:03:35.515Z"
   },
   {
    "duration": 16,
    "start_time": "2022-01-28T15:03:35.676Z"
   },
   {
    "duration": 3,
    "start_time": "2022-01-28T15:15:14.354Z"
   },
   {
    "duration": 704,
    "start_time": "2022-01-28T15:15:14.705Z"
   },
   {
    "duration": -85269,
    "start_time": "2022-01-28T15:16:40.679Z"
   },
   {
    "duration": -85272,
    "start_time": "2022-01-28T15:16:40.683Z"
   },
   {
    "duration": -85276,
    "start_time": "2022-01-28T15:16:40.688Z"
   },
   {
    "duration": -85315,
    "start_time": "2022-01-28T15:16:40.728Z"
   },
   {
    "duration": 786,
    "start_time": "2022-01-28T15:15:15.557Z"
   },
   {
    "duration": 14,
    "start_time": "2022-01-28T15:15:40.017Z"
   },
   {
    "duration": 868,
    "start_time": "2022-01-28T15:15:40.328Z"
   },
   {
    "duration": -85230,
    "start_time": "2022-01-28T15:17:06.428Z"
   },
   {
    "duration": -85258,
    "start_time": "2022-01-28T15:17:06.457Z"
   },
   {
    "duration": -85261,
    "start_time": "2022-01-28T15:17:06.461Z"
   },
   {
    "duration": -85264,
    "start_time": "2022-01-28T15:17:06.465Z"
   },
   {
    "duration": -85267,
    "start_time": "2022-01-28T15:17:06.469Z"
   },
   {
    "duration": 121,
    "start_time": "2022-01-28T15:15:58.785Z"
   },
   {
    "duration": 2657,
    "start_time": "2022-01-28T15:15:59.311Z"
   },
   {
    "duration": -85261,
    "start_time": "2022-01-28T15:17:27.231Z"
   },
   {
    "duration": -85265,
    "start_time": "2022-01-28T15:17:27.236Z"
   },
   {
    "duration": -85269,
    "start_time": "2022-01-28T15:17:27.241Z"
   },
   {
    "duration": -85274,
    "start_time": "2022-01-28T15:17:27.246Z"
   },
   {
    "duration": -85277,
    "start_time": "2022-01-28T15:17:27.250Z"
   },
   {
    "duration": 5,
    "start_time": "2022-01-28T15:17:13.041Z"
   },
   {
    "duration": 16,
    "start_time": "2022-01-28T15:17:13.377Z"
   },
   {
    "duration": 14,
    "start_time": "2022-01-28T15:17:13.537Z"
   },
   {
    "duration": 16,
    "start_time": "2022-01-28T15:17:13.712Z"
   },
   {
    "duration": 23,
    "start_time": "2022-01-28T15:17:13.882Z"
   },
   {
    "duration": 24,
    "start_time": "2022-01-28T15:17:14.059Z"
   },
   {
    "duration": 22,
    "start_time": "2022-01-28T15:17:14.240Z"
   },
   {
    "duration": 18,
    "start_time": "2022-01-28T15:17:23.880Z"
   },
   {
    "duration": 16,
    "start_time": "2022-01-28T15:17:25.312Z"
   },
   {
    "duration": 16,
    "start_time": "2022-01-28T15:17:25.672Z"
   },
   {
    "duration": 16,
    "start_time": "2022-01-28T15:17:25.952Z"
   },
   {
    "duration": 18,
    "start_time": "2022-01-28T15:17:26.200Z"
   },
   {
    "duration": 16,
    "start_time": "2022-01-28T15:17:26.408Z"
   },
   {
    "duration": 3,
    "start_time": "2022-01-28T15:17:38.581Z"
   },
   {
    "duration": 145,
    "start_time": "2022-01-28T15:17:38.586Z"
   },
   {
    "duration": 9,
    "start_time": "2022-01-28T15:17:38.733Z"
   },
   {
    "duration": 25,
    "start_time": "2022-01-28T15:17:38.744Z"
   },
   {
    "duration": 3,
    "start_time": "2022-01-28T15:17:38.771Z"
   },
   {
    "duration": 20,
    "start_time": "2022-01-28T15:17:38.776Z"
   },
   {
    "duration": 29,
    "start_time": "2022-01-28T15:17:38.798Z"
   },
   {
    "duration": 25,
    "start_time": "2022-01-28T15:17:38.829Z"
   },
   {
    "duration": 17,
    "start_time": "2022-01-28T15:17:38.856Z"
   },
   {
    "duration": 22,
    "start_time": "2022-01-28T15:17:38.874Z"
   },
   {
    "duration": 79,
    "start_time": "2022-01-28T15:17:38.898Z"
   },
   {
    "duration": 79,
    "start_time": "2022-01-28T15:17:38.979Z"
   },
   {
    "duration": 84,
    "start_time": "2022-01-28T15:17:39.060Z"
   },
   {
    "duration": 61,
    "start_time": "2022-01-28T15:17:39.146Z"
   },
   {
    "duration": 20,
    "start_time": "2022-01-28T15:17:39.208Z"
   },
   {
    "duration": 13,
    "start_time": "2022-01-28T15:17:39.229Z"
   },
   {
    "duration": 50,
    "start_time": "2022-01-28T15:17:39.244Z"
   },
   {
    "duration": 13,
    "start_time": "2022-01-28T15:17:39.296Z"
   },
   {
    "duration": 26,
    "start_time": "2022-01-28T15:17:39.313Z"
   },
   {
    "duration": 3,
    "start_time": "2022-01-28T15:17:39.341Z"
   },
   {
    "duration": 20,
    "start_time": "2022-01-28T15:17:39.346Z"
   },
   {
    "duration": 13,
    "start_time": "2022-01-28T15:17:39.367Z"
   },
   {
    "duration": 14,
    "start_time": "2022-01-28T15:17:39.381Z"
   },
   {
    "duration": 38,
    "start_time": "2022-01-28T15:17:39.396Z"
   },
   {
    "duration": 17,
    "start_time": "2022-01-28T15:17:39.435Z"
   },
   {
    "duration": 14,
    "start_time": "2022-01-28T15:17:39.453Z"
   },
   {
    "duration": 321,
    "start_time": "2022-01-28T15:17:39.469Z"
   },
   {
    "duration": -85225,
    "start_time": "2022-01-28T15:19:05.017Z"
   },
   {
    "duration": -85228,
    "start_time": "2022-01-28T15:19:05.021Z"
   },
   {
    "duration": -85232,
    "start_time": "2022-01-28T15:19:05.026Z"
   },
   {
    "duration": -85237,
    "start_time": "2022-01-28T15:19:05.032Z"
   },
   {
    "duration": -85240,
    "start_time": "2022-01-28T15:19:05.036Z"
   },
   {
    "duration": -85244,
    "start_time": "2022-01-28T15:19:05.041Z"
   },
   {
    "duration": -85257,
    "start_time": "2022-01-28T15:19:05.055Z"
   },
   {
    "duration": -85261,
    "start_time": "2022-01-28T15:19:05.060Z"
   },
   {
    "duration": -85264,
    "start_time": "2022-01-28T15:19:05.064Z"
   },
   {
    "duration": -85267,
    "start_time": "2022-01-28T15:19:05.068Z"
   },
   {
    "duration": -85270,
    "start_time": "2022-01-28T15:19:05.072Z"
   },
   {
    "duration": 540,
    "start_time": "2022-01-28T15:18:29.674Z"
   },
   {
    "duration": 120,
    "start_time": "2022-01-28T15:18:30.216Z"
   },
   {
    "duration": 15,
    "start_time": "2022-01-28T15:18:30.338Z"
   },
   {
    "duration": 22,
    "start_time": "2022-01-28T15:18:30.355Z"
   },
   {
    "duration": 3,
    "start_time": "2022-01-28T15:18:30.378Z"
   },
   {
    "duration": 27,
    "start_time": "2022-01-28T15:18:30.383Z"
   },
   {
    "duration": 3,
    "start_time": "2022-01-28T15:18:30.411Z"
   },
   {
    "duration": 34,
    "start_time": "2022-01-28T15:18:30.416Z"
   },
   {
    "duration": 17,
    "start_time": "2022-01-28T15:18:30.452Z"
   },
   {
    "duration": 31,
    "start_time": "2022-01-28T15:18:30.470Z"
   },
   {
    "duration": 62,
    "start_time": "2022-01-28T15:18:30.503Z"
   },
   {
    "duration": 72,
    "start_time": "2022-01-28T15:18:30.567Z"
   },
   {
    "duration": 46,
    "start_time": "2022-01-28T15:18:30.640Z"
   },
   {
    "duration": 45,
    "start_time": "2022-01-28T15:18:30.687Z"
   },
   {
    "duration": 3,
    "start_time": "2022-01-28T15:18:30.733Z"
   },
   {
    "duration": 11,
    "start_time": "2022-01-28T15:18:30.738Z"
   },
   {
    "duration": 36,
    "start_time": "2022-01-28T15:18:30.751Z"
   },
   {
    "duration": 11,
    "start_time": "2022-01-28T15:18:30.788Z"
   },
   {
    "duration": 34,
    "start_time": "2022-01-28T15:18:30.800Z"
   },
   {
    "duration": 10,
    "start_time": "2022-01-28T15:18:30.835Z"
   },
   {
    "duration": 22,
    "start_time": "2022-01-28T15:18:30.847Z"
   },
   {
    "duration": 13,
    "start_time": "2022-01-28T15:18:30.871Z"
   },
   {
    "duration": 13,
    "start_time": "2022-01-28T15:18:30.887Z"
   },
   {
    "duration": 12,
    "start_time": "2022-01-28T15:18:30.902Z"
   },
   {
    "duration": 23,
    "start_time": "2022-01-28T15:18:30.915Z"
   },
   {
    "duration": 12,
    "start_time": "2022-01-28T15:18:30.939Z"
   },
   {
    "duration": 408,
    "start_time": "2022-01-28T15:18:30.953Z"
   },
   {
    "duration": -85218,
    "start_time": "2022-01-28T15:19:56.581Z"
   },
   {
    "duration": -85269,
    "start_time": "2022-01-28T15:19:56.633Z"
   },
   {
    "duration": -85286,
    "start_time": "2022-01-28T15:19:56.651Z"
   },
   {
    "duration": -85301,
    "start_time": "2022-01-28T15:19:56.667Z"
   },
   {
    "duration": -85316,
    "start_time": "2022-01-28T15:19:56.682Z"
   },
   {
    "duration": -85331,
    "start_time": "2022-01-28T15:19:56.698Z"
   },
   {
    "duration": -85336,
    "start_time": "2022-01-28T15:19:56.704Z"
   },
   {
    "duration": -85361,
    "start_time": "2022-01-28T15:19:56.730Z"
   },
   {
    "duration": -85365,
    "start_time": "2022-01-28T15:19:56.735Z"
   },
   {
    "duration": -85376,
    "start_time": "2022-01-28T15:19:56.746Z"
   },
   {
    "duration": -85379,
    "start_time": "2022-01-28T15:19:56.750Z"
   },
   {
    "duration": 18,
    "start_time": "2022-01-28T15:18:52.684Z"
   },
   {
    "duration": 18,
    "start_time": "2022-01-28T15:19:37.109Z"
   },
   {
    "duration": 17,
    "start_time": "2022-01-28T15:19:37.252Z"
   },
   {
    "duration": 15,
    "start_time": "2022-01-28T15:19:37.421Z"
   },
   {
    "duration": 15,
    "start_time": "2022-01-28T15:19:37.580Z"
   },
   {
    "duration": 17,
    "start_time": "2022-01-28T15:19:37.711Z"
   },
   {
    "duration": 15,
    "start_time": "2022-01-28T15:19:37.852Z"
   },
   {
    "duration": 9,
    "start_time": "2022-01-28T15:23:38.968Z"
   },
   {
    "duration": 11,
    "start_time": "2022-01-28T15:27:46.129Z"
   },
   {
    "duration": 5,
    "start_time": "2022-01-28T15:27:52.274Z"
   },
   {
    "duration": 8,
    "start_time": "2022-01-28T15:28:06.041Z"
   },
   {
    "duration": 18,
    "start_time": "2022-01-28T15:28:19.329Z"
   },
   {
    "duration": 9,
    "start_time": "2022-01-28T15:29:04.625Z"
   },
   {
    "duration": 9,
    "start_time": "2022-01-28T15:29:11.571Z"
   },
   {
    "duration": 9,
    "start_time": "2022-01-28T15:29:55.867Z"
   },
   {
    "duration": 3,
    "start_time": "2022-01-28T15:30:05.038Z"
   },
   {
    "duration": 132,
    "start_time": "2022-01-28T15:30:05.043Z"
   },
   {
    "duration": 9,
    "start_time": "2022-01-28T15:30:05.176Z"
   },
   {
    "duration": 40,
    "start_time": "2022-01-28T15:30:05.187Z"
   },
   {
    "duration": 3,
    "start_time": "2022-01-28T15:30:05.229Z"
   },
   {
    "duration": 22,
    "start_time": "2022-01-28T15:30:05.234Z"
   },
   {
    "duration": 3,
    "start_time": "2022-01-28T15:30:05.258Z"
   },
   {
    "duration": 32,
    "start_time": "2022-01-28T15:30:05.263Z"
   },
   {
    "duration": 21,
    "start_time": "2022-01-28T15:30:05.296Z"
   },
   {
    "duration": 30,
    "start_time": "2022-01-28T15:30:05.318Z"
   },
   {
    "duration": 52,
    "start_time": "2022-01-28T15:30:05.350Z"
   },
   {
    "duration": 64,
    "start_time": "2022-01-28T15:30:05.404Z"
   },
   {
    "duration": 43,
    "start_time": "2022-01-28T15:30:05.469Z"
   },
   {
    "duration": 47,
    "start_time": "2022-01-28T15:30:05.514Z"
   },
   {
    "duration": 9,
    "start_time": "2022-01-28T15:30:05.562Z"
   },
   {
    "duration": 28,
    "start_time": "2022-01-28T15:30:05.572Z"
   },
   {
    "duration": 45,
    "start_time": "2022-01-28T15:30:05.601Z"
   },
   {
    "duration": 13,
    "start_time": "2022-01-28T15:30:05.648Z"
   },
   {
    "duration": 31,
    "start_time": "2022-01-28T15:30:05.663Z"
   },
   {
    "duration": 15,
    "start_time": "2022-01-28T15:30:05.696Z"
   },
   {
    "duration": 24,
    "start_time": "2022-01-28T15:30:05.712Z"
   },
   {
    "duration": 13,
    "start_time": "2022-01-28T15:30:05.738Z"
   },
   {
    "duration": 18,
    "start_time": "2022-01-28T15:30:05.753Z"
   },
   {
    "duration": 23,
    "start_time": "2022-01-28T15:30:05.772Z"
   },
   {
    "duration": 16,
    "start_time": "2022-01-28T15:30:05.797Z"
   },
   {
    "duration": 14,
    "start_time": "2022-01-28T15:30:05.827Z"
   },
   {
    "duration": 20,
    "start_time": "2022-01-28T15:30:05.843Z"
   },
   {
    "duration": 32,
    "start_time": "2022-01-28T15:30:05.865Z"
   },
   {
    "duration": 24,
    "start_time": "2022-01-28T15:30:05.898Z"
   },
   {
    "duration": 5,
    "start_time": "2022-01-28T16:04:34.693Z"
   },
   {
    "duration": -85254,
    "start_time": "2022-01-28T16:07:30.955Z"
   },
   {
    "duration": -85258,
    "start_time": "2022-01-28T16:07:30.960Z"
   },
   {
    "duration": -85264,
    "start_time": "2022-01-28T16:07:30.967Z"
   },
   {
    "duration": 16,
    "start_time": "2022-01-28T16:06:16.739Z"
   },
   {
    "duration": 4,
    "start_time": "2022-01-28T16:06:17.458Z"
   },
   {
    "duration": 8985,
    "start_time": "2022-01-28T16:06:18.505Z"
   },
   {
    "duration": 4,
    "start_time": "2022-01-28T16:07:39.778Z"
   },
   {
    "duration": 1025,
    "start_time": "2022-01-28T16:07:40.155Z"
   },
   {
    "duration": -85254,
    "start_time": "2022-01-28T16:09:06.436Z"
   },
   {
    "duration": 4,
    "start_time": "2022-01-28T16:07:53.446Z"
   },
   {
    "duration": 27,
    "start_time": "2022-01-28T16:07:53.452Z"
   },
   {
    "duration": 15,
    "start_time": "2022-01-28T16:08:32.699Z"
   },
   {
    "duration": 5,
    "start_time": "2022-01-28T16:09:24.835Z"
   },
   {
    "duration": 21,
    "start_time": "2022-01-28T16:09:25.194Z"
   },
   {
    "duration": 13,
    "start_time": "2022-01-28T16:09:26.067Z"
   },
   {
    "duration": 3,
    "start_time": "2022-01-28T16:09:26.466Z"
   },
   {
    "duration": 4,
    "start_time": "2022-01-28T16:10:33.933Z"
   },
   {
    "duration": 21,
    "start_time": "2022-01-28T16:10:34.275Z"
   },
   {
    "duration": 15,
    "start_time": "2022-01-28T16:10:34.450Z"
   },
   {
    "duration": 4,
    "start_time": "2022-01-28T16:11:07.348Z"
   },
   {
    "duration": 20,
    "start_time": "2022-01-28T16:11:07.715Z"
   },
   {
    "duration": 13,
    "start_time": "2022-01-28T16:11:07.867Z"
   },
   {
    "duration": 4,
    "start_time": "2022-01-28T16:11:41.003Z"
   },
   {
    "duration": 21,
    "start_time": "2022-01-28T16:11:41.667Z"
   },
   {
    "duration": 15,
    "start_time": "2022-01-28T16:11:42.347Z"
   },
   {
    "duration": 4,
    "start_time": "2022-01-28T16:12:07.093Z"
   },
   {
    "duration": 20,
    "start_time": "2022-01-28T16:12:07.459Z"
   },
   {
    "duration": 14,
    "start_time": "2022-01-28T16:12:07.587Z"
   },
   {
    "duration": 2,
    "start_time": "2022-01-28T16:12:07.940Z"
   },
   {
    "duration": 4,
    "start_time": "2022-01-28T16:12:21.869Z"
   },
   {
    "duration": 21,
    "start_time": "2022-01-28T16:12:22.195Z"
   },
   {
    "duration": 13,
    "start_time": "2022-01-28T16:12:22.348Z"
   },
   {
    "duration": 2,
    "start_time": "2022-01-28T16:12:22.507Z"
   },
   {
    "duration": 2,
    "start_time": "2022-01-28T16:12:22.683Z"
   },
   {
    "duration": 19,
    "start_time": "2022-01-28T16:13:41.045Z"
   },
   {
    "duration": 19,
    "start_time": "2022-01-28T16:13:49.326Z"
   },
   {
    "duration": 20,
    "start_time": "2022-01-28T16:13:59.269Z"
   },
   {
    "duration": 15,
    "start_time": "2022-01-28T16:14:19.334Z"
   },
   {
    "duration": 307,
    "start_time": "2022-01-28T16:18:02.686Z"
   },
   {
    "duration": 326,
    "start_time": "2022-01-28T16:19:55.673Z"
   },
   {
    "duration": 355,
    "start_time": "2022-01-28T16:20:42.416Z"
   },
   {
    "duration": 316,
    "start_time": "2022-01-28T16:22:26.212Z"
   },
   {
    "duration": 316,
    "start_time": "2022-01-28T16:22:40.305Z"
   },
   {
    "duration": 354,
    "start_time": "2022-01-28T16:23:14.563Z"
   },
   {
    "duration": 36,
    "start_time": "2022-01-28T16:23:46.258Z"
   },
   {
    "duration": 10,
    "start_time": "2022-01-28T16:24:10.978Z"
   },
   {
    "duration": 347,
    "start_time": "2022-01-28T16:24:18.139Z"
   },
   {
    "duration": 4,
    "start_time": "2022-01-28T16:25:15.753Z"
   },
   {
    "duration": 11,
    "start_time": "2022-01-28T16:25:28.170Z"
   },
   {
    "duration": 26,
    "start_time": "2022-01-28T16:25:54.861Z"
   },
   {
    "duration": 353,
    "start_time": "2022-01-28T16:26:44.435Z"
   },
   {
    "duration": 10,
    "start_time": "2022-01-28T16:27:02.660Z"
   },
   {
    "duration": 4,
    "start_time": "2022-01-28T16:27:38.044Z"
   },
   {
    "duration": 324,
    "start_time": "2022-01-28T16:28:38.707Z"
   },
   {
    "duration": 7,
    "start_time": "2022-01-28T16:28:54.508Z"
   },
   {
    "duration": 8,
    "start_time": "2022-01-28T16:29:12.205Z"
   },
   {
    "duration": 9,
    "start_time": "2022-01-28T16:29:24.165Z"
   },
   {
    "duration": 4,
    "start_time": "2022-01-28T16:30:06.415Z"
   },
   {
    "duration": 4,
    "start_time": "2022-01-28T16:30:16.935Z"
   },
   {
    "duration": 5,
    "start_time": "2022-01-28T16:30:23.412Z"
   },
   {
    "duration": 8,
    "start_time": "2022-01-28T16:30:42.462Z"
   },
   {
    "duration": 4,
    "start_time": "2022-01-28T16:30:43.236Z"
   },
   {
    "duration": 5,
    "start_time": "2022-01-28T16:30:43.549Z"
   },
   {
    "duration": 5,
    "start_time": "2022-01-28T16:30:43.909Z"
   },
   {
    "duration": 572,
    "start_time": "2022-02-06T10:55:44.261Z"
   },
   {
    "duration": 154,
    "start_time": "2022-02-06T10:55:44.835Z"
   },
   {
    "duration": 19,
    "start_time": "2022-02-06T10:55:44.993Z"
   },
   {
    "duration": 40,
    "start_time": "2022-02-06T10:55:45.014Z"
   },
   {
    "duration": 7,
    "start_time": "2022-02-06T10:55:45.056Z"
   },
   {
    "duration": 27,
    "start_time": "2022-02-06T10:55:45.064Z"
   },
   {
    "duration": 14,
    "start_time": "2022-02-06T10:55:45.095Z"
   },
   {
    "duration": 27,
    "start_time": "2022-02-06T10:55:45.113Z"
   },
   {
    "duration": 21,
    "start_time": "2022-02-06T10:55:45.142Z"
   },
   {
    "duration": 50,
    "start_time": "2022-02-06T10:55:45.165Z"
   },
   {
    "duration": 65,
    "start_time": "2022-02-06T10:55:45.218Z"
   },
   {
    "duration": 97,
    "start_time": "2022-02-06T10:55:45.285Z"
   },
   {
    "duration": 74,
    "start_time": "2022-02-06T10:55:45.384Z"
   },
   {
    "duration": 56,
    "start_time": "2022-02-06T10:55:45.461Z"
   },
   {
    "duration": 3,
    "start_time": "2022-02-06T10:55:45.520Z"
   },
   {
    "duration": 15,
    "start_time": "2022-02-06T10:55:45.526Z"
   },
   {
    "duration": 67,
    "start_time": "2022-02-06T10:55:45.543Z"
   },
   {
    "duration": 14,
    "start_time": "2022-02-06T10:55:45.612Z"
   },
   {
    "duration": 14,
    "start_time": "2022-02-06T10:55:45.628Z"
   },
   {
    "duration": 4,
    "start_time": "2022-02-06T10:55:45.644Z"
   },
   {
    "duration": 28,
    "start_time": "2022-02-06T10:55:45.650Z"
   },
   {
    "duration": 20,
    "start_time": "2022-02-06T10:55:45.711Z"
   },
   {
    "duration": 21,
    "start_time": "2022-02-06T10:55:45.733Z"
   },
   {
    "duration": 19,
    "start_time": "2022-02-06T10:55:45.756Z"
   },
   {
    "duration": 57,
    "start_time": "2022-02-06T10:55:45.777Z"
   },
   {
    "duration": 21,
    "start_time": "2022-02-06T10:55:45.837Z"
   },
   {
    "duration": 10,
    "start_time": "2022-02-06T10:55:45.860Z"
   },
   {
    "duration": 53,
    "start_time": "2022-02-06T10:55:45.871Z"
   },
   {
    "duration": 20,
    "start_time": "2022-02-06T10:55:45.926Z"
   },
   {
    "duration": 3,
    "start_time": "2022-02-06T10:55:45.948Z"
   },
   {
    "duration": 34,
    "start_time": "2022-02-06T10:55:45.953Z"
   },
   {
    "duration": 20,
    "start_time": "2022-02-06T10:55:46.008Z"
   },
   {
    "duration": 25,
    "start_time": "2022-02-06T10:55:46.030Z"
   },
   {
    "duration": 19,
    "start_time": "2022-02-06T10:55:46.057Z"
   },
   {
    "duration": 38,
    "start_time": "2022-02-06T10:55:46.078Z"
   },
   {
    "duration": 10,
    "start_time": "2022-02-06T10:55:46.118Z"
   },
   {
    "duration": 26,
    "start_time": "2022-02-06T10:55:46.130Z"
   },
   {
    "duration": 9,
    "start_time": "2022-02-06T10:55:46.159Z"
   },
   {
    "duration": 85,
    "start_time": "2022-02-06T10:56:31.611Z"
   },
   {
    "duration": 81,
    "start_time": "2022-02-06T11:01:40.059Z"
   },
   {
    "duration": 49,
    "start_time": "2022-02-06T11:03:40.460Z"
   },
   {
    "duration": 46,
    "start_time": "2022-02-06T11:03:50.727Z"
   },
   {
    "duration": 6,
    "start_time": "2022-02-06T11:03:58.125Z"
   },
   {
    "duration": 44,
    "start_time": "2022-02-06T11:05:12.777Z"
   },
   {
    "duration": 89,
    "start_time": "2022-02-06T11:10:51.299Z"
   },
   {
    "duration": 83,
    "start_time": "2022-02-06T11:21:24.290Z"
   },
   {
    "duration": 103,
    "start_time": "2022-02-09T16:32:25.691Z"
   },
   {
    "duration": 213,
    "start_time": "2022-02-16T10:00:21.830Z"
   },
   {
    "duration": 183,
    "start_time": "2022-02-16T10:00:44.356Z"
   },
   {
    "duration": 169,
    "start_time": "2022-02-16T10:00:52.548Z"
   },
   {
    "duration": 525,
    "start_time": "2022-02-16T10:01:08.771Z"
   },
   {
    "duration": 130,
    "start_time": "2022-02-16T10:01:09.298Z"
   },
   {
    "duration": 16,
    "start_time": "2022-02-16T10:01:09.691Z"
   },
   {
    "duration": 25,
    "start_time": "2022-02-16T10:01:10.034Z"
   },
   {
    "duration": 642,
    "start_time": "2022-02-19T12:31:09.141Z"
   },
   {
    "duration": 939,
    "start_time": "2022-02-19T12:31:14.299Z"
   },
   {
    "duration": 304,
    "start_time": "2022-02-19T12:31:15.240Z"
   },
   {
    "duration": 29,
    "start_time": "2022-02-19T12:31:16.889Z"
   },
   {
    "duration": 3,
    "start_time": "2022-02-19T12:55:55.478Z"
   },
   {
    "duration": 315,
    "start_time": "2022-02-19T12:55:55.892Z"
   },
   {
    "duration": 12,
    "start_time": "2022-02-19T12:55:56.357Z"
   },
   {
    "duration": 3,
    "start_time": "2022-02-19T12:58:58.407Z"
   },
   {
    "duration": 291,
    "start_time": "2022-02-19T12:58:58.741Z"
   },
   {
    "duration": 11,
    "start_time": "2022-02-19T12:58:59.151Z"
   },
   {
    "duration": 3,
    "start_time": "2022-02-19T14:51:57.904Z"
   },
   {
    "duration": 393,
    "start_time": "2022-02-19T14:51:58.326Z"
   },
   {
    "duration": 410,
    "start_time": "2022-02-19T14:52:04.519Z"
   },
   {
    "duration": 13,
    "start_time": "2022-02-19T14:52:05.128Z"
   }
  ],
  "colab": {
   "collapsed_sections": [
    "E0vqbgi9ay0H",
    "VUC88oWjTJw2"
   ],
   "name": "yandex_music_project_2021.2.ipynb",
   "provenance": []
  },
  "kernelspec": {
   "display_name": "Python 3 (ipykernel)",
   "language": "python",
   "name": "python3"
  },
  "language_info": {
   "codemirror_mode": {
    "name": "ipython",
    "version": 3
   },
   "file_extension": ".py",
   "mimetype": "text/x-python",
   "name": "python",
   "nbconvert_exporter": "python",
   "pygments_lexer": "ipython3",
   "version": "3.9.12"
  },
  "toc": {
   "base_numbering": 1,
   "nav_menu": {},
   "number_sections": true,
   "sideBar": true,
   "skip_h1_title": true,
   "title_cell": "Table of Contents",
   "title_sidebar": "Contents",
   "toc_cell": false,
   "toc_position": {
    "height": "calc(100% - 180px)",
    "left": "10px",
    "top": "150px",
    "width": "165px"
   },
   "toc_section_display": true,
   "toc_window_display": false
  }
 },
 "nbformat": 4,
 "nbformat_minor": 1
}
